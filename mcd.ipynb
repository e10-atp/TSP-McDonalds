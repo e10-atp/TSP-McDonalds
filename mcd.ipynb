{
 "cells": [
  {
   "cell_type": "code",
   "execution_count": 140,
   "metadata": {},
   "outputs": [],
   "source": [
    "import numpy as np\n",
    "import math\n",
    "import pandas as pd\n",
    "import matplotlib.pyplot as plt"
   ]
  },
  {
   "cell_type": "code",
   "execution_count": 141,
   "metadata": {},
   "outputs": [],
   "source": [
    "class Result:\n",
    "  def __init__(self):\n",
    "    self.min_cost = float('inf')\n",
    "\n",
    "class findPath:\n",
    "\n",
    "  def brute_force_dfs(self, spot, n, graph, visited, cost, result):\n",
    "    if len(visited) == n:\n",
    "      result.min_cost = min(result.min_cost, cost)\n",
    "      return\n",
    "\n",
    "    for next_spot in graph[spot]:\n",
    "      if next_spot in visited:\n",
    "        continue\n",
    "    visited.add(next_spot)\n",
    "    self.brute_force_dfs(next_spot, n, graph, visited, cost + graph[spot][next_spot], result)\n",
    "    visited.remove(next_spot)\n",
    "\n",
    "  def minCost(n, mcd, list_of_intersection):\n",
    "    graph = self.construct_graph(list_of_intersection)\n",
    "    result = Result()\n",
    "    n = len(list_of_intersection)\n",
    "    self.brute_force_dfs(mcd, n, graph, set(mcd), 0, result)\n",
    "\n",
    "  # def prunning_dfs(self, spot, n, graph, visited, cost, result)\n",
    "\n",
    "  # def dp_findPath(self, graph, list_of_intersection, mcd)\n"
   ]
  },
  {
   "cell_type": "code",
   "execution_count": 142,
   "metadata": {},
   "outputs": [],
   "source": [
    "class Node:\n",
    "    def __init__(self):\n",
    "        self.isVisited = False\n",
    "        self.hasMCD = False\n",
    "        self.neighbors = list()\n",
    "        self.MCDRegion = (-1,-1)\n",
    "        self.color = [255,255,255]\n",
    "\n",
    "    def __repr__(self):\n",
    "        return '(McD: {} isVisited: {} regionalMcD: {})'.format(self.hasMCD, self.isVisited, self.MCDRegion)"
   ]
  },
  {
   "cell_type": "code",
   "execution_count": 143,
   "metadata": {},
   "outputs": [],
   "source": [
    "class Grid:\n",
    "  def __init__(self, streets=228, aves=13):\n",
    "    self.streets = streets\n",
    "    self.aves = aves\n",
    "    self.grid = [[Node() for y in range(aves)] for x in range(streets)]\n",
    "\n",
    "  def draw_map(self):\n",
    "    r = ''\n",
    "    for x in range(self.streets):\n",
    "      r += f'{x}: '\n",
    "      for y in range(self.aves):\n",
    "        if self.grid[x][y].hasMCD:\n",
    "            r += f'[{self.grid[x][y].hasMCD}] '\n",
    "        else:\n",
    "            r += f'[{self.grid[x][y].MCDRegion}] '\n",
    "      r += '\\n'\n",
    "    return r\n",
    "  \n",
    "  def __repr__(self):\n",
    "    return self.draw_map()"
   ]
  },
  {
   "cell_type": "code",
   "execution_count": 144,
   "outputs": [],
   "source": [
    "import random\n",
    "def rand_color():\n",
    "    return [random.randint(0, 255), random.randint(0, 255), random.randint(0, 255)]"
   ],
   "metadata": {
    "collapsed": false,
    "pycharm": {
     "name": "#%%\n"
    }
   }
  },
  {
   "cell_type": "code",
   "execution_count": 145,
   "metadata": {},
   "outputs": [],
   "source": [
    "McD_loc = \"McDonald_loc.txt\""
   ]
  },
  {
   "cell_type": "code",
   "execution_count": 146,
   "metadata": {},
   "outputs": [],
   "source": [
    "with open(McD_loc) as f:\n",
    "    mcd_loc_data = []\n",
    "    for line in f:\n",
    "        s = line.split(\",\")\n",
    "        s[0] = int(s[0])\n",
    "        s[1] = int(s[1])\n",
    "        s.append(rand_color())\n",
    "        mcd_loc_data.append(s)\n"
   ]
  },
  {
   "cell_type": "code",
   "execution_count": 147,
   "metadata": {},
   "outputs": [
    {
     "data": {
      "text/plain": "   SN_Street  EW_Avenue           Inter_Names           Color\n0         11          5   MaidenLn+Broadway\\n  [139, 81, 249]\n1         19          6  Chambers+Greenwich\\n  [119, 25, 140]\n2         28          4     Canel+Lafayette\\n   [247, 42, 98]\n3         32          1  Williamsburg+Essex\\n  [219, 165, 16]\n4         35          7      Houston+Varick\\n  [110, 151, 84]",
      "text/html": "<div>\n<style scoped>\n    .dataframe tbody tr th:only-of-type {\n        vertical-align: middle;\n    }\n\n    .dataframe tbody tr th {\n        vertical-align: top;\n    }\n\n    .dataframe thead th {\n        text-align: right;\n    }\n</style>\n<table border=\"1\" class=\"dataframe\">\n  <thead>\n    <tr style=\"text-align: right;\">\n      <th></th>\n      <th>SN_Street</th>\n      <th>EW_Avenue</th>\n      <th>Inter_Names</th>\n      <th>Color</th>\n    </tr>\n  </thead>\n  <tbody>\n    <tr>\n      <th>0</th>\n      <td>11</td>\n      <td>5</td>\n      <td>MaidenLn+Broadway\\n</td>\n      <td>[139, 81, 249]</td>\n    </tr>\n    <tr>\n      <th>1</th>\n      <td>19</td>\n      <td>6</td>\n      <td>Chambers+Greenwich\\n</td>\n      <td>[119, 25, 140]</td>\n    </tr>\n    <tr>\n      <th>2</th>\n      <td>28</td>\n      <td>4</td>\n      <td>Canel+Lafayette\\n</td>\n      <td>[247, 42, 98]</td>\n    </tr>\n    <tr>\n      <th>3</th>\n      <td>32</td>\n      <td>1</td>\n      <td>Williamsburg+Essex\\n</td>\n      <td>[219, 165, 16]</td>\n    </tr>\n    <tr>\n      <th>4</th>\n      <td>35</td>\n      <td>7</td>\n      <td>Houston+Varick\\n</td>\n      <td>[110, 151, 84]</td>\n    </tr>\n  </tbody>\n</table>\n</div>"
     },
     "execution_count": 147,
     "metadata": {},
     "output_type": "execute_result"
    }
   ],
   "source": [
    "MD_loc_data = pd.DataFrame(mcd_loc_data,columns=['SN_Street', 'EW_Avenue', 'Inter_Names', 'Color'])\n",
    "MD_loc_data.head()"
   ]
  },
  {
   "cell_type": "markdown",
   "metadata": {},
   "source": [
    "Description of features:\n",
    "'SN_Street': We assign street numbers from 1 to 228 from south to north of Manhattan\n",
    "'EW_Avenue': We assign avenue numbers from 1 to 13 from east to north of Manhattan\n",
    "'Inter_Names': The name of two streets that have a McDonald's in their intersection"
   ]
  },
  {
   "cell_type": "code",
   "execution_count": 148,
   "metadata": {},
   "outputs": [],
   "source": [
    "map = Grid()"
   ]
  },
  {
   "cell_type": "code",
   "execution_count": 149,
   "metadata": {},
   "outputs": [
    {
     "name": "stdout",
     "output_type": "stream",
     "text": [
      "(McD: False isVisited: False regionalMcD: (-1, -1))\n"
     ]
    }
   ],
   "source": [
    "print(map.grid[0][0])"
   ]
  },
  {
   "cell_type": "code",
   "execution_count": 150,
   "outputs": [],
   "source": [
    "color_mapping = {}"
   ],
   "metadata": {
    "collapsed": false,
    "pycharm": {
     "name": "#%%\n"
    }
   }
  },
  {
   "cell_type": "code",
   "execution_count": 151,
   "outputs": [],
   "source": [
    "for index, row in MD_loc_data.iterrows():\n",
    "    st, ave = int(row['SN_Street']) - 1, int(row['EW_Avenue']) - 1\n",
    "    map.grid[st][ave].hasMCD = True\n",
    "    color_mapping[(st, ave)] = row['Color']"
   ],
   "metadata": {
    "collapsed": false,
    "pycharm": {
     "name": "#%%\n"
    }
   }
  },
  {
   "cell_type": "code",
   "execution_count": 152,
   "metadata": {},
   "outputs": [],
   "source": [
    "def calc_euclidean(pos1x, pos1y, pos2x, pos2y):\n",
    "    return math.sqrt((pos2x - pos1x)**2 + (pos2y - pos1y)**2)\n",
    "\n",
    "def calc_manhattan(pos1x, pos1y, pos2x, pos2y):\n",
    "    return abs(pos2x - pos1x) + abs(pos2y - pos1y)"
   ]
  },
  {
   "cell_type": "code",
   "execution_count": 153,
   "metadata": {},
   "outputs": [],
   "source": [
    "for i in range(len(map.grid)):\n",
    "    for j in range(len(map.grid[0])):\n",
    "        min_dis = float('inf')\n",
    "        for index, row in MD_loc_data.iterrows():\n",
    "            st, ave = int(row['SN_Street']) - 1, int(row['EW_Avenue']) - 1\n",
    "            dis = calc_manhattan(i, j, st, ave)\n",
    "            if dis < min_dis:\n",
    "                min_dis = dis\n",
    "                map.grid[i][j].MCDRegion = (st, ave)\n",
    "                if map.grid[i][j].hasMCD:\n",
    "                    map.grid[i][j].color = [0, 0, 0]\n",
    "                else:\n",
    "                    map.grid[i][j].color = color_mapping[(st, ave)]"
   ]
  },
  {
   "cell_type": "code",
   "execution_count": 154,
   "outputs": [
    {
     "data": {
      "text/plain": "[139, 81, 249]"
     },
     "execution_count": 154,
     "metadata": {},
     "output_type": "execute_result"
    }
   ],
   "source": [
    "map.grid[0][0].color"
   ],
   "metadata": {
    "collapsed": false,
    "pycharm": {
     "name": "#%%\n"
    }
   }
  },
  {
   "cell_type": "code",
   "execution_count": 155,
   "outputs": [],
   "source": [
    "from PIL import Image\n",
    "\n",
    "def make_colors(map, scale=8):\n",
    "    data = np.zeros((map.streets * scale, map.aves * scale, 3), dtype=np.uint8)\n",
    "    for i in range(map.streets):\n",
    "        for j in range(map.aves):\n",
    "            for k in range(scale):\n",
    "                for l in range (scale):\n",
    "                    data[scale*i + k, scale*j + l] = map.grid[i][j].color\n",
    "\n",
    "    return Image.fromarray(data).transpose(method=Image.ROTATE_180)"
   ],
   "metadata": {
    "collapsed": false,
    "pycharm": {
     "name": "#%%\n"
    }
   }
  },
  {
   "cell_type": "code",
   "execution_count": 156,
   "outputs": [],
   "source": [
    "c = make_colors(map)"
   ],
   "metadata": {
    "collapsed": false,
    "pycharm": {
     "name": "#%%\n"
    }
   }
  },
  {
   "cell_type": "code",
   "execution_count": 157,
   "outputs": [
    {
     "data": {
      "text/plain": "<PIL.Image.Image image mode=RGB size=104x1824 at 0x1F14CDC50A0>",
      "image/png": "[encoded data removed]"
     },
     "metadata": {},
     "output_type": "display_data"
    }
   ],
   "source": [
    "display(c) #jupyter command"
   ],
   "metadata": {
    "collapsed": false,
    "pycharm": {
     "name": "#%%\n"
    }
   }
  },
  {
   "cell_type": "code",
   "execution_count": 158,
   "outputs": [],
   "source": [
    "c.save('manhattanmcd.png', format=None)"
   ],
   "metadata": {
    "collapsed": false,
    "pycharm": {
     "name": "#%%\n"
    }
   }
  },
  {
   "cell_type": "code",
   "execution_count": 159,
   "outputs": [
    {
     "data": {
      "text/plain": "[(14, 5),\n (15, 8),\n (9, 3),\n (12, 5),\n (4, 0),\n (15, 10),\n (13, 12),\n (3, 7),\n (8, 12),\n (1, 3),\n (12, 1),\n (9, 1),\n (14, 6),\n (0, 12),\n (10, 0),\n (5, 0),\n (4, 10),\n (0, 9),\n (0, 2),\n (11, 7)]"
     },
     "execution_count": 159,
     "metadata": {},
     "output_type": "execute_result"
    }
   ],
   "source": [
    "import random\n",
    "size_of_locations = 20\n",
    "xs = [random.randint(0,15) for i in range(size_of_locations)]\n",
    "ys = [random.randint(0,12) for i in range(size_of_locations)]\n",
    "\n",
    "locations = []\n",
    "for i in range(size_of_locations):\n",
    "  locations.append((xs[i], ys[i]))\n",
    "\n",
    "locations"
   ],
   "metadata": {
    "collapsed": false,
    "pycharm": {
     "name": "#%%\n"
    }
   }
  },
  {
   "cell_type": "code",
   "execution_count": 160,
   "outputs": [],
   "source": [
    "def assign_points(map, prob=0.01):\n",
    "    locations = []\n",
    "    for i in range(map.streets):\n",
    "        for j in range(map.aves):\n",
    "            if random.random() <= prob:\n",
    "                locations.append((i, j))\n",
    "    return locations\n"
   ],
   "metadata": {
    "collapsed": false,
    "pycharm": {
     "name": "#%%\n"
    }
   }
  },
  {
   "cell_type": "code",
   "execution_count": 161,
   "outputs": [],
   "source": [
    "delivery_loc = assign_points(map)"
   ],
   "metadata": {
    "collapsed": false,
    "pycharm": {
     "name": "#%%\n"
    }
   }
  },
  {
   "cell_type": "code",
   "execution_count": 162,
   "outputs": [],
   "source": [
    "#separate locations by McDRegion buckets\n",
    "def regionize(locations, map):\n",
    "    regionpoints = {}\n",
    "    for point in locations:\n",
    "        i, j = point[0], point[1]\n",
    "        region = map.grid[i][j].MCDRegion\n",
    "        if region not in regionpoints:\n",
    "            regionpoints[region] = []\n",
    "            regionpoints[region].append(point)\n",
    "        else:\n",
    "            regionpoints[region].append(point)\n",
    "    return regionpoints"
   ],
   "metadata": {
    "collapsed": false,
    "pycharm": {
     "name": "#%%\n"
    }
   }
  },
  {
   "cell_type": "code",
   "execution_count": 179,
   "outputs": [],
   "source": [
    "loc = regionize(delivery_loc, map)"
   ],
   "metadata": {
    "collapsed": false,
    "pycharm": {
     "name": "#%%\n"
    }
   }
  },
  {
   "cell_type": "code",
   "execution_count": 164,
   "outputs": [],
   "source": [
    "def calc_manhattan(p1, p2):\n",
    "    return abs(p1[0] - p2[0]) + abs(p1[1] - p2[1])"
   ],
   "metadata": {
    "collapsed": false,
    "pycharm": {
     "name": "#%%\n"
    }
   }
  },
  {
   "cell_type": "code",
   "execution_count": 165,
   "outputs": [
    {
     "name": "stdout",
     "output_type": "stream",
     "text": [
      "Requirement already satisfied: landscapes in c:\\users\\nahte\\appdata\\local\\programs\\python\\python39\\lib\\site-packages (0.0.12)\n",
      "Note: you may need to restart the kernel to use updated packages.\n"
     ]
    }
   ],
   "source": [
    "pip install landscapes"
   ],
   "metadata": {
    "collapsed": false,
    "pycharm": {
     "name": "#%%\n"
    }
   }
  },
  {
   "cell_type": "code",
   "execution_count": 166,
   "outputs": [
    {
     "name": "stdout",
     "output_type": "stream",
     "text": [
      "Collecting git+https://github.com/nathanrooy/simulated-annealing\n",
      "  Cloning https://github.com/nathanrooy/simulated-annealing to c:\\users\\nahte\\appdata\\local\\temp\\pip-req-build-y6ey45b6\n",
      "  Resolved https://github.com/nathanrooy/simulated-annealing to commit 42eb34e761b76692882a3905ec2be48e19e8133e\n",
      "  Preparing metadata (setup.py): started\n",
      "  Preparing metadata (setup.py): finished with status 'done'\n",
      "Note: you may need to restart the kernel to use updated packages.\n"
     ]
    },
    {
     "name": "stderr",
     "output_type": "stream",
     "text": [
      "  Running command git clone --filter=blob:none -q https://github.com/nathanrooy/simulated-annealing 'C:\\Users\\nahte\\AppData\\Local\\Temp\\pip-req-build-y6ey45b6'\n"
     ]
    }
   ],
   "source": [
    "pip install git+https://github.com/nathanrooy/simulated-annealing"
   ],
   "metadata": {
    "collapsed": false,
    "pycharm": {
     "name": "#%%\n"
    }
   }
  },
  {
   "cell_type": "code",
   "execution_count": 167,
   "outputs": [],
   "source": [
    "import time\n",
    "runtimes = {}"
   ],
   "metadata": {
    "collapsed": false,
    "pycharm": {
     "name": "#%%\n"
    }
   }
  },
  {
   "cell_type": "markdown",
   "source": [
    "## Simulated Annealing Implementation"
   ],
   "metadata": {
    "collapsed": false
   }
  },
  {
   "cell_type": "code",
   "execution_count": 168,
   "outputs": [],
   "source": [
    "from simulated_annealing import sa\n",
    "from landscapes.single_objective import tsp\n",
    "\n",
    "import pandas as pd\n",
    "# import osmnx as ox\n",
    "import networkx as nx\n",
    "import math\n",
    "import random"
   ],
   "metadata": {
    "collapsed": false,
    "pycharm": {
     "name": "#%%\n"
    }
   }
  },
  {
   "cell_type": "code",
   "execution_count": 169,
   "outputs": [],
   "source": [
    "tsp_manhattan = tsp(dist_func=calc_manhattan, close_loop=True).dist"
   ],
   "metadata": {
    "collapsed": false,
    "pycharm": {
     "name": "#%%\n"
    }
   }
  },
  {
   "cell_type": "code",
   "execution_count": 170,
   "outputs": [
    {
     "data": {
      "text/plain": "216"
     },
     "execution_count": 170,
     "metadata": {},
     "output_type": "execute_result"
    }
   ],
   "source": [
    "tsp_manhattan(locations)"
   ],
   "metadata": {
    "collapsed": false,
    "pycharm": {
     "name": "#%%\n"
    }
   }
  },
  {
   "cell_type": "code",
   "execution_count": null,
   "outputs": [],
   "source": [
    "runtimes[sa.__name__] = 0"
   ],
   "metadata": {
    "collapsed": false,
    "pycharm": {
     "name": "#%%\n"
    }
   }
  },
  {
   "cell_type": "code",
   "execution_count": 181,
   "outputs": [
    {
     "data": {
      "text/plain": "25"
     },
     "execution_count": 181,
     "metadata": {},
     "output_type": "execute_result"
    }
   ],
   "source": [
    "len(loc)"
   ],
   "metadata": {
    "collapsed": false,
    "pycharm": {
     "name": "#%%\n"
    }
   }
  },
  {
   "cell_type": "code",
   "execution_count": 182,
   "outputs": [
    {
     "name": "stdout",
     "output_type": "stream",
     "text": [
      "func: simulated_annealing.sa took: 9.60216212272644 sec\n",
      "func: simulated_annealing.sa took: 10.483646154403687 sec\n",
      "func: simulated_annealing.sa took: 9.735581874847412 sec\n",
      "func: simulated_annealing.sa took: 9.968735933303833 sec\n",
      "func: simulated_annealing.sa took: 9.417473077774048 sec\n",
      "func: simulated_annealing.sa took: 10.284338474273682 sec\n",
      "func: simulated_annealing.sa took: 9.473669052124023 sec\n",
      "func: simulated_annealing.sa took: 10.578929901123047 sec\n",
      "func: simulated_annealing.sa took: 9.918881893157959 sec\n",
      "func: simulated_annealing.sa took: 10.570796012878418 sec\n",
      "func: simulated_annealing.sa took: 9.778435468673706 sec\n",
      "func: simulated_annealing.sa took: 10.172922849655151 sec\n",
      "func: simulated_annealing.sa took: 11.378406286239624 sec\n",
      "func: simulated_annealing.sa took: 9.506226778030396 sec\n",
      "func: simulated_annealing.sa took: 9.946057796478271 sec\n",
      "func: simulated_annealing.sa took: 10.570655584335327 sec\n",
      "func: simulated_annealing.sa took: 10.03385305404663 sec\n",
      "func: simulated_annealing.sa took: 9.800217390060425 sec\n",
      "func: simulated_annealing.sa took: 9.801758050918579 sec\n",
      "func: simulated_annealing.sa took: 11.61240553855896 sec\n",
      "func: simulated_annealing.sa took: 9.853206396102905 sec\n",
      "func: simulated_annealing.sa took: 9.873331546783447 sec\n",
      "func: simulated_annealing.sa took: 9.405219078063965 sec\n",
      "func: simulated_annealing.sa took: 9.433262586593628 sec\n",
      "func: simulated_annealing.sa took: 11.271162271499634 sec\n"
     ]
    }
   ],
   "source": [
    "# cooling_schedule=['linear', 'quadratic', 'exponential', 'logarithmic']\n",
    "# alpha = None, int(64)\n",
    "sa_opt_results = []\n",
    "for key in loc:\n",
    "    loc_list = loc[key]\n",
    "    ts = time.time()\n",
    "    sa_opt_results.append(sa.minimize(tsp_manhattan, locations, opt_mode='combinatorial', cooling_schedule = 'quadratic', step_max=1000000, t_max=1000000, t_min=0))\n",
    "    te = time.time()\n",
    "    print(f'func: {sa.__name__} took: {te-ts} sec')\n",
    "    runtimes[sa.__name__] += te - ts"
   ],
   "metadata": {
    "collapsed": false,
    "pycharm": {
     "name": "#%%\n"
    }
   }
  },
  {
   "cell_type": "code",
   "execution_count": 172,
   "outputs": [
    {
     "name": "stdout",
     "output_type": "stream",
     "text": [
      "+------------------------ RESULTS -------------------------+\n",
      "\n",
      "      opt.mode: combinatorial\n",
      "cooling sched.: quadratic additive cooling\n",
      "\n",
      "\n",
      "  initial temp: 1000000\n",
      "    final temp: 0.000001\n",
      "     max steps: 1000000\n",
      "    final step: 1000000\n",
      "\n",
      "  final energy: 88.000000\n",
      "\n",
      "+-------------------------- END ---------------------------+\n"
     ]
    }
   ],
   "source": [
    "sa_opt_results[0].results()"
   ],
   "metadata": {
    "collapsed": false,
    "pycharm": {
     "name": "#%%\n"
    }
   }
  },
  {
   "cell_type": "code",
   "execution_count": 183,
   "outputs": [
    {
     "data": {
      "text/plain": "[(15, 8),\n (14, 6),\n (14, 5),\n (12, 1),\n (10, 0),\n (5, 0),\n (4, 0),\n (0, 2),\n (1, 3),\n (3, 7),\n (0, 9),\n (0, 12),\n (4, 10),\n (9, 3),\n (9, 1),\n (12, 5),\n (11, 7),\n (8, 12),\n (13, 12),\n (15, 10)]"
     },
     "execution_count": 183,
     "metadata": {},
     "output_type": "execute_result"
    }
   ],
   "source": [
    "sa_opt_results[0].best_state"
   ],
   "metadata": {
    "collapsed": false,
    "pycharm": {
     "name": "#%%\n"
    }
   }
  },
  {
   "cell_type": "markdown",
   "source": [
    "### State-compression Dynamic Programming to computer the min-cost (shortest path start from the first location but do not return to the initial location)"
   ],
   "metadata": {
    "collapsed": false
   }
  },
  {
   "cell_type": "code",
   "execution_count": 174,
   "outputs": [],
   "source": [
    "def dp(n, locations):\n",
    "\tgraph = construct_graph(locations, n)\n",
    "\t# for i in range(1, n + 1):\n",
    "\t# \tprint(graph[i][1])\n",
    "\n",
    "\tstate_size = 1 << n\n",
    "\tf = [\n",
    "\t\t[float('inf')] * (n + 1)\n",
    "\t\tfor _ in range(state_size)\n",
    "\t]\n",
    "\tf[1][1] = 0\n",
    "\tfor state in range(state_size):\n",
    "\t\tfor i in range(2, n + 1):\n",
    "\t\t\tif state & (1 << (i - 1)) == 0:\n",
    "\t\t\t\tcontinue\n",
    "\n",
    "\t\t\tprev_state = state ^ (1 << (i - 1))\n",
    "\t\t\tfor j in range(1, n + 1):\n",
    "\t\t\t\tif prev_state & (1 << (j - 1)) == 0:\n",
    "\t\t\t\t\tcontinue\n",
    "\n",
    "\t\t\t\tf[state][i] = min(f[state][i], f[prev_state][j] + graph[j][i])\n",
    "\n",
    "\treturn min(f[state_size - 1])\n",
    "\n",
    "\n",
    "def construct_graph(locations, n):\n",
    "\tgraph = {\n",
    "\t\ti: {j: float('inf') for j in range(1, n + 1)}\n",
    "\t\tfor i in range(1, n + 1)\n",
    "\t}\n",
    "\n",
    "\tfor i in range(1, n + 1):\n",
    "\t\tfor j in range(1, n + 1):\n",
    "\t\t\tgraph[i][j] = calc_manhattan(locations[i - 1],locations[j - 1])\n",
    "\t\t\tgraph[j][i] = graph[i][j]\n",
    "\treturn graph"
   ],
   "metadata": {
    "collapsed": false,
    "pycharm": {
     "name": "#%%\n"
    }
   }
  },
  {
   "cell_type": "code",
   "execution_count": 184,
   "outputs": [
    {
     "name": "stdout",
     "output_type": "stream",
     "text": [
      "The global min-cost is:  0\n",
      "func: dp took: 0.0 sec\n",
      "The global min-cost is:  18\n",
      "func: dp took: 0.0 sec\n",
      "The global min-cost is:  0\n",
      "func: dp took: 0.0 sec\n",
      "The global min-cost is:  0\n",
      "func: dp took: 0.0 sec\n",
      "The global min-cost is:  16\n",
      "func: dp took: 0.0 sec\n",
      "The global min-cost is:  0\n",
      "func: dp took: 0.0 sec\n",
      "The global min-cost is:  0\n",
      "func: dp took: 0.0 sec\n",
      "The global min-cost is:  0\n",
      "func: dp took: 0.0 sec\n",
      "The global min-cost is:  0\n",
      "func: dp took: 0.0 sec\n",
      "The global min-cost is:  4\n",
      "func: dp took: 0.0 sec\n",
      "The global min-cost is:  0\n",
      "func: dp took: 0.0 sec\n",
      "The global min-cost is:  0\n",
      "func: dp took: 0.0 sec\n",
      "The global min-cost is:  0\n",
      "func: dp took: 0.0 sec\n",
      "The global min-cost is:  0\n",
      "func: dp took: 0.0 sec\n",
      "The global min-cost is:  0\n",
      "func: dp took: 0.0 sec\n",
      "The global min-cost is:  15\n",
      "func: dp took: 0.0 sec\n",
      "The global min-cost is:  0\n",
      "func: dp took: 0.0 sec\n",
      "The global min-cost is:  0\n",
      "func: dp took: 0.0 sec\n",
      "The global min-cost is:  18\n",
      "func: dp took: 0.0 sec\n",
      "The global min-cost is:  0\n",
      "func: dp took: 0.0 sec\n",
      "The global min-cost is:  19\n",
      "func: dp took: 0.0 sec\n",
      "The global min-cost is:  12\n",
      "func: dp took: 0.0 sec\n",
      "The global min-cost is:  8\n",
      "func: dp took: 0.0 sec\n",
      "The global min-cost is:  6\n",
      "func: dp took: 0.0 sec\n",
      "The global min-cost is:  10\n",
      "func: dp took: 0.0 sec\n"
     ]
    }
   ],
   "source": [
    "dp_minCost = []\n",
    "for key in loc:\n",
    "    loc_list = loc[key]\n",
    "    ts = time.time()\n",
    "    dp_minCost.append(dp(len(loc_list), loc_list))\n",
    "    te = time.time()\n",
    "    print('The global min-cost is: ', dp_minCost[-1])\n",
    "    print(f'func: {dp.__name__} took: {te-ts} sec')\n",
    "    runtimes[dp.__name__] = te - ts"
   ],
   "metadata": {
    "collapsed": false,
    "pycharm": {
     "name": "#%%\n"
    }
   }
  },
  {
   "cell_type": "markdown",
   "source": [
    "## Held-Karp Implementation"
   ],
   "metadata": {
    "collapsed": false
   }
  },
  {
   "cell_type": "code",
   "execution_count": 187,
   "outputs": [],
   "source": [
    "import itertools\n",
    "\n",
    "def construct_dists(locations, n):\n",
    "\tdists = [[0] * n for i in range(n)]\n",
    "\n",
    "\tfor i in range(n):\n",
    "\t\tfor j in range(n):\n",
    "\t\t\tdists[i][j] = calc_manhattan(locations[i],locations[j])\n",
    "\t\t\t# graph[j][i] = graph[i][j]\n",
    "\treturn dists\n",
    "\n",
    "def held_karp(n, locations):\n",
    "\n",
    "    dists = construct_dists(locations, n)\n",
    "    # print(dists)\n",
    "\n",
    "    # Maps each subset of the nodes to the cost to reach that subset, as well\n",
    "    # as what node it passed before reaching this subset.\n",
    "    # Node subsets are represented as set bits.\n",
    "    C = {}\n",
    "\n",
    "    # Set transition cost from initial state\n",
    "    for k in range(1, n):\n",
    "        C[(1 << k, k)] = (dists[0][k], 0)\n",
    "\n",
    "    # Iterate subsets of increasing length and store intermediate results\n",
    "    # in classic dynamic programming manner\n",
    "    for subset_size in range(2, n):\n",
    "        for subset in itertools.combinations(range(1, n), subset_size):\n",
    "            # Set bits for all nodes in this subset\n",
    "            bits = 0\n",
    "            for bit in subset:\n",
    "                bits |= 1 << bit\n",
    "\n",
    "            # Find the lowest cost to get to this subset\n",
    "            for k in subset:\n",
    "                prev = bits & ~(1 << k)\n",
    "\n",
    "                res = []\n",
    "                for m in subset:\n",
    "                    if m == 0 or m == k:\n",
    "                        continue\n",
    "                    res.append((C[(prev, m)][0] + dists[m][k], m))\n",
    "                C[(bits, k)] = min(res)\n",
    "\n",
    "    # We're interested in all bits but the least significant (the start state)\n",
    "    bits = (2**n - 1) - 1\n",
    "\n",
    "    # Calculate optimal cost\n",
    "    res = []\n",
    "    for k in range(1, n):\n",
    "        res.append((C[(bits, k)][0] + dists[k][0], k))\n",
    "    opt, parent = min(res)\n",
    "\n",
    "    # Backtrack to find full path\n",
    "    path = []\n",
    "    for i in range(n - 1):\n",
    "        path.append(parent)\n",
    "        new_bits = bits & ~(1 << parent)\n",
    "        _, parent = C[(bits, parent)]\n",
    "        bits = new_bits\n",
    "\n",
    "    # Add implicit start state\n",
    "    path.append(0)\n",
    "\n",
    "    return opt, list(reversed(path))"
   ],
   "metadata": {
    "collapsed": false,
    "pycharm": {
     "name": "#%%\n"
    }
   }
  },
  {
   "cell_type": "code",
   "execution_count": 189,
   "outputs": [
    {
     "ename": "ValueError",
     "evalue": "min() arg is an empty sequence",
     "output_type": "error",
     "traceback": [
      "\u001B[1;31m---------------------------------------------------------------------------\u001B[0m",
      "\u001B[1;31mValueError\u001B[0m                                Traceback (most recent call last)",
      "\u001B[1;32m~\\AppData\\Local\\Temp/ipykernel_5408/4896057.py\u001B[0m in \u001B[0;36m<module>\u001B[1;34m\u001B[0m\n\u001B[0;32m      3\u001B[0m     \u001B[0mloc_list\u001B[0m \u001B[1;33m=\u001B[0m \u001B[0mloc\u001B[0m\u001B[1;33m[\u001B[0m\u001B[0mkey\u001B[0m\u001B[1;33m]\u001B[0m\u001B[1;33m\u001B[0m\u001B[1;33m\u001B[0m\u001B[0m\n\u001B[0;32m      4\u001B[0m     \u001B[0mts\u001B[0m \u001B[1;33m=\u001B[0m \u001B[0mtime\u001B[0m\u001B[1;33m.\u001B[0m\u001B[0mtime\u001B[0m\u001B[1;33m(\u001B[0m\u001B[1;33m)\u001B[0m\u001B[1;33m\u001B[0m\u001B[1;33m\u001B[0m\u001B[0m\n\u001B[1;32m----> 5\u001B[1;33m     \u001B[0mhk_results\u001B[0m\u001B[1;33m.\u001B[0m\u001B[0mappend\u001B[0m\u001B[1;33m(\u001B[0m\u001B[0mheld_karp\u001B[0m\u001B[1;33m(\u001B[0m\u001B[0mlen\u001B[0m\u001B[1;33m(\u001B[0m\u001B[0mloc_list\u001B[0m\u001B[1;33m)\u001B[0m\u001B[1;33m,\u001B[0m \u001B[0mloc_list\u001B[0m\u001B[1;33m)\u001B[0m\u001B[1;33m)\u001B[0m\u001B[1;33m\u001B[0m\u001B[1;33m\u001B[0m\u001B[0m\n\u001B[0m\u001B[0;32m      6\u001B[0m     \u001B[0mte\u001B[0m \u001B[1;33m=\u001B[0m \u001B[0mtime\u001B[0m\u001B[1;33m.\u001B[0m\u001B[0mtime\u001B[0m\u001B[1;33m(\u001B[0m\u001B[1;33m)\u001B[0m\u001B[1;33m\u001B[0m\u001B[1;33m\u001B[0m\u001B[0m\n\u001B[0;32m      7\u001B[0m     \u001B[0mprint\u001B[0m\u001B[1;33m(\u001B[0m\u001B[1;34mf'func: {dp.__name__} took: {te-ts} sec'\u001B[0m\u001B[1;33m)\u001B[0m\u001B[1;33m\u001B[0m\u001B[1;33m\u001B[0m\u001B[0m\n",
      "\u001B[1;32m~\\AppData\\Local\\Temp/ipykernel_5408/2891103728.py\u001B[0m in \u001B[0;36mheld_karp\u001B[1;34m(n, locations)\u001B[0m\n\u001B[0;32m     51\u001B[0m     \u001B[1;32mfor\u001B[0m \u001B[0mk\u001B[0m \u001B[1;32min\u001B[0m \u001B[0mrange\u001B[0m\u001B[1;33m(\u001B[0m\u001B[1;36m1\u001B[0m\u001B[1;33m,\u001B[0m \u001B[0mn\u001B[0m\u001B[1;33m)\u001B[0m\u001B[1;33m:\u001B[0m\u001B[1;33m\u001B[0m\u001B[1;33m\u001B[0m\u001B[0m\n\u001B[0;32m     52\u001B[0m         \u001B[0mres\u001B[0m\u001B[1;33m.\u001B[0m\u001B[0mappend\u001B[0m\u001B[1;33m(\u001B[0m\u001B[1;33m(\u001B[0m\u001B[0mC\u001B[0m\u001B[1;33m[\u001B[0m\u001B[1;33m(\u001B[0m\u001B[0mbits\u001B[0m\u001B[1;33m,\u001B[0m \u001B[0mk\u001B[0m\u001B[1;33m)\u001B[0m\u001B[1;33m]\u001B[0m\u001B[1;33m[\u001B[0m\u001B[1;36m0\u001B[0m\u001B[1;33m]\u001B[0m \u001B[1;33m+\u001B[0m \u001B[0mdists\u001B[0m\u001B[1;33m[\u001B[0m\u001B[0mk\u001B[0m\u001B[1;33m]\u001B[0m\u001B[1;33m[\u001B[0m\u001B[1;36m0\u001B[0m\u001B[1;33m]\u001B[0m\u001B[1;33m,\u001B[0m \u001B[0mk\u001B[0m\u001B[1;33m)\u001B[0m\u001B[1;33m)\u001B[0m\u001B[1;33m\u001B[0m\u001B[1;33m\u001B[0m\u001B[0m\n\u001B[1;32m---> 53\u001B[1;33m     \u001B[0mopt\u001B[0m\u001B[1;33m,\u001B[0m \u001B[0mparent\u001B[0m \u001B[1;33m=\u001B[0m \u001B[0mmin\u001B[0m\u001B[1;33m(\u001B[0m\u001B[0mres\u001B[0m\u001B[1;33m)\u001B[0m\u001B[1;33m\u001B[0m\u001B[1;33m\u001B[0m\u001B[0m\n\u001B[0m\u001B[0;32m     54\u001B[0m \u001B[1;33m\u001B[0m\u001B[0m\n\u001B[0;32m     55\u001B[0m     \u001B[1;31m# Backtrack to find full path\u001B[0m\u001B[1;33m\u001B[0m\u001B[1;33m\u001B[0m\u001B[0m\n",
      "\u001B[1;31mValueError\u001B[0m: min() arg is an empty sequence"
     ]
    }
   ],
   "source": [
    "hk_results = []\n",
    "for key in loc:\n",
    "    loc_list = loc[key]\n",
    "    ts = time.time()\n",
    "    hk_results.append(held_karp(len(loc_list), loc_list))\n",
    "    te = time.time()\n",
    "    print(f'func: {dp.__name__} took: {te-ts} sec')\n",
    "    runtimes[held_karp.__name__] = te - ts"
   ],
   "metadata": {
    "collapsed": false,
    "pycharm": {
     "name": "#%%\n"
    }
   }
  },
  {
   "cell_type": "markdown",
   "source": [
    "## Runtime Analysis"
   ],
   "metadata": {
    "collapsed": false
   }
  },
  {
   "cell_type": "code",
   "execution_count": 190,
   "outputs": [
    {
     "data": {
      "text/plain": "<BarContainer object of 3 artists>"
     },
     "execution_count": 190,
     "metadata": {},
     "output_type": "execute_result"
    },
    {
     "data": {
      "text/plain": "<Figure size 432x288 with 1 Axes>",
      "image/png": "[encoded data removed]"
     },
     "metadata": {
      "needs_background": "light"
     },
     "output_type": "display_data"
    }
   ],
   "source": [
    "k, v = runtimes.keys(), runtimes.values()\n",
    "plt.title('Runtime in Seconds of TSP Algorithmns')\n",
    "plt.ylabel('Seconds')\n",
    "plt.bar(k, v)"
   ],
   "metadata": {
    "collapsed": false,
    "pycharm": {
     "name": "#%%\n"
    }
   }
  },
  {
   "cell_type": "code",
   "execution_count": 178,
   "outputs": [],
   "source": [],
   "metadata": {
    "collapsed": false,
    "pycharm": {
     "name": "#%%\n"
    }
   }
  }
 ],
 "metadata": {
  "interpreter": {
   "hash": "ddff950863c2b977daee2bec7219ae5f9b3a03c532fcc882a2a1d067c0474d1c"
  },
  "kernelspec": {
   "display_name": "Python 3.9.7 64-bit",
   "language": "python",
   "name": "python3"
  },
  "language_info": {
   "codemirror_mode": {
    "name": "ipython",
    "version": 3
   },
   "file_extension": ".py",
   "mimetype": "text/x-python",
   "name": "python",
   "nbconvert_exporter": "python",
   "pygments_lexer": "ipython3",
   "version": "3.9.7"
  },
  "orig_nbformat": 4
 },
 "nbformat": 4,
 "nbformat_minor": 2
}