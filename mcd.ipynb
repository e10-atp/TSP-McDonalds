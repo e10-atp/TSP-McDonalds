{
 "cells": [
  {
   "cell_type": "code",
   "execution_count": 1,
   "metadata": {},
   "outputs": [],
   "source": [
    "import numpy as np\n",
    "import math\n",
    "import pandas as pd\n",
    "import matplotlib.pyplot as plt"
   ]
  },
  {
   "cell_type": "code",
   "execution_count": 2,
   "metadata": {},
   "outputs": [],
   "source": [
    "class Result:\n",
    "  def __init__(self):\n",
    "    self.min_cost = float('inf')\n",
    "\n",
    "class findPath:\n",
    "\n",
    "  def brute_force_dfs(self, spot, n, graph, visited, cost, result):\n",
    "    if len(visited) == n:\n",
    "      result.min_cost = min(result.min_cost, cost)\n",
    "      return\n",
    "\n",
    "    for next_spot in graph[spot]:\n",
    "      if next_spot in visited:\n",
    "        continue\n",
    "    visited.add(next_spot)\n",
    "    self.brute_force_dfs(next_spot, n, graph, visited, cost + graph[spot][next_spot], result)\n",
    "    visited.remove(next_spot)\n",
    "\n",
    "  def minCost(n, mcd, list_of_intersection):\n",
    "    graph = self.construct_graph(list_of_intersection)\n",
    "    result = Result()\n",
    "    n = len(list_of_intersection)\n",
    "    self.brute_force_dfs(mcd, n, graph, set(mcd), 0, result)\n",
    "\n",
    "  # def prunning_dfs(self, spot, n, graph, visited, cost, result)\n",
    "\n",
    "  # def dp_findPath(self, graph, list_of_intersection, mcd)\n"
   ]
  },
  {
   "cell_type": "code",
   "execution_count": 3,
   "metadata": {},
   "outputs": [],
   "source": [
    "class Node:\n",
    "    def __init__(self):\n",
    "        self.isVisited = False\n",
    "        self.hasMCD = False\n",
    "        self.neighbors = list()\n",
    "        self.MCDRegion = (-1,-1)\n",
    "        self.color = [255,255,255]\n",
    "\n",
    "    def __repr__(self):\n",
    "        return '(McD: {} isVisited: {} regionalMcD: {})'.format(self.hasMCD, self.isVisited, self.MCDRegion)"
   ]
  },
  {
   "cell_type": "code",
   "execution_count": 4,
   "metadata": {},
   "outputs": [],
   "source": [
    "class Grid:\n",
    "  def __init__(self, streets=228, aves=13):\n",
    "    self.streets = streets\n",
    "    self.aves = aves\n",
    "    self.grid = [[Node() for y in range(aves)] for x in range(streets)]\n",
    "\n",
    "  def draw_map(self):\n",
    "    r = ''\n",
    "    for x in range(self.streets):\n",
    "      r += f'{x}: '\n",
    "      for y in range(self.aves):\n",
    "        if self.grid[x][y].hasMCD:\n",
    "            r += f'[{self.grid[x][y].hasMCD}] '\n",
    "        else:\n",
    "            r += f'[{self.grid[x][y].MCDRegion}] '\n",
    "      r += '\\n'\n",
    "    return r\n",
    "  \n",
    "  def __repr__(self):\n",
    "    return self.draw_map()"
   ]
  },
  {
   "cell_type": "code",
   "execution_count": 5,
   "outputs": [],
   "source": [
    "import random\n",
    "def rand_color():\n",
    "    return [random.randint(0, 255), random.randint(0, 255), random.randint(0, 255)]"
   ],
   "metadata": {
    "collapsed": false,
    "pycharm": {
     "name": "#%%\n"
    }
   }
  },
  {
   "cell_type": "code",
   "execution_count": 6,
   "metadata": {},
   "outputs": [],
   "source": [
    "McD_loc = \"McDonald_loc.txt\""
   ]
  },
  {
   "cell_type": "code",
   "execution_count": 7,
   "metadata": {},
   "outputs": [],
   "source": [
    "with open(McD_loc) as f:\n",
    "    mcd_loc_data = []\n",
    "    for line in f:\n",
    "        s = line.split(\",\")\n",
    "        s[0] = int(s[0])\n",
    "        s[1] = int(s[1])\n",
    "        s.append(rand_color())\n",
    "        mcd_loc_data.append(s)"
   ]
  },
  {
   "cell_type": "code",
   "execution_count": 8,
   "metadata": {},
   "outputs": [
    {
     "data": {
      "text/plain": "   SN_Street  EW_Avenue           Inter_Names           Color\n0         11          5   MaidenLn+Broadway\\n  [150, 38, 243]\n1         19          6  Chambers+Greenwich\\n  [113, 242, 46]\n2         28          4     Canel+Lafayette\\n  [18, 139, 104]\n3         32          1  Williamsburg+Essex\\n  [221, 88, 105]\n4         35          7      Houston+Varick\\n  [195, 32, 125]",
      "text/html": "<div>\n<style scoped>\n    .dataframe tbody tr th:only-of-type {\n        vertical-align: middle;\n    }\n\n    .dataframe tbody tr th {\n        vertical-align: top;\n    }\n\n    .dataframe thead th {\n        text-align: right;\n    }\n</style>\n<table border=\"1\" class=\"dataframe\">\n  <thead>\n    <tr style=\"text-align: right;\">\n      <th></th>\n      <th>SN_Street</th>\n      <th>EW_Avenue</th>\n      <th>Inter_Names</th>\n      <th>Color</th>\n    </tr>\n  </thead>\n  <tbody>\n    <tr>\n      <th>0</th>\n      <td>11</td>\n      <td>5</td>\n      <td>MaidenLn+Broadway\\n</td>\n      <td>[150, 38, 243]</td>\n    </tr>\n    <tr>\n      <th>1</th>\n      <td>19</td>\n      <td>6</td>\n      <td>Chambers+Greenwich\\n</td>\n      <td>[113, 242, 46]</td>\n    </tr>\n    <tr>\n      <th>2</th>\n      <td>28</td>\n      <td>4</td>\n      <td>Canel+Lafayette\\n</td>\n      <td>[18, 139, 104]</td>\n    </tr>\n    <tr>\n      <th>3</th>\n      <td>32</td>\n      <td>1</td>\n      <td>Williamsburg+Essex\\n</td>\n      <td>[221, 88, 105]</td>\n    </tr>\n    <tr>\n      <th>4</th>\n      <td>35</td>\n      <td>7</td>\n      <td>Houston+Varick\\n</td>\n      <td>[195, 32, 125]</td>\n    </tr>\n  </tbody>\n</table>\n</div>"
     },
     "execution_count": 8,
     "metadata": {},
     "output_type": "execute_result"
    }
   ],
   "source": [
    "MD_loc_data = pd.DataFrame(mcd_loc_data,columns=['SN_Street', 'EW_Avenue', 'Inter_Names', 'Color'])\n",
    "MD_loc_data.head()"
   ]
  },
  {
   "cell_type": "markdown",
   "metadata": {},
   "source": [
    "Description of features:\n",
    "'SN_Street': We assign street numbers from 1 to 228 from south to north of Manhattan\n",
    "'EW_Avenue': We assign avenue numbers from 1 to 13 from east to north of Manhattan\n",
    "'Inter_Names': The name of two streets that have a McDonald's in their intersection"
   ]
  },
  {
   "cell_type": "code",
   "execution_count": 9,
   "metadata": {},
   "outputs": [],
   "source": [
    "map = Grid()"
   ]
  },
  {
   "cell_type": "code",
   "execution_count": 10,
   "metadata": {},
   "outputs": [
    {
     "name": "stdout",
     "output_type": "stream",
     "text": [
      "(McD: False isVisited: False regionalMcD: (-1, -1))\n"
     ]
    }
   ],
   "source": [
    "print(map.grid[0][0])"
   ]
  },
  {
   "cell_type": "code",
   "execution_count": 11,
   "outputs": [],
   "source": [
    "color_mapping = {}"
   ],
   "metadata": {
    "collapsed": false,
    "pycharm": {
     "name": "#%%\n"
    }
   }
  },
  {
   "cell_type": "code",
   "execution_count": 12,
   "outputs": [],
   "source": [
    "for index, row in MD_loc_data.iterrows():\n",
    "    st, ave = int(row['SN_Street']) - 1, int(row['EW_Avenue']) - 1\n",
    "    map.grid[st][ave].hasMCD = True\n",
    "    color_mapping[(st, ave)] = row['Color']"
   ],
   "metadata": {
    "collapsed": false,
    "pycharm": {
     "name": "#%%\n"
    }
   }
  },
  {
   "cell_type": "code",
   "execution_count": 13,
   "metadata": {},
   "outputs": [],
   "source": [
    "def calc_euclidean(pos1x, pos1y, pos2x, pos2y):\n",
    "    return math.sqrt((pos2x - pos1x)**2 + (pos2y - pos1y)**2)\n",
    "\n",
    "def calc_manhattan(pos1x, pos1y, pos2x, pos2y):\n",
    "    return abs(pos2x - pos1x) + abs(pos2y - pos1y)"
   ]
  },
  {
   "cell_type": "code",
   "execution_count": 14,
   "metadata": {},
   "outputs": [],
   "source": [
    "for i in range(len(map.grid)):\n",
    "    for j in range(len(map.grid[0])):\n",
    "        min_dis = float('inf')\n",
    "        for index, row in MD_loc_data.iterrows():\n",
    "            st, ave = int(row['SN_Street']) - 1, int(row['EW_Avenue']) - 1\n",
    "            dis = calc_manhattan(i, j, st, ave)\n",
    "            if dis < min_dis:\n",
    "                min_dis = dis\n",
    "                map.grid[i][j].MCDRegion = (st, ave)\n",
    "                if map.grid[i][j].hasMCD:\n",
    "                    map.grid[i][j].color = [0, 0, 0]\n",
    "                else:\n",
    "                    map.grid[i][j].color = color_mapping[(st, ave)]"
   ]
  },
  {
   "cell_type": "code",
   "execution_count": 15,
   "outputs": [
    {
     "data": {
      "text/plain": "[150, 38, 243]"
     },
     "execution_count": 15,
     "metadata": {},
     "output_type": "execute_result"
    }
   ],
   "source": [
    "map.grid[0][0].color"
   ],
   "metadata": {
    "collapsed": false,
    "pycharm": {
     "name": "#%%\n"
    }
   }
  },
  {
   "cell_type": "code",
   "execution_count": 16,
   "outputs": [],
   "source": [
    "from PIL import Image\n",
    "\n",
    "def make_colors(map, scale=8):\n",
    "    data = np.zeros((map.streets * scale, map.aves * scale, 3), dtype=np.uint8)\n",
    "    for i in range(map.streets):\n",
    "        for j in range(map.aves):\n",
    "            for k in range(scale):\n",
    "                for l in range (scale):\n",
    "                    data[scale*i + k, scale*j + l] = map.grid[i][j].color\n",
    "\n",
    "    return Image.fromarray(data).transpose(method=Image.ROTATE_180)"
   ],
   "metadata": {
    "collapsed": false,
    "pycharm": {
     "name": "#%%\n"
    }
   }
  },
  {
   "cell_type": "code",
   "execution_count": 17,
   "outputs": [],
   "source": [
    "c = make_colors(map)"
   ],
   "metadata": {
    "collapsed": false,
    "pycharm": {
     "name": "#%%\n"
    }
   }
  },
  {
   "cell_type": "code",
   "execution_count": 18,
   "outputs": [
    {
     "data": {
      "text/plain": "<PIL.Image.Image image mode=RGB size=104x1824 at 0x1BCFFE5B3A0>",
      "image/png": "[encoded data removed]"
     },
     "metadata": {},
     "output_type": "display_data"
    }
   ],
   "source": [
    "display(c) #jupyter command"
   ],
   "metadata": {
    "collapsed": false,
    "pycharm": {
     "name": "#%%\n"
    }
   }
  },
  {
   "cell_type": "code",
   "execution_count": 19,
   "outputs": [],
   "source": [
    "c.save('manhattanmcd.png', format=None)"
   ],
   "metadata": {
    "collapsed": false,
    "pycharm": {
     "name": "#%%\n"
    }
   }
  },
  {
   "cell_type": "code",
   "execution_count": 20,
   "outputs": [],
   "source": [
    "def assign_points(map, prob=0.10):\n",
    "    locations = []\n",
    "    for i in range(map.streets):\n",
    "        for j in range(map.aves):\n",
    "            if random.random() <= prob:\n",
    "                locations.append((i, j))\n",
    "    return locations"
   ],
   "metadata": {
    "collapsed": false,
    "pycharm": {
     "name": "#%%\n"
    }
   }
  },
  {
   "cell_type": "code",
   "execution_count": 21,
   "outputs": [],
   "source": [
    "delivery_loc = assign_points(map)"
   ],
   "metadata": {
    "collapsed": false,
    "pycharm": {
     "name": "#%%\n"
    }
   }
  },
  {
   "cell_type": "code",
   "execution_count": 22,
   "outputs": [],
   "source": [
    "#separate locations by McDRegion buckets\n",
    "def regionize(locations, map):\n",
    "    regionpoints = {}\n",
    "    for point in locations:\n",
    "        i, j = point[0], point[1]\n",
    "        region = map.grid[i][j].MCDRegion\n",
    "        if region not in regionpoints:\n",
    "            regionpoints[region] = []\n",
    "            regionpoints[region].append(region)\n",
    "            regionpoints[region].append(point)\n",
    "        else:\n",
    "            regionpoints[region].append(point)\n",
    "    return regionpoints"
   ],
   "metadata": {
    "collapsed": false,
    "pycharm": {
     "name": "#%%\n"
    }
   }
  },
  {
   "cell_type": "code",
   "execution_count": 23,
   "outputs": [],
   "source": [
    "loc = regionize(delivery_loc, map)"
   ],
   "metadata": {
    "collapsed": false,
    "pycharm": {
     "name": "#%%\n"
    }
   }
  },
  {
   "cell_type": "code",
   "execution_count": 24,
   "outputs": [
    {
     "data": {
      "text/plain": "{(10, 4): [(10, 4),\n  (0, 0),\n  (0, 5),\n  (0, 7),\n  (2, 11),\n  (3, 9),\n  (3, 12),\n  (4, 6),\n  (4, 9),\n  (5, 8),\n  (6, 0),\n  (7, 7),\n  (8, 5),\n  (8, 7),\n  (9, 0),\n  (9, 2),\n  (11, 12),\n  (12, 2),\n  (12, 3),\n  (12, 4),\n  (13, 8)],\n (18, 5): [(18, 5),\n  (15, 3),\n  (15, 5),\n  (15, 12),\n  (18, 3),\n  (20, 2),\n  (20, 10),\n  (21, 1),\n  (21, 7),\n  (23, 8),\n  (23, 11)],\n (27, 3): [(27, 3),\n  (23, 0),\n  (24, 6),\n  (24, 7),\n  (24, 11),\n  (27, 4),\n  (27, 6),\n  (27, 10),\n  (28, 10),\n  (28, 11),\n  (29, 4)],\n (31, 0): [(31, 0), (28, 0)],\n (34, 6): [(34, 6),\n  (30, 12),\n  (31, 11),\n  (32, 7),\n  (34, 5),\n  (34, 9),\n  (37, 10),\n  (37, 12)],\n (38, 4): [(38, 4), (38, 3), (38, 6), (38, 7), (39, 10), (41, 7)],\n (39, 0): [(39, 0), (40, 0), (40, 1)],\n (48, 5): [(48, 5),\n  (43, 5),\n  (43, 7),\n  (45, 12),\n  (46, 5),\n  (49, 8),\n  (50, 10),\n  (51, 7)],\n (47, 0): [(47, 0), (45, 1), (45, 2), (46, 3), (47, 1), (48, 0)],\n (50, 3): [(50, 3), (49, 2), (51, 2), (51, 3)],\n (55, 5): [(55, 5), (52, 8), (53, 4), (55, 8)],\n (56, 0): [(56, 0), (55, 1), (57, 0), (59, 1)],\n (56, 3): [(56, 3), (56, 4), (58, 2)],\n (59, 7): [(59, 7), (58, 7), (63, 7)],\n (61, 3): [(61, 3), (61, 0), (61, 3), (62, 3)],\n (61, 5): [(61, 5), (61, 6)],\n (66, 6): [(66, 6), (64, 7)],\n (66, 2): [(66, 2), (67, 2), (70, 1), (71, 0)],\n (69, 5): [(69, 5), (69, 3), (69, 4), (70, 5), (71, 3), (71, 4)],\n (68, 7): [(68, 7), (69, 7), (69, 10), (71, 8)],\n (73, 6): [(73, 6), (72, 0), (73, 7), (73, 10)],\n (78, 6): [(78, 6), (77, 5), (78, 1), (78, 9), (78, 10), (79, 9), (79, 11)],\n (83, 2): [(83, 2), (80, 2), (87, 0), (87, 1)],\n (84, 6): [(84, 6), (82, 9), (82, 10), (86, 6), (86, 8), (86, 10)],\n (89, 7): [(89, 7),\n  (88, 4),\n  (88, 7),\n  (88, 8),\n  (89, 10),\n  (89, 11),\n  (89, 12),\n  (90, 6),\n  (91, 10),\n  (93, 10),\n  (94, 12)],\n (91, 2): [(91, 2), (90, 4), (96, 3)],\n (102, 0): [(102, 0),\n  (98, 2),\n  (98, 4),\n  (99, 3),\n  (100, 4),\n  (102, 3),\n  (103, 5),\n  (104, 2)],\n (104, 10): [(104, 10), (100, 7), (100, 12), (101, 7), (107, 12), (108, 9)],\n (108, 2): [(108, 2),\n  (108, 1),\n  (108, 6),\n  (109, 3),\n  (109, 7),\n  (110, 0),\n  (110, 1),\n  (113, 2)],\n (117, 11): [(117, 11),\n  (111, 11),\n  (112, 8),\n  (113, 9),\n  (114, 9),\n  (115, 11),\n  (116, 8),\n  (117, 10),\n  (117, 12),\n  (119, 7),\n  (119, 11)],\n (117, 1): [(117, 1), (113, 0), (114, 5), (115, 5), (119, 6), (120, 4)],\n (124, 2): [(124, 2), (121, 2), (122, 2), (124, 2), (125, 0), (126, 3)],\n (124, 11): [(124, 11),\n  (123, 7),\n  (124, 10),\n  (125, 7),\n  (130, 12),\n  (131, 8),\n  (133, 10),\n  (135, 12)],\n (138, 2): [(138, 2),\n  (132, 0),\n  (132, 3),\n  (132, 7),\n  (134, 2),\n  (135, 7),\n  (138, 4),\n  (138, 9),\n  (140, 4),\n  (144, 1)],\n (146, 6): [(146, 6),\n  (142, 7),\n  (143, 6),\n  (144, 3),\n  (145, 5),\n  (146, 5),\n  (147, 0),\n  (148, 4),\n  (149, 2),\n  (149, 5)],\n (146, 8): [(146, 8),\n  (143, 8),\n  (145, 8),\n  (147, 8),\n  (148, 8),\n  (148, 12),\n  (150, 10)],\n (153, 5): [(153, 5),\n  (151, 1),\n  (152, 8),\n  (152, 9),\n  (152, 12),\n  (155, 6),\n  (156, 1),\n  (157, 3)],\n (160, 6): [(160, 6),\n  (158, 2),\n  (158, 10),\n  (159, 2),\n  (160, 1),\n  (160, 7),\n  (160, 8),\n  (161, 8),\n  (162, 4),\n  (162, 9),\n  (163, 8),\n  (164, 0),\n  (164, 2),\n  (165, 2)],\n (166, 11): [(166, 11),\n  (164, 12),\n  (165, 7),\n  (166, 3),\n  (166, 7),\n  (166, 10),\n  (168, 2),\n  (168, 3),\n  (169, 5),\n  (169, 6),\n  (170, 8),\n  (170, 9),\n  (171, 3),\n  (172, 0),\n  (172, 8),\n  (172, 11),\n  (173, 5)],\n (180, 11): [(180, 11),\n  (174, 1),\n  (175, 0),\n  (177, 1),\n  (177, 6),\n  (177, 8),\n  (179, 3),\n  (180, 1),\n  (181, 4),\n  (183, 0),\n  (183, 7),\n  (184, 4),\n  (184, 11),\n  (185, 0),\n  (185, 1),\n  (185, 9),\n  (186, 4),\n  (186, 10)],\n (191, 12): [(191, 12),\n  (190, 11),\n  (191, 4),\n  (191, 5),\n  (191, 12),\n  (192, 3),\n  (194, 4),\n  (194, 5),\n  (194, 7),\n  (195, 12)],\n (202, 12): [(202, 12),\n  (197, 1),\n  (198, 8),\n  (198, 10),\n  (199, 1),\n  (199, 6),\n  (199, 8),\n  (200, 5),\n  (200, 11),\n  (202, 5),\n  (202, 6),\n  (202, 7),\n  (203, 0),\n  (203, 6),\n  (205, 1)],\n (213, 12): [(213, 12),\n  (208, 3),\n  (208, 11),\n  (208, 12),\n  (210, 1),\n  (211, 2),\n  (214, 9),\n  (215, 4),\n  (215, 10),\n  (216, 1),\n  (216, 9),\n  (217, 3)],\n (222, 11): [(222, 11),\n  (219, 11),\n  (220, 4),\n  (220, 12),\n  (221, 1),\n  (221, 6),\n  (221, 8),\n  (223, 5),\n  (224, 2),\n  (224, 3),\n  (224, 9),\n  (224, 10),\n  (225, 0),\n  (225, 3),\n  (225, 9),\n  (225, 10),\n  (226, 0),\n  (226, 2),\n  (227, 4)]}"
     },
     "execution_count": 24,
     "metadata": {},
     "output_type": "execute_result"
    }
   ],
   "source": [
    "loc"
   ],
   "metadata": {
    "collapsed": false,
    "pycharm": {
     "name": "#%%\n"
    }
   }
  },
  {
   "cell_type": "code",
   "execution_count": 25,
   "outputs": [],
   "source": [
    "def calc_manhattan(p1, p2):\n",
    "    return abs(p1[0] - p2[0]) + abs(p1[1] - p2[1])"
   ],
   "metadata": {
    "collapsed": false,
    "pycharm": {
     "name": "#%%\n"
    }
   }
  },
  {
   "cell_type": "code",
   "execution_count": 26,
   "outputs": [
    {
     "name": "stdout",
     "output_type": "stream",
     "text": [
      "Requirement already satisfied: landscapes in c:\\users\\nahte\\appdata\\local\\programs\\python\\python39\\lib\\site-packages (0.0.12)\n",
      "Note: you may need to restart the kernel to use updated packages.\n"
     ]
    }
   ],
   "source": [
    "pip install landscapes"
   ],
   "metadata": {
    "collapsed": false,
    "pycharm": {
     "name": "#%%\n"
    }
   }
  },
  {
   "cell_type": "code",
   "execution_count": 27,
   "outputs": [
    {
     "name": "stdout",
     "output_type": "stream",
     "text": [
      "Collecting git+https://github.com/nathanrooy/simulated-annealing\n",
      "  Cloning https://github.com/nathanrooy/simulated-annealing to c:\\users\\nahte\\appdata\\local\\temp\\pip-req-build-onjkfb7t\n",
      "  Resolved https://github.com/nathanrooy/simulated-annealing to commit 42eb34e761b76692882a3905ec2be48e19e8133e\n",
      "  Preparing metadata (setup.py): started\n",
      "  Preparing metadata (setup.py): finished with status 'done'\n",
      "Note: you may need to restart the kernel to use updated packages.\n"
     ]
    },
    {
     "name": "stderr",
     "output_type": "stream",
     "text": [
      "  Running command git clone --filter=blob:none -q https://github.com/nathanrooy/simulated-annealing 'C:\\Users\\nahte\\AppData\\Local\\Temp\\pip-req-build-onjkfb7t'\n"
     ]
    }
   ],
   "source": [
    "pip install git+https://github.com/nathanrooy/simulated-annealing"
   ],
   "metadata": {
    "collapsed": false,
    "pycharm": {
     "name": "#%%\n"
    }
   }
  },
  {
   "cell_type": "code",
   "execution_count": 28,
   "outputs": [],
   "source": [
    "import time\n",
    "runtimes = {}"
   ],
   "metadata": {
    "collapsed": false,
    "pycharm": {
     "name": "#%%\n"
    }
   }
  },
  {
   "cell_type": "markdown",
   "source": [
    "## Simulated Annealing Implementation"
   ],
   "metadata": {
    "collapsed": false
   }
  },
  {
   "cell_type": "code",
   "execution_count": 29,
   "outputs": [],
   "source": [
    "\n",
    "from landscapes.single_objective import tsp\n",
    "\n",
    "import pandas as pd\n",
    "# import osmnx as ox\n",
    "import networkx as nx\n",
    "import math\n",
    "import random"
   ],
   "metadata": {
    "collapsed": false,
    "pycharm": {
     "name": "#%%\n"
    }
   }
  },
  {
   "cell_type": "code",
   "execution_count": 30,
   "outputs": [],
   "source": [
    "tsp_manhattan = tsp(dist_func=calc_manhattan, close_loop=True).dist"
   ],
   "metadata": {
    "collapsed": false,
    "pycharm": {
     "name": "#%%\n"
    }
   }
  },
  {
   "cell_type": "code",
   "execution_count": 31,
   "outputs": [
    {
     "data": {
      "text/plain": "1778"
     },
     "execution_count": 31,
     "metadata": {},
     "output_type": "execute_result"
    }
   ],
   "source": [
    "tsp_manhattan(delivery_loc)"
   ],
   "metadata": {
    "collapsed": false,
    "pycharm": {
     "name": "#%%\n"
    }
   }
  },
  {
   "cell_type": "code",
   "execution_count": 41,
   "outputs": [],
   "source": [
    "from random import randint\n",
    "from random import random\n",
    "from math import exp\n",
    "from math import log\n",
    "class minimize():\n",
    "    '''Simple Simulated Annealing\n",
    "    '''\n",
    "\n",
    "    def __init__(self, func, x0, opt_mode, cooling_schedule='linear', step_max=1000, t_min=0, t_max=100, bounds=[], alpha=None, damping=1):\n",
    "\n",
    "        # checks\n",
    "        assert opt_mode in ['combinatorial','continuous'], 'opt_mode must be either \"combinatorial\" or \"continuous\"'\n",
    "        assert cooling_schedule in ['linear','exponential','logarithmic', 'quadratic'], 'cooling_schedule must be either \"linear\", \"exponential\", \"logarithmic\", or \"quadratic\"'\n",
    "\n",
    "\n",
    "        # initialize starting conditions\n",
    "        self.t = t_max\n",
    "        self.t_max = t_max\n",
    "        self.t_min = t_min\n",
    "        self.step_max = step_max\n",
    "        self.opt_mode = opt_mode\n",
    "        self.hist = []\n",
    "        self.cooling_schedule = cooling_schedule\n",
    "\n",
    "        self.cost_func = func\n",
    "        self.x0 = x0\n",
    "        self.bounds = bounds[:]\n",
    "        self.damping = damping\n",
    "        self.current_state = self.x0\n",
    "        self.current_energy = func(self.x0)\n",
    "        self.best_state = self.current_state\n",
    "        self.best_energy = self.current_energy\n",
    "\n",
    "\n",
    "        # initialize optimization scheme\n",
    "        if self.opt_mode == 'combinatorial': self.get_neighbor = self.move_combinatorial\n",
    "        if self.opt_mode == 'continuous': self.get_neighbor = self.move_continuous\n",
    "\n",
    "\n",
    "        # initialize cooling schedule\n",
    "        if self.cooling_schedule == 'linear':\n",
    "            if alpha != None:\n",
    "                self.update_t = self.cooling_linear_m\n",
    "                self.cooling_schedule = 'linear multiplicative cooling'\n",
    "                self.alpha = alpha\n",
    "\n",
    "            if alpha == None:\n",
    "                self.update_t = self.cooling_linear_a\n",
    "                self.cooling_schedule = 'linear additive cooling'\n",
    "\n",
    "        if self.cooling_schedule == 'quadratic':\n",
    "            if alpha != None:\n",
    "                self.update_t = self.cooling_quadratic_m\n",
    "                self.cooling_schedule = 'quadratic multiplicative cooling'\n",
    "                self.alpha = alpha\n",
    "\n",
    "            if alpha == None:\n",
    "                self.update_t = self.cooling_quadratic_a\n",
    "                self.cooling_schedule = 'quadratic additive cooling'\n",
    "\n",
    "        if self.cooling_schedule == 'exponential':\n",
    "            if alpha == None: self.alpha =  0.8\n",
    "            else: self.alpha = alpha\n",
    "            self.update_t = self.cooling_exponential_b\n",
    "\n",
    "        if self.cooling_schedule == 'logarithmic':\n",
    "            if alpha == None: self.alpha =  0.8\n",
    "            else: self.alpha = alpha\n",
    "            self.update_t = self.cooling_logarithmic_m\n",
    "\n",
    "\n",
    "        # begin optimizing\n",
    "        self.step, self.accept = 1, 0\n",
    "        while self.step < self.step_max and self.t >= self.t_min and self.t>0:\n",
    "\n",
    "            # get neighbor\n",
    "            proposed_neighbor = self.get_neighbor()\n",
    "\n",
    "            # check energy level of neighbor\n",
    "            E_n = self.cost_func(proposed_neighbor)\n",
    "            dE = E_n - self.current_energy\n",
    "\n",
    "            # determine if we should accept the current neighbor\n",
    "            if random() < self.safe_exp(-dE / self.t):\n",
    "                self.current_energy = E_n\n",
    "                self.current_state = proposed_neighbor[:]\n",
    "                self.accept += 1\n",
    "\n",
    "            # check if the current neighbor is best solution so far\n",
    "            if E_n < self.best_energy:\n",
    "                self.best_energy = E_n\n",
    "                self.best_state = proposed_neighbor[:]\n",
    "\n",
    "            # persist some info for later\n",
    "            self.hist.append([\n",
    "                self.step,\n",
    "                self.t,\n",
    "                self.current_energy,\n",
    "                self.best_energy])\n",
    "\n",
    "            # update some stuff\n",
    "            self.t = self.update_t(self.step)\n",
    "            self.step += 1\n",
    "\n",
    "        # generate some final stats\n",
    "        self.acceptance_rate = self.accept / self.step\n",
    "\n",
    "\n",
    "    def move_continuous(self):\n",
    "        # preturb current state by a random amount\n",
    "        neighbor = [item + ((random() - 0.5) * self.damping) for item in self.current_state]\n",
    "\n",
    "        # clip to upper and lower bounds\n",
    "        if self.bounds:\n",
    "            for i in range(len(neighbor)):\n",
    "                x_min, x_max = self.bounds[i]\n",
    "                neighbor[i] = min(max(neighbor[i], x_min), x_max)\n",
    "\n",
    "        return neighbor\n",
    "\n",
    "\n",
    "    def move_combinatorial(self):\n",
    "        '''Swaps two random nodes along path\n",
    "        Not the most efficient, but it does the job...\n",
    "        '''\n",
    "        p0 = randint(0, len(self.current_state)-1)\n",
    "        p1 = randint(0, len(self.current_state)-1)\n",
    "\n",
    "        neighbor = self.current_state[:]\n",
    "        neighbor[p0], neighbor[p1] = neighbor[p1], neighbor[p0]\n",
    "\n",
    "        return neighbor\n",
    "\n",
    "\n",
    "    def results(self):\n",
    "        print('+------------------------ RESULTS -------------------------+\\n')\n",
    "        print(f'      opt.mode: {self.opt_mode}')\n",
    "        print(f'cooling sched.: {self.cooling_schedule}')\n",
    "        if self.damping != 1: print(f'       damping: {self.damping}\\n')\n",
    "        else: print('\\n')\n",
    "\n",
    "        print(f'  initial temp: {self.t_max}')\n",
    "        print(f'    final temp: {self.t:0.6f}')\n",
    "        print(f'     max steps: {self.step_max}')\n",
    "        print(f'    final step: {self.step}\\n')\n",
    "\n",
    "        print(f'  final energy: {self.best_energy:0.6f}\\n')\n",
    "        print('+-------------------------- END ---------------------------+')\n",
    "\n",
    "    # linear multiplicative cooling\n",
    "    def cooling_linear_m(self, step):\n",
    "        return self.t_max /  (1 + self.alpha * step)\n",
    "\n",
    "    # linear additive cooling\n",
    "    def cooling_linear_a(self, step):\n",
    "        return self.t_min + (self.t_max - self.t_min) * ((self.step_max - step)/self.step_max)\n",
    "\n",
    "    # quadratic multiplicative cooling\n",
    "    def cooling_quadratic_m(self, step):\n",
    "        return self.t_min / (1 + self.alpha * step**2)\n",
    "\n",
    "    # quadratic additive cooling\n",
    "    def cooling_quadratic_a(self, step):\n",
    "        return self.t_min + (self.t_max - self.t_min) * ((self.step_max - step)/self.step_max)**2\n",
    "\n",
    "    # exponential multiplicative cooling\n",
    "    def cooling_exponential_b(self, step):\n",
    "        return self.t_max * self.alpha**step\n",
    "\n",
    "    # logarithmical multiplicative cooling\n",
    "    def cooling_logarithmic_m(self, step):\n",
    "        return self.t_max / (self.alpha * log(step + 1))\n",
    "\n",
    "\n",
    "    def safe_exp(self, x):\n",
    "        try: return exp(x)\n",
    "        except: return 0"
   ],
   "metadata": {
    "collapsed": false,
    "pycharm": {
     "name": "#%%\n"
    }
   }
  },
  {
   "cell_type": "code",
   "execution_count": 44,
   "outputs": [
    {
     "name": "stdout",
     "output_type": "stream",
     "text": [
      "func: Annealing linear took: 0.10152626037597656 sec\n",
      "func: Annealing linear took: 0.08017945289611816 sec\n",
      "func: Annealing linear took: 0.08482503890991211 sec\n",
      "func: Annealing linear took: 0.11060309410095215 sec\n",
      "func: Annealing linear took: 0.06272602081298828 sec\n",
      "func: Annealing linear took: 0.0947713851928711 sec\n",
      "func: Annealing linear took: 0.06307101249694824 sec\n",
      "func: Annealing linear took: 0.07897257804870605 sec\n",
      "func: Annealing linear took: 0.12524795532226562 sec\n",
      "func: Annealing linear took: 0.06560873985290527 sec\n",
      "func: Annealing linear took: 0.06000113487243652 sec\n",
      "func: Annealing linear took: 0.09415745735168457 sec\n",
      "func: Annealing linear took: 0.07832098007202148 sec\n",
      "func: Annealing linear took: 0.06843066215515137 sec\n",
      "func: Annealing linear took: 0.08832049369812012 sec\n",
      "func: Annealing linear took: 0.06309986114501953 sec\n",
      "func: Annealing linear took: 0.07048892974853516 sec\n",
      "func: Annealing linear took: 0.07877516746520996 sec\n",
      "func: Annealing linear took: 0.13542723655700684 sec\n",
      "func: Annealing linear took: 0.07843184471130371 sec\n",
      "func: Annealing linear took: 0.09424519538879395 sec\n",
      "func: Annealing linear took: 0.0782315731048584 sec\n",
      "func: Annealing linear took: 0.06308817863464355 sec\n",
      "func: Annealing linear took: 0.0791325569152832 sec\n",
      "func: Annealing linear took: 0.11141610145568848 sec\n",
      "func: Annealing linear took: 0.07890439033508301 sec\n",
      "func: Annealing linear took: 0.06249666213989258 sec\n",
      "func: Annealing linear took: 0.11942386627197266 sec\n",
      "func: Annealing linear took: 0.24591350555419922 sec\n",
      "func: Annealing linear took: 0.11933779716491699 sec\n",
      "func: Annealing linear took: 0.15147805213928223 sec\n",
      "func: Annealing linear took: 0.1107330322265625 sec\n",
      "func: Annealing linear took: 0.09528064727783203 sec\n",
      "func: Annealing linear took: 0.07810187339782715 sec\n",
      "func: Annealing linear took: 0.06329774856567383 sec\n",
      "func: Annealing linear took: 0.06323361396789551 sec\n",
      "func: Annealing linear took: 0.07887053489685059 sec\n",
      "func: Annealing linear took: 0.0631093978881836 sec\n",
      "func: Annealing linear took: 0.07861542701721191 sec\n",
      "func: Annealing linear took: 0.06341385841369629 sec\n",
      "func: Annealing linear took: 0.07821869850158691 sec\n",
      "func: Annealing linear took: 0.06316518783569336 sec\n",
      "func: Annealing linear took: 0.06308269500732422 sec\n",
      "func: Annealing linear took: 0.09440946578979492 sec\n",
      "func: Annealing quadratic took: 0.0938878059387207 sec\n",
      "func: Annealing quadratic took: 0.09844160079956055 sec\n",
      "func: Annealing quadratic took: 0.07409858703613281 sec\n",
      "func: Annealing quadratic took: 0.09759879112243652 sec\n",
      "func: Annealing quadratic took: 0.07871770858764648 sec\n",
      "func: Annealing quadratic took: 0.0943753719329834 sec\n",
      "func: Annealing quadratic took: 0.09523296356201172 sec\n",
      "func: Annealing quadratic took: 0.1097266674041748 sec\n",
      "func: Annealing quadratic took: 0.07886528968811035 sec\n",
      "func: Annealing quadratic took: 0.06280374526977539 sec\n",
      "func: Annealing quadratic took: 0.07871675491333008 sec\n",
      "func: Annealing quadratic took: 0.09373664855957031 sec\n",
      "func: Annealing quadratic took: 0.07887935638427734 sec\n",
      "func: Annealing quadratic took: 0.10118675231933594 sec\n",
      "func: Annealing quadratic took: 0.06445050239562988 sec\n",
      "func: Annealing quadratic took: 0.07882285118103027 sec\n",
      "func: Annealing quadratic took: 0.07921624183654785 sec\n",
      "func: Annealing quadratic took: 0.0788271427154541 sec\n",
      "func: Annealing quadratic took: 0.06333208084106445 sec\n",
      "func: Annealing quadratic took: 0.06251978874206543 sec\n",
      "func: Annealing quadratic took: 0.06257271766662598 sec\n",
      "func: Annealing quadratic took: 0.07680010795593262 sec\n",
      "func: Annealing quadratic took: 0.05703926086425781 sec\n",
      "func: Annealing quadratic took: 0.07905149459838867 sec\n",
      "func: Annealing quadratic took: 0.06294035911560059 sec\n",
      "func: Annealing quadratic took: 0.07813906669616699 sec\n",
      "func: Annealing quadratic took: 0.07805323600769043 sec\n",
      "func: Annealing quadratic took: 0.06302428245544434 sec\n",
      "func: Annealing quadratic took: 0.12728333473205566 sec\n",
      "func: Annealing quadratic took: 0.11729145050048828 sec\n",
      "func: Annealing quadratic took: 0.09511208534240723 sec\n",
      "func: Annealing quadratic took: 0.0790259838104248 sec\n",
      "func: Annealing quadratic took: 0.06311750411987305 sec\n",
      "func: Annealing quadratic took: 0.0783243179321289 sec\n",
      "func: Annealing quadratic took: 0.06452155113220215 sec\n",
      "func: Annealing quadratic took: 0.07865548133850098 sec\n",
      "func: Annealing quadratic took: 0.06252551078796387 sec\n",
      "func: Annealing quadratic took: 0.07880043983459473 sec\n",
      "func: Annealing quadratic took: 0.07882118225097656 sec\n",
      "func: Annealing quadratic took: 0.06293225288391113 sec\n",
      "func: Annealing quadratic took: 0.09172511100769043 sec\n",
      "func: Annealing quadratic took: 0.09384512901306152 sec\n",
      "func: Annealing quadratic took: 0.06331372261047363 sec\n",
      "func: Annealing quadratic took: 0.09452462196350098 sec\n",
      "func: Annealing exponential took: 0.06271505355834961 sec\n",
      "func: Annealing exponential took: 0.06250476837158203 sec\n",
      "func: Annealing exponential took: 0.08047223091125488 sec\n",
      "func: Annealing exponential took: 0.06313490867614746 sec\n",
      "func: Annealing exponential took: 0.06250333786010742 sec\n",
      "func: Annealing exponential took: 0.09659409523010254 sec\n",
      "func: Annealing exponential took: 0.06556057929992676 sec\n",
      "func: Annealing exponential took: 0.06307125091552734 sec\n",
      "func: Annealing exponential took: 0.06923532485961914 sec\n",
      "func: Annealing exponential took: 0.07175636291503906 sec\n",
      "func: Annealing exponential took: 0.07920432090759277 sec\n",
      "func: Annealing exponential took: 0.0710446834564209 sec\n",
      "func: Annealing exponential took: 0.07111763954162598 sec\n",
      "func: Annealing exponential took: 0.06316661834716797 sec\n",
      "func: Annealing exponential took: 0.06346964836120605 sec\n",
      "func: Annealing exponential took: 0.06314349174499512 sec\n",
      "func: Annealing exponential took: 0.07884597778320312 sec\n",
      "func: Annealing exponential took: 0.06306576728820801 sec\n",
      "func: Annealing exponential took: 0.11590576171875 sec\n",
      "func: Annealing exponential took: 0.09866070747375488 sec\n",
      "func: Annealing exponential took: 0.06250953674316406 sec\n",
      "func: Annealing exponential took: 0.06316566467285156 sec\n",
      "func: Annealing exponential took: 0.06305432319641113 sec\n",
      "func: Annealing exponential took: 0.078216552734375 sec\n",
      "func: Annealing exponential took: 0.0631711483001709 sec\n",
      "func: Annealing exponential took: 0.07981300354003906 sec\n",
      "func: Annealing exponential took: 0.07610964775085449 sec\n",
      "func: Annealing exponential took: 0.04983878135681152 sec\n",
      "func: Annealing exponential took: 0.07906651496887207 sec\n",
      "func: Annealing exponential took: 0.06255030632019043 sec\n",
      "func: Annealing exponential took: 0.06316781044006348 sec\n",
      "func: Annealing exponential took: 0.12571382522583008 sec\n",
      "func: Annealing exponential took: 0.06309962272644043 sec\n",
      "func: Annealing exponential took: 0.07855868339538574 sec\n",
      "func: Annealing exponential took: 0.0626075267791748 sec\n",
      "func: Annealing exponential took: 0.06312894821166992 sec\n",
      "func: Annealing exponential took: 0.08456659317016602 sec\n",
      "func: Annealing exponential took: 0.06965136528015137 sec\n",
      "func: Annealing exponential took: 0.10448956489562988 sec\n",
      "func: Annealing exponential took: 0.11823821067810059 sec\n",
      "func: Annealing exponential took: 0.0783848762512207 sec\n",
      "func: Annealing exponential took: 0.0782470703125 sec\n",
      "func: Annealing exponential took: 0.06306982040405273 sec\n",
      "func: Annealing exponential took: 0.07922816276550293 sec\n",
      "func: Annealing logarithmic took: 0.06409931182861328 sec\n",
      "func: Annealing logarithmic took: 0.07720279693603516 sec\n",
      "func: Annealing logarithmic took: 0.06351256370544434 sec\n",
      "func: Annealing logarithmic took: 0.06272053718566895 sec\n",
      "func: Annealing logarithmic took: 0.06260085105895996 sec\n",
      "func: Annealing logarithmic took: 0.09470248222351074 sec\n",
      "func: Annealing logarithmic took: 0.06305551528930664 sec\n",
      "func: Annealing logarithmic took: 0.06288933753967285 sec\n",
      "func: Annealing logarithmic took: 0.07879924774169922 sec\n",
      "func: Annealing logarithmic took: 0.07877683639526367 sec\n",
      "func: Annealing logarithmic took: 0.07911324501037598 sec\n",
      "func: Annealing logarithmic took: 0.06257867813110352 sec\n",
      "func: Annealing logarithmic took: 0.0781245231628418 sec\n",
      "func: Annealing logarithmic took: 0.0784759521484375 sec\n",
      "func: Annealing logarithmic took: 0.07835173606872559 sec\n",
      "func: Annealing logarithmic took: 0.07813477516174316 sec\n",
      "func: Annealing logarithmic took: 0.08162975311279297 sec\n",
      "func: Annealing logarithmic took: 0.1239633560180664 sec\n",
      "func: Annealing logarithmic took: 0.09777259826660156 sec\n",
      "func: Annealing logarithmic took: 0.10724806785583496 sec\n",
      "func: Annealing logarithmic took: 0.1933600902557373 sec\n",
      "func: Annealing logarithmic took: 0.10272932052612305 sec\n",
      "func: Annealing logarithmic took: 0.07873916625976562 sec\n",
      "func: Annealing logarithmic took: 0.09430265426635742 sec\n",
      "func: Annealing logarithmic took: 0.06308746337890625 sec\n",
      "func: Annealing logarithmic took: 0.06313562393188477 sec\n",
      "func: Annealing logarithmic took: 0.06258463859558105 sec\n",
      "func: Annealing logarithmic took: 0.07882380485534668 sec\n",
      "func: Annealing logarithmic took: 0.06303811073303223 sec\n",
      "func: Annealing logarithmic took: 0.06292366981506348 sec\n",
      "func: Annealing logarithmic took: 0.10091090202331543 sec\n",
      "func: Annealing logarithmic took: 0.07687044143676758 sec\n",
      "func: Annealing logarithmic took: 0.06371951103210449 sec\n",
      "func: Annealing logarithmic took: 0.07814478874206543 sec\n",
      "func: Annealing logarithmic took: 0.06407022476196289 sec\n",
      "func: Annealing logarithmic took: 0.11087894439697266 sec\n",
      "func: Annealing logarithmic took: 0.10981178283691406 sec\n",
      "func: Annealing logarithmic took: 0.0793159008026123 sec\n",
      "func: Annealing logarithmic took: 0.06881904602050781 sec\n",
      "func: Annealing logarithmic took: 0.06724429130554199 sec\n",
      "func: Annealing logarithmic took: 0.0956416130065918 sec\n",
      "func: Annealing logarithmic took: 0.07962512969970703 sec\n",
      "func: Annealing logarithmic took: 0.08097410202026367 sec\n",
      "func: Annealing logarithmic took: 0.0634152889251709 sec\n"
     ]
    }
   ],
   "source": [
    "cooling_schedule=['linear', 'quadratic', 'exponential', 'logarithmic']\n",
    "cooling_results = {}\n",
    "# alpha = None, int(64)\n",
    "for mode in cooling_schedule:\n",
    "    runtimes[\"Annealing \"+ mode] = 0\n",
    "    sa_opt_results = []\n",
    "    for key in loc:\n",
    "        loc_list = loc[key]\n",
    "        ts = time.time()\n",
    "        m = minimize(tsp_manhattan, delivery_loc, opt_mode='combinatorial', cooling_schedule = mode, step_max=1000, t_max=100, t_min=0)\n",
    "        sa_opt_results.append(m)\n",
    "        te = time.time()\n",
    "        print(f'func: {\"Annealing \"+ mode} took: {te-ts} sec')\n",
    "        runtimes[\"Annealing \"+ mode] += te - ts\n",
    "    cooling_results = sa_opt_results"
   ],
   "metadata": {
    "collapsed": false,
    "pycharm": {
     "name": "#%%\n"
    }
   }
  },
  {
   "cell_type": "code",
   "execution_count": 45,
   "outputs": [
    {
     "name": "stdout",
     "output_type": "stream",
     "text": [
      "+------------------------ RESULTS -------------------------+\n",
      "\n",
      "      opt.mode: combinatorial\n",
      "cooling sched.: logarithmic\n",
      "\n",
      "\n",
      "  initial temp: 100\n",
      "    final temp: 18.095603\n",
      "     max steps: 1000\n",
      "    final step: 1000\n",
      "\n",
      "  final energy: 1772.000000\n",
      "\n",
      "+-------------------------- END ---------------------------+\n"
     ]
    }
   ],
   "source": [
    "sa_opt_results[0].results()"
   ],
   "metadata": {
    "collapsed": false,
    "pycharm": {
     "name": "#%%\n"
    }
   }
  },
  {
   "cell_type": "code",
   "execution_count": 46,
   "outputs": [],
   "source": [
    "annealing_paths = []\n",
    "sa_total = 0\n",
    "for region in sa_opt_results:\n",
    "    annealing_paths.append(region.best_state)\n",
    "    sa_total += region.best_energy"
   ],
   "metadata": {
    "collapsed": false,
    "pycharm": {
     "name": "#%%\n"
    }
   }
  },
  {
   "cell_type": "code",
   "execution_count": 47,
   "outputs": [
    {
     "data": {
      "text/plain": "[[(0, 0),\n  (0, 5),\n  (0, 7),\n  (2, 11),\n  (3, 9),\n  (3, 12),\n  (4, 6),\n  (4, 9),\n  (5, 8),\n  (6, 0),\n  (7, 7),\n  (8, 5),\n  (8, 7),\n  (9, 0),\n  (9, 2),\n  (11, 12),\n  (12, 2),\n  (12, 3),\n  (12, 4),\n  (13, 8),\n  (15, 3),\n  (15, 5),\n  (15, 12),\n  (18, 3),\n  (20, 2),\n  (20, 10),\n  (21, 1),\n  (21, 7),\n  (23, 0),\n  (23, 8),\n  (23, 11),\n  (24, 6),\n  (24, 7),\n  (24, 11),\n  (27, 4),\n  (27, 6),\n  (27, 10),\n  (28, 0),\n  (28, 10),\n  (28, 11),\n  (29, 4),\n  (30, 12),\n  (31, 11),\n  (32, 7),\n  (34, 5),\n  (34, 9),\n  (37, 10),\n  (37, 12),\n  (38, 3),\n  (38, 6),\n  (38, 7),\n  (39, 10),\n  (40, 0),\n  (40, 1),\n  (41, 7),\n  (43, 5),\n  (43, 7),\n  (45, 1),\n  (45, 2),\n  (45, 12),\n  (46, 3),\n  (46, 5),\n  (47, 1),\n  (48, 0),\n  (49, 2),\n  (49, 8),\n  (50, 10),\n  (51, 2),\n  (51, 3),\n  (51, 7),\n  (52, 8),\n  (53, 4),\n  (55, 1),\n  (55, 8),\n  (56, 4),\n  (57, 0),\n  (58, 2),\n  (58, 7),\n  (59, 1),\n  (61, 0),\n  (61, 3),\n  (61, 6),\n  (62, 3),\n  (63, 7),\n  (64, 7),\n  (67, 2),\n  (69, 3),\n  (69, 4),\n  (69, 7),\n  (69, 10),\n  (70, 1),\n  (70, 5),\n  (71, 0),\n  (71, 3),\n  (71, 4),\n  (71, 8),\n  (72, 0),\n  (73, 7),\n  (73, 10),\n  (77, 5),\n  (78, 1),\n  (78, 9),\n  (78, 10),\n  (79, 9),\n  (79, 11),\n  (80, 2),\n  (82, 9),\n  (82, 10),\n  (86, 6),\n  (86, 8),\n  (86, 10),\n  (87, 0),\n  (87, 1),\n  (88, 4),\n  (88, 7),\n  (88, 8),\n  (89, 10),\n  (89, 11),\n  (89, 12),\n  (90, 4),\n  (90, 6),\n  (91, 10),\n  (93, 10),\n  (94, 12),\n  (96, 3),\n  (98, 2),\n  (98, 4),\n  (99, 3),\n  (100, 4),\n  (100, 7),\n  (100, 12),\n  (101, 7),\n  (102, 3),\n  (103, 5),\n  (104, 2),\n  (107, 12),\n  (108, 1),\n  (108, 6),\n  (108, 9),\n  (109, 3),\n  (109, 7),\n  (110, 0),\n  (110, 1),\n  (111, 11),\n  (112, 8),\n  (113, 0),\n  (113, 2),\n  (113, 9),\n  (114, 5),\n  (114, 9),\n  (115, 5),\n  (115, 11),\n  (116, 8),\n  (117, 10),\n  (117, 12),\n  (119, 6),\n  (119, 7),\n  (119, 11),\n  (120, 4),\n  (121, 2),\n  (122, 2),\n  (123, 7),\n  (124, 2),\n  (124, 10),\n  (125, 0),\n  (125, 7),\n  (126, 3),\n  (130, 12),\n  (131, 8),\n  (132, 0),\n  (132, 3),\n  (132, 7),\n  (133, 10),\n  (134, 2),\n  (135, 7),\n  (135, 12),\n  (138, 4),\n  (138, 9),\n  (140, 4),\n  (142, 7),\n  (143, 6),\n  (143, 8),\n  (144, 1),\n  (144, 3),\n  (145, 5),\n  (145, 8),\n  (146, 5),\n  (147, 0),\n  (147, 8),\n  (148, 4),\n  (148, 8),\n  (148, 12),\n  (149, 2),\n  (149, 5),\n  (150, 10),\n  (151, 1),\n  (152, 8),\n  (152, 9),\n  (152, 12),\n  (155, 6),\n  (156, 1),\n  (157, 3),\n  (158, 2),\n  (158, 10),\n  (159, 2),\n  (160, 1),\n  (160, 7),\n  (160, 8),\n  (161, 8),\n  (162, 4),\n  (162, 9),\n  (163, 8),\n  (164, 0),\n  (164, 2),\n  (164, 12),\n  (165, 2),\n  (165, 7),\n  (166, 3),\n  (166, 7),\n  (166, 10),\n  (168, 2),\n  (168, 3),\n  (169, 6),\n  (169, 5),\n  (170, 8),\n  (170, 9),\n  (171, 3),\n  (172, 0),\n  (172, 8),\n  (172, 11),\n  (173, 5),\n  (174, 1),\n  (175, 0),\n  (177, 1),\n  (177, 6),\n  (177, 8),\n  (179, 3),\n  (180, 1),\n  (181, 4),\n  (183, 0),\n  (183, 7),\n  (184, 4),\n  (184, 11),\n  (185, 0),\n  (185, 1),\n  (185, 9),\n  (186, 4),\n  (186, 10),\n  (190, 11),\n  (191, 4),\n  (191, 5),\n  (191, 12),\n  (192, 3),\n  (194, 4),\n  (194, 5),\n  (194, 7),\n  (195, 12),\n  (197, 1),\n  (198, 8),\n  (198, 10),\n  (199, 1),\n  (199, 6),\n  (199, 8),\n  (200, 5),\n  (200, 11),\n  (202, 5),\n  (202, 6),\n  (202, 7),\n  (203, 0),\n  (203, 6),\n  (205, 1),\n  (208, 3),\n  (208, 11),\n  (208, 12),\n  (210, 1),\n  (211, 2),\n  (214, 9),\n  (215, 4),\n  (216, 1),\n  (215, 10),\n  (216, 9),\n  (217, 3),\n  (219, 11),\n  (220, 4),\n  (220, 12),\n  (221, 1),\n  (221, 6),\n  (221, 8),\n  (223, 5),\n  (224, 2),\n  (224, 3),\n  (224, 9),\n  (224, 10),\n  (225, 0),\n  (225, 3),\n  (225, 9),\n  (225, 10),\n  (226, 0),\n  (226, 2),\n  (227, 4)],\n [(0, 0),\n  (0, 5),\n  (0, 7),\n  (2, 11),\n  (3, 9),\n  (3, 12),\n  (4, 6),\n  (4, 9),\n  (5, 8),\n  (6, 0),\n  (7, 7),\n  (8, 5),\n  (8, 7),\n  (9, 0),\n  (9, 2),\n  (11, 12),\n  (12, 2),\n  (12, 3),\n  (12, 4),\n  (13, 8),\n  (15, 3),\n  (15, 5),\n  (15, 12),\n  (18, 3),\n  (20, 2),\n  (20, 10),\n  (21, 1),\n  (21, 7),\n  (23, 0),\n  (23, 8),\n  (23, 11),\n  (24, 6),\n  (24, 7),\n  (24, 11),\n  (27, 4),\n  (27, 6),\n  (27, 10),\n  (28, 0),\n  (28, 10),\n  (28, 11),\n  (29, 4),\n  (30, 12),\n  (31, 11),\n  (32, 7),\n  (34, 5),\n  (34, 9),\n  (37, 10),\n  (37, 12),\n  (38, 3),\n  (38, 6),\n  (38, 7),\n  (39, 10),\n  (40, 0),\n  (40, 1),\n  (41, 7),\n  (43, 5),\n  (43, 7),\n  (45, 1),\n  (45, 2),\n  (45, 12),\n  (46, 3),\n  (46, 5),\n  (47, 1),\n  (48, 0),\n  (49, 2),\n  (49, 8),\n  (50, 10),\n  (51, 2),\n  (51, 3),\n  (51, 7),\n  (52, 8),\n  (53, 4),\n  (55, 1),\n  (55, 8),\n  (56, 4),\n  (57, 0),\n  (58, 2),\n  (58, 7),\n  (59, 1),\n  (61, 0),\n  (61, 3),\n  (61, 6),\n  (62, 3),\n  (63, 7),\n  (64, 7),\n  (67, 2),\n  (69, 3),\n  (69, 4),\n  (69, 7),\n  (69, 10),\n  (70, 1),\n  (70, 5),\n  (71, 0),\n  (71, 3),\n  (71, 4),\n  (71, 8),\n  (72, 0),\n  (73, 7),\n  (73, 10),\n  (77, 5),\n  (78, 1),\n  (78, 9),\n  (78, 10),\n  (79, 9),\n  (79, 11),\n  (80, 2),\n  (82, 9),\n  (82, 10),\n  (86, 6),\n  (86, 8),\n  (86, 10),\n  (87, 0),\n  (87, 1),\n  (88, 4),\n  (88, 7),\n  (88, 8),\n  (89, 10),\n  (89, 11),\n  (89, 12),\n  (90, 4),\n  (90, 6),\n  (91, 10),\n  (93, 10),\n  (94, 12),\n  (96, 3),\n  (98, 2),\n  (98, 4),\n  (99, 3),\n  (100, 4),\n  (100, 7),\n  (100, 12),\n  (101, 7),\n  (102, 3),\n  (103, 5),\n  (104, 2),\n  (107, 12),\n  (108, 1),\n  (108, 6),\n  (108, 9),\n  (109, 3),\n  (109, 7),\n  (110, 0),\n  (110, 1),\n  (111, 11),\n  (112, 8),\n  (113, 0),\n  (113, 2),\n  (113, 9),\n  (114, 5),\n  (114, 9),\n  (115, 5),\n  (115, 11),\n  (116, 8),\n  (117, 10),\n  (117, 12),\n  (119, 6),\n  (119, 7),\n  (119, 11),\n  (120, 4),\n  (121, 2),\n  (122, 2),\n  (123, 7),\n  (124, 2),\n  (124, 10),\n  (125, 0),\n  (125, 7),\n  (126, 3),\n  (130, 12),\n  (131, 8),\n  (132, 0),\n  (132, 3),\n  (132, 7),\n  (133, 10),\n  (134, 2),\n  (135, 7),\n  (135, 12),\n  (138, 4),\n  (138, 9),\n  (140, 4),\n  (142, 7),\n  (143, 6),\n  (143, 8),\n  (144, 1),\n  (144, 3),\n  (145, 5),\n  (145, 8),\n  (146, 5),\n  (147, 0),\n  (147, 8),\n  (148, 4),\n  (148, 8),\n  (148, 12),\n  (149, 2),\n  (149, 5),\n  (150, 10),\n  (151, 1),\n  (152, 8),\n  (152, 9),\n  (152, 12),\n  (155, 6),\n  (156, 1),\n  (157, 3),\n  (158, 2),\n  (158, 10),\n  (159, 2),\n  (160, 1),\n  (160, 7),\n  (160, 8),\n  (161, 8),\n  (162, 4),\n  (162, 9),\n  (163, 8),\n  (164, 0),\n  (164, 2),\n  (164, 12),\n  (165, 2),\n  (165, 7),\n  (166, 3),\n  (166, 7),\n  (166, 10),\n  (168, 2),\n  (168, 3),\n  (169, 5),\n  (169, 6),\n  (170, 8),\n  (170, 9),\n  (171, 3),\n  (172, 0),\n  (172, 8),\n  (172, 11),\n  (173, 5),\n  (174, 1),\n  (175, 0),\n  (177, 1),\n  (177, 6),\n  (177, 8),\n  (179, 3),\n  (180, 1),\n  (181, 4),\n  (183, 0),\n  (183, 7),\n  (184, 4),\n  (184, 11),\n  (185, 0),\n  (185, 1),\n  (185, 9),\n  (186, 4),\n  (186, 10),\n  (190, 11),\n  (191, 4),\n  (191, 5),\n  (191, 12),\n  (192, 3),\n  (194, 4),\n  (194, 5),\n  (194, 7),\n  (195, 12),\n  (197, 1),\n  (198, 8),\n  (198, 10),\n  (199, 1),\n  (199, 6),\n  (199, 8),\n  (200, 5),\n  (200, 11),\n  (202, 5),\n  (202, 6),\n  (202, 7),\n  (203, 0),\n  (203, 6),\n  (205, 1),\n  (208, 3),\n  (208, 11),\n  (208, 12),\n  (210, 1),\n  (211, 2),\n  (214, 9),\n  (215, 4),\n  (215, 10),\n  (216, 1),\n  (216, 9),\n  (217, 3),\n  (219, 11),\n  (220, 4),\n  (220, 12),\n  (221, 1),\n  (221, 6),\n  (221, 8),\n  (223, 5),\n  (224, 2),\n  (224, 3),\n  (224, 9),\n  (224, 10),\n  (225, 0),\n  (225, 3),\n  (225, 9),\n  (225, 10),\n  (226, 0),\n  (226, 2),\n  (227, 4)],\n [(0, 0),\n  (0, 5),\n  (0, 7),\n  (2, 11),\n  (3, 9),\n  (3, 12),\n  (4, 6),\n  (4, 9),\n  (5, 8),\n  (6, 0),\n  (7, 7),\n  (8, 5),\n  (8, 7),\n  (9, 0),\n  (9, 2),\n  (11, 12),\n  (12, 2),\n  (12, 3),\n  (12, 4),\n  (13, 8),\n  (15, 3),\n  (15, 5),\n  (15, 12),\n  (18, 3),\n  (20, 2),\n  (20, 10),\n  (21, 1),\n  (21, 7),\n  (23, 0),\n  (23, 8),\n  (23, 11),\n  (24, 6),\n  (24, 7),\n  (24, 11),\n  (27, 4),\n  (27, 6),\n  (27, 10),\n  (28, 0),\n  (28, 10),\n  (28, 11),\n  (29, 4),\n  (30, 12),\n  (31, 11),\n  (32, 7),\n  (34, 5),\n  (34, 9),\n  (37, 10),\n  (37, 12),\n  (38, 3),\n  (38, 6),\n  (38, 7),\n  (39, 10),\n  (40, 0),\n  (40, 1),\n  (41, 7),\n  (43, 5),\n  (43, 7),\n  (45, 1),\n  (45, 2),\n  (45, 12),\n  (46, 3),\n  (46, 5),\n  (47, 1),\n  (48, 0),\n  (49, 2),\n  (49, 8),\n  (50, 10),\n  (51, 2),\n  (51, 3),\n  (51, 7),\n  (52, 8),\n  (53, 4),\n  (55, 1),\n  (55, 8),\n  (56, 4),\n  (57, 0),\n  (58, 2),\n  (58, 7),\n  (59, 1),\n  (61, 0),\n  (61, 3),\n  (61, 6),\n  (62, 3),\n  (63, 7),\n  (64, 7),\n  (67, 2),\n  (69, 3),\n  (69, 4),\n  (69, 7),\n  (69, 10),\n  (70, 1),\n  (70, 5),\n  (71, 0),\n  (71, 3),\n  (71, 4),\n  (71, 8),\n  (72, 0),\n  (73, 7),\n  (73, 10),\n  (77, 5),\n  (78, 1),\n  (78, 9),\n  (78, 10),\n  (79, 9),\n  (79, 11),\n  (80, 2),\n  (82, 9),\n  (82, 10),\n  (86, 6),\n  (86, 8),\n  (86, 10),\n  (87, 0),\n  (87, 1),\n  (88, 4),\n  (88, 7),\n  (88, 8),\n  (89, 10),\n  (89, 11),\n  (89, 12),\n  (90, 4),\n  (90, 6),\n  (91, 10),\n  (93, 10),\n  (94, 12),\n  (96, 3),\n  (98, 2),\n  (98, 4),\n  (99, 3),\n  (100, 4),\n  (100, 7),\n  (100, 12),\n  (101, 7),\n  (102, 3),\n  (103, 5),\n  (104, 2),\n  (107, 12),\n  (108, 1),\n  (108, 6),\n  (108, 9),\n  (109, 3),\n  (109, 7),\n  (110, 0),\n  (110, 1),\n  (111, 11),\n  (112, 8),\n  (113, 0),\n  (113, 2),\n  (113, 9),\n  (114, 5),\n  (114, 9),\n  (115, 5),\n  (115, 11),\n  (116, 8),\n  (117, 10),\n  (117, 12),\n  (119, 6),\n  (119, 7),\n  (119, 11),\n  (120, 4),\n  (121, 2),\n  (122, 2),\n  (123, 7),\n  (124, 2),\n  (124, 10),\n  (125, 0),\n  (125, 7),\n  (126, 3),\n  (130, 12),\n  (131, 8),\n  (132, 0),\n  (132, 3),\n  (132, 7),\n  (133, 10),\n  (134, 2),\n  (135, 7),\n  (135, 12),\n  (138, 4),\n  (138, 9),\n  (140, 4),\n  (142, 7),\n  (143, 6),\n  (143, 8),\n  (144, 1),\n  (144, 3),\n  (145, 5),\n  (145, 8),\n  (146, 5),\n  (147, 0),\n  (147, 8),\n  (148, 4),\n  (148, 8),\n  (148, 12),\n  (149, 2),\n  (149, 5),\n  (150, 10),\n  (151, 1),\n  (152, 8),\n  (152, 9),\n  (152, 12),\n  (155, 6),\n  (156, 1),\n  (157, 3),\n  (158, 2),\n  (158, 10),\n  (159, 2),\n  (160, 1),\n  (160, 7),\n  (160, 8),\n  (161, 8),\n  (162, 4),\n  (162, 9),\n  (163, 8),\n  (164, 0),\n  (164, 2),\n  (164, 12),\n  (165, 2),\n  (165, 7),\n  (166, 3),\n  (166, 7),\n  (166, 10),\n  (168, 2),\n  (168, 3),\n  (169, 5),\n  (169, 6),\n  (170, 8),\n  (170, 9),\n  (171, 3),\n  (172, 0),\n  (172, 8),\n  (172, 11),\n  (173, 5),\n  (174, 1),\n  (175, 0),\n  (177, 1),\n  (177, 6),\n  (177, 8),\n  (179, 3),\n  (180, 1),\n  (181, 4),\n  (183, 0),\n  (183, 7),\n  (184, 4),\n  (184, 11),\n  (185, 0),\n  (185, 1),\n  (185, 9),\n  (186, 4),\n  (186, 10),\n  (190, 11),\n  (191, 4),\n  (191, 5),\n  (191, 12),\n  (192, 3),\n  (194, 4),\n  (194, 5),\n  (194, 7),\n  (195, 12),\n  (197, 1),\n  (198, 8),\n  (198, 10),\n  (199, 1),\n  (199, 6),\n  (199, 8),\n  (200, 5),\n  (200, 11),\n  (202, 5),\n  (202, 6),\n  (202, 7),\n  (203, 0),\n  (203, 6),\n  (205, 1),\n  (208, 3),\n  (208, 11),\n  (208, 12),\n  (210, 1),\n  (211, 2),\n  (214, 9),\n  (215, 4),\n  (215, 10),\n  (216, 1),\n  (216, 9),\n  (217, 3),\n  (219, 11),\n  (220, 4),\n  (220, 12),\n  (221, 1),\n  (221, 6),\n  (221, 8),\n  (223, 5),\n  (224, 2),\n  (224, 3),\n  (224, 9),\n  (224, 10),\n  (225, 0),\n  (225, 3),\n  (225, 9),\n  (225, 10),\n  (226, 0),\n  (226, 2),\n  (227, 4)],\n [(0, 0),\n  (0, 5),\n  (0, 7),\n  (2, 11),\n  (3, 9),\n  (3, 12),\n  (4, 6),\n  (4, 9),\n  (5, 8),\n  (6, 0),\n  (7, 7),\n  (8, 5),\n  (8, 7),\n  (9, 0),\n  (9, 2),\n  (11, 12),\n  (12, 2),\n  (12, 3),\n  (12, 4),\n  (13, 8),\n  (15, 3),\n  (15, 5),\n  (15, 12),\n  (18, 3),\n  (20, 2),\n  (20, 10),\n  (21, 1),\n  (21, 7),\n  (23, 0),\n  (23, 8),\n  (23, 11),\n  (24, 6),\n  (24, 7),\n  (24, 11),\n  (27, 4),\n  (27, 6),\n  (27, 10),\n  (28, 0),\n  (28, 10),\n  (28, 11),\n  (29, 4),\n  (30, 12),\n  (31, 11),\n  (32, 7),\n  (34, 5),\n  (34, 9),\n  (37, 10),\n  (37, 12),\n  (38, 3),\n  (38, 6),\n  (38, 7),\n  (39, 10),\n  (40, 0),\n  (40, 1),\n  (41, 7),\n  (43, 5),\n  (43, 7),\n  (45, 1),\n  (45, 2),\n  (45, 12),\n  (46, 3),\n  (46, 5),\n  (47, 1),\n  (48, 0),\n  (49, 2),\n  (49, 8),\n  (50, 10),\n  (51, 2),\n  (51, 3),\n  (51, 7),\n  (52, 8),\n  (53, 4),\n  (55, 1),\n  (55, 8),\n  (56, 4),\n  (57, 0),\n  (58, 2),\n  (58, 7),\n  (59, 1),\n  (61, 0),\n  (61, 3),\n  (61, 6),\n  (62, 3),\n  (63, 7),\n  (64, 7),\n  (67, 2),\n  (69, 3),\n  (69, 4),\n  (69, 7),\n  (69, 10),\n  (70, 1),\n  (70, 5),\n  (71, 0),\n  (71, 3),\n  (71, 4),\n  (71, 8),\n  (72, 0),\n  (73, 7),\n  (73, 10),\n  (77, 5),\n  (78, 1),\n  (78, 9),\n  (78, 10),\n  (79, 9),\n  (79, 11),\n  (80, 2),\n  (82, 9),\n  (82, 10),\n  (86, 6),\n  (86, 8),\n  (86, 10),\n  (87, 0),\n  (87, 1),\n  (88, 4),\n  (88, 7),\n  (88, 8),\n  (89, 10),\n  (89, 11),\n  (89, 12),\n  (90, 4),\n  (90, 6),\n  (91, 10),\n  (93, 10),\n  (94, 12),\n  (96, 3),\n  (98, 2),\n  (98, 4),\n  (99, 3),\n  (100, 4),\n  (100, 7),\n  (100, 12),\n  (101, 7),\n  (102, 3),\n  (103, 5),\n  (104, 2),\n  (107, 12),\n  (108, 1),\n  (108, 6),\n  (108, 9),\n  (109, 3),\n  (109, 7),\n  (110, 0),\n  (110, 1),\n  (111, 11),\n  (112, 8),\n  (113, 0),\n  (113, 2),\n  (113, 9),\n  (114, 5),\n  (114, 9),\n  (115, 5),\n  (115, 11),\n  (116, 8),\n  (117, 10),\n  (117, 12),\n  (119, 6),\n  (119, 7),\n  (119, 11),\n  (120, 4),\n  (121, 2),\n  (122, 2),\n  (123, 7),\n  (124, 2),\n  (124, 10),\n  (125, 0),\n  (125, 7),\n  (126, 3),\n  (130, 12),\n  (131, 8),\n  (132, 0),\n  (132, 3),\n  (132, 7),\n  (133, 10),\n  (134, 2),\n  (135, 7),\n  (135, 12),\n  (138, 4),\n  (138, 9),\n  (140, 4),\n  (142, 7),\n  (143, 6),\n  (143, 8),\n  (144, 1),\n  (144, 3),\n  (145, 5),\n  (145, 8),\n  (146, 5),\n  (147, 0),\n  (147, 8),\n  (148, 4),\n  (148, 8),\n  (148, 12),\n  (149, 2),\n  (149, 5),\n  (150, 10),\n  (151, 1),\n  (152, 8),\n  (152, 9),\n  (152, 12),\n  (155, 6),\n  (156, 1),\n  (157, 3),\n  (158, 2),\n  (158, 10),\n  (159, 2),\n  (160, 1),\n  (160, 7),\n  (160, 8),\n  (161, 8),\n  (162, 4),\n  (162, 9),\n  (163, 8),\n  (164, 0),\n  (164, 2),\n  (164, 12),\n  (165, 2),\n  (165, 7),\n  (166, 3),\n  (166, 7),\n  (166, 10),\n  (168, 2),\n  (168, 3),\n  (169, 5),\n  (169, 6),\n  (170, 8),\n  (170, 9),\n  (171, 3),\n  (172, 0),\n  (172, 8),\n  (172, 11),\n  (173, 5),\n  (174, 1),\n  (175, 0),\n  (177, 1),\n  (177, 6),\n  (177, 8),\n  (179, 3),\n  (180, 1),\n  (181, 4),\n  (183, 0),\n  (183, 7),\n  (184, 4),\n  (184, 11),\n  (185, 0),\n  (185, 1),\n  (185, 9),\n  (186, 4),\n  (186, 10),\n  (190, 11),\n  (191, 4),\n  (191, 5),\n  (191, 12),\n  (192, 3),\n  (194, 4),\n  (194, 5),\n  (194, 7),\n  (195, 12),\n  (197, 1),\n  (198, 8),\n  (198, 10),\n  (199, 1),\n  (199, 6),\n  (199, 8),\n  (200, 5),\n  (200, 11),\n  (202, 5),\n  (202, 6),\n  (202, 7),\n  (203, 0),\n  (203, 6),\n  (205, 1),\n  (208, 3),\n  (208, 11),\n  (208, 12),\n  (210, 1),\n  (211, 2),\n  (214, 9),\n  (215, 4),\n  (215, 10),\n  (216, 1),\n  (216, 9),\n  (217, 3),\n  (219, 11),\n  (220, 4),\n  (220, 12),\n  (221, 1),\n  (221, 6),\n  (221, 8),\n  (223, 5),\n  (224, 2),\n  (224, 3),\n  (224, 9),\n  (224, 10),\n  (225, 0),\n  (225, 3),\n  (225, 9),\n  (225, 10),\n  (226, 0),\n  (226, 2),\n  (227, 4)],\n [(0, 0),\n  (0, 5),\n  (0, 7),\n  (2, 11),\n  (3, 9),\n  (3, 12),\n  (4, 6),\n  (4, 9),\n  (5, 8),\n  (6, 0),\n  (7, 7),\n  (8, 5),\n  (8, 7),\n  (9, 0),\n  (9, 2),\n  (11, 12),\n  (12, 2),\n  (12, 3),\n  (12, 4),\n  (13, 8),\n  (15, 3),\n  (15, 5),\n  (15, 12),\n  (18, 3),\n  (20, 2),\n  (20, 10),\n  (21, 1),\n  (21, 7),\n  (23, 0),\n  (23, 8),\n  (23, 11),\n  (24, 6),\n  (24, 7),\n  (24, 11),\n  (27, 4),\n  (27, 6),\n  (27, 10),\n  (28, 0),\n  (28, 10),\n  (28, 11),\n  (29, 4),\n  (30, 12),\n  (31, 11),\n  (32, 7),\n  (34, 5),\n  (34, 9),\n  (37, 10),\n  (37, 12),\n  (38, 3),\n  (38, 6),\n  (38, 7),\n  (39, 10),\n  (40, 0),\n  (40, 1),\n  (41, 7),\n  (43, 5),\n  (43, 7),\n  (45, 1),\n  (45, 2),\n  (45, 12),\n  (46, 3),\n  (46, 5),\n  (47, 1),\n  (48, 0),\n  (49, 2),\n  (49, 8),\n  (50, 10),\n  (51, 2),\n  (51, 3),\n  (51, 7),\n  (52, 8),\n  (53, 4),\n  (55, 1),\n  (55, 8),\n  (56, 4),\n  (57, 0),\n  (58, 2),\n  (58, 7),\n  (59, 1),\n  (61, 0),\n  (61, 3),\n  (61, 6),\n  (62, 3),\n  (63, 7),\n  (64, 7),\n  (67, 2),\n  (69, 3),\n  (69, 4),\n  (69, 7),\n  (69, 10),\n  (70, 1),\n  (70, 5),\n  (71, 0),\n  (71, 3),\n  (71, 4),\n  (71, 8),\n  (72, 0),\n  (73, 7),\n  (73, 10),\n  (77, 5),\n  (78, 1),\n  (78, 9),\n  (78, 10),\n  (79, 9),\n  (79, 11),\n  (80, 2),\n  (82, 9),\n  (82, 10),\n  (86, 6),\n  (86, 8),\n  (86, 10),\n  (87, 0),\n  (87, 1),\n  (88, 4),\n  (88, 7),\n  (88, 8),\n  (89, 10),\n  (89, 11),\n  (89, 12),\n  (90, 4),\n  (90, 6),\n  (91, 10),\n  (93, 10),\n  (94, 12),\n  (96, 3),\n  (98, 2),\n  (98, 4),\n  (99, 3),\n  (100, 4),\n  (100, 7),\n  (100, 12),\n  (101, 7),\n  (102, 3),\n  (103, 5),\n  (104, 2),\n  (107, 12),\n  (108, 1),\n  (108, 6),\n  (108, 9),\n  (109, 3),\n  (109, 7),\n  (110, 0),\n  (110, 1),\n  (111, 11),\n  (112, 8),\n  (113, 0),\n  (113, 2),\n  (113, 9),\n  (114, 5),\n  (114, 9),\n  (115, 5),\n  (115, 11),\n  (116, 8),\n  (117, 10),\n  (117, 12),\n  (119, 6),\n  (119, 7),\n  (119, 11),\n  (120, 4),\n  (121, 2),\n  (122, 2),\n  (123, 7),\n  (124, 2),\n  (124, 10),\n  (125, 0),\n  (125, 7),\n  (126, 3),\n  (130, 12),\n  (131, 8),\n  (132, 0),\n  (132, 3),\n  (132, 7),\n  (133, 10),\n  (134, 2),\n  (135, 7),\n  (135, 12),\n  (138, 4),\n  (138, 9),\n  (140, 4),\n  (142, 7),\n  (143, 6),\n  (143, 8),\n  (144, 1),\n  (144, 3),\n  (145, 5),\n  (145, 8),\n  (146, 5),\n  (147, 0),\n  (147, 8),\n  (148, 4),\n  (148, 8),\n  (148, 12),\n  (149, 2),\n  (149, 5),\n  (150, 10),\n  (151, 1),\n  (152, 8),\n  (152, 9),\n  (152, 12),\n  (155, 6),\n  (156, 1),\n  (157, 3),\n  (158, 2),\n  (158, 10),\n  (159, 2),\n  (160, 1),\n  (160, 7),\n  (160, 8),\n  (161, 8),\n  (162, 4),\n  (162, 9),\n  (163, 8),\n  (164, 0),\n  (164, 2),\n  (164, 12),\n  (165, 2),\n  (165, 7),\n  (166, 3),\n  (166, 7),\n  (166, 10),\n  (168, 2),\n  (168, 3),\n  (169, 5),\n  (169, 6),\n  (170, 8),\n  (170, 9),\n  (171, 3),\n  (172, 0),\n  (172, 8),\n  (172, 11),\n  (173, 5),\n  (174, 1),\n  (175, 0),\n  (177, 1),\n  (177, 6),\n  (177, 8),\n  (179, 3),\n  (180, 1),\n  (181, 4),\n  (183, 0),\n  (183, 7),\n  (184, 4),\n  (184, 11),\n  (185, 0),\n  (185, 1),\n  (185, 9),\n  (186, 4),\n  (186, 10),\n  (190, 11),\n  (191, 4),\n  (191, 5),\n  (191, 12),\n  (192, 3),\n  (194, 4),\n  (194, 5),\n  (194, 7),\n  (195, 12),\n  (197, 1),\n  (198, 8),\n  (198, 10),\n  (199, 1),\n  (199, 6),\n  (199, 8),\n  (200, 5),\n  (200, 11),\n  (202, 5),\n  (202, 6),\n  (202, 7),\n  (203, 0),\n  (203, 6),\n  (205, 1),\n  (208, 3),\n  (208, 11),\n  (208, 12),\n  (210, 1),\n  (211, 2),\n  (214, 9),\n  (215, 4),\n  (215, 10),\n  (216, 1),\n  (216, 9),\n  (217, 3),\n  (219, 11),\n  (220, 4),\n  (220, 12),\n  (221, 1),\n  (221, 6),\n  (221, 8),\n  (223, 5),\n  (224, 2),\n  (224, 3),\n  (224, 9),\n  (224, 10),\n  (225, 0),\n  (225, 3),\n  (225, 9),\n  (225, 10),\n  (226, 0),\n  (226, 2),\n  (227, 4)],\n [(0, 0),\n  (0, 5),\n  (0, 7),\n  (2, 11),\n  (3, 9),\n  (3, 12),\n  (4, 6),\n  (4, 9),\n  (5, 8),\n  (6, 0),\n  (7, 7),\n  (8, 5),\n  (8, 7),\n  (9, 0),\n  (9, 2),\n  (11, 12),\n  (12, 2),\n  (12, 3),\n  (12, 4),\n  (13, 8),\n  (15, 3),\n  (15, 5),\n  (15, 12),\n  (18, 3),\n  (20, 2),\n  (20, 10),\n  (21, 1),\n  (21, 7),\n  (23, 0),\n  (23, 8),\n  (23, 11),\n  (24, 6),\n  (24, 7),\n  (24, 11),\n  (27, 4),\n  (27, 6),\n  (27, 10),\n  (28, 0),\n  (28, 10),\n  (28, 11),\n  (29, 4),\n  (30, 12),\n  (31, 11),\n  (32, 7),\n  (34, 5),\n  (34, 9),\n  (37, 10),\n  (37, 12),\n  (38, 3),\n  (38, 6),\n  (38, 7),\n  (39, 10),\n  (40, 0),\n  (40, 1),\n  (41, 7),\n  (43, 5),\n  (43, 7),\n  (45, 1),\n  (45, 2),\n  (45, 12),\n  (46, 3),\n  (46, 5),\n  (47, 1),\n  (48, 0),\n  (49, 2),\n  (49, 8),\n  (50, 10),\n  (51, 2),\n  (51, 3),\n  (51, 7),\n  (52, 8),\n  (53, 4),\n  (55, 1),\n  (55, 8),\n  (56, 4),\n  (57, 0),\n  (58, 2),\n  (58, 7),\n  (59, 1),\n  (61, 0),\n  (61, 3),\n  (61, 6),\n  (62, 3),\n  (63, 7),\n  (64, 7),\n  (67, 2),\n  (69, 3),\n  (69, 4),\n  (69, 7),\n  (69, 10),\n  (70, 1),\n  (70, 5),\n  (71, 0),\n  (71, 3),\n  (71, 4),\n  (71, 8),\n  (72, 0),\n  (73, 7),\n  (73, 10),\n  (77, 5),\n  (78, 1),\n  (78, 9),\n  (78, 10),\n  (79, 9),\n  (79, 11),\n  (80, 2),\n  (82, 9),\n  (82, 10),\n  (86, 6),\n  (86, 8),\n  (86, 10),\n  (87, 0),\n  (87, 1),\n  (88, 4),\n  (88, 7),\n  (88, 8),\n  (89, 10),\n  (89, 11),\n  (89, 12),\n  (90, 4),\n  (90, 6),\n  (91, 10),\n  (93, 10),\n  (94, 12),\n  (96, 3),\n  (98, 2),\n  (98, 4),\n  (99, 3),\n  (100, 4),\n  (100, 7),\n  (100, 12),\n  (101, 7),\n  (102, 3),\n  (103, 5),\n  (104, 2),\n  (107, 12),\n  (108, 1),\n  (108, 6),\n  (108, 9),\n  (109, 3),\n  (109, 7),\n  (110, 0),\n  (110, 1),\n  (111, 11),\n  (112, 8),\n  (113, 0),\n  (113, 2),\n  (113, 9),\n  (114, 5),\n  (114, 9),\n  (115, 5),\n  (115, 11),\n  (116, 8),\n  (117, 10),\n  (117, 12),\n  (119, 6),\n  (119, 7),\n  (119, 11),\n  (120, 4),\n  (121, 2),\n  (122, 2),\n  (123, 7),\n  (124, 2),\n  (124, 10),\n  (125, 0),\n  (125, 7),\n  (126, 3),\n  (130, 12),\n  (131, 8),\n  (132, 0),\n  (132, 3),\n  (132, 7),\n  (133, 10),\n  (134, 2),\n  (135, 7),\n  (135, 12),\n  (138, 4),\n  (138, 9),\n  (140, 4),\n  (142, 7),\n  (143, 6),\n  (143, 8),\n  (144, 1),\n  (144, 3),\n  (145, 5),\n  (145, 8),\n  (146, 5),\n  (147, 0),\n  (147, 8),\n  (148, 4),\n  (148, 8),\n  (148, 12),\n  (149, 2),\n  (149, 5),\n  (150, 10),\n  (151, 1),\n  (152, 8),\n  (152, 9),\n  (152, 12),\n  (155, 6),\n  (156, 1),\n  (157, 3),\n  (158, 2),\n  (158, 10),\n  (159, 2),\n  (160, 1),\n  (160, 7),\n  (160, 8),\n  (161, 8),\n  (162, 4),\n  (162, 9),\n  (163, 8),\n  (164, 0),\n  (164, 2),\n  (164, 12),\n  (165, 2),\n  (165, 7),\n  (166, 3),\n  (166, 7),\n  (166, 10),\n  (168, 2),\n  (168, 3),\n  (169, 5),\n  (169, 6),\n  (170, 8),\n  (170, 9),\n  (171, 3),\n  (172, 0),\n  (172, 8),\n  (172, 11),\n  (173, 5),\n  (174, 1),\n  (175, 0),\n  (177, 1),\n  (177, 6),\n  (177, 8),\n  (179, 3),\n  (180, 1),\n  (181, 4),\n  (183, 0),\n  (183, 7),\n  (184, 4),\n  (184, 11),\n  (185, 0),\n  (185, 1),\n  (185, 9),\n  (186, 4),\n  (186, 10),\n  (190, 11),\n  (191, 4),\n  (191, 5),\n  (191, 12),\n  (192, 3),\n  (194, 4),\n  (194, 5),\n  (194, 7),\n  (195, 12),\n  (197, 1),\n  (198, 8),\n  (198, 10),\n  (199, 1),\n  (199, 6),\n  (199, 8),\n  (200, 5),\n  (200, 11),\n  (202, 5),\n  (202, 6),\n  (202, 7),\n  (203, 0),\n  (203, 6),\n  (205, 1),\n  (208, 3),\n  (208, 11),\n  (208, 12),\n  (210, 1),\n  (211, 2),\n  (214, 9),\n  (215, 4),\n  (215, 10),\n  (216, 1),\n  (216, 9),\n  (217, 3),\n  (219, 11),\n  (220, 4),\n  (220, 12),\n  (221, 1),\n  (221, 6),\n  (221, 8),\n  (223, 5),\n  (224, 2),\n  (224, 3),\n  (224, 9),\n  (224, 10),\n  (225, 0),\n  (225, 3),\n  (225, 9),\n  (225, 10),\n  (226, 0),\n  (226, 2),\n  (227, 4)],\n [(0, 0),\n  (0, 5),\n  (0, 7),\n  (2, 11),\n  (3, 9),\n  (3, 12),\n  (4, 6),\n  (4, 9),\n  (5, 8),\n  (6, 0),\n  (7, 7),\n  (8, 5),\n  (8, 7),\n  (9, 0),\n  (9, 2),\n  (11, 12),\n  (12, 2),\n  (12, 3),\n  (12, 4),\n  (13, 8),\n  (15, 3),\n  (15, 5),\n  (15, 12),\n  (18, 3),\n  (20, 2),\n  (20, 10),\n  (21, 1),\n  (21, 7),\n  (23, 0),\n  (23, 8),\n  (23, 11),\n  (24, 6),\n  (24, 7),\n  (24, 11),\n  (27, 4),\n  (27, 6),\n  (27, 10),\n  (28, 0),\n  (28, 10),\n  (28, 11),\n  (29, 4),\n  (30, 12),\n  (31, 11),\n  (32, 7),\n  (34, 5),\n  (34, 9),\n  (37, 10),\n  (37, 12),\n  (38, 3),\n  (38, 6),\n  (38, 7),\n  (39, 10),\n  (40, 0),\n  (40, 1),\n  (41, 7),\n  (43, 5),\n  (43, 7),\n  (45, 1),\n  (45, 2),\n  (45, 12),\n  (46, 3),\n  (46, 5),\n  (47, 1),\n  (48, 0),\n  (49, 2),\n  (49, 8),\n  (50, 10),\n  (51, 2),\n  (51, 3),\n  (51, 7),\n  (52, 8),\n  (53, 4),\n  (55, 1),\n  (55, 8),\n  (56, 4),\n  (57, 0),\n  (58, 2),\n  (58, 7),\n  (59, 1),\n  (61, 0),\n  (61, 3),\n  (61, 6),\n  (62, 3),\n  (63, 7),\n  (64, 7),\n  (67, 2),\n  (69, 3),\n  (69, 4),\n  (69, 7),\n  (69, 10),\n  (70, 1),\n  (70, 5),\n  (71, 0),\n  (71, 3),\n  (71, 4),\n  (71, 8),\n  (72, 0),\n  (73, 7),\n  (73, 10),\n  (77, 5),\n  (78, 1),\n  (78, 9),\n  (78, 10),\n  (79, 9),\n  (79, 11),\n  (80, 2),\n  (82, 9),\n  (82, 10),\n  (86, 6),\n  (86, 8),\n  (86, 10),\n  (87, 0),\n  (87, 1),\n  (88, 4),\n  (88, 7),\n  (88, 8),\n  (89, 10),\n  (89, 11),\n  (89, 12),\n  (90, 4),\n  (90, 6),\n  (91, 10),\n  (93, 10),\n  (94, 12),\n  (96, 3),\n  (98, 2),\n  (98, 4),\n  (99, 3),\n  (100, 4),\n  (100, 7),\n  (100, 12),\n  (101, 7),\n  (102, 3),\n  (103, 5),\n  (104, 2),\n  (107, 12),\n  (108, 1),\n  (108, 6),\n  (108, 9),\n  (109, 3),\n  (109, 7),\n  (110, 0),\n  (110, 1),\n  (111, 11),\n  (112, 8),\n  (113, 0),\n  (113, 2),\n  (113, 9),\n  (114, 5),\n  (114, 9),\n  (115, 5),\n  (115, 11),\n  (116, 8),\n  (117, 10),\n  (117, 12),\n  (119, 6),\n  (119, 7),\n  (119, 11),\n  (120, 4),\n  (121, 2),\n  (122, 2),\n  (123, 7),\n  (124, 2),\n  (124, 10),\n  (125, 0),\n  (125, 7),\n  (126, 3),\n  (130, 12),\n  (131, 8),\n  (132, 0),\n  (132, 3),\n  (132, 7),\n  (133, 10),\n  (134, 2),\n  (135, 7),\n  (135, 12),\n  (138, 4),\n  (138, 9),\n  (140, 4),\n  (142, 7),\n  (143, 6),\n  (143, 8),\n  (144, 1),\n  (144, 3),\n  (145, 5),\n  (145, 8),\n  (146, 5),\n  (147, 0),\n  (147, 8),\n  (148, 4),\n  (148, 8),\n  (148, 12),\n  (149, 2),\n  (149, 5),\n  (150, 10),\n  (151, 1),\n  (152, 8),\n  (152, 9),\n  (152, 12),\n  (155, 6),\n  (156, 1),\n  (157, 3),\n  (158, 2),\n  (158, 10),\n  (159, 2),\n  (160, 1),\n  (160, 7),\n  (160, 8),\n  (161, 8),\n  (162, 4),\n  (162, 9),\n  (163, 8),\n  (164, 0),\n  (164, 2),\n  (164, 12),\n  (165, 2),\n  (165, 7),\n  (166, 3),\n  (166, 7),\n  (166, 10),\n  (168, 2),\n  (168, 3),\n  (169, 5),\n  (169, 6),\n  (170, 8),\n  (170, 9),\n  (171, 3),\n  (172, 0),\n  (172, 8),\n  (172, 11),\n  (173, 5),\n  (174, 1),\n  (175, 0),\n  (177, 1),\n  (177, 6),\n  (177, 8),\n  (179, 3),\n  (180, 1),\n  (181, 4),\n  (183, 0),\n  (183, 7),\n  (184, 4),\n  (184, 11),\n  (185, 0),\n  (185, 1),\n  (185, 9),\n  (186, 4),\n  (186, 10),\n  (190, 11),\n  (191, 4),\n  (191, 5),\n  (191, 12),\n  (192, 3),\n  (194, 4),\n  (194, 5),\n  (194, 7),\n  (195, 12),\n  (197, 1),\n  (198, 8),\n  (198, 10),\n  (199, 1),\n  (199, 6),\n  (199, 8),\n  (200, 5),\n  (200, 11),\n  (202, 5),\n  (202, 6),\n  (202, 7),\n  (203, 0),\n  (203, 6),\n  (205, 1),\n  (208, 3),\n  (208, 11),\n  (208, 12),\n  (210, 1),\n  (211, 2),\n  (214, 9),\n  (215, 4),\n  (215, 10),\n  (216, 1),\n  (216, 9),\n  (217, 3),\n  (219, 11),\n  (220, 4),\n  (220, 12),\n  (221, 1),\n  (221, 6),\n  (221, 8),\n  (223, 5),\n  (224, 2),\n  (224, 3),\n  (224, 9),\n  (224, 10),\n  (225, 0),\n  (225, 3),\n  (225, 9),\n  (225, 10),\n  (226, 0),\n  (226, 2),\n  (227, 4)],\n [(0, 0),\n  (0, 5),\n  (0, 7),\n  (2, 11),\n  (3, 9),\n  (3, 12),\n  (4, 6),\n  (4, 9),\n  (5, 8),\n  (6, 0),\n  (7, 7),\n  (8, 5),\n  (8, 7),\n  (9, 0),\n  (9, 2),\n  (11, 12),\n  (12, 2),\n  (12, 3),\n  (12, 4),\n  (13, 8),\n  (15, 3),\n  (15, 5),\n  (15, 12),\n  (18, 3),\n  (20, 2),\n  (20, 10),\n  (21, 1),\n  (21, 7),\n  (23, 0),\n  (23, 8),\n  (23, 11),\n  (24, 6),\n  (24, 7),\n  (24, 11),\n  (27, 4),\n  (27, 6),\n  (27, 10),\n  (28, 0),\n  (28, 10),\n  (28, 11),\n  (29, 4),\n  (30, 12),\n  (31, 11),\n  (32, 7),\n  (34, 5),\n  (34, 9),\n  (37, 10),\n  (37, 12),\n  (38, 3),\n  (38, 6),\n  (38, 7),\n  (39, 10),\n  (40, 0),\n  (40, 1),\n  (41, 7),\n  (43, 5),\n  (43, 7),\n  (45, 1),\n  (45, 2),\n  (45, 12),\n  (46, 3),\n  (46, 5),\n  (47, 1),\n  (48, 0),\n  (49, 2),\n  (49, 8),\n  (50, 10),\n  (51, 2),\n  (51, 3),\n  (51, 7),\n  (52, 8),\n  (53, 4),\n  (55, 1),\n  (55, 8),\n  (56, 4),\n  (57, 0),\n  (58, 2),\n  (58, 7),\n  (59, 1),\n  (61, 0),\n  (61, 3),\n  (61, 6),\n  (62, 3),\n  (63, 7),\n  (64, 7),\n  (67, 2),\n  (69, 3),\n  (69, 4),\n  (69, 7),\n  (69, 10),\n  (70, 1),\n  (70, 5),\n  (71, 0),\n  (71, 3),\n  (71, 4),\n  (71, 8),\n  (72, 0),\n  (73, 7),\n  (73, 10),\n  (77, 5),\n  (78, 1),\n  (78, 9),\n  (78, 10),\n  (79, 9),\n  (79, 11),\n  (80, 2),\n  (82, 9),\n  (82, 10),\n  (86, 6),\n  (86, 8),\n  (86, 10),\n  (87, 0),\n  (87, 1),\n  (88, 4),\n  (88, 7),\n  (88, 8),\n  (89, 10),\n  (89, 11),\n  (89, 12),\n  (90, 4),\n  (90, 6),\n  (91, 10),\n  (93, 10),\n  (94, 12),\n  (96, 3),\n  (98, 2),\n  (98, 4),\n  (99, 3),\n  (100, 4),\n  (100, 7),\n  (100, 12),\n  (101, 7),\n  (102, 3),\n  (103, 5),\n  (104, 2),\n  (107, 12),\n  (108, 1),\n  (108, 6),\n  (108, 9),\n  (109, 3),\n  (109, 7),\n  (110, 0),\n  (110, 1),\n  (111, 11),\n  (112, 8),\n  (113, 0),\n  (113, 2),\n  (113, 9),\n  (114, 5),\n  (114, 9),\n  (115, 5),\n  (115, 11),\n  (116, 8),\n  (117, 10),\n  (117, 12),\n  (119, 6),\n  (119, 7),\n  (119, 11),\n  (120, 4),\n  (121, 2),\n  (122, 2),\n  (123, 7),\n  (124, 2),\n  (124, 10),\n  (125, 0),\n  (125, 7),\n  (126, 3),\n  (130, 12),\n  (131, 8),\n  (132, 0),\n  (132, 3),\n  (132, 7),\n  (133, 10),\n  (134, 2),\n  (135, 7),\n  (135, 12),\n  (138, 4),\n  (138, 9),\n  (140, 4),\n  (142, 7),\n  (143, 6),\n  (143, 8),\n  (144, 1),\n  (144, 3),\n  (145, 5),\n  (145, 8),\n  (146, 5),\n  (147, 0),\n  (147, 8),\n  (148, 4),\n  (148, 8),\n  (148, 12),\n  (149, 2),\n  (149, 5),\n  (150, 10),\n  (151, 1),\n  (152, 8),\n  (152, 9),\n  (152, 12),\n  (155, 6),\n  (156, 1),\n  (157, 3),\n  (158, 2),\n  (158, 10),\n  (159, 2),\n  (160, 1),\n  (160, 7),\n  (160, 8),\n  (161, 8),\n  (162, 4),\n  (162, 9),\n  (163, 8),\n  (164, 0),\n  (164, 2),\n  (164, 12),\n  (165, 2),\n  (165, 7),\n  (166, 3),\n  (166, 7),\n  (166, 10),\n  (168, 2),\n  (168, 3),\n  (169, 5),\n  (169, 6),\n  (170, 8),\n  (170, 9),\n  (171, 3),\n  (172, 0),\n  (172, 8),\n  (172, 11),\n  (173, 5),\n  (174, 1),\n  (175, 0),\n  (177, 1),\n  (177, 6),\n  (177, 8),\n  (179, 3),\n  (180, 1),\n  (181, 4),\n  (183, 0),\n  (183, 7),\n  (184, 4),\n  (184, 11),\n  (185, 0),\n  (185, 1),\n  (185, 9),\n  (186, 4),\n  (186, 10),\n  (190, 11),\n  (191, 4),\n  (191, 5),\n  (191, 12),\n  (192, 3),\n  (194, 4),\n  (194, 5),\n  (194, 7),\n  (195, 12),\n  (197, 1),\n  (198, 8),\n  (198, 10),\n  (199, 1),\n  (199, 6),\n  (199, 8),\n  (200, 5),\n  (200, 11),\n  (202, 5),\n  (202, 6),\n  (202, 7),\n  (203, 0),\n  (203, 6),\n  (205, 1),\n  (208, 3),\n  (208, 11),\n  (208, 12),\n  (210, 1),\n  (211, 2),\n  (214, 9),\n  (215, 4),\n  (215, 10),\n  (216, 1),\n  (216, 9),\n  (217, 3),\n  (219, 11),\n  (220, 4),\n  (220, 12),\n  (221, 1),\n  (221, 6),\n  (221, 8),\n  (223, 5),\n  (224, 2),\n  (224, 3),\n  (224, 9),\n  (224, 10),\n  (225, 0),\n  (225, 3),\n  (225, 9),\n  (225, 10),\n  (226, 0),\n  (226, 2),\n  (227, 4)],\n [(0, 0),\n  (0, 5),\n  (0, 7),\n  (2, 11),\n  (3, 9),\n  (3, 12),\n  (4, 6),\n  (4, 9),\n  (5, 8),\n  (6, 0),\n  (7, 7),\n  (8, 5),\n  (8, 7),\n  (9, 0),\n  (9, 2),\n  (11, 12),\n  (12, 2),\n  (12, 3),\n  (12, 4),\n  (13, 8),\n  (15, 3),\n  (15, 5),\n  (15, 12),\n  (18, 3),\n  (20, 2),\n  (20, 10),\n  (21, 1),\n  (21, 7),\n  (23, 0),\n  (23, 8),\n  (23, 11),\n  (24, 6),\n  (24, 7),\n  (24, 11),\n  (27, 4),\n  (27, 6),\n  (27, 10),\n  (28, 0),\n  (28, 10),\n  (28, 11),\n  (29, 4),\n  (30, 12),\n  (31, 11),\n  (32, 7),\n  (34, 5),\n  (34, 9),\n  (37, 10),\n  (37, 12),\n  (38, 3),\n  (38, 6),\n  (38, 7),\n  (39, 10),\n  (40, 0),\n  (40, 1),\n  (41, 7),\n  (43, 5),\n  (43, 7),\n  (45, 1),\n  (45, 2),\n  (45, 12),\n  (46, 3),\n  (46, 5),\n  (47, 1),\n  (48, 0),\n  (49, 2),\n  (49, 8),\n  (50, 10),\n  (51, 2),\n  (51, 3),\n  (51, 7),\n  (52, 8),\n  (53, 4),\n  (55, 1),\n  (55, 8),\n  (56, 4),\n  (57, 0),\n  (58, 2),\n  (58, 7),\n  (59, 1),\n  (61, 0),\n  (61, 3),\n  (61, 6),\n  (62, 3),\n  (63, 7),\n  (64, 7),\n  (67, 2),\n  (69, 3),\n  (69, 4),\n  (69, 7),\n  (69, 10),\n  (70, 1),\n  (70, 5),\n  (71, 0),\n  (71, 3),\n  (71, 4),\n  (71, 8),\n  (72, 0),\n  (73, 7),\n  (73, 10),\n  (77, 5),\n  (78, 1),\n  (78, 9),\n  (78, 10),\n  (79, 9),\n  (79, 11),\n  (80, 2),\n  (82, 9),\n  (82, 10),\n  (86, 6),\n  (86, 8),\n  (86, 10),\n  (87, 0),\n  (87, 1),\n  (88, 4),\n  (88, 7),\n  (88, 8),\n  (89, 10),\n  (89, 11),\n  (89, 12),\n  (90, 4),\n  (90, 6),\n  (91, 10),\n  (93, 10),\n  (94, 12),\n  (96, 3),\n  (98, 2),\n  (98, 4),\n  (99, 3),\n  (100, 4),\n  (100, 7),\n  (100, 12),\n  (101, 7),\n  (102, 3),\n  (103, 5),\n  (104, 2),\n  (107, 12),\n  (108, 1),\n  (108, 6),\n  (108, 9),\n  (109, 3),\n  (109, 7),\n  (110, 0),\n  (110, 1),\n  (111, 11),\n  (112, 8),\n  (113, 0),\n  (113, 2),\n  (113, 9),\n  (114, 5),\n  (114, 9),\n  (115, 5),\n  (115, 11),\n  (116, 8),\n  (117, 10),\n  (117, 12),\n  (119, 6),\n  (119, 7),\n  (119, 11),\n  (120, 4),\n  (121, 2),\n  (122, 2),\n  (123, 7),\n  (124, 2),\n  (124, 10),\n  (125, 0),\n  (125, 7),\n  (126, 3),\n  (130, 12),\n  (131, 8),\n  (132, 0),\n  (132, 3),\n  (132, 7),\n  (133, 10),\n  (134, 2),\n  (135, 7),\n  (135, 12),\n  (138, 4),\n  (138, 9),\n  (140, 4),\n  (142, 7),\n  (143, 6),\n  (143, 8),\n  (144, 1),\n  (144, 3),\n  (145, 5),\n  (145, 8),\n  (146, 5),\n  (147, 0),\n  (147, 8),\n  (148, 4),\n  (148, 8),\n  (148, 12),\n  (149, 2),\n  (149, 5),\n  (150, 10),\n  (151, 1),\n  (152, 8),\n  (152, 9),\n  (152, 12),\n  (155, 6),\n  (156, 1),\n  (157, 3),\n  (158, 2),\n  (158, 10),\n  (159, 2),\n  (160, 1),\n  (160, 7),\n  (160, 8),\n  (161, 8),\n  (162, 4),\n  (162, 9),\n  (163, 8),\n  (164, 0),\n  (164, 2),\n  (164, 12),\n  (165, 2),\n  (165, 7),\n  (166, 3),\n  (166, 7),\n  (166, 10),\n  (168, 2),\n  (168, 3),\n  (169, 5),\n  (169, 6),\n  (170, 8),\n  (170, 9),\n  (171, 3),\n  (172, 0),\n  (172, 8),\n  (172, 11),\n  (173, 5),\n  (174, 1),\n  (175, 0),\n  (177, 1),\n  (177, 6),\n  (177, 8),\n  (179, 3),\n  (180, 1),\n  (181, 4),\n  (183, 0),\n  (183, 7),\n  (184, 4),\n  (184, 11),\n  (185, 0),\n  (185, 1),\n  (185, 9),\n  (186, 4),\n  (186, 10),\n  (190, 11),\n  (191, 4),\n  (191, 5),\n  (191, 12),\n  (192, 3),\n  (194, 4),\n  (194, 5),\n  (194, 7),\n  (195, 12),\n  (197, 1),\n  (198, 8),\n  (198, 10),\n  (199, 1),\n  (199, 6),\n  (199, 8),\n  (200, 5),\n  (200, 11),\n  (202, 5),\n  (202, 6),\n  (202, 7),\n  (203, 0),\n  (203, 6),\n  (205, 1),\n  (208, 3),\n  (208, 11),\n  (208, 12),\n  (210, 1),\n  (211, 2),\n  (214, 9),\n  (215, 4),\n  (215, 10),\n  (216, 1),\n  (216, 9),\n  (217, 3),\n  (219, 11),\n  (220, 4),\n  (220, 12),\n  (221, 1),\n  (221, 6),\n  (221, 8),\n  (223, 5),\n  (224, 2),\n  (224, 3),\n  (224, 9),\n  (224, 10),\n  (225, 0),\n  (225, 3),\n  (225, 9),\n  (225, 10),\n  (226, 0),\n  (226, 2),\n  (227, 4)],\n [(0, 0),\n  (0, 5),\n  (0, 7),\n  (2, 11),\n  (3, 9),\n  (3, 12),\n  (4, 6),\n  (4, 9),\n  (5, 8),\n  (6, 0),\n  (7, 7),\n  (8, 5),\n  (8, 7),\n  (9, 0),\n  (9, 2),\n  (11, 12),\n  (12, 2),\n  (12, 3),\n  (12, 4),\n  (13, 8),\n  (15, 3),\n  (15, 5),\n  (15, 12),\n  (18, 3),\n  (20, 2),\n  (20, 10),\n  (21, 1),\n  (21, 7),\n  (23, 0),\n  (23, 8),\n  (23, 11),\n  (24, 6),\n  (24, 7),\n  (24, 11),\n  (27, 4),\n  (27, 6),\n  (27, 10),\n  (28, 0),\n  (28, 10),\n  (28, 11),\n  (29, 4),\n  (30, 12),\n  (31, 11),\n  (32, 7),\n  (34, 5),\n  (34, 9),\n  (37, 10),\n  (37, 12),\n  (38, 3),\n  (38, 6),\n  (38, 7),\n  (39, 10),\n  (40, 0),\n  (40, 1),\n  (41, 7),\n  (43, 5),\n  (43, 7),\n  (45, 1),\n  (45, 2),\n  (45, 12),\n  (46, 3),\n  (46, 5),\n  (47, 1),\n  (48, 0),\n  (49, 2),\n  (49, 8),\n  (50, 10),\n  (51, 2),\n  (51, 3),\n  (51, 7),\n  (52, 8),\n  (53, 4),\n  (55, 1),\n  (55, 8),\n  (56, 4),\n  (57, 0),\n  (58, 2),\n  (58, 7),\n  (59, 1),\n  (61, 0),\n  (61, 3),\n  (61, 6),\n  (62, 3),\n  (63, 7),\n  (64, 7),\n  (67, 2),\n  (69, 3),\n  (69, 4),\n  (69, 7),\n  (69, 10),\n  (70, 1),\n  (70, 5),\n  (71, 0),\n  (71, 3),\n  (71, 4),\n  (71, 8),\n  (72, 0),\n  (73, 7),\n  (73, 10),\n  (77, 5),\n  (78, 1),\n  (78, 9),\n  (78, 10),\n  (79, 9),\n  (79, 11),\n  (80, 2),\n  (82, 9),\n  (82, 10),\n  (86, 6),\n  (86, 8),\n  (86, 10),\n  (87, 0),\n  (87, 1),\n  (88, 4),\n  (88, 7),\n  (88, 8),\n  (89, 10),\n  (89, 11),\n  (89, 12),\n  (90, 4),\n  (90, 6),\n  (91, 10),\n  (93, 10),\n  (94, 12),\n  (96, 3),\n  (98, 2),\n  (98, 4),\n  (99, 3),\n  (100, 4),\n  (100, 7),\n  (100, 12),\n  (101, 7),\n  (102, 3),\n  (103, 5),\n  (104, 2),\n  (107, 12),\n  (108, 1),\n  (108, 6),\n  (108, 9),\n  (109, 3),\n  (109, 7),\n  (110, 0),\n  (110, 1),\n  (111, 11),\n  (112, 8),\n  (113, 0),\n  (113, 2),\n  (113, 9),\n  (114, 5),\n  (114, 9),\n  (115, 5),\n  (115, 11),\n  (116, 8),\n  (117, 10),\n  (117, 12),\n  (119, 6),\n  (119, 7),\n  (119, 11),\n  (120, 4),\n  (121, 2),\n  (122, 2),\n  (123, 7),\n  (124, 2),\n  (124, 10),\n  (125, 0),\n  (125, 7),\n  (126, 3),\n  (130, 12),\n  (131, 8),\n  (132, 0),\n  (132, 3),\n  (132, 7),\n  (133, 10),\n  (134, 2),\n  (135, 7),\n  (135, 12),\n  (138, 4),\n  (138, 9),\n  (140, 4),\n  (142, 7),\n  (143, 6),\n  (143, 8),\n  (144, 1),\n  (144, 3),\n  (145, 5),\n  (145, 8),\n  (146, 5),\n  (147, 0),\n  (147, 8),\n  (148, 4),\n  (148, 8),\n  (148, 12),\n  (149, 2),\n  (149, 5),\n  (150, 10),\n  (151, 1),\n  (152, 8),\n  (152, 9),\n  (152, 12),\n  (155, 6),\n  (156, 1),\n  (157, 3),\n  (158, 2),\n  (158, 10),\n  (159, 2),\n  (160, 1),\n  (160, 7),\n  (160, 8),\n  (161, 8),\n  (162, 4),\n  (162, 9),\n  (163, 8),\n  (164, 0),\n  (164, 2),\n  (164, 12),\n  (165, 2),\n  (165, 7),\n  (166, 3),\n  (166, 7),\n  (166, 10),\n  (168, 2),\n  (168, 3),\n  (169, 5),\n  (169, 6),\n  (170, 8),\n  (170, 9),\n  (171, 3),\n  (172, 0),\n  (172, 8),\n  (172, 11),\n  (173, 5),\n  (174, 1),\n  (175, 0),\n  (177, 1),\n  (177, 6),\n  (177, 8),\n  (179, 3),\n  (180, 1),\n  (181, 4),\n  (183, 0),\n  (183, 7),\n  (184, 4),\n  (184, 11),\n  (185, 0),\n  (185, 1),\n  (185, 9),\n  (186, 4),\n  (186, 10),\n  (190, 11),\n  (191, 4),\n  (191, 5),\n  (191, 12),\n  (192, 3),\n  (194, 4),\n  (194, 5),\n  (194, 7),\n  (195, 12),\n  (197, 1),\n  (198, 8),\n  (198, 10),\n  (199, 1),\n  (199, 6),\n  (199, 8),\n  (200, 5),\n  (200, 11),\n  (202, 5),\n  (202, 6),\n  (202, 7),\n  (203, 0),\n  (203, 6),\n  (205, 1),\n  (208, 3),\n  (208, 11),\n  (208, 12),\n  (210, 1),\n  (211, 2),\n  (214, 9),\n  (215, 4),\n  (215, 10),\n  (216, 1),\n  (216, 9),\n  (217, 3),\n  (219, 11),\n  (220, 4),\n  (220, 12),\n  (221, 1),\n  (221, 6),\n  (221, 8),\n  (223, 5),\n  (224, 2),\n  (224, 3),\n  (224, 9),\n  (224, 10),\n  (225, 0),\n  (225, 3),\n  (225, 9),\n  (225, 10),\n  (226, 0),\n  (226, 2),\n  (227, 4)],\n [(0, 0),\n  (0, 5),\n  (0, 7),\n  (2, 11),\n  (3, 9),\n  (3, 12),\n  (4, 6),\n  (4, 9),\n  (5, 8),\n  (6, 0),\n  (7, 7),\n  (8, 5),\n  (8, 7),\n  (9, 0),\n  (9, 2),\n  (11, 12),\n  (12, 2),\n  (12, 3),\n  (12, 4),\n  (13, 8),\n  (15, 3),\n  (15, 5),\n  (15, 12),\n  (18, 3),\n  (20, 2),\n  (20, 10),\n  (21, 1),\n  (21, 7),\n  (23, 0),\n  (23, 8),\n  (23, 11),\n  (24, 6),\n  (24, 7),\n  (24, 11),\n  (27, 4),\n  (27, 6),\n  (27, 10),\n  (28, 0),\n  (28, 10),\n  (28, 11),\n  (29, 4),\n  (30, 12),\n  (31, 11),\n  (32, 7),\n  (34, 5),\n  (34, 9),\n  (37, 10),\n  (37, 12),\n  (38, 3),\n  (38, 6),\n  (38, 7),\n  (39, 10),\n  (40, 0),\n  (40, 1),\n  (41, 7),\n  (43, 5),\n  (43, 7),\n  (45, 1),\n  (45, 2),\n  (45, 12),\n  (46, 3),\n  (46, 5),\n  (47, 1),\n  (48, 0),\n  (49, 2),\n  (49, 8),\n  (50, 10),\n  (51, 2),\n  (51, 3),\n  (51, 7),\n  (52, 8),\n  (53, 4),\n  (55, 1),\n  (55, 8),\n  (56, 4),\n  (57, 0),\n  (58, 2),\n  (58, 7),\n  (59, 1),\n  (61, 0),\n  (61, 3),\n  (61, 6),\n  (62, 3),\n  (63, 7),\n  (64, 7),\n  (67, 2),\n  (69, 3),\n  (69, 4),\n  (69, 7),\n  (69, 10),\n  (70, 1),\n  (70, 5),\n  (71, 0),\n  (71, 3),\n  (71, 4),\n  (71, 8),\n  (72, 0),\n  (73, 7),\n  (73, 10),\n  (77, 5),\n  (78, 1),\n  (78, 9),\n  (78, 10),\n  (79, 9),\n  (79, 11),\n  (80, 2),\n  (82, 9),\n  (82, 10),\n  (86, 6),\n  (86, 8),\n  (86, 10),\n  (87, 0),\n  (87, 1),\n  (88, 4),\n  (88, 7),\n  (88, 8),\n  (89, 10),\n  (89, 11),\n  (89, 12),\n  (90, 4),\n  (90, 6),\n  (91, 10),\n  (93, 10),\n  (94, 12),\n  (96, 3),\n  (98, 2),\n  (98, 4),\n  (99, 3),\n  (100, 4),\n  (100, 7),\n  (100, 12),\n  (101, 7),\n  (102, 3),\n  (103, 5),\n  (104, 2),\n  (107, 12),\n  (108, 1),\n  (108, 6),\n  (108, 9),\n  (109, 3),\n  (109, 7),\n  (110, 0),\n  (110, 1),\n  (111, 11),\n  (112, 8),\n  (113, 0),\n  (113, 2),\n  (113, 9),\n  (114, 5),\n  (114, 9),\n  (115, 5),\n  (115, 11),\n  (116, 8),\n  (117, 10),\n  (117, 12),\n  (119, 6),\n  (119, 7),\n  (119, 11),\n  (120, 4),\n  (121, 2),\n  (122, 2),\n  (123, 7),\n  (124, 2),\n  (124, 10),\n  (125, 0),\n  (125, 7),\n  (126, 3),\n  (130, 12),\n  (131, 8),\n  (132, 0),\n  (132, 3),\n  (132, 7),\n  (133, 10),\n  (134, 2),\n  (135, 7),\n  (135, 12),\n  (138, 4),\n  (138, 9),\n  (140, 4),\n  (142, 7),\n  (143, 6),\n  (143, 8),\n  (144, 1),\n  (144, 3),\n  (145, 5),\n  (145, 8),\n  (146, 5),\n  (147, 0),\n  (147, 8),\n  (148, 4),\n  (148, 8),\n  (148, 12),\n  (149, 2),\n  (149, 5),\n  (150, 10),\n  (151, 1),\n  (152, 8),\n  (152, 9),\n  (152, 12),\n  (155, 6),\n  (156, 1),\n  (157, 3),\n  (158, 2),\n  (158, 10),\n  (159, 2),\n  (160, 1),\n  (160, 7),\n  (160, 8),\n  (161, 8),\n  (162, 4),\n  (162, 9),\n  (163, 8),\n  (164, 0),\n  (164, 2),\n  (164, 12),\n  (165, 2),\n  (165, 7),\n  (166, 3),\n  (166, 7),\n  (166, 10),\n  (168, 2),\n  (168, 3),\n  (169, 5),\n  (169, 6),\n  (170, 8),\n  (170, 9),\n  (171, 3),\n  (172, 0),\n  (172, 8),\n  (172, 11),\n  (173, 5),\n  (174, 1),\n  (175, 0),\n  (177, 1),\n  (177, 6),\n  (177, 8),\n  (179, 3),\n  (180, 1),\n  (181, 4),\n  (183, 0),\n  (183, 7),\n  (184, 4),\n  (184, 11),\n  (185, 0),\n  (185, 1),\n  (185, 9),\n  (186, 4),\n  (186, 10),\n  (190, 11),\n  (191, 4),\n  (191, 5),\n  (191, 12),\n  (192, 3),\n  (194, 4),\n  (194, 5),\n  (194, 7),\n  (195, 12),\n  (197, 1),\n  (198, 8),\n  (198, 10),\n  (199, 1),\n  (199, 6),\n  (199, 8),\n  (200, 5),\n  (200, 11),\n  (202, 5),\n  (202, 6),\n  (202, 7),\n  (203, 0),\n  (203, 6),\n  (205, 1),\n  (208, 3),\n  (208, 11),\n  (208, 12),\n  (210, 1),\n  (211, 2),\n  (214, 9),\n  (215, 4),\n  (215, 10),\n  (216, 1),\n  (216, 9),\n  (217, 3),\n  (219, 11),\n  (220, 4),\n  (220, 12),\n  (221, 1),\n  (221, 6),\n  (221, 8),\n  (223, 5),\n  (224, 2),\n  (224, 3),\n  (224, 9),\n  (224, 10),\n  (225, 0),\n  (225, 3),\n  (225, 9),\n  (225, 10),\n  (226, 0),\n  (226, 2),\n  (227, 4)],\n [(0, 0),\n  (0, 5),\n  (0, 7),\n  (2, 11),\n  (3, 9),\n  (3, 12),\n  (4, 6),\n  (4, 9),\n  (5, 8),\n  (6, 0),\n  (7, 7),\n  (8, 5),\n  (8, 7),\n  (9, 0),\n  (9, 2),\n  (11, 12),\n  (12, 2),\n  (12, 3),\n  (12, 4),\n  (13, 8),\n  (15, 3),\n  (15, 5),\n  (15, 12),\n  (18, 3),\n  (20, 2),\n  (20, 10),\n  (21, 1),\n  (21, 7),\n  (23, 0),\n  (23, 8),\n  (23, 11),\n  (24, 6),\n  (24, 7),\n  (24, 11),\n  (27, 4),\n  (27, 6),\n  (27, 10),\n  (28, 0),\n  (28, 10),\n  (28, 11),\n  (29, 4),\n  (30, 12),\n  (31, 11),\n  (32, 7),\n  (34, 5),\n  (34, 9),\n  (37, 10),\n  (37, 12),\n  (38, 3),\n  (38, 6),\n  (38, 7),\n  (39, 10),\n  (40, 0),\n  (40, 1),\n  (41, 7),\n  (43, 5),\n  (43, 7),\n  (45, 1),\n  (45, 2),\n  (45, 12),\n  (46, 3),\n  (46, 5),\n  (47, 1),\n  (48, 0),\n  (49, 2),\n  (49, 8),\n  (50, 10),\n  (51, 2),\n  (51, 3),\n  (51, 7),\n  (52, 8),\n  (53, 4),\n  (55, 1),\n  (55, 8),\n  (56, 4),\n  (57, 0),\n  (58, 2),\n  (58, 7),\n  (59, 1),\n  (61, 0),\n  (61, 3),\n  (61, 6),\n  (62, 3),\n  (63, 7),\n  (64, 7),\n  (67, 2),\n  (69, 3),\n  (69, 4),\n  (69, 7),\n  (69, 10),\n  (70, 1),\n  (70, 5),\n  (71, 0),\n  (71, 3),\n  (71, 4),\n  (71, 8),\n  (72, 0),\n  (73, 7),\n  (73, 10),\n  (77, 5),\n  (78, 1),\n  (78, 9),\n  (78, 10),\n  (79, 9),\n  (79, 11),\n  (80, 2),\n  (82, 9),\n  (82, 10),\n  (86, 6),\n  (86, 8),\n  (86, 10),\n  (87, 0),\n  (87, 1),\n  (88, 4),\n  (88, 7),\n  (88, 8),\n  (89, 10),\n  (89, 11),\n  (89, 12),\n  (90, 4),\n  (90, 6),\n  (91, 10),\n  (93, 10),\n  (94, 12),\n  (96, 3),\n  (98, 2),\n  (98, 4),\n  (99, 3),\n  (100, 4),\n  (100, 7),\n  (100, 12),\n  (101, 7),\n  (102, 3),\n  (103, 5),\n  (104, 2),\n  (107, 12),\n  (108, 1),\n  (108, 6),\n  (108, 9),\n  (109, 3),\n  (109, 7),\n  (110, 0),\n  (110, 1),\n  (111, 11),\n  (112, 8),\n  (113, 0),\n  (113, 2),\n  (113, 9),\n  (114, 5),\n  (114, 9),\n  (115, 5),\n  (115, 11),\n  (116, 8),\n  (117, 10),\n  (117, 12),\n  (119, 6),\n  (119, 7),\n  (119, 11),\n  (120, 4),\n  (121, 2),\n  (122, 2),\n  (123, 7),\n  (124, 2),\n  (124, 10),\n  (125, 0),\n  (125, 7),\n  (126, 3),\n  (130, 12),\n  (131, 8),\n  (132, 0),\n  (132, 3),\n  (132, 7),\n  (133, 10),\n  (134, 2),\n  (135, 7),\n  (135, 12),\n  (138, 4),\n  (138, 9),\n  (140, 4),\n  (142, 7),\n  (143, 6),\n  (143, 8),\n  (144, 1),\n  (144, 3),\n  (145, 5),\n  (145, 8),\n  (146, 5),\n  (147, 0),\n  (147, 8),\n  (148, 4),\n  (148, 8),\n  (148, 12),\n  (149, 2),\n  (149, 5),\n  (150, 10),\n  (151, 1),\n  (152, 8),\n  (152, 9),\n  (152, 12),\n  (155, 6),\n  (156, 1),\n  (157, 3),\n  (158, 2),\n  (158, 10),\n  (159, 2),\n  (160, 1),\n  (160, 7),\n  (160, 8),\n  (161, 8),\n  (162, 4),\n  (162, 9),\n  (163, 8),\n  (164, 0),\n  (164, 2),\n  (164, 12),\n  (165, 2),\n  (165, 7),\n  (166, 3),\n  (166, 7),\n  (166, 10),\n  (168, 2),\n  (168, 3),\n  (169, 5),\n  (169, 6),\n  (170, 8),\n  (170, 9),\n  (171, 3),\n  (172, 0),\n  (172, 8),\n  (172, 11),\n  (173, 5),\n  (174, 1),\n  (175, 0),\n  (177, 1),\n  (177, 6),\n  (177, 8),\n  (179, 3),\n  (180, 1),\n  (181, 4),\n  (183, 0),\n  (183, 7),\n  (184, 4),\n  (184, 11),\n  (185, 0),\n  (185, 1),\n  (185, 9),\n  (186, 4),\n  (186, 10),\n  (190, 11),\n  (191, 4),\n  (191, 5),\n  (191, 12),\n  (192, 3),\n  (194, 4),\n  (194, 5),\n  (194, 7),\n  (195, 12),\n  (197, 1),\n  (198, 8),\n  (198, 10),\n  (199, 1),\n  (199, 6),\n  (199, 8),\n  (200, 5),\n  (200, 11),\n  (202, 5),\n  (202, 6),\n  (202, 7),\n  (203, 0),\n  (203, 6),\n  (205, 1),\n  (208, 3),\n  (208, 11),\n  (208, 12),\n  (210, 1),\n  (211, 2),\n  (214, 9),\n  (215, 4),\n  (215, 10),\n  (216, 1),\n  (216, 9),\n  (217, 3),\n  (219, 11),\n  (220, 4),\n  (220, 12),\n  (221, 1),\n  (221, 6),\n  (221, 8),\n  (223, 5),\n  (224, 2),\n  (224, 3),\n  (224, 9),\n  (224, 10),\n  (225, 0),\n  (225, 3),\n  (225, 9),\n  (225, 10),\n  (226, 0),\n  (226, 2),\n  (227, 4)],\n [(0, 0),\n  (0, 5),\n  (0, 7),\n  (2, 11),\n  (3, 9),\n  (3, 12),\n  (4, 6),\n  (4, 9),\n  (5, 8),\n  (6, 0),\n  (7, 7),\n  (8, 5),\n  (8, 7),\n  (9, 0),\n  (9, 2),\n  (11, 12),\n  (12, 2),\n  (12, 3),\n  (12, 4),\n  (13, 8),\n  (15, 3),\n  (15, 5),\n  (15, 12),\n  (18, 3),\n  (20, 2),\n  (20, 10),\n  (21, 1),\n  (21, 7),\n  (23, 0),\n  (23, 8),\n  (23, 11),\n  (24, 6),\n  (24, 7),\n  (24, 11),\n  (27, 4),\n  (27, 6),\n  (27, 10),\n  (28, 0),\n  (28, 10),\n  (28, 11),\n  (29, 4),\n  (30, 12),\n  (31, 11),\n  (32, 7),\n  (34, 5),\n  (34, 9),\n  (37, 10),\n  (37, 12),\n  (38, 3),\n  (38, 6),\n  (38, 7),\n  (39, 10),\n  (40, 0),\n  (40, 1),\n  (41, 7),\n  (43, 5),\n  (43, 7),\n  (45, 1),\n  (45, 2),\n  (45, 12),\n  (46, 3),\n  (46, 5),\n  (47, 1),\n  (48, 0),\n  (49, 2),\n  (49, 8),\n  (50, 10),\n  (51, 2),\n  (51, 3),\n  (51, 7),\n  (52, 8),\n  (53, 4),\n  (55, 1),\n  (55, 8),\n  (56, 4),\n  (57, 0),\n  (58, 2),\n  (58, 7),\n  (59, 1),\n  (61, 0),\n  (61, 3),\n  (61, 6),\n  (62, 3),\n  (63, 7),\n  (64, 7),\n  (67, 2),\n  (69, 3),\n  (69, 4),\n  (69, 7),\n  (69, 10),\n  (70, 1),\n  (70, 5),\n  (71, 0),\n  (71, 3),\n  (71, 4),\n  (71, 8),\n  (72, 0),\n  (73, 7),\n  (73, 10),\n  (77, 5),\n  (78, 1),\n  (78, 9),\n  (78, 10),\n  (79, 9),\n  (79, 11),\n  (80, 2),\n  (82, 9),\n  (82, 10),\n  (86, 6),\n  (86, 8),\n  (86, 10),\n  (87, 0),\n  (87, 1),\n  (88, 4),\n  (88, 7),\n  (88, 8),\n  (89, 10),\n  (89, 11),\n  (89, 12),\n  (90, 4),\n  (90, 6),\n  (91, 10),\n  (93, 10),\n  (94, 12),\n  (96, 3),\n  (98, 2),\n  (98, 4),\n  (99, 3),\n  (100, 4),\n  (100, 7),\n  (100, 12),\n  (101, 7),\n  (102, 3),\n  (103, 5),\n  (104, 2),\n  (107, 12),\n  (108, 1),\n  (108, 6),\n  (108, 9),\n  (109, 3),\n  (109, 7),\n  (110, 0),\n  (110, 1),\n  (111, 11),\n  (112, 8),\n  (113, 0),\n  (113, 2),\n  (113, 9),\n  (114, 5),\n  (114, 9),\n  (115, 5),\n  (115, 11),\n  (116, 8),\n  (117, 10),\n  (117, 12),\n  (119, 6),\n  (119, 7),\n  (119, 11),\n  (120, 4),\n  (121, 2),\n  (122, 2),\n  (123, 7),\n  (124, 2),\n  (124, 10),\n  (125, 0),\n  (125, 7),\n  (126, 3),\n  (130, 12),\n  (131, 8),\n  (132, 0),\n  (132, 3),\n  (132, 7),\n  (133, 10),\n  (134, 2),\n  (135, 7),\n  (135, 12),\n  (138, 4),\n  (138, 9),\n  (140, 4),\n  (142, 7),\n  (143, 6),\n  (143, 8),\n  (144, 1),\n  (144, 3),\n  (145, 5),\n  (145, 8),\n  (146, 5),\n  (147, 0),\n  (147, 8),\n  (148, 4),\n  (148, 8),\n  (148, 12),\n  (149, 2),\n  (149, 5),\n  (150, 10),\n  (151, 1),\n  (152, 8),\n  (152, 9),\n  (152, 12),\n  (155, 6),\n  (156, 1),\n  (157, 3),\n  (158, 2),\n  (158, 10),\n  (159, 2),\n  (160, 1),\n  (160, 7),\n  (160, 8),\n  (161, 8),\n  (162, 4),\n  (162, 9),\n  (163, 8),\n  (164, 0),\n  (164, 2),\n  (164, 12),\n  (165, 2),\n  (165, 7),\n  (166, 3),\n  (166, 7),\n  (166, 10),\n  (168, 2),\n  (168, 3),\n  (169, 5),\n  (169, 6),\n  (170, 8),\n  (170, 9),\n  (171, 3),\n  (172, 0),\n  (172, 8),\n  (172, 11),\n  (173, 5),\n  (174, 1),\n  (175, 0),\n  (177, 1),\n  (177, 6),\n  (177, 8),\n  (179, 3),\n  (180, 1),\n  (181, 4),\n  (183, 0),\n  (183, 7),\n  (184, 4),\n  (184, 11),\n  (185, 0),\n  (185, 1),\n  (185, 9),\n  (186, 4),\n  (186, 10),\n  (190, 11),\n  (191, 4),\n  (191, 5),\n  (191, 12),\n  (192, 3),\n  (194, 4),\n  (194, 5),\n  (194, 7),\n  (195, 12),\n  (197, 1),\n  (198, 8),\n  (198, 10),\n  (199, 1),\n  (199, 6),\n  (199, 8),\n  (200, 5),\n  (200, 11),\n  (202, 5),\n  (202, 6),\n  (202, 7),\n  (203, 0),\n  (203, 6),\n  (205, 1),\n  (208, 3),\n  (208, 11),\n  (208, 12),\n  (210, 1),\n  (211, 2),\n  (214, 9),\n  (215, 4),\n  (215, 10),\n  (216, 1),\n  (216, 9),\n  (217, 3),\n  (219, 11),\n  (220, 4),\n  (220, 12),\n  (221, 1),\n  (221, 6),\n  (221, 8),\n  (223, 5),\n  (224, 2),\n  (224, 3),\n  (224, 9),\n  (224, 10),\n  (225, 0),\n  (225, 3),\n  (225, 9),\n  (225, 10),\n  (226, 0),\n  (226, 2),\n  (227, 4)],\n [(0, 0),\n  (0, 5),\n  (0, 7),\n  (2, 11),\n  (3, 9),\n  (3, 12),\n  (4, 6),\n  (4, 9),\n  (5, 8),\n  (6, 0),\n  (7, 7),\n  (8, 5),\n  (8, 7),\n  (9, 0),\n  (9, 2),\n  (11, 12),\n  (12, 2),\n  (12, 3),\n  (12, 4),\n  (13, 8),\n  (15, 3),\n  (15, 5),\n  (15, 12),\n  (18, 3),\n  (20, 2),\n  (20, 10),\n  (21, 1),\n  (21, 7),\n  (23, 0),\n  (23, 8),\n  (23, 11),\n  (24, 6),\n  (24, 7),\n  (24, 11),\n  (27, 4),\n  (27, 6),\n  (27, 10),\n  (28, 0),\n  (28, 10),\n  (28, 11),\n  (29, 4),\n  (30, 12),\n  (31, 11),\n  (32, 7),\n  (34, 5),\n  (34, 9),\n  (37, 10),\n  (37, 12),\n  (38, 3),\n  (38, 6),\n  (38, 7),\n  (39, 10),\n  (40, 0),\n  (40, 1),\n  (41, 7),\n  (43, 5),\n  (43, 7),\n  (45, 1),\n  (45, 2),\n  (45, 12),\n  (46, 3),\n  (46, 5),\n  (47, 1),\n  (48, 0),\n  (49, 2),\n  (49, 8),\n  (50, 10),\n  (51, 2),\n  (51, 3),\n  (51, 7),\n  (52, 8),\n  (53, 4),\n  (55, 1),\n  (55, 8),\n  (56, 4),\n  (57, 0),\n  (58, 2),\n  (58, 7),\n  (59, 1),\n  (61, 0),\n  (61, 3),\n  (61, 6),\n  (62, 3),\n  (63, 7),\n  (64, 7),\n  (67, 2),\n  (69, 3),\n  (69, 4),\n  (69, 7),\n  (69, 10),\n  (70, 1),\n  (70, 5),\n  (71, 0),\n  (71, 3),\n  (71, 4),\n  (71, 8),\n  (72, 0),\n  (73, 7),\n  (73, 10),\n  (77, 5),\n  (78, 1),\n  (78, 9),\n  (78, 10),\n  (79, 9),\n  (79, 11),\n  (80, 2),\n  (82, 9),\n  (82, 10),\n  (86, 6),\n  (86, 8),\n  (86, 10),\n  (87, 0),\n  (87, 1),\n  (88, 4),\n  (88, 7),\n  (88, 8),\n  (89, 10),\n  (89, 11),\n  (89, 12),\n  (90, 4),\n  (90, 6),\n  (91, 10),\n  (93, 10),\n  (94, 12),\n  (96, 3),\n  (98, 2),\n  (98, 4),\n  (99, 3),\n  (100, 4),\n  (100, 7),\n  (100, 12),\n  (101, 7),\n  (102, 3),\n  (103, 5),\n  (104, 2),\n  (107, 12),\n  (108, 1),\n  (108, 6),\n  (108, 9),\n  (109, 3),\n  (109, 7),\n  (110, 0),\n  (110, 1),\n  (111, 11),\n  (112, 8),\n  (113, 0),\n  (113, 2),\n  (113, 9),\n  (114, 5),\n  (114, 9),\n  (115, 5),\n  (115, 11),\n  (116, 8),\n  (117, 10),\n  (117, 12),\n  (119, 6),\n  (119, 7),\n  (119, 11),\n  (120, 4),\n  (121, 2),\n  (122, 2),\n  (123, 7),\n  (124, 2),\n  (124, 10),\n  (125, 0),\n  (125, 7),\n  (126, 3),\n  (130, 12),\n  (131, 8),\n  (132, 0),\n  (132, 3),\n  (132, 7),\n  (133, 10),\n  (134, 2),\n  (135, 7),\n  (135, 12),\n  (138, 4),\n  (138, 9),\n  (140, 4),\n  (142, 7),\n  (143, 6),\n  (143, 8),\n  (144, 1),\n  (144, 3),\n  (145, 5),\n  (145, 8),\n  (146, 5),\n  (147, 0),\n  (147, 8),\n  (148, 4),\n  (148, 8),\n  (148, 12),\n  (149, 2),\n  (149, 5),\n  (150, 10),\n  (151, 1),\n  (152, 8),\n  (152, 9),\n  (152, 12),\n  (155, 6),\n  (156, 1),\n  (157, 3),\n  (158, 2),\n  (158, 10),\n  (159, 2),\n  (160, 1),\n  (160, 7),\n  (160, 8),\n  (161, 8),\n  (162, 4),\n  (162, 9),\n  (163, 8),\n  (164, 0),\n  (164, 2),\n  (164, 12),\n  (165, 2),\n  (165, 7),\n  (166, 3),\n  (166, 7),\n  (166, 10),\n  (168, 2),\n  (168, 3),\n  (169, 5),\n  (169, 6),\n  (170, 8),\n  (170, 9),\n  (171, 3),\n  (172, 0),\n  (172, 8),\n  (172, 11),\n  (173, 5),\n  (174, 1),\n  (175, 0),\n  (177, 1),\n  (177, 6),\n  (177, 8),\n  (179, 3),\n  (180, 1),\n  (181, 4),\n  (183, 0),\n  (183, 7),\n  (184, 4),\n  (184, 11),\n  (185, 0),\n  (185, 1),\n  (185, 9),\n  (186, 4),\n  (186, 10),\n  (190, 11),\n  (191, 4),\n  (191, 5),\n  (191, 12),\n  (192, 3),\n  (194, 4),\n  (194, 5),\n  (194, 7),\n  (195, 12),\n  (197, 1),\n  (198, 8),\n  (198, 10),\n  (199, 1),\n  (199, 6),\n  (199, 8),\n  (200, 5),\n  (200, 11),\n  (202, 5),\n  (202, 6),\n  (202, 7),\n  (203, 0),\n  (203, 6),\n  (205, 1),\n  (208, 3),\n  (208, 11),\n  (208, 12),\n  (210, 1),\n  (211, 2),\n  (214, 9),\n  (215, 4),\n  (215, 10),\n  (216, 1),\n  (216, 9),\n  (217, 3),\n  (219, 11),\n  (220, 4),\n  (220, 12),\n  (221, 1),\n  (221, 6),\n  (221, 8),\n  (223, 5),\n  (224, 2),\n  (224, 3),\n  (224, 9),\n  (224, 10),\n  (225, 0),\n  (225, 3),\n  (225, 9),\n  (225, 10),\n  (226, 0),\n  (226, 2),\n  (227, 4)],\n [(0, 0),\n  (0, 5),\n  (0, 7),\n  (2, 11),\n  (3, 9),\n  (3, 12),\n  (4, 6),\n  (4, 9),\n  (5, 8),\n  (6, 0),\n  (7, 7),\n  (8, 5),\n  (8, 7),\n  (9, 0),\n  (9, 2),\n  (11, 12),\n  (12, 2),\n  (12, 3),\n  (12, 4),\n  (13, 8),\n  (15, 3),\n  (15, 5),\n  (15, 12),\n  (18, 3),\n  (20, 2),\n  (20, 10),\n  (21, 1),\n  (21, 7),\n  (23, 0),\n  (23, 8),\n  (23, 11),\n  (24, 6),\n  (24, 7),\n  (24, 11),\n  (27, 4),\n  (27, 6),\n  (27, 10),\n  (28, 0),\n  (28, 10),\n  (28, 11),\n  (29, 4),\n  (30, 12),\n  (31, 11),\n  (32, 7),\n  (34, 5),\n  (34, 9),\n  (37, 10),\n  (37, 12),\n  (38, 3),\n  (38, 6),\n  (38, 7),\n  (39, 10),\n  (40, 0),\n  (40, 1),\n  (41, 7),\n  (43, 5),\n  (43, 7),\n  (45, 1),\n  (45, 2),\n  (45, 12),\n  (46, 3),\n  (46, 5),\n  (47, 1),\n  (48, 0),\n  (49, 2),\n  (49, 8),\n  (50, 10),\n  (51, 2),\n  (51, 3),\n  (51, 7),\n  (52, 8),\n  (53, 4),\n  (55, 1),\n  (55, 8),\n  (56, 4),\n  (57, 0),\n  (58, 2),\n  (58, 7),\n  (59, 1),\n  (61, 0),\n  (61, 3),\n  (61, 6),\n  (62, 3),\n  (63, 7),\n  (64, 7),\n  (67, 2),\n  (69, 3),\n  (69, 4),\n  (69, 7),\n  (69, 10),\n  (70, 1),\n  (70, 5),\n  (71, 0),\n  (71, 3),\n  (71, 4),\n  (71, 8),\n  (72, 0),\n  (73, 7),\n  (73, 10),\n  (77, 5),\n  (78, 1),\n  (78, 9),\n  (78, 10),\n  (79, 9),\n  (79, 11),\n  (80, 2),\n  (82, 9),\n  (82, 10),\n  (86, 6),\n  (86, 8),\n  (86, 10),\n  (87, 0),\n  (87, 1),\n  (88, 4),\n  (88, 7),\n  (88, 8),\n  (89, 10),\n  (89, 11),\n  (89, 12),\n  (90, 4),\n  (90, 6),\n  (91, 10),\n  (93, 10),\n  (94, 12),\n  (96, 3),\n  (98, 2),\n  (98, 4),\n  (99, 3),\n  (100, 4),\n  (100, 7),\n  (100, 12),\n  (101, 7),\n  (102, 3),\n  (103, 5),\n  (104, 2),\n  (107, 12),\n  (108, 1),\n  (108, 6),\n  (108, 9),\n  (109, 3),\n  (109, 7),\n  (110, 0),\n  (110, 1),\n  (111, 11),\n  (112, 8),\n  (113, 0),\n  (113, 2),\n  (113, 9),\n  (114, 5),\n  (114, 9),\n  (115, 5),\n  (115, 11),\n  (116, 8),\n  (117, 10),\n  (117, 12),\n  (119, 6),\n  (119, 7),\n  (119, 11),\n  (120, 4),\n  (121, 2),\n  (122, 2),\n  (123, 7),\n  (124, 2),\n  (124, 10),\n  (125, 0),\n  (125, 7),\n  (126, 3),\n  (130, 12),\n  (131, 8),\n  (132, 0),\n  (132, 3),\n  (132, 7),\n  (133, 10),\n  (134, 2),\n  (135, 7),\n  (135, 12),\n  (138, 4),\n  (138, 9),\n  (140, 4),\n  (142, 7),\n  (143, 6),\n  (143, 8),\n  (144, 1),\n  (144, 3),\n  (145, 5),\n  (145, 8),\n  (146, 5),\n  (147, 0),\n  (147, 8),\n  (148, 4),\n  (148, 8),\n  (148, 12),\n  (149, 2),\n  (149, 5),\n  (150, 10),\n  (151, 1),\n  (152, 8),\n  (152, 9),\n  (152, 12),\n  (155, 6),\n  (156, 1),\n  (157, 3),\n  (158, 2),\n  (158, 10),\n  (159, 2),\n  (160, 1),\n  (160, 7),\n  (160, 8),\n  (161, 8),\n  (162, 4),\n  (162, 9),\n  (163, 8),\n  (164, 0),\n  (164, 2),\n  (164, 12),\n  (165, 2),\n  (165, 7),\n  (166, 3),\n  (166, 7),\n  (166, 10),\n  (168, 2),\n  (168, 3),\n  (169, 5),\n  (169, 6),\n  (170, 8),\n  (170, 9),\n  (171, 3),\n  (172, 0),\n  (172, 8),\n  (172, 11),\n  (173, 5),\n  (174, 1),\n  (175, 0),\n  (177, 1),\n  (177, 6),\n  (177, 8),\n  (179, 3),\n  (180, 1),\n  (181, 4),\n  (183, 0),\n  (183, 7),\n  (184, 4),\n  (184, 11),\n  (185, 0),\n  (185, 1),\n  (185, 9),\n  (186, 4),\n  (186, 10),\n  (190, 11),\n  (191, 4),\n  (191, 5),\n  (191, 12),\n  (192, 3),\n  (194, 4),\n  (194, 5),\n  (194, 7),\n  (195, 12),\n  (197, 1),\n  (198, 8),\n  (198, 10),\n  (199, 1),\n  (199, 6),\n  (199, 8),\n  (200, 5),\n  (200, 11),\n  (202, 5),\n  (202, 6),\n  (202, 7),\n  (203, 0),\n  (203, 6),\n  (205, 1),\n  (208, 3),\n  (208, 11),\n  (208, 12),\n  (210, 1),\n  (211, 2),\n  (214, 9),\n  (215, 4),\n  (215, 10),\n  (216, 1),\n  (216, 9),\n  (217, 3),\n  (219, 11),\n  (220, 4),\n  (220, 12),\n  (221, 1),\n  (221, 6),\n  (221, 8),\n  (223, 5),\n  (224, 2),\n  (224, 3),\n  (224, 9),\n  (224, 10),\n  (225, 0),\n  (225, 3),\n  (225, 9),\n  (225, 10),\n  (226, 0),\n  (226, 2),\n  (227, 4)],\n [(0, 0),\n  (0, 5),\n  (0, 7),\n  (2, 11),\n  (3, 9),\n  (3, 12),\n  (4, 6),\n  (4, 9),\n  (5, 8),\n  (6, 0),\n  (7, 7),\n  (8, 5),\n  (8, 7),\n  (9, 0),\n  (9, 2),\n  (11, 12),\n  (12, 2),\n  (12, 3),\n  (12, 4),\n  (13, 8),\n  (15, 3),\n  (15, 5),\n  (15, 12),\n  (18, 3),\n  (20, 2),\n  (20, 10),\n  (21, 1),\n  (21, 7),\n  (23, 0),\n  (23, 8),\n  (23, 11),\n  (24, 6),\n  (24, 7),\n  (24, 11),\n  (27, 4),\n  (27, 6),\n  (27, 10),\n  (28, 0),\n  (28, 10),\n  (28, 11),\n  (29, 4),\n  (30, 12),\n  (31, 11),\n  (32, 7),\n  (34, 5),\n  (34, 9),\n  (37, 10),\n  (37, 12),\n  (38, 3),\n  (38, 6),\n  (38, 7),\n  (39, 10),\n  (40, 0),\n  (40, 1),\n  (41, 7),\n  (43, 5),\n  (43, 7),\n  (45, 1),\n  (45, 2),\n  (45, 12),\n  (46, 3),\n  (46, 5),\n  (47, 1),\n  (48, 0),\n  (49, 2),\n  (49, 8),\n  (50, 10),\n  (51, 2),\n  (51, 3),\n  (51, 7),\n  (52, 8),\n  (53, 4),\n  (55, 1),\n  (55, 8),\n  (56, 4),\n  (57, 0),\n  (58, 2),\n  (58, 7),\n  (59, 1),\n  (61, 0),\n  (61, 3),\n  (61, 6),\n  (62, 3),\n  (63, 7),\n  (64, 7),\n  (67, 2),\n  (69, 3),\n  (69, 4),\n  (69, 7),\n  (69, 10),\n  (70, 1),\n  (70, 5),\n  (71, 0),\n  (71, 3),\n  (71, 4),\n  (71, 8),\n  (72, 0),\n  (73, 7),\n  (73, 10),\n  (77, 5),\n  (78, 1),\n  (78, 9),\n  (78, 10),\n  (79, 9),\n  (79, 11),\n  (80, 2),\n  (82, 9),\n  (82, 10),\n  (86, 6),\n  (86, 8),\n  (86, 10),\n  (87, 0),\n  (87, 1),\n  (88, 4),\n  (88, 7),\n  (88, 8),\n  (89, 10),\n  (89, 11),\n  (89, 12),\n  (90, 4),\n  (90, 6),\n  (91, 10),\n  (93, 10),\n  (94, 12),\n  (96, 3),\n  (98, 2),\n  (98, 4),\n  (99, 3),\n  (100, 4),\n  (100, 7),\n  (100, 12),\n  (101, 7),\n  (102, 3),\n  (103, 5),\n  (104, 2),\n  (107, 12),\n  (108, 1),\n  (108, 6),\n  (108, 9),\n  (109, 3),\n  (109, 7),\n  (110, 0),\n  (110, 1),\n  (111, 11),\n  (112, 8),\n  (113, 0),\n  (113, 2),\n  (113, 9),\n  (114, 5),\n  (114, 9),\n  (115, 5),\n  (115, 11),\n  (116, 8),\n  (117, 10),\n  (117, 12),\n  (119, 6),\n  (119, 7),\n  (119, 11),\n  (120, 4),\n  (121, 2),\n  (122, 2),\n  (123, 7),\n  (124, 2),\n  (124, 10),\n  (125, 0),\n  (125, 7),\n  (126, 3),\n  (130, 12),\n  (131, 8),\n  (132, 0),\n  (132, 3),\n  (132, 7),\n  (133, 10),\n  (134, 2),\n  (135, 7),\n  (135, 12),\n  (138, 4),\n  (138, 9),\n  (140, 4),\n  (142, 7),\n  (143, 6),\n  (143, 8),\n  (144, 1),\n  (144, 3),\n  (145, 5),\n  (145, 8),\n  (146, 5),\n  (147, 0),\n  (147, 8),\n  (148, 4),\n  (148, 8),\n  (148, 12),\n  (149, 2),\n  (149, 5),\n  (150, 10),\n  (151, 1),\n  (152, 8),\n  (152, 9),\n  (152, 12),\n  (155, 6),\n  (156, 1),\n  (157, 3),\n  (158, 2),\n  (158, 10),\n  (159, 2),\n  (160, 1),\n  (160, 7),\n  (160, 8),\n  (161, 8),\n  (162, 4),\n  (162, 9),\n  (163, 8),\n  (164, 0),\n  (164, 2),\n  (164, 12),\n  (165, 2),\n  (165, 7),\n  (166, 3),\n  (166, 7),\n  (166, 10),\n  (168, 2),\n  (168, 3),\n  (169, 5),\n  (169, 6),\n  (170, 8),\n  (170, 9),\n  (171, 3),\n  (172, 0),\n  (172, 8),\n  (172, 11),\n  (173, 5),\n  (174, 1),\n  (175, 0),\n  (177, 1),\n  (177, 6),\n  (177, 8),\n  (179, 3),\n  (180, 1),\n  (181, 4),\n  (183, 0),\n  (183, 7),\n  (184, 4),\n  (184, 11),\n  (185, 0),\n  (185, 1),\n  (185, 9),\n  (186, 4),\n  (186, 10),\n  (190, 11),\n  (191, 4),\n  (191, 5),\n  (191, 12),\n  (192, 3),\n  (194, 4),\n  (194, 5),\n  (194, 7),\n  (195, 12),\n  (197, 1),\n  (198, 8),\n  (198, 10),\n  (199, 1),\n  (199, 6),\n  (199, 8),\n  (200, 5),\n  (200, 11),\n  (202, 5),\n  (202, 6),\n  (202, 7),\n  (203, 0),\n  (203, 6),\n  (205, 1),\n  (208, 3),\n  (208, 11),\n  (208, 12),\n  (210, 1),\n  (211, 2),\n  (214, 9),\n  (215, 4),\n  (215, 10),\n  (216, 1),\n  (216, 9),\n  (217, 3),\n  (219, 11),\n  (220, 4),\n  (220, 12),\n  (221, 1),\n  (221, 6),\n  (221, 8),\n  (223, 5),\n  (224, 2),\n  (224, 3),\n  (224, 9),\n  (224, 10),\n  (225, 0),\n  (225, 3),\n  (225, 9),\n  (225, 10),\n  (226, 0),\n  (226, 2),\n  (227, 4)],\n [(0, 0),\n  (0, 5),\n  (0, 7),\n  (2, 11),\n  (3, 9),\n  (3, 12),\n  (4, 6),\n  (4, 9),\n  (5, 8),\n  (6, 0),\n  (7, 7),\n  (8, 5),\n  (8, 7),\n  (9, 0),\n  (9, 2),\n  (11, 12),\n  (12, 2),\n  (12, 3),\n  (12, 4),\n  (13, 8),\n  (15, 3),\n  (15, 5),\n  (15, 12),\n  (18, 3),\n  (20, 2),\n  (20, 10),\n  (21, 1),\n  (21, 7),\n  (23, 0),\n  (23, 8),\n  (23, 11),\n  (24, 6),\n  (24, 7),\n  (24, 11),\n  (27, 4),\n  (27, 6),\n  (27, 10),\n  (28, 0),\n  (28, 10),\n  (28, 11),\n  (29, 4),\n  (30, 12),\n  (31, 11),\n  (32, 7),\n  (34, 5),\n  (34, 9),\n  (37, 10),\n  (37, 12),\n  (38, 3),\n  (38, 6),\n  (38, 7),\n  (39, 10),\n  (40, 0),\n  (40, 1),\n  (41, 7),\n  (43, 5),\n  (43, 7),\n  (45, 1),\n  (45, 2),\n  (45, 12),\n  (46, 3),\n  (46, 5),\n  (47, 1),\n  (48, 0),\n  (49, 2),\n  (49, 8),\n  (50, 10),\n  (51, 2),\n  (51, 3),\n  (51, 7),\n  (52, 8),\n  (53, 4),\n  (55, 1),\n  (55, 8),\n  (56, 4),\n  (57, 0),\n  (58, 2),\n  (58, 7),\n  (59, 1),\n  (61, 0),\n  (61, 3),\n  (61, 6),\n  (62, 3),\n  (63, 7),\n  (64, 7),\n  (67, 2),\n  (69, 3),\n  (69, 4),\n  (69, 7),\n  (69, 10),\n  (70, 1),\n  (70, 5),\n  (71, 0),\n  (71, 3),\n  (71, 4),\n  (71, 8),\n  (72, 0),\n  (73, 7),\n  (73, 10),\n  (77, 5),\n  (78, 1),\n  (78, 9),\n  (78, 10),\n  (79, 9),\n  (79, 11),\n  (80, 2),\n  (82, 9),\n  (82, 10),\n  (86, 6),\n  (86, 8),\n  (86, 10),\n  (87, 0),\n  (87, 1),\n  (88, 4),\n  (88, 7),\n  (88, 8),\n  (89, 10),\n  (89, 11),\n  (89, 12),\n  (90, 4),\n  (90, 6),\n  (91, 10),\n  (93, 10),\n  (94, 12),\n  (96, 3),\n  (98, 2),\n  (98, 4),\n  (99, 3),\n  (100, 4),\n  (100, 7),\n  (100, 12),\n  (101, 7),\n  (102, 3),\n  (103, 5),\n  (104, 2),\n  (107, 12),\n  (108, 1),\n  (108, 6),\n  (108, 9),\n  (109, 3),\n  (109, 7),\n  (110, 0),\n  (110, 1),\n  (111, 11),\n  (112, 8),\n  (113, 0),\n  (113, 2),\n  (113, 9),\n  (114, 5),\n  (114, 9),\n  (115, 5),\n  (115, 11),\n  (116, 8),\n  (117, 10),\n  (117, 12),\n  (119, 6),\n  (119, 7),\n  (119, 11),\n  (120, 4),\n  (121, 2),\n  (122, 2),\n  (123, 7),\n  (124, 2),\n  (124, 10),\n  (125, 0),\n  (125, 7),\n  (126, 3),\n  (130, 12),\n  (131, 8),\n  (132, 0),\n  (132, 3),\n  (132, 7),\n  (133, 10),\n  (134, 2),\n  (135, 7),\n  (135, 12),\n  (138, 4),\n  (138, 9),\n  (140, 4),\n  (142, 7),\n  (143, 6),\n  (143, 8),\n  (144, 1),\n  (144, 3),\n  (145, 5),\n  (145, 8),\n  (146, 5),\n  (147, 0),\n  (147, 8),\n  (148, 4),\n  (148, 8),\n  (148, 12),\n  (149, 2),\n  (149, 5),\n  (150, 10),\n  (151, 1),\n  (152, 8),\n  (152, 9),\n  (152, 12),\n  (155, 6),\n  (156, 1),\n  (157, 3),\n  (158, 2),\n  (158, 10),\n  (159, 2),\n  (160, 1),\n  (160, 7),\n  (160, 8),\n  (161, 8),\n  (162, 4),\n  (162, 9),\n  (163, 8),\n  (164, 0),\n  (164, 2),\n  (164, 12),\n  (165, 2),\n  (165, 7),\n  (166, 3),\n  (166, 7),\n  (166, 10),\n  (168, 2),\n  (168, 3),\n  (169, 5),\n  (169, 6),\n  (170, 8),\n  (170, 9),\n  (171, 3),\n  (172, 0),\n  (172, 8),\n  (172, 11),\n  (173, 5),\n  (174, 1),\n  (175, 0),\n  (177, 1),\n  (177, 6),\n  (177, 8),\n  (179, 3),\n  (180, 1),\n  (181, 4),\n  (183, 0),\n  (183, 7),\n  (184, 4),\n  (184, 11),\n  (185, 0),\n  (185, 1),\n  (185, 9),\n  (186, 4),\n  (186, 10),\n  (190, 11),\n  (191, 4),\n  (191, 5),\n  (191, 12),\n  (192, 3),\n  (194, 4),\n  (194, 5),\n  (194, 7),\n  (195, 12),\n  (197, 1),\n  (198, 8),\n  (198, 10),\n  (199, 1),\n  (199, 6),\n  (199, 8),\n  (200, 5),\n  (200, 11),\n  (202, 5),\n  (202, 6),\n  (202, 7),\n  (203, 0),\n  (203, 6),\n  (205, 1),\n  (208, 3),\n  (208, 11),\n  (208, 12),\n  (210, 1),\n  (211, 2),\n  (214, 9),\n  (215, 4),\n  (215, 10),\n  (216, 1),\n  (216, 9),\n  (217, 3),\n  (219, 11),\n  (220, 4),\n  (220, 12),\n  (221, 1),\n  (221, 6),\n  (221, 8),\n  (223, 5),\n  (224, 2),\n  (224, 3),\n  (224, 9),\n  (224, 10),\n  (225, 0),\n  (225, 3),\n  (225, 9),\n  (225, 10),\n  (226, 0),\n  (226, 2),\n  (227, 4)],\n [(0, 0),\n  (0, 5),\n  (0, 7),\n  (2, 11),\n  (3, 9),\n  (3, 12),\n  (4, 6),\n  (4, 9),\n  (5, 8),\n  (6, 0),\n  (7, 7),\n  (8, 5),\n  (8, 7),\n  (9, 0),\n  (9, 2),\n  (11, 12),\n  (12, 2),\n  (12, 3),\n  (12, 4),\n  (13, 8),\n  (15, 3),\n  (15, 5),\n  (15, 12),\n  (18, 3),\n  (20, 2),\n  (20, 10),\n  (21, 1),\n  (21, 7),\n  (23, 0),\n  (23, 8),\n  (23, 11),\n  (24, 6),\n  (24, 7),\n  (24, 11),\n  (27, 4),\n  (27, 6),\n  (27, 10),\n  (28, 0),\n  (28, 10),\n  (28, 11),\n  (29, 4),\n  (30, 12),\n  (31, 11),\n  (32, 7),\n  (34, 5),\n  (34, 9),\n  (37, 10),\n  (37, 12),\n  (38, 3),\n  (38, 6),\n  (38, 7),\n  (39, 10),\n  (40, 0),\n  (40, 1),\n  (41, 7),\n  (43, 5),\n  (43, 7),\n  (45, 1),\n  (45, 2),\n  (45, 12),\n  (46, 3),\n  (46, 5),\n  (47, 1),\n  (48, 0),\n  (49, 2),\n  (49, 8),\n  (50, 10),\n  (51, 2),\n  (51, 3),\n  (51, 7),\n  (52, 8),\n  (53, 4),\n  (55, 1),\n  (55, 8),\n  (56, 4),\n  (57, 0),\n  (58, 2),\n  (58, 7),\n  (59, 1),\n  (61, 0),\n  (61, 3),\n  (61, 6),\n  (62, 3),\n  (63, 7),\n  (64, 7),\n  (67, 2),\n  (69, 3),\n  (69, 4),\n  (69, 7),\n  (69, 10),\n  (70, 1),\n  (70, 5),\n  (71, 0),\n  (71, 3),\n  (71, 4),\n  (71, 8),\n  (72, 0),\n  (73, 7),\n  (73, 10),\n  (77, 5),\n  (78, 1),\n  (78, 9),\n  (78, 10),\n  (79, 9),\n  (79, 11),\n  (80, 2),\n  (82, 9),\n  (82, 10),\n  (86, 6),\n  (86, 8),\n  (86, 10),\n  (87, 0),\n  (87, 1),\n  (88, 4),\n  (88, 7),\n  (88, 8),\n  (89, 10),\n  (89, 11),\n  (89, 12),\n  (90, 4),\n  (90, 6),\n  (91, 10),\n  (93, 10),\n  (94, 12),\n  (96, 3),\n  (98, 2),\n  (98, 4),\n  (99, 3),\n  (100, 4),\n  (100, 7),\n  (100, 12),\n  (101, 7),\n  (102, 3),\n  (103, 5),\n  (104, 2),\n  (107, 12),\n  (108, 1),\n  (108, 6),\n  (108, 9),\n  (109, 3),\n  (109, 7),\n  (110, 0),\n  (110, 1),\n  (111, 11),\n  (112, 8),\n  (113, 0),\n  (113, 2),\n  (113, 9),\n  (114, 5),\n  (114, 9),\n  (115, 5),\n  (115, 11),\n  (116, 8),\n  (117, 10),\n  (117, 12),\n  (119, 6),\n  (119, 7),\n  (119, 11),\n  (120, 4),\n  (121, 2),\n  (122, 2),\n  (123, 7),\n  (124, 2),\n  (124, 10),\n  (125, 0),\n  (125, 7),\n  (126, 3),\n  (130, 12),\n  (131, 8),\n  (132, 0),\n  (132, 3),\n  (132, 7),\n  (133, 10),\n  (134, 2),\n  (135, 7),\n  (135, 12),\n  (138, 4),\n  (138, 9),\n  (140, 4),\n  (142, 7),\n  (143, 6),\n  (143, 8),\n  (144, 1),\n  (144, 3),\n  (145, 5),\n  (145, 8),\n  (146, 5),\n  (147, 0),\n  (147, 8),\n  (148, 4),\n  (148, 8),\n  (148, 12),\n  (149, 2),\n  (149, 5),\n  (150, 10),\n  (151, 1),\n  (152, 8),\n  (152, 9),\n  (152, 12),\n  (155, 6),\n  (156, 1),\n  (157, 3),\n  (158, 2),\n  (158, 10),\n  (159, 2),\n  (160, 1),\n  (160, 7),\n  (160, 8),\n  (161, 8),\n  (162, 4),\n  (162, 9),\n  (163, 8),\n  (164, 0),\n  (164, 2),\n  (164, 12),\n  (165, 2),\n  (165, 7),\n  (166, 3),\n  (166, 7),\n  (166, 10),\n  (168, 2),\n  (168, 3),\n  (169, 5),\n  (169, 6),\n  (170, 8),\n  (170, 9),\n  (171, 3),\n  (172, 0),\n  (172, 8),\n  (172, 11),\n  (173, 5),\n  (174, 1),\n  (175, 0),\n  (177, 1),\n  (177, 6),\n  (177, 8),\n  (179, 3),\n  (180, 1),\n  (181, 4),\n  (183, 0),\n  (183, 7),\n  (184, 4),\n  (184, 11),\n  (185, 0),\n  (185, 1),\n  (185, 9),\n  (186, 4),\n  (186, 10),\n  (190, 11),\n  (191, 4),\n  (191, 5),\n  (191, 12),\n  (192, 3),\n  (194, 4),\n  (194, 5),\n  (194, 7),\n  (195, 12),\n  (197, 1),\n  (198, 8),\n  (198, 10),\n  (199, 1),\n  (199, 6),\n  (199, 8),\n  (200, 5),\n  (200, 11),\n  (202, 5),\n  (202, 6),\n  (202, 7),\n  (203, 0),\n  (203, 6),\n  (205, 1),\n  (208, 3),\n  (208, 11),\n  (208, 12),\n  (210, 1),\n  (211, 2),\n  (214, 9),\n  (215, 4),\n  (215, 10),\n  (216, 1),\n  (216, 9),\n  (217, 3),\n  (219, 11),\n  (220, 4),\n  (220, 12),\n  (221, 1),\n  (221, 6),\n  (221, 8),\n  (223, 5),\n  (224, 2),\n  (224, 3),\n  (224, 9),\n  (224, 10),\n  (225, 0),\n  (225, 3),\n  (225, 9),\n  (225, 10),\n  (226, 0),\n  (226, 2),\n  (227, 4)],\n [(0, 0),\n  (0, 5),\n  (0, 7),\n  (2, 11),\n  (3, 9),\n  (3, 12),\n  (4, 6),\n  (4, 9),\n  (5, 8),\n  (6, 0),\n  (7, 7),\n  (8, 5),\n  (8, 7),\n  (9, 0),\n  (9, 2),\n  (11, 12),\n  (12, 2),\n  (12, 3),\n  (12, 4),\n  (13, 8),\n  (15, 3),\n  (15, 5),\n  (15, 12),\n  (18, 3),\n  (20, 2),\n  (20, 10),\n  (21, 1),\n  (21, 7),\n  (23, 0),\n  (23, 8),\n  (23, 11),\n  (24, 6),\n  (24, 7),\n  (24, 11),\n  (27, 4),\n  (27, 6),\n  (27, 10),\n  (28, 0),\n  (28, 10),\n  (28, 11),\n  (29, 4),\n  (30, 12),\n  (31, 11),\n  (32, 7),\n  (34, 5),\n  (34, 9),\n  (37, 10),\n  (37, 12),\n  (38, 3),\n  (38, 6),\n  (38, 7),\n  (39, 10),\n  (40, 0),\n  (40, 1),\n  (41, 7),\n  (43, 5),\n  (43, 7),\n  (45, 1),\n  (45, 2),\n  (45, 12),\n  (46, 3),\n  (46, 5),\n  (47, 1),\n  (48, 0),\n  (49, 2),\n  (49, 8),\n  (50, 10),\n  (51, 2),\n  (51, 3),\n  (51, 7),\n  (52, 8),\n  (53, 4),\n  (55, 1),\n  (55, 8),\n  (56, 4),\n  (57, 0),\n  (58, 2),\n  (58, 7),\n  (59, 1),\n  (61, 0),\n  (61, 3),\n  (61, 6),\n  (62, 3),\n  (63, 7),\n  (64, 7),\n  (67, 2),\n  (69, 3),\n  (69, 4),\n  (69, 7),\n  (69, 10),\n  (70, 1),\n  (70, 5),\n  (71, 0),\n  (71, 3),\n  (71, 4),\n  (71, 8),\n  (72, 0),\n  (73, 7),\n  (73, 10),\n  (77, 5),\n  (78, 1),\n  (78, 9),\n  (78, 10),\n  (79, 9),\n  (79, 11),\n  (80, 2),\n  (82, 9),\n  (82, 10),\n  (86, 6),\n  (86, 8),\n  (86, 10),\n  (87, 0),\n  (87, 1),\n  (88, 4),\n  (88, 7),\n  (88, 8),\n  (89, 10),\n  (89, 11),\n  (89, 12),\n  (90, 4),\n  (90, 6),\n  (91, 10),\n  (93, 10),\n  (94, 12),\n  (96, 3),\n  (98, 2),\n  (98, 4),\n  (99, 3),\n  (100, 4),\n  (100, 7),\n  (100, 12),\n  (101, 7),\n  (102, 3),\n  (103, 5),\n  (104, 2),\n  (107, 12),\n  (108, 1),\n  (108, 6),\n  (108, 9),\n  (109, 3),\n  (109, 7),\n  (110, 0),\n  (110, 1),\n  (111, 11),\n  (112, 8),\n  (113, 0),\n  (113, 2),\n  (113, 9),\n  (114, 5),\n  (114, 9),\n  (115, 5),\n  (115, 11),\n  (116, 8),\n  (117, 10),\n  (117, 12),\n  (119, 6),\n  (119, 7),\n  (119, 11),\n  (120, 4),\n  (121, 2),\n  (122, 2),\n  (123, 7),\n  (124, 2),\n  (124, 10),\n  (125, 0),\n  (125, 7),\n  (126, 3),\n  (130, 12),\n  (131, 8),\n  (132, 0),\n  (132, 3),\n  (132, 7),\n  (133, 10),\n  (134, 2),\n  (135, 7),\n  (135, 12),\n  (138, 4),\n  (138, 9),\n  (140, 4),\n  (142, 7),\n  (143, 6),\n  (143, 8),\n  (144, 1),\n  (144, 3),\n  (145, 5),\n  (145, 8),\n  (146, 5),\n  (147, 0),\n  (147, 8),\n  (148, 4),\n  (148, 8),\n  (148, 12),\n  (149, 2),\n  (149, 5),\n  (150, 10),\n  (151, 1),\n  (152, 8),\n  (152, 9),\n  (152, 12),\n  (155, 6),\n  (156, 1),\n  (157, 3),\n  (158, 2),\n  (158, 10),\n  (159, 2),\n  (160, 1),\n  (160, 7),\n  (160, 8),\n  (161, 8),\n  (162, 4),\n  (162, 9),\n  (163, 8),\n  (164, 0),\n  (164, 2),\n  (164, 12),\n  (165, 2),\n  (165, 7),\n  (166, 3),\n  (166, 7),\n  (166, 10),\n  (168, 2),\n  (168, 3),\n  (169, 5),\n  (169, 6),\n  (170, 8),\n  (170, 9),\n  (171, 3),\n  (172, 0),\n  (172, 8),\n  (172, 11),\n  (173, 5),\n  (174, 1),\n  (175, 0),\n  (177, 1),\n  (177, 6),\n  (177, 8),\n  (179, 3),\n  (180, 1),\n  (181, 4),\n  (183, 0),\n  (183, 7),\n  (184, 4),\n  (184, 11),\n  (185, 0),\n  (185, 1),\n  (185, 9),\n  (186, 4),\n  (186, 10),\n  (190, 11),\n  (191, 4),\n  (191, 5),\n  (191, 12),\n  (192, 3),\n  (194, 4),\n  (194, 5),\n  (194, 7),\n  (195, 12),\n  (197, 1),\n  (198, 8),\n  (198, 10),\n  (199, 1),\n  (199, 6),\n  (199, 8),\n  (200, 5),\n  (200, 11),\n  (202, 5),\n  (202, 6),\n  (202, 7),\n  (203, 0),\n  (203, 6),\n  (205, 1),\n  (208, 3),\n  (208, 11),\n  (208, 12),\n  (210, 1),\n  (211, 2),\n  (214, 9),\n  (215, 4),\n  (215, 10),\n  (216, 1),\n  (216, 9),\n  (217, 3),\n  (219, 11),\n  (220, 4),\n  (220, 12),\n  (221, 1),\n  (221, 6),\n  (221, 8),\n  (223, 5),\n  (224, 2),\n  (224, 3),\n  (224, 9),\n  (224, 10),\n  (225, 0),\n  (225, 3),\n  (225, 9),\n  (225, 10),\n  (226, 0),\n  (226, 2),\n  (227, 4)],\n [(0, 0),\n  (0, 5),\n  (0, 7),\n  (2, 11),\n  (3, 9),\n  (3, 12),\n  (4, 6),\n  (4, 9),\n  (5, 8),\n  (6, 0),\n  (7, 7),\n  (8, 5),\n  (8, 7),\n  (9, 0),\n  (9, 2),\n  (11, 12),\n  (12, 2),\n  (12, 3),\n  (12, 4),\n  (13, 8),\n  (15, 3),\n  (15, 5),\n  (15, 12),\n  (18, 3),\n  (20, 2),\n  (20, 10),\n  (21, 1),\n  (21, 7),\n  (23, 0),\n  (23, 8),\n  (23, 11),\n  (24, 6),\n  (24, 7),\n  (24, 11),\n  (27, 4),\n  (27, 6),\n  (27, 10),\n  (28, 0),\n  (28, 10),\n  (28, 11),\n  (29, 4),\n  (30, 12),\n  (31, 11),\n  (32, 7),\n  (34, 5),\n  (34, 9),\n  (37, 10),\n  (37, 12),\n  (38, 3),\n  (38, 6),\n  (38, 7),\n  (39, 10),\n  (40, 0),\n  (40, 1),\n  (41, 7),\n  (43, 5),\n  (43, 7),\n  (45, 1),\n  (45, 2),\n  (45, 12),\n  (46, 3),\n  (46, 5),\n  (47, 1),\n  (48, 0),\n  (49, 2),\n  (49, 8),\n  (50, 10),\n  (51, 2),\n  (51, 3),\n  (51, 7),\n  (52, 8),\n  (53, 4),\n  (55, 1),\n  (55, 8),\n  (56, 4),\n  (57, 0),\n  (58, 2),\n  (58, 7),\n  (59, 1),\n  (61, 0),\n  (61, 3),\n  (61, 6),\n  (62, 3),\n  (63, 7),\n  (64, 7),\n  (67, 2),\n  (69, 3),\n  (69, 4),\n  (69, 7),\n  (69, 10),\n  (70, 1),\n  (70, 5),\n  (71, 0),\n  (71, 3),\n  (71, 4),\n  (71, 8),\n  (72, 0),\n  (73, 7),\n  (73, 10),\n  (77, 5),\n  (78, 1),\n  (78, 9),\n  (78, 10),\n  (79, 9),\n  (79, 11),\n  (80, 2),\n  (82, 9),\n  (82, 10),\n  (86, 6),\n  (86, 8),\n  (86, 10),\n  (87, 0),\n  (87, 1),\n  (88, 4),\n  (88, 7),\n  (88, 8),\n  (89, 10),\n  (89, 11),\n  (89, 12),\n  (90, 4),\n  (90, 6),\n  (91, 10),\n  (93, 10),\n  (94, 12),\n  (96, 3),\n  (98, 2),\n  (98, 4),\n  (99, 3),\n  (100, 4),\n  (100, 7),\n  (100, 12),\n  (101, 7),\n  (102, 3),\n  (103, 5),\n  (104, 2),\n  (107, 12),\n  (108, 1),\n  (108, 6),\n  (108, 9),\n  (109, 3),\n  (109, 7),\n  (110, 0),\n  (110, 1),\n  (111, 11),\n  (112, 8),\n  (113, 0),\n  (113, 2),\n  (113, 9),\n  (114, 5),\n  (114, 9),\n  (115, 5),\n  (115, 11),\n  (116, 8),\n  (117, 10),\n  (117, 12),\n  (119, 6),\n  (119, 7),\n  (119, 11),\n  (120, 4),\n  (121, 2),\n  (122, 2),\n  (123, 7),\n  (124, 2),\n  (124, 10),\n  (125, 0),\n  (125, 7),\n  (126, 3),\n  (130, 12),\n  (131, 8),\n  (132, 0),\n  (132, 3),\n  (132, 7),\n  (133, 10),\n  (134, 2),\n  (135, 7),\n  (135, 12),\n  (138, 4),\n  (138, 9),\n  (140, 4),\n  (142, 7),\n  (143, 6),\n  (143, 8),\n  (144, 1),\n  (144, 3),\n  (145, 5),\n  (145, 8),\n  (146, 5),\n  (147, 0),\n  (147, 8),\n  (148, 4),\n  (148, 8),\n  (148, 12),\n  (149, 2),\n  (149, 5),\n  (150, 10),\n  (151, 1),\n  (152, 8),\n  (152, 9),\n  (152, 12),\n  (155, 6),\n  (156, 1),\n  (157, 3),\n  (158, 2),\n  (158, 10),\n  (159, 2),\n  (160, 1),\n  (160, 7),\n  (160, 8),\n  (161, 8),\n  (162, 4),\n  (162, 9),\n  (163, 8),\n  (164, 0),\n  (164, 2),\n  (164, 12),\n  (165, 2),\n  (165, 7),\n  (166, 3),\n  (166, 7),\n  (166, 10),\n  (168, 2),\n  (168, 3),\n  (169, 5),\n  (169, 6),\n  (170, 8),\n  (170, 9),\n  (171, 3),\n  (172, 0),\n  (172, 8),\n  (172, 11),\n  (173, 5),\n  (174, 1),\n  (175, 0),\n  (177, 1),\n  (177, 6),\n  (177, 8),\n  (179, 3),\n  (180, 1),\n  (181, 4),\n  (183, 0),\n  (183, 7),\n  (184, 4),\n  (184, 11),\n  (185, 0),\n  (185, 1),\n  (185, 9),\n  (186, 4),\n  (186, 10),\n  (190, 11),\n  (191, 4),\n  (191, 5),\n  (191, 12),\n  (192, 3),\n  (194, 4),\n  (194, 5),\n  (194, 7),\n  (195, 12),\n  (197, 1),\n  (198, 8),\n  (198, 10),\n  (199, 1),\n  (199, 6),\n  (199, 8),\n  (200, 5),\n  (200, 11),\n  (202, 5),\n  (202, 6),\n  (202, 7),\n  (203, 0),\n  (203, 6),\n  (205, 1),\n  (208, 3),\n  (208, 11),\n  (208, 12),\n  (210, 1),\n  (211, 2),\n  (214, 9),\n  (215, 4),\n  (215, 10),\n  (216, 1),\n  (216, 9),\n  (217, 3),\n  (219, 11),\n  (220, 4),\n  (220, 12),\n  (221, 1),\n  (221, 6),\n  (221, 8),\n  (223, 5),\n  (224, 2),\n  (224, 3),\n  (224, 9),\n  (224, 10),\n  (225, 0),\n  (225, 3),\n  (225, 9),\n  (225, 10),\n  (226, 0),\n  (226, 2),\n  (227, 4)],\n [(0, 0),\n  (0, 5),\n  (0, 7),\n  (2, 11),\n  (3, 9),\n  (3, 12),\n  (4, 6),\n  (4, 9),\n  (5, 8),\n  (6, 0),\n  (7, 7),\n  (8, 5),\n  (8, 7),\n  (9, 0),\n  (9, 2),\n  (11, 12),\n  (12, 2),\n  (12, 3),\n  (12, 4),\n  (13, 8),\n  (15, 3),\n  (15, 5),\n  (15, 12),\n  (18, 3),\n  (20, 2),\n  (20, 10),\n  (21, 1),\n  (21, 7),\n  (23, 0),\n  (23, 8),\n  (23, 11),\n  (24, 6),\n  (24, 7),\n  (24, 11),\n  (27, 4),\n  (27, 6),\n  (27, 10),\n  (28, 0),\n  (28, 10),\n  (28, 11),\n  (29, 4),\n  (30, 12),\n  (31, 11),\n  (32, 7),\n  (34, 5),\n  (34, 9),\n  (37, 10),\n  (37, 12),\n  (38, 3),\n  (38, 6),\n  (38, 7),\n  (39, 10),\n  (40, 0),\n  (40, 1),\n  (41, 7),\n  (43, 5),\n  (43, 7),\n  (45, 1),\n  (45, 2),\n  (45, 12),\n  (46, 3),\n  (46, 5),\n  (47, 1),\n  (48, 0),\n  (49, 2),\n  (49, 8),\n  (50, 10),\n  (51, 2),\n  (51, 3),\n  (51, 7),\n  (52, 8),\n  (53, 4),\n  (55, 1),\n  (55, 8),\n  (56, 4),\n  (57, 0),\n  (58, 2),\n  (58, 7),\n  (59, 1),\n  (61, 0),\n  (61, 3),\n  (61, 6),\n  (62, 3),\n  (63, 7),\n  (64, 7),\n  (67, 2),\n  (69, 3),\n  (69, 4),\n  (69, 7),\n  (69, 10),\n  (70, 1),\n  (70, 5),\n  (71, 0),\n  (71, 3),\n  (71, 4),\n  (71, 8),\n  (72, 0),\n  (73, 7),\n  (73, 10),\n  (77, 5),\n  (78, 1),\n  (78, 9),\n  (78, 10),\n  (79, 9),\n  (79, 11),\n  (80, 2),\n  (82, 9),\n  (82, 10),\n  (86, 6),\n  (86, 8),\n  (86, 10),\n  (87, 0),\n  (87, 1),\n  (88, 4),\n  (88, 7),\n  (88, 8),\n  (89, 10),\n  (89, 11),\n  (89, 12),\n  (90, 4),\n  (90, 6),\n  (91, 10),\n  (93, 10),\n  (94, 12),\n  (96, 3),\n  (98, 2),\n  (98, 4),\n  (99, 3),\n  (100, 4),\n  (100, 7),\n  (100, 12),\n  (101, 7),\n  (102, 3),\n  (103, 5),\n  (104, 2),\n  (107, 12),\n  (108, 1),\n  (108, 6),\n  (108, 9),\n  (109, 3),\n  (109, 7),\n  (110, 0),\n  (110, 1),\n  (111, 11),\n  (112, 8),\n  (113, 0),\n  (113, 2),\n  (113, 9),\n  (114, 5),\n  (114, 9),\n  (115, 5),\n  (115, 11),\n  (116, 8),\n  (117, 10),\n  (117, 12),\n  (119, 6),\n  (119, 7),\n  (119, 11),\n  (120, 4),\n  (121, 2),\n  (122, 2),\n  (123, 7),\n  (124, 2),\n  (124, 10),\n  (125, 0),\n  (125, 7),\n  (126, 3),\n  (130, 12),\n  (131, 8),\n  (132, 0),\n  (132, 3),\n  (132, 7),\n  (133, 10),\n  (134, 2),\n  (135, 7),\n  (135, 12),\n  (138, 4),\n  (138, 9),\n  (140, 4),\n  (142, 7),\n  (143, 6),\n  (143, 8),\n  (144, 1),\n  (144, 3),\n  (145, 5),\n  (145, 8),\n  (146, 5),\n  (147, 0),\n  (147, 8),\n  (148, 4),\n  (148, 8),\n  (148, 12),\n  (149, 2),\n  (149, 5),\n  (150, 10),\n  (151, 1),\n  (152, 8),\n  (152, 9),\n  (152, 12),\n  (155, 6),\n  (156, 1),\n  (157, 3),\n  (158, 2),\n  (158, 10),\n  (159, 2),\n  (160, 1),\n  (160, 7),\n  (160, 8),\n  (161, 8),\n  (162, 4),\n  (162, 9),\n  (163, 8),\n  (164, 0),\n  (164, 2),\n  (164, 12),\n  (165, 2),\n  (165, 7),\n  (166, 3),\n  (166, 7),\n  (166, 10),\n  (168, 2),\n  (168, 3),\n  (169, 5),\n  (169, 6),\n  (170, 8),\n  (170, 9),\n  (171, 3),\n  (172, 0),\n  (172, 8),\n  (172, 11),\n  (173, 5),\n  (174, 1),\n  (175, 0),\n  (177, 1),\n  (177, 6),\n  (177, 8),\n  (179, 3),\n  (180, 1),\n  (181, 4),\n  (183, 0),\n  (183, 7),\n  (184, 4),\n  (184, 11),\n  (185, 0),\n  (185, 1),\n  (185, 9),\n  (186, 4),\n  (186, 10),\n  (190, 11),\n  (191, 4),\n  (191, 5),\n  (191, 12),\n  (192, 3),\n  (194, 4),\n  (194, 5),\n  (194, 7),\n  (195, 12),\n  (197, 1),\n  (198, 8),\n  (198, 10),\n  (199, 1),\n  (199, 6),\n  (199, 8),\n  (200, 5),\n  (200, 11),\n  (202, 5),\n  (202, 6),\n  (202, 7),\n  (203, 0),\n  (203, 6),\n  (205, 1),\n  (208, 3),\n  (208, 11),\n  (208, 12),\n  (210, 1),\n  (211, 2),\n  (214, 9),\n  (215, 4),\n  (215, 10),\n  (216, 1),\n  (216, 9),\n  (217, 3),\n  (219, 11),\n  (220, 4),\n  (220, 12),\n  (221, 1),\n  (221, 6),\n  (221, 8),\n  (223, 5),\n  (224, 2),\n  (224, 3),\n  (224, 9),\n  (224, 10),\n  (225, 0),\n  (225, 3),\n  (225, 9),\n  (225, 10),\n  (226, 0),\n  (226, 2),\n  (227, 4)],\n [(0, 0),\n  (0, 5),\n  (0, 7),\n  (2, 11),\n  (3, 9),\n  (3, 12),\n  (4, 6),\n  (4, 9),\n  (5, 8),\n  (6, 0),\n  (7, 7),\n  (8, 5),\n  (8, 7),\n  (9, 0),\n  (9, 2),\n  (11, 12),\n  (12, 2),\n  (12, 3),\n  (12, 4),\n  (13, 8),\n  (15, 3),\n  (15, 5),\n  (15, 12),\n  (18, 3),\n  (20, 2),\n  (20, 10),\n  (21, 1),\n  (21, 7),\n  (23, 0),\n  (23, 8),\n  (23, 11),\n  (24, 6),\n  (24, 7),\n  (24, 11),\n  (27, 4),\n  (27, 6),\n  (27, 10),\n  (28, 0),\n  (28, 10),\n  (28, 11),\n  (29, 4),\n  (30, 12),\n  (31, 11),\n  (32, 7),\n  (34, 5),\n  (34, 9),\n  (37, 10),\n  (37, 12),\n  (38, 3),\n  (38, 6),\n  (38, 7),\n  (39, 10),\n  (40, 0),\n  (40, 1),\n  (41, 7),\n  (43, 5),\n  (43, 7),\n  (45, 1),\n  (45, 2),\n  (45, 12),\n  (46, 3),\n  (46, 5),\n  (47, 1),\n  (48, 0),\n  (49, 2),\n  (49, 8),\n  (50, 10),\n  (51, 2),\n  (51, 3),\n  (51, 7),\n  (52, 8),\n  (53, 4),\n  (55, 1),\n  (55, 8),\n  (56, 4),\n  (57, 0),\n  (58, 2),\n  (58, 7),\n  (59, 1),\n  (61, 0),\n  (61, 3),\n  (61, 6),\n  (62, 3),\n  (63, 7),\n  (64, 7),\n  (67, 2),\n  (69, 3),\n  (69, 4),\n  (69, 7),\n  (69, 10),\n  (70, 1),\n  (70, 5),\n  (71, 0),\n  (71, 3),\n  (71, 4),\n  (71, 8),\n  (72, 0),\n  (73, 7),\n  (73, 10),\n  (77, 5),\n  (78, 1),\n  (78, 9),\n  (78, 10),\n  (79, 9),\n  (79, 11),\n  (80, 2),\n  (82, 9),\n  (82, 10),\n  (86, 6),\n  (86, 8),\n  (86, 10),\n  (87, 0),\n  (87, 1),\n  (88, 4),\n  (88, 7),\n  (88, 8),\n  (89, 10),\n  (89, 11),\n  (89, 12),\n  (90, 4),\n  (90, 6),\n  (91, 10),\n  (93, 10),\n  (94, 12),\n  (96, 3),\n  (98, 2),\n  (98, 4),\n  (99, 3),\n  (100, 4),\n  (100, 7),\n  (100, 12),\n  (101, 7),\n  (102, 3),\n  (103, 5),\n  (104, 2),\n  (107, 12),\n  (108, 1),\n  (108, 6),\n  (108, 9),\n  (109, 3),\n  (109, 7),\n  (110, 0),\n  (110, 1),\n  (111, 11),\n  (112, 8),\n  (113, 0),\n  (113, 2),\n  (113, 9),\n  (114, 5),\n  (114, 9),\n  (115, 5),\n  (115, 11),\n  (116, 8),\n  (117, 10),\n  (117, 12),\n  (119, 6),\n  (119, 7),\n  (119, 11),\n  (120, 4),\n  (121, 2),\n  (122, 2),\n  (123, 7),\n  (124, 2),\n  (124, 10),\n  (125, 0),\n  (125, 7),\n  (126, 3),\n  (130, 12),\n  (131, 8),\n  (132, 0),\n  (132, 3),\n  (132, 7),\n  (133, 10),\n  (134, 2),\n  (135, 7),\n  (135, 12),\n  (138, 4),\n  (138, 9),\n  (140, 4),\n  (142, 7),\n  (143, 6),\n  (143, 8),\n  (144, 1),\n  (144, 3),\n  (145, 5),\n  (145, 8),\n  (146, 5),\n  (147, 0),\n  (147, 8),\n  (148, 4),\n  (148, 8),\n  (148, 12),\n  (149, 2),\n  (149, 5),\n  (150, 10),\n  (151, 1),\n  (152, 8),\n  (152, 9),\n  (152, 12),\n  (155, 6),\n  (156, 1),\n  (157, 3),\n  (158, 2),\n  (158, 10),\n  (159, 2),\n  (160, 1),\n  (160, 7),\n  (160, 8),\n  (161, 8),\n  (162, 4),\n  (162, 9),\n  (163, 8),\n  (164, 0),\n  (164, 2),\n  (164, 12),\n  (165, 2),\n  (165, 7),\n  (166, 3),\n  (166, 7),\n  (166, 10),\n  (168, 2),\n  (168, 3),\n  (169, 5),\n  (169, 6),\n  (170, 8),\n  (170, 9),\n  (171, 3),\n  (172, 0),\n  (172, 8),\n  (172, 11),\n  (173, 5),\n  (174, 1),\n  (175, 0),\n  (177, 1),\n  (177, 6),\n  (177, 8),\n  (179, 3),\n  (180, 1),\n  (181, 4),\n  (183, 0),\n  (183, 7),\n  (184, 4),\n  (184, 11),\n  (185, 0),\n  (185, 1),\n  (185, 9),\n  (186, 4),\n  (186, 10),\n  (190, 11),\n  (191, 4),\n  (191, 5),\n  (191, 12),\n  (192, 3),\n  (194, 4),\n  (194, 5),\n  (194, 7),\n  (195, 12),\n  (197, 1),\n  (198, 8),\n  (198, 10),\n  (199, 1),\n  (199, 6),\n  (199, 8),\n  (200, 5),\n  (200, 11),\n  (202, 5),\n  (202, 6),\n  (202, 7),\n  (203, 0),\n  (203, 6),\n  (205, 1),\n  (208, 3),\n  (208, 11),\n  (208, 12),\n  (210, 1),\n  (211, 2),\n  (214, 9),\n  (215, 4),\n  (215, 10),\n  (216, 1),\n  (216, 9),\n  (217, 3),\n  (219, 11),\n  (220, 4),\n  (220, 12),\n  (221, 1),\n  (221, 6),\n  (221, 8),\n  (223, 5),\n  (224, 2),\n  (224, 3),\n  (224, 9),\n  (224, 10),\n  (225, 0),\n  (225, 3),\n  (225, 9),\n  (225, 10),\n  (226, 0),\n  (226, 2),\n  (227, 4)],\n [(0, 0),\n  (0, 5),\n  (0, 7),\n  (2, 11),\n  (3, 9),\n  (3, 12),\n  (4, 6),\n  (4, 9),\n  (5, 8),\n  (6, 0),\n  (7, 7),\n  (8, 5),\n  (8, 7),\n  (9, 0),\n  (9, 2),\n  (11, 12),\n  (12, 2),\n  (12, 3),\n  (12, 4),\n  (13, 8),\n  (15, 3),\n  (15, 5),\n  (15, 12),\n  (18, 3),\n  (20, 2),\n  (20, 10),\n  (21, 1),\n  (21, 7),\n  (23, 0),\n  (23, 8),\n  (23, 11),\n  (24, 6),\n  (24, 7),\n  (24, 11),\n  (27, 4),\n  (27, 6),\n  (27, 10),\n  (28, 0),\n  (28, 10),\n  (28, 11),\n  (29, 4),\n  (30, 12),\n  (31, 11),\n  (32, 7),\n  (34, 5),\n  (34, 9),\n  (37, 10),\n  (37, 12),\n  (38, 3),\n  (38, 6),\n  (38, 7),\n  (39, 10),\n  (40, 0),\n  (40, 1),\n  (41, 7),\n  (43, 5),\n  (43, 7),\n  (45, 1),\n  (45, 2),\n  (45, 12),\n  (46, 3),\n  (46, 5),\n  (47, 1),\n  (48, 0),\n  (49, 2),\n  (49, 8),\n  (50, 10),\n  (51, 2),\n  (51, 3),\n  (51, 7),\n  (52, 8),\n  (53, 4),\n  (55, 1),\n  (55, 8),\n  (56, 4),\n  (57, 0),\n  (58, 2),\n  (58, 7),\n  (59, 1),\n  (61, 0),\n  (61, 3),\n  (61, 6),\n  (62, 3),\n  (63, 7),\n  (64, 7),\n  (67, 2),\n  (69, 3),\n  (69, 4),\n  (69, 7),\n  (69, 10),\n  (70, 1),\n  (70, 5),\n  (71, 0),\n  (71, 3),\n  (71, 4),\n  (71, 8),\n  (72, 0),\n  (73, 7),\n  (73, 10),\n  (77, 5),\n  (78, 1),\n  (78, 9),\n  (78, 10),\n  (79, 9),\n  (79, 11),\n  (80, 2),\n  (82, 9),\n  (82, 10),\n  (86, 6),\n  (86, 8),\n  (86, 10),\n  (87, 0),\n  (87, 1),\n  (88, 4),\n  (88, 7),\n  (88, 8),\n  (89, 10),\n  (89, 11),\n  (89, 12),\n  (90, 4),\n  (90, 6),\n  (91, 10),\n  (93, 10),\n  (94, 12),\n  (96, 3),\n  (98, 2),\n  (98, 4),\n  (99, 3),\n  (100, 4),\n  (100, 7),\n  (100, 12),\n  (101, 7),\n  (102, 3),\n  (103, 5),\n  (104, 2),\n  (107, 12),\n  (108, 1),\n  (108, 6),\n  (108, 9),\n  (109, 3),\n  (109, 7),\n  (110, 0),\n  (110, 1),\n  (111, 11),\n  (112, 8),\n  (113, 0),\n  (113, 2),\n  (113, 9),\n  (114, 5),\n  (114, 9),\n  (115, 5),\n  (115, 11),\n  (116, 8),\n  (117, 10),\n  (117, 12),\n  (119, 6),\n  (119, 7),\n  (119, 11),\n  (120, 4),\n  (121, 2),\n  (122, 2),\n  (123, 7),\n  (124, 2),\n  (124, 10),\n  (125, 0),\n  (125, 7),\n  (126, 3),\n  (130, 12),\n  (131, 8),\n  (132, 0),\n  (132, 3),\n  (132, 7),\n  (133, 10),\n  (134, 2),\n  (135, 7),\n  (135, 12),\n  (138, 4),\n  (138, 9),\n  (140, 4),\n  (142, 7),\n  (143, 6),\n  (143, 8),\n  (144, 1),\n  (144, 3),\n  (145, 5),\n  (145, 8),\n  (146, 5),\n  (147, 0),\n  (147, 8),\n  (148, 4),\n  (148, 8),\n  (148, 12),\n  (149, 2),\n  (149, 5),\n  (150, 10),\n  (151, 1),\n  (152, 8),\n  (152, 9),\n  (152, 12),\n  (155, 6),\n  (156, 1),\n  (157, 3),\n  (158, 2),\n  (158, 10),\n  (159, 2),\n  (160, 1),\n  (160, 7),\n  (160, 8),\n  (161, 8),\n  (162, 4),\n  (162, 9),\n  (163, 8),\n  (164, 0),\n  (164, 2),\n  (164, 12),\n  (165, 2),\n  (165, 7),\n  (166, 3),\n  (166, 7),\n  (166, 10),\n  (168, 2),\n  (168, 3),\n  (169, 5),\n  (169, 6),\n  (170, 8),\n  (170, 9),\n  (171, 3),\n  (172, 0),\n  (172, 8),\n  (172, 11),\n  (173, 5),\n  (174, 1),\n  (175, 0),\n  (177, 1),\n  (177, 6),\n  (177, 8),\n  (179, 3),\n  (180, 1),\n  (181, 4),\n  (183, 0),\n  (183, 7),\n  (184, 4),\n  (184, 11),\n  (185, 0),\n  (185, 1),\n  (185, 9),\n  (186, 4),\n  (186, 10),\n  (190, 11),\n  (191, 4),\n  (191, 5),\n  (191, 12),\n  (192, 3),\n  (194, 4),\n  (194, 5),\n  (194, 7),\n  (195, 12),\n  (197, 1),\n  (198, 8),\n  (198, 10),\n  (199, 1),\n  (199, 6),\n  (199, 8),\n  (200, 5),\n  (200, 11),\n  (202, 5),\n  (202, 6),\n  (202, 7),\n  (203, 0),\n  (203, 6),\n  (205, 1),\n  (208, 3),\n  (208, 11),\n  (208, 12),\n  (210, 1),\n  (211, 2),\n  (214, 9),\n  (215, 4),\n  (215, 10),\n  (216, 1),\n  (216, 9),\n  (217, 3),\n  (219, 11),\n  (220, 4),\n  (220, 12),\n  (221, 1),\n  (221, 6),\n  (221, 8),\n  (223, 5),\n  (224, 2),\n  (224, 3),\n  (224, 9),\n  (224, 10),\n  (225, 0),\n  (225, 3),\n  (225, 9),\n  (225, 10),\n  (226, 0),\n  (226, 2),\n  (227, 4)],\n [(0, 0),\n  (0, 5),\n  (0, 7),\n  (2, 11),\n  (3, 9),\n  (3, 12),\n  (4, 6),\n  (4, 9),\n  (5, 8),\n  (6, 0),\n  (7, 7),\n  (8, 5),\n  (8, 7),\n  (9, 0),\n  (9, 2),\n  (11, 12),\n  (12, 2),\n  (12, 3),\n  (12, 4),\n  (13, 8),\n  (15, 3),\n  (15, 5),\n  (15, 12),\n  (18, 3),\n  (20, 2),\n  (20, 10),\n  (21, 1),\n  (21, 7),\n  (23, 0),\n  (23, 8),\n  (23, 11),\n  (24, 6),\n  (24, 7),\n  (24, 11),\n  (27, 4),\n  (27, 6),\n  (27, 10),\n  (28, 0),\n  (28, 10),\n  (28, 11),\n  (29, 4),\n  (30, 12),\n  (31, 11),\n  (32, 7),\n  (34, 5),\n  (34, 9),\n  (37, 10),\n  (37, 12),\n  (38, 3),\n  (38, 6),\n  (38, 7),\n  (39, 10),\n  (40, 0),\n  (40, 1),\n  (41, 7),\n  (43, 5),\n  (43, 7),\n  (45, 1),\n  (45, 2),\n  (45, 12),\n  (46, 3),\n  (46, 5),\n  (47, 1),\n  (48, 0),\n  (49, 2),\n  (49, 8),\n  (50, 10),\n  (51, 2),\n  (51, 3),\n  (51, 7),\n  (52, 8),\n  (53, 4),\n  (55, 1),\n  (55, 8),\n  (56, 4),\n  (57, 0),\n  (58, 2),\n  (58, 7),\n  (59, 1),\n  (61, 0),\n  (61, 3),\n  (61, 6),\n  (62, 3),\n  (63, 7),\n  (64, 7),\n  (67, 2),\n  (69, 3),\n  (69, 4),\n  (69, 7),\n  (69, 10),\n  (70, 1),\n  (70, 5),\n  (71, 0),\n  (71, 3),\n  (71, 4),\n  (71, 8),\n  (72, 0),\n  (73, 7),\n  (73, 10),\n  (77, 5),\n  (78, 1),\n  (78, 9),\n  (78, 10),\n  (79, 9),\n  (79, 11),\n  (80, 2),\n  (82, 9),\n  (82, 10),\n  (86, 6),\n  (86, 8),\n  (86, 10),\n  (87, 0),\n  (87, 1),\n  (88, 4),\n  (88, 7),\n  (88, 8),\n  (89, 10),\n  (89, 11),\n  (89, 12),\n  (90, 4),\n  (90, 6),\n  (91, 10),\n  (93, 10),\n  (94, 12),\n  (96, 3),\n  (98, 2),\n  (98, 4),\n  (99, 3),\n  (100, 4),\n  (100, 7),\n  (100, 12),\n  (101, 7),\n  (102, 3),\n  (103, 5),\n  (104, 2),\n  (107, 12),\n  (108, 1),\n  (108, 6),\n  (108, 9),\n  (109, 3),\n  (109, 7),\n  (110, 0),\n  (110, 1),\n  (111, 11),\n  (112, 8),\n  (113, 0),\n  (113, 2),\n  (113, 9),\n  (114, 5),\n  (114, 9),\n  (115, 5),\n  (115, 11),\n  (116, 8),\n  (117, 10),\n  (117, 12),\n  (119, 6),\n  (119, 7),\n  (119, 11),\n  (120, 4),\n  (121, 2),\n  (122, 2),\n  (123, 7),\n  (124, 2),\n  (124, 10),\n  (125, 0),\n  (125, 7),\n  (126, 3),\n  (130, 12),\n  (131, 8),\n  (132, 0),\n  (132, 3),\n  (132, 7),\n  (133, 10),\n  (134, 2),\n  (135, 7),\n  (135, 12),\n  (138, 4),\n  (138, 9),\n  (140, 4),\n  (142, 7),\n  (143, 6),\n  (143, 8),\n  (144, 1),\n  (144, 3),\n  (145, 5),\n  (145, 8),\n  (146, 5),\n  (147, 0),\n  (147, 8),\n  (148, 4),\n  (148, 8),\n  (148, 12),\n  (149, 2),\n  (149, 5),\n  (150, 10),\n  (151, 1),\n  (152, 8),\n  (152, 9),\n  (152, 12),\n  (155, 6),\n  (156, 1),\n  (157, 3),\n  (158, 2),\n  (158, 10),\n  (159, 2),\n  (160, 1),\n  (160, 7),\n  (160, 8),\n  (161, 8),\n  (162, 4),\n  (162, 9),\n  (163, 8),\n  (164, 0),\n  (164, 2),\n  (164, 12),\n  (165, 2),\n  (165, 7),\n  (166, 3),\n  (166, 7),\n  (166, 10),\n  (168, 2),\n  (168, 3),\n  (169, 5),\n  (169, 6),\n  (170, 8),\n  (170, 9),\n  (171, 3),\n  (172, 0),\n  (172, 8),\n  (172, 11),\n  (173, 5),\n  (174, 1),\n  (175, 0),\n  (177, 1),\n  (177, 6),\n  (177, 8),\n  (179, 3),\n  (180, 1),\n  (181, 4),\n  (183, 0),\n  (183, 7),\n  (184, 4),\n  (184, 11),\n  (185, 0),\n  (185, 1),\n  (185, 9),\n  (186, 4),\n  (186, 10),\n  (190, 11),\n  (191, 4),\n  (191, 5),\n  (191, 12),\n  (192, 3),\n  (194, 4),\n  (194, 5),\n  (194, 7),\n  (195, 12),\n  (197, 1),\n  (198, 8),\n  (198, 10),\n  (199, 1),\n  (199, 6),\n  (199, 8),\n  (200, 5),\n  (200, 11),\n  (202, 5),\n  (202, 6),\n  (202, 7),\n  (203, 0),\n  (203, 6),\n  (205, 1),\n  (208, 3),\n  (208, 11),\n  (208, 12),\n  (210, 1),\n  (211, 2),\n  (214, 9),\n  (215, 4),\n  (215, 10),\n  (216, 1),\n  (216, 9),\n  (217, 3),\n  (219, 11),\n  (220, 4),\n  (220, 12),\n  (221, 1),\n  (221, 6),\n  (221, 8),\n  (223, 5),\n  (224, 2),\n  (224, 3),\n  (224, 9),\n  (224, 10),\n  (225, 0),\n  (225, 3),\n  (225, 9),\n  (225, 10),\n  (226, 0),\n  (226, 2),\n  (227, 4)],\n [(0, 0),\n  (0, 5),\n  (0, 7),\n  (2, 11),\n  (3, 9),\n  (3, 12),\n  (4, 6),\n  (4, 9),\n  (5, 8),\n  (6, 0),\n  (7, 7),\n  (8, 5),\n  (8, 7),\n  (9, 0),\n  (9, 2),\n  (11, 12),\n  (12, 2),\n  (12, 3),\n  (12, 4),\n  (13, 8),\n  (15, 3),\n  (15, 5),\n  (15, 12),\n  (18, 3),\n  (20, 2),\n  (20, 10),\n  (21, 1),\n  (21, 7),\n  (23, 0),\n  (23, 8),\n  (23, 11),\n  (24, 6),\n  (24, 7),\n  (24, 11),\n  (27, 4),\n  (27, 6),\n  (27, 10),\n  (28, 0),\n  (28, 10),\n  (28, 11),\n  (29, 4),\n  (30, 12),\n  (31, 11),\n  (32, 7),\n  (34, 5),\n  (34, 9),\n  (37, 10),\n  (37, 12),\n  (38, 3),\n  (38, 6),\n  (38, 7),\n  (39, 10),\n  (40, 0),\n  (40, 1),\n  (41, 7),\n  (43, 5),\n  (43, 7),\n  (45, 1),\n  (45, 2),\n  (45, 12),\n  (46, 3),\n  (46, 5),\n  (47, 1),\n  (48, 0),\n  (49, 2),\n  (49, 8),\n  (50, 10),\n  (51, 2),\n  (51, 3),\n  (51, 7),\n  (52, 8),\n  (53, 4),\n  (55, 1),\n  (55, 8),\n  (56, 4),\n  (57, 0),\n  (58, 2),\n  (58, 7),\n  (59, 1),\n  (61, 0),\n  (61, 3),\n  (61, 6),\n  (62, 3),\n  (63, 7),\n  (64, 7),\n  (67, 2),\n  (69, 3),\n  (69, 4),\n  (69, 7),\n  (69, 10),\n  (70, 1),\n  (70, 5),\n  (71, 0),\n  (71, 3),\n  (71, 4),\n  (71, 8),\n  (72, 0),\n  (73, 7),\n  (73, 10),\n  (77, 5),\n  (78, 1),\n  (78, 9),\n  (78, 10),\n  (79, 9),\n  (79, 11),\n  (80, 2),\n  (82, 9),\n  (82, 10),\n  (86, 6),\n  (86, 8),\n  (86, 10),\n  (87, 0),\n  (87, 1),\n  (88, 4),\n  (88, 7),\n  (88, 8),\n  (89, 10),\n  (89, 11),\n  (89, 12),\n  (90, 4),\n  (90, 6),\n  (91, 10),\n  (93, 10),\n  (94, 12),\n  (96, 3),\n  (98, 2),\n  (98, 4),\n  (99, 3),\n  (100, 4),\n  (100, 7),\n  (100, 12),\n  (101, 7),\n  (102, 3),\n  (103, 5),\n  (104, 2),\n  (107, 12),\n  (108, 1),\n  (108, 6),\n  (108, 9),\n  (109, 3),\n  (109, 7),\n  (110, 0),\n  (110, 1),\n  (111, 11),\n  (112, 8),\n  (113, 0),\n  (113, 2),\n  (113, 9),\n  (114, 5),\n  (114, 9),\n  (115, 5),\n  (115, 11),\n  (116, 8),\n  (117, 10),\n  (117, 12),\n  (119, 6),\n  (119, 7),\n  (119, 11),\n  (120, 4),\n  (121, 2),\n  (122, 2),\n  (123, 7),\n  (124, 2),\n  (124, 10),\n  (125, 0),\n  (125, 7),\n  (126, 3),\n  (130, 12),\n  (131, 8),\n  (132, 0),\n  (132, 3),\n  (132, 7),\n  (133, 10),\n  (134, 2),\n  (135, 7),\n  (135, 12),\n  (138, 4),\n  (138, 9),\n  (140, 4),\n  (142, 7),\n  (143, 6),\n  (143, 8),\n  (144, 1),\n  (144, 3),\n  (145, 5),\n  (145, 8),\n  (146, 5),\n  (147, 0),\n  (147, 8),\n  (148, 4),\n  (148, 8),\n  (148, 12),\n  (149, 2),\n  (149, 5),\n  (150, 10),\n  (151, 1),\n  (152, 8),\n  (152, 9),\n  (152, 12),\n  (155, 6),\n  (156, 1),\n  (157, 3),\n  (158, 2),\n  (158, 10),\n  (159, 2),\n  (160, 1),\n  (160, 7),\n  (160, 8),\n  (161, 8),\n  (162, 4),\n  (162, 9),\n  (163, 8),\n  (164, 0),\n  (164, 2),\n  (164, 12),\n  (165, 2),\n  (165, 7),\n  (166, 3),\n  (166, 7),\n  (166, 10),\n  (168, 2),\n  (168, 3),\n  (169, 5),\n  (169, 6),\n  (170, 8),\n  (170, 9),\n  (171, 3),\n  (172, 0),\n  (172, 8),\n  (172, 11),\n  (173, 5),\n  (174, 1),\n  (175, 0),\n  (177, 1),\n  (177, 6),\n  (177, 8),\n  (179, 3),\n  (180, 1),\n  (181, 4),\n  (183, 0),\n  (183, 7),\n  (184, 4),\n  (184, 11),\n  (185, 0),\n  (185, 1),\n  (185, 9),\n  (186, 4),\n  (186, 10),\n  (190, 11),\n  (191, 4),\n  (191, 5),\n  (191, 12),\n  (192, 3),\n  (194, 4),\n  (194, 5),\n  (194, 7),\n  (195, 12),\n  (197, 1),\n  (198, 8),\n  (198, 10),\n  (199, 1),\n  (199, 6),\n  (199, 8),\n  (200, 5),\n  (200, 11),\n  (202, 5),\n  (202, 6),\n  (202, 7),\n  (203, 0),\n  (203, 6),\n  (205, 1),\n  (208, 3),\n  (208, 11),\n  (208, 12),\n  (210, 1),\n  (211, 2),\n  (214, 9),\n  (215, 4),\n  (215, 10),\n  (216, 1),\n  (216, 9),\n  (217, 3),\n  (219, 11),\n  (220, 4),\n  (220, 12),\n  (221, 1),\n  (221, 6),\n  (221, 8),\n  (223, 5),\n  (224, 2),\n  (224, 3),\n  (224, 9),\n  (224, 10),\n  (225, 0),\n  (225, 3),\n  (225, 9),\n  (225, 10),\n  (226, 0),\n  (226, 2),\n  (227, 4)],\n [(0, 0),\n  (0, 5),\n  (0, 7),\n  (2, 11),\n  (3, 9),\n  (3, 12),\n  (4, 6),\n  (4, 9),\n  (5, 8),\n  (6, 0),\n  (7, 7),\n  (8, 5),\n  (8, 7),\n  (9, 0),\n  (9, 2),\n  (11, 12),\n  (12, 2),\n  (12, 3),\n  (12, 4),\n  (13, 8),\n  (15, 3),\n  (15, 5),\n  (15, 12),\n  (18, 3),\n  (20, 2),\n  (20, 10),\n  (21, 1),\n  (21, 7),\n  (23, 0),\n  (23, 8),\n  (23, 11),\n  (24, 6),\n  (24, 7),\n  (24, 11),\n  (27, 4),\n  (27, 6),\n  (27, 10),\n  (28, 0),\n  (28, 10),\n  (28, 11),\n  (29, 4),\n  (30, 12),\n  (31, 11),\n  (32, 7),\n  (34, 5),\n  (34, 9),\n  (37, 10),\n  (37, 12),\n  (38, 3),\n  (38, 6),\n  (38, 7),\n  (39, 10),\n  (40, 0),\n  (40, 1),\n  (41, 7),\n  (43, 5),\n  (43, 7),\n  (45, 1),\n  (45, 2),\n  (45, 12),\n  (46, 3),\n  (46, 5),\n  (47, 1),\n  (48, 0),\n  (49, 2),\n  (49, 8),\n  (50, 10),\n  (51, 2),\n  (51, 3),\n  (51, 7),\n  (52, 8),\n  (53, 4),\n  (55, 1),\n  (55, 8),\n  (56, 4),\n  (57, 0),\n  (58, 2),\n  (58, 7),\n  (59, 1),\n  (61, 0),\n  (61, 3),\n  (61, 6),\n  (62, 3),\n  (63, 7),\n  (64, 7),\n  (67, 2),\n  (69, 3),\n  (69, 4),\n  (69, 7),\n  (69, 10),\n  (70, 1),\n  (70, 5),\n  (71, 0),\n  (71, 3),\n  (71, 4),\n  (71, 8),\n  (72, 0),\n  (73, 7),\n  (73, 10),\n  (77, 5),\n  (78, 1),\n  (78, 9),\n  (78, 10),\n  (79, 9),\n  (79, 11),\n  (80, 2),\n  (82, 9),\n  (82, 10),\n  (86, 6),\n  (86, 8),\n  (86, 10),\n  (87, 0),\n  (87, 1),\n  (88, 4),\n  (88, 7),\n  (88, 8),\n  (89, 10),\n  (89, 11),\n  (89, 12),\n  (90, 4),\n  (90, 6),\n  (91, 10),\n  (93, 10),\n  (94, 12),\n  (96, 3),\n  (98, 2),\n  (98, 4),\n  (99, 3),\n  (100, 4),\n  (100, 7),\n  (100, 12),\n  (101, 7),\n  (102, 3),\n  (103, 5),\n  (104, 2),\n  (107, 12),\n  (108, 1),\n  (108, 6),\n  (108, 9),\n  (109, 3),\n  (109, 7),\n  (110, 0),\n  (110, 1),\n  (111, 11),\n  (112, 8),\n  (113, 0),\n  (113, 2),\n  (113, 9),\n  (114, 5),\n  (114, 9),\n  (115, 5),\n  (115, 11),\n  (116, 8),\n  (117, 10),\n  (117, 12),\n  (119, 6),\n  (119, 7),\n  (119, 11),\n  (120, 4),\n  (121, 2),\n  (122, 2),\n  (123, 7),\n  (124, 2),\n  (124, 10),\n  (125, 0),\n  (125, 7),\n  (126, 3),\n  (130, 12),\n  (131, 8),\n  (132, 0),\n  (132, 3),\n  (132, 7),\n  (133, 10),\n  (134, 2),\n  (135, 7),\n  (135, 12),\n  (138, 4),\n  (138, 9),\n  (140, 4),\n  (142, 7),\n  (143, 6),\n  (143, 8),\n  (144, 1),\n  (144, 3),\n  (145, 5),\n  (145, 8),\n  (146, 5),\n  (147, 0),\n  (147, 8),\n  (148, 4),\n  (148, 8),\n  (148, 12),\n  (149, 2),\n  (149, 5),\n  (150, 10),\n  (151, 1),\n  (152, 8),\n  (152, 9),\n  (152, 12),\n  (155, 6),\n  (156, 1),\n  (157, 3),\n  (158, 2),\n  (158, 10),\n  (159, 2),\n  (160, 1),\n  (160, 7),\n  (160, 8),\n  (161, 8),\n  (162, 4),\n  (162, 9),\n  (163, 8),\n  (164, 0),\n  (164, 2),\n  (164, 12),\n  (165, 2),\n  (165, 7),\n  (166, 3),\n  (166, 7),\n  (166, 10),\n  (168, 2),\n  (168, 3),\n  (169, 5),\n  (169, 6),\n  (170, 8),\n  (170, 9),\n  (171, 3),\n  (172, 0),\n  (172, 8),\n  (172, 11),\n  (173, 5),\n  (174, 1),\n  (175, 0),\n  (177, 1),\n  (177, 6),\n  (177, 8),\n  (179, 3),\n  (180, 1),\n  (181, 4),\n  (183, 0),\n  (183, 7),\n  (184, 4),\n  (184, 11),\n  (185, 0),\n  (185, 1),\n  (185, 9),\n  (186, 4),\n  (186, 10),\n  (190, 11),\n  (191, 4),\n  (191, 5),\n  (191, 12),\n  (192, 3),\n  (194, 4),\n  (194, 5),\n  (194, 7),\n  (195, 12),\n  (197, 1),\n  (198, 8),\n  (198, 10),\n  (199, 1),\n  (199, 6),\n  (199, 8),\n  (200, 5),\n  (200, 11),\n  (202, 5),\n  (202, 6),\n  (202, 7),\n  (203, 0),\n  (203, 6),\n  (205, 1),\n  (208, 3),\n  (208, 11),\n  (208, 12),\n  (210, 1),\n  (211, 2),\n  (214, 9),\n  (215, 4),\n  (215, 10),\n  (216, 1),\n  (216, 9),\n  (217, 3),\n  (219, 11),\n  (220, 4),\n  (220, 12),\n  (221, 1),\n  (221, 6),\n  (221, 8),\n  (223, 5),\n  (224, 2),\n  (224, 3),\n  (224, 9),\n  (224, 10),\n  (225, 0),\n  (225, 3),\n  (225, 9),\n  (225, 10),\n  (226, 0),\n  (226, 2),\n  (227, 4)],\n [(0, 0),\n  (0, 5),\n  (0, 7),\n  (2, 11),\n  (3, 9),\n  (3, 12),\n  (4, 6),\n  (4, 9),\n  (5, 8),\n  (6, 0),\n  (7, 7),\n  (8, 5),\n  (8, 7),\n  (9, 0),\n  (9, 2),\n  (11, 12),\n  (12, 2),\n  (12, 3),\n  (12, 4),\n  (13, 8),\n  (15, 3),\n  (15, 5),\n  (15, 12),\n  (18, 3),\n  (20, 2),\n  (20, 10),\n  (21, 1),\n  (21, 7),\n  (23, 0),\n  (23, 8),\n  (23, 11),\n  (24, 6),\n  (24, 7),\n  (24, 11),\n  (27, 4),\n  (27, 6),\n  (27, 10),\n  (28, 0),\n  (28, 10),\n  (28, 11),\n  (29, 4),\n  (30, 12),\n  (31, 11),\n  (32, 7),\n  (34, 5),\n  (34, 9),\n  (37, 10),\n  (37, 12),\n  (38, 3),\n  (38, 6),\n  (38, 7),\n  (39, 10),\n  (40, 0),\n  (40, 1),\n  (41, 7),\n  (43, 5),\n  (43, 7),\n  (45, 1),\n  (45, 2),\n  (45, 12),\n  (46, 3),\n  (46, 5),\n  (47, 1),\n  (48, 0),\n  (49, 2),\n  (49, 8),\n  (50, 10),\n  (51, 2),\n  (51, 3),\n  (51, 7),\n  (52, 8),\n  (53, 4),\n  (55, 1),\n  (55, 8),\n  (56, 4),\n  (57, 0),\n  (58, 2),\n  (58, 7),\n  (59, 1),\n  (61, 0),\n  (61, 3),\n  (61, 6),\n  (62, 3),\n  (63, 7),\n  (64, 7),\n  (67, 2),\n  (69, 3),\n  (69, 4),\n  (69, 7),\n  (69, 10),\n  (70, 1),\n  (70, 5),\n  (71, 0),\n  (71, 3),\n  (71, 4),\n  (71, 8),\n  (72, 0),\n  (73, 7),\n  (73, 10),\n  (77, 5),\n  (78, 1),\n  (78, 9),\n  (78, 10),\n  (79, 9),\n  (79, 11),\n  (80, 2),\n  (82, 9),\n  (82, 10),\n  (86, 6),\n  (86, 8),\n  (86, 10),\n  (87, 0),\n  (87, 1),\n  (88, 4),\n  (88, 7),\n  (88, 8),\n  (89, 10),\n  (89, 11),\n  (89, 12),\n  (90, 4),\n  (90, 6),\n  (91, 10),\n  (93, 10),\n  (94, 12),\n  (96, 3),\n  (98, 2),\n  (98, 4),\n  (99, 3),\n  (100, 4),\n  (100, 7),\n  (100, 12),\n  (101, 7),\n  (102, 3),\n  (103, 5),\n  (104, 2),\n  (107, 12),\n  (108, 1),\n  (108, 6),\n  (108, 9),\n  (109, 3),\n  (109, 7),\n  (110, 0),\n  (110, 1),\n  (111, 11),\n  (112, 8),\n  (113, 0),\n  (113, 2),\n  (113, 9),\n  (114, 5),\n  (114, 9),\n  (115, 5),\n  (115, 11),\n  (116, 8),\n  (117, 10),\n  (117, 12),\n  (119, 6),\n  (119, 7),\n  (119, 11),\n  (120, 4),\n  (121, 2),\n  (122, 2),\n  (123, 7),\n  (124, 2),\n  (124, 10),\n  (125, 0),\n  (125, 7),\n  (126, 3),\n  (130, 12),\n  (131, 8),\n  (132, 0),\n  (132, 3),\n  (132, 7),\n  (133, 10),\n  (134, 2),\n  (135, 7),\n  (135, 12),\n  (138, 4),\n  (138, 9),\n  (140, 4),\n  (142, 7),\n  (143, 6),\n  (143, 8),\n  (144, 1),\n  (144, 3),\n  (145, 5),\n  (145, 8),\n  (146, 5),\n  (147, 0),\n  (147, 8),\n  (148, 4),\n  (148, 8),\n  (148, 12),\n  (149, 2),\n  (149, 5),\n  (150, 10),\n  (151, 1),\n  (152, 8),\n  (152, 9),\n  (152, 12),\n  (155, 6),\n  (156, 1),\n  (157, 3),\n  (158, 2),\n  (158, 10),\n  (159, 2),\n  (160, 1),\n  (160, 7),\n  (160, 8),\n  (161, 8),\n  (162, 4),\n  (162, 9),\n  (163, 8),\n  (164, 0),\n  (164, 2),\n  (164, 12),\n  (165, 2),\n  (165, 7),\n  (166, 3),\n  (166, 7),\n  (166, 10),\n  (168, 2),\n  (168, 3),\n  (169, 5),\n  (169, 6),\n  (170, 8),\n  (170, 9),\n  (171, 3),\n  (172, 0),\n  (172, 8),\n  (172, 11),\n  (173, 5),\n  (174, 1),\n  (175, 0),\n  (177, 1),\n  (177, 6),\n  (177, 8),\n  (179, 3),\n  (180, 1),\n  (181, 4),\n  (183, 0),\n  (183, 7),\n  (184, 4),\n  (184, 11),\n  (185, 0),\n  (185, 1),\n  (185, 9),\n  (186, 4),\n  (186, 10),\n  (190, 11),\n  (191, 4),\n  (191, 5),\n  (191, 12),\n  (192, 3),\n  (194, 4),\n  (194, 5),\n  (194, 7),\n  (195, 12),\n  (197, 1),\n  (198, 8),\n  (198, 10),\n  (199, 1),\n  (199, 6),\n  (199, 8),\n  (200, 5),\n  (200, 11),\n  (202, 5),\n  (202, 6),\n  (202, 7),\n  (203, 0),\n  (203, 6),\n  (205, 1),\n  (208, 3),\n  (208, 11),\n  (208, 12),\n  (210, 1),\n  (211, 2),\n  (214, 9),\n  (215, 4),\n  (215, 10),\n  (216, 1),\n  (216, 9),\n  (217, 3),\n  (219, 11),\n  (220, 4),\n  (220, 12),\n  (221, 1),\n  (221, 6),\n  (221, 8),\n  (223, 5),\n  (224, 2),\n  (224, 3),\n  (224, 9),\n  (224, 10),\n  (225, 0),\n  (225, 3),\n  (225, 9),\n  (225, 10),\n  (226, 0),\n  (226, 2),\n  (227, 4)],\n [(0, 0),\n  (0, 5),\n  (0, 7),\n  (2, 11),\n  (3, 9),\n  (3, 12),\n  (4, 6),\n  (4, 9),\n  (5, 8),\n  (6, 0),\n  (7, 7),\n  (8, 5),\n  (8, 7),\n  (9, 0),\n  (9, 2),\n  (11, 12),\n  (12, 2),\n  (12, 3),\n  (12, 4),\n  (13, 8),\n  (15, 3),\n  (15, 5),\n  (15, 12),\n  (18, 3),\n  (20, 2),\n  (20, 10),\n  (21, 1),\n  (21, 7),\n  (23, 0),\n  (23, 8),\n  (23, 11),\n  (24, 6),\n  (24, 7),\n  (24, 11),\n  (27, 4),\n  (27, 6),\n  (27, 10),\n  (28, 0),\n  (28, 10),\n  (28, 11),\n  (29, 4),\n  (30, 12),\n  (31, 11),\n  (32, 7),\n  (34, 5),\n  (34, 9),\n  (37, 10),\n  (37, 12),\n  (38, 3),\n  (38, 6),\n  (38, 7),\n  (39, 10),\n  (40, 0),\n  (40, 1),\n  (41, 7),\n  (43, 5),\n  (43, 7),\n  (45, 1),\n  (45, 2),\n  (45, 12),\n  (46, 3),\n  (46, 5),\n  (47, 1),\n  (48, 0),\n  (49, 2),\n  (49, 8),\n  (50, 10),\n  (51, 2),\n  (51, 3),\n  (51, 7),\n  (52, 8),\n  (53, 4),\n  (55, 1),\n  (55, 8),\n  (56, 4),\n  (57, 0),\n  (58, 2),\n  (58, 7),\n  (59, 1),\n  (61, 0),\n  (61, 3),\n  (61, 6),\n  (62, 3),\n  (63, 7),\n  (64, 7),\n  (67, 2),\n  (69, 3),\n  (69, 4),\n  (69, 7),\n  (69, 10),\n  (70, 1),\n  (70, 5),\n  (71, 0),\n  (71, 3),\n  (71, 4),\n  (71, 8),\n  (72, 0),\n  (73, 7),\n  (73, 10),\n  (77, 5),\n  (78, 1),\n  (78, 9),\n  (78, 10),\n  (79, 9),\n  (79, 11),\n  (80, 2),\n  (82, 9),\n  (82, 10),\n  (86, 6),\n  (86, 8),\n  (86, 10),\n  (87, 0),\n  (87, 1),\n  (88, 4),\n  (88, 7),\n  (88, 8),\n  (89, 10),\n  (89, 11),\n  (89, 12),\n  (90, 4),\n  (90, 6),\n  (91, 10),\n  (93, 10),\n  (94, 12),\n  (96, 3),\n  (98, 2),\n  (98, 4),\n  (99, 3),\n  (100, 4),\n  (100, 7),\n  (100, 12),\n  (101, 7),\n  (102, 3),\n  (103, 5),\n  (104, 2),\n  (107, 12),\n  (108, 1),\n  (108, 6),\n  (108, 9),\n  (109, 3),\n  (109, 7),\n  (110, 0),\n  (110, 1),\n  (111, 11),\n  (112, 8),\n  (113, 0),\n  (113, 2),\n  (113, 9),\n  (114, 5),\n  (114, 9),\n  (115, 5),\n  (115, 11),\n  (116, 8),\n  (117, 10),\n  (117, 12),\n  (119, 6),\n  (119, 7),\n  (119, 11),\n  (120, 4),\n  (121, 2),\n  (122, 2),\n  (123, 7),\n  (124, 2),\n  (124, 10),\n  (125, 0),\n  (125, 7),\n  (126, 3),\n  (130, 12),\n  (131, 8),\n  (132, 0),\n  (132, 3),\n  (132, 7),\n  (133, 10),\n  (134, 2),\n  (135, 7),\n  (135, 12),\n  (138, 4),\n  (138, 9),\n  (140, 4),\n  (142, 7),\n  (143, 6),\n  (143, 8),\n  (144, 1),\n  (144, 3),\n  (145, 5),\n  (145, 8),\n  (146, 5),\n  (147, 0),\n  (147, 8),\n  (148, 4),\n  (148, 8),\n  (148, 12),\n  (149, 2),\n  (149, 5),\n  (150, 10),\n  (151, 1),\n  (152, 8),\n  (152, 9),\n  (152, 12),\n  (155, 6),\n  (156, 1),\n  (157, 3),\n  (158, 2),\n  (158, 10),\n  (159, 2),\n  (160, 1),\n  (160, 7),\n  (160, 8),\n  (161, 8),\n  (162, 4),\n  (162, 9),\n  (163, 8),\n  (164, 0),\n  (164, 2),\n  (164, 12),\n  (165, 2),\n  (165, 7),\n  (166, 3),\n  (166, 7),\n  (166, 10),\n  (168, 2),\n  (168, 3),\n  (169, 5),\n  (169, 6),\n  (170, 8),\n  (170, 9),\n  (171, 3),\n  (172, 0),\n  (172, 8),\n  (172, 11),\n  (173, 5),\n  (174, 1),\n  (175, 0),\n  (177, 1),\n  (177, 6),\n  (177, 8),\n  (179, 3),\n  (180, 1),\n  (181, 4),\n  (183, 0),\n  (183, 7),\n  (184, 4),\n  (184, 11),\n  (185, 0),\n  (185, 1),\n  (185, 9),\n  (186, 4),\n  (186, 10),\n  (190, 11),\n  (191, 4),\n  (191, 5),\n  (191, 12),\n  (192, 3),\n  (194, 4),\n  (194, 5),\n  (194, 7),\n  (195, 12),\n  (197, 1),\n  (198, 8),\n  (198, 10),\n  (199, 1),\n  (199, 6),\n  (199, 8),\n  (200, 5),\n  (200, 11),\n  (202, 5),\n  (202, 6),\n  (202, 7),\n  (203, 0),\n  (203, 6),\n  (205, 1),\n  (208, 3),\n  (208, 11),\n  (208, 12),\n  (210, 1),\n  (211, 2),\n  (214, 9),\n  (215, 4),\n  (215, 10),\n  (216, 1),\n  (216, 9),\n  (217, 3),\n  (219, 11),\n  (220, 4),\n  (220, 12),\n  (221, 1),\n  (221, 6),\n  (221, 8),\n  (223, 5),\n  (224, 2),\n  (224, 3),\n  (224, 9),\n  (224, 10),\n  (225, 0),\n  (225, 3),\n  (225, 9),\n  (225, 10),\n  (226, 0),\n  (226, 2),\n  (227, 4)],\n [(0, 0),\n  (0, 5),\n  (0, 7),\n  (2, 11),\n  (3, 9),\n  (3, 12),\n  (4, 6),\n  (4, 9),\n  (5, 8),\n  (6, 0),\n  (7, 7),\n  (8, 5),\n  (8, 7),\n  (9, 0),\n  (9, 2),\n  (11, 12),\n  (12, 2),\n  (12, 3),\n  (12, 4),\n  (13, 8),\n  (15, 3),\n  (15, 5),\n  (15, 12),\n  (18, 3),\n  (20, 2),\n  (20, 10),\n  (21, 1),\n  (21, 7),\n  (23, 0),\n  (23, 8),\n  (23, 11),\n  (24, 6),\n  (24, 7),\n  (24, 11),\n  (27, 4),\n  (27, 6),\n  (27, 10),\n  (28, 0),\n  (28, 10),\n  (28, 11),\n  (29, 4),\n  (30, 12),\n  (31, 11),\n  (32, 7),\n  (34, 5),\n  (34, 9),\n  (37, 10),\n  (37, 12),\n  (38, 3),\n  (38, 6),\n  (38, 7),\n  (39, 10),\n  (40, 0),\n  (40, 1),\n  (41, 7),\n  (43, 5),\n  (43, 7),\n  (45, 1),\n  (45, 2),\n  (45, 12),\n  (46, 3),\n  (46, 5),\n  (47, 1),\n  (48, 0),\n  (49, 2),\n  (49, 8),\n  (50, 10),\n  (51, 2),\n  (51, 3),\n  (51, 7),\n  (52, 8),\n  (53, 4),\n  (55, 1),\n  (55, 8),\n  (56, 4),\n  (57, 0),\n  (58, 2),\n  (58, 7),\n  (59, 1),\n  (61, 0),\n  (61, 3),\n  (61, 6),\n  (62, 3),\n  (63, 7),\n  (64, 7),\n  (67, 2),\n  (69, 3),\n  (69, 4),\n  (69, 7),\n  (69, 10),\n  (70, 1),\n  (70, 5),\n  (71, 0),\n  (71, 3),\n  (71, 4),\n  (71, 8),\n  (72, 0),\n  (73, 7),\n  (73, 10),\n  (77, 5),\n  (78, 1),\n  (78, 9),\n  (78, 10),\n  (79, 9),\n  (79, 11),\n  (80, 2),\n  (82, 9),\n  (82, 10),\n  (86, 6),\n  (86, 8),\n  (86, 10),\n  (87, 0),\n  (87, 1),\n  (88, 4),\n  (88, 7),\n  (88, 8),\n  (89, 10),\n  (89, 11),\n  (89, 12),\n  (90, 4),\n  (90, 6),\n  (91, 10),\n  (93, 10),\n  (94, 12),\n  (96, 3),\n  (98, 2),\n  (98, 4),\n  (99, 3),\n  (100, 4),\n  (100, 7),\n  (100, 12),\n  (101, 7),\n  (102, 3),\n  (103, 5),\n  (104, 2),\n  (107, 12),\n  (108, 1),\n  (108, 6),\n  (108, 9),\n  (109, 3),\n  (109, 7),\n  (110, 0),\n  (110, 1),\n  (111, 11),\n  (112, 8),\n  (113, 0),\n  (113, 2),\n  (113, 9),\n  (114, 5),\n  (114, 9),\n  (115, 5),\n  (115, 11),\n  (116, 8),\n  (117, 10),\n  (117, 12),\n  (119, 6),\n  (119, 7),\n  (119, 11),\n  (120, 4),\n  (121, 2),\n  (122, 2),\n  (123, 7),\n  (124, 2),\n  (124, 10),\n  (125, 0),\n  (125, 7),\n  (126, 3),\n  (130, 12),\n  (131, 8),\n  (132, 0),\n  (132, 3),\n  (132, 7),\n  (133, 10),\n  (134, 2),\n  (135, 7),\n  (135, 12),\n  (138, 4),\n  (138, 9),\n  (140, 4),\n  (142, 7),\n  (143, 6),\n  (143, 8),\n  (144, 1),\n  (144, 3),\n  (145, 5),\n  (145, 8),\n  (146, 5),\n  (147, 0),\n  (147, 8),\n  (148, 4),\n  (148, 8),\n  (148, 12),\n  (149, 2),\n  (149, 5),\n  (150, 10),\n  (151, 1),\n  (152, 8),\n  (152, 9),\n  (152, 12),\n  (155, 6),\n  (156, 1),\n  (157, 3),\n  (158, 2),\n  (158, 10),\n  (159, 2),\n  (160, 1),\n  (160, 7),\n  (160, 8),\n  (161, 8),\n  (162, 4),\n  (162, 9),\n  (163, 8),\n  (164, 0),\n  (164, 2),\n  (164, 12),\n  (165, 2),\n  (165, 7),\n  (166, 3),\n  (166, 7),\n  (166, 10),\n  (168, 2),\n  (168, 3),\n  (169, 5),\n  (169, 6),\n  (170, 8),\n  (170, 9),\n  (171, 3),\n  (172, 0),\n  (172, 8),\n  (172, 11),\n  (173, 5),\n  (174, 1),\n  (175, 0),\n  (177, 1),\n  (177, 6),\n  (177, 8),\n  (179, 3),\n  (180, 1),\n  (181, 4),\n  (183, 0),\n  (183, 7),\n  (184, 4),\n  (184, 11),\n  (185, 0),\n  (185, 1),\n  (185, 9),\n  (186, 4),\n  (186, 10),\n  (190, 11),\n  (191, 4),\n  (191, 5),\n  (191, 12),\n  (192, 3),\n  (194, 4),\n  (194, 5),\n  (194, 7),\n  (195, 12),\n  (197, 1),\n  (198, 8),\n  (198, 10),\n  (199, 1),\n  (199, 6),\n  (199, 8),\n  (200, 5),\n  (200, 11),\n  (202, 5),\n  (202, 6),\n  (202, 7),\n  (203, 0),\n  (203, 6),\n  (205, 1),\n  (208, 3),\n  (208, 11),\n  (208, 12),\n  (210, 1),\n  (211, 2),\n  (214, 9),\n  (215, 4),\n  (215, 10),\n  (216, 1),\n  (216, 9),\n  (217, 3),\n  (219, 11),\n  (220, 4),\n  (220, 12),\n  (221, 1),\n  (221, 6),\n  (221, 8),\n  (223, 5),\n  (224, 2),\n  (224, 3),\n  (224, 9),\n  (224, 10),\n  (225, 0),\n  (225, 3),\n  (225, 9),\n  (225, 10),\n  (226, 0),\n  (226, 2),\n  (227, 4)],\n [(0, 0),\n  (0, 5),\n  (0, 7),\n  (2, 11),\n  (3, 9),\n  (3, 12),\n  (4, 6),\n  (4, 9),\n  (5, 8),\n  (6, 0),\n  (7, 7),\n  (8, 5),\n  (8, 7),\n  (9, 0),\n  (9, 2),\n  (11, 12),\n  (12, 2),\n  (12, 3),\n  (12, 4),\n  (13, 8),\n  (15, 3),\n  (15, 5),\n  (15, 12),\n  (18, 3),\n  (20, 2),\n  (20, 10),\n  (21, 1),\n  (21, 7),\n  (23, 0),\n  (23, 8),\n  (23, 11),\n  (24, 6),\n  (24, 7),\n  (24, 11),\n  (27, 4),\n  (27, 6),\n  (27, 10),\n  (28, 0),\n  (28, 10),\n  (28, 11),\n  (29, 4),\n  (30, 12),\n  (31, 11),\n  (32, 7),\n  (34, 5),\n  (34, 9),\n  (37, 10),\n  (37, 12),\n  (38, 3),\n  (38, 6),\n  (38, 7),\n  (39, 10),\n  (40, 0),\n  (40, 1),\n  (41, 7),\n  (43, 5),\n  (43, 7),\n  (45, 1),\n  (45, 2),\n  (45, 12),\n  (46, 3),\n  (46, 5),\n  (47, 1),\n  (48, 0),\n  (49, 2),\n  (49, 8),\n  (50, 10),\n  (51, 2),\n  (51, 3),\n  (51, 7),\n  (52, 8),\n  (53, 4),\n  (55, 1),\n  (55, 8),\n  (56, 4),\n  (57, 0),\n  (58, 2),\n  (58, 7),\n  (59, 1),\n  (61, 0),\n  (61, 3),\n  (61, 6),\n  (62, 3),\n  (63, 7),\n  (64, 7),\n  (67, 2),\n  (69, 3),\n  (69, 4),\n  (69, 7),\n  (69, 10),\n  (70, 1),\n  (70, 5),\n  (71, 0),\n  (71, 3),\n  (71, 4),\n  (71, 8),\n  (72, 0),\n  (73, 7),\n  (73, 10),\n  (77, 5),\n  (78, 1),\n  (78, 9),\n  (78, 10),\n  (79, 9),\n  (79, 11),\n  (80, 2),\n  (82, 9),\n  (82, 10),\n  (86, 6),\n  (86, 8),\n  (86, 10),\n  (87, 0),\n  (87, 1),\n  (88, 4),\n  (88, 7),\n  (88, 8),\n  (89, 10),\n  (89, 11),\n  (89, 12),\n  (90, 4),\n  (90, 6),\n  (91, 10),\n  (93, 10),\n  (94, 12),\n  (96, 3),\n  (98, 2),\n  (98, 4),\n  (99, 3),\n  (100, 4),\n  (100, 7),\n  (100, 12),\n  (101, 7),\n  (102, 3),\n  (103, 5),\n  (104, 2),\n  (107, 12),\n  (108, 1),\n  (108, 6),\n  (108, 9),\n  (109, 3),\n  (109, 7),\n  (110, 0),\n  (110, 1),\n  (111, 11),\n  (112, 8),\n  (113, 0),\n  (113, 2),\n  (113, 9),\n  (114, 5),\n  (114, 9),\n  (115, 5),\n  (115, 11),\n  (116, 8),\n  (117, 10),\n  (117, 12),\n  (119, 6),\n  (119, 7),\n  (119, 11),\n  (120, 4),\n  (121, 2),\n  (122, 2),\n  (123, 7),\n  (124, 2),\n  (124, 10),\n  (125, 0),\n  (125, 7),\n  (126, 3),\n  (130, 12),\n  (131, 8),\n  (132, 0),\n  (132, 3),\n  (132, 7),\n  (133, 10),\n  (134, 2),\n  (135, 7),\n  (135, 12),\n  (138, 4),\n  (138, 9),\n  (140, 4),\n  (142, 7),\n  (143, 6),\n  (143, 8),\n  (144, 1),\n  (144, 3),\n  (145, 5),\n  (145, 8),\n  (146, 5),\n  (147, 0),\n  (147, 8),\n  (148, 4),\n  (148, 8),\n  (148, 12),\n  (149, 2),\n  (149, 5),\n  (150, 10),\n  (151, 1),\n  (152, 8),\n  (152, 9),\n  (152, 12),\n  (155, 6),\n  (156, 1),\n  (157, 3),\n  (158, 2),\n  (158, 10),\n  (159, 2),\n  (160, 1),\n  (160, 7),\n  (160, 8),\n  (161, 8),\n  (162, 4),\n  (162, 9),\n  (163, 8),\n  (164, 0),\n  (164, 2),\n  (164, 12),\n  (165, 2),\n  (165, 7),\n  (166, 3),\n  (166, 7),\n  (166, 10),\n  (168, 2),\n  (168, 3),\n  (169, 5),\n  (169, 6),\n  (170, 8),\n  (170, 9),\n  (171, 3),\n  (172, 0),\n  (172, 8),\n  (172, 11),\n  (173, 5),\n  (174, 1),\n  (175, 0),\n  (177, 1),\n  (177, 6),\n  (177, 8),\n  (179, 3),\n  (180, 1),\n  (181, 4),\n  (183, 0),\n  (183, 7),\n  (184, 4),\n  (184, 11),\n  (185, 0),\n  (185, 1),\n  (185, 9),\n  (186, 4),\n  (186, 10),\n  (190, 11),\n  (191, 4),\n  (191, 5),\n  (191, 12),\n  (192, 3),\n  (194, 4),\n  (194, 5),\n  (194, 7),\n  (195, 12),\n  (197, 1),\n  (198, 8),\n  (198, 10),\n  (199, 1),\n  (199, 6),\n  (199, 8),\n  (200, 5),\n  (200, 11),\n  (202, 5),\n  (202, 6),\n  (202, 7),\n  (203, 0),\n  (203, 6),\n  (205, 1),\n  (208, 3),\n  (208, 11),\n  (208, 12),\n  (210, 1),\n  (211, 2),\n  (214, 9),\n  (215, 4),\n  (215, 10),\n  (216, 1),\n  (216, 9),\n  (217, 3),\n  (219, 11),\n  (220, 4),\n  (220, 12),\n  (221, 1),\n  (221, 6),\n  (221, 8),\n  (223, 5),\n  (224, 2),\n  (224, 3),\n  (224, 9),\n  (224, 10),\n  (225, 0),\n  (225, 3),\n  (225, 9),\n  (225, 10),\n  (226, 0),\n  (226, 2),\n  (227, 4)],\n [(0, 0),\n  (0, 5),\n  (0, 7),\n  (2, 11),\n  (3, 9),\n  (3, 12),\n  (4, 6),\n  (4, 9),\n  (5, 8),\n  (6, 0),\n  (7, 7),\n  (8, 5),\n  (8, 7),\n  (9, 0),\n  (9, 2),\n  (11, 12),\n  (12, 2),\n  (12, 3),\n  (12, 4),\n  (13, 8),\n  (15, 3),\n  (15, 5),\n  (15, 12),\n  (18, 3),\n  (20, 2),\n  (20, 10),\n  (21, 1),\n  (21, 7),\n  (23, 0),\n  (23, 8),\n  (23, 11),\n  (24, 6),\n  (24, 7),\n  (24, 11),\n  (27, 4),\n  (27, 6),\n  (27, 10),\n  (28, 0),\n  (28, 10),\n  (28, 11),\n  (29, 4),\n  (30, 12),\n  (31, 11),\n  (32, 7),\n  (34, 5),\n  (34, 9),\n  (37, 10),\n  (37, 12),\n  (38, 3),\n  (38, 6),\n  (38, 7),\n  (39, 10),\n  (40, 0),\n  (40, 1),\n  (41, 7),\n  (43, 5),\n  (43, 7),\n  (45, 1),\n  (45, 2),\n  (45, 12),\n  (46, 3),\n  (46, 5),\n  (47, 1),\n  (48, 0),\n  (49, 2),\n  (49, 8),\n  (50, 10),\n  (51, 2),\n  (51, 3),\n  (51, 7),\n  (52, 8),\n  (53, 4),\n  (55, 1),\n  (55, 8),\n  (56, 4),\n  (57, 0),\n  (58, 2),\n  (58, 7),\n  (59, 1),\n  (61, 0),\n  (61, 3),\n  (61, 6),\n  (62, 3),\n  (63, 7),\n  (64, 7),\n  (67, 2),\n  (69, 3),\n  (69, 4),\n  (69, 7),\n  (69, 10),\n  (70, 1),\n  (70, 5),\n  (71, 0),\n  (71, 3),\n  (71, 4),\n  (71, 8),\n  (72, 0),\n  (73, 7),\n  (73, 10),\n  (77, 5),\n  (78, 1),\n  (78, 9),\n  (78, 10),\n  (79, 9),\n  (79, 11),\n  (80, 2),\n  (82, 9),\n  (82, 10),\n  (86, 6),\n  (86, 8),\n  (86, 10),\n  (87, 0),\n  (87, 1),\n  (88, 4),\n  (88, 7),\n  (88, 8),\n  (89, 10),\n  (89, 11),\n  (89, 12),\n  (90, 4),\n  (90, 6),\n  (91, 10),\n  (93, 10),\n  (94, 12),\n  (96, 3),\n  (98, 2),\n  (98, 4),\n  (99, 3),\n  (100, 4),\n  (100, 7),\n  (100, 12),\n  (101, 7),\n  (102, 3),\n  (103, 5),\n  (104, 2),\n  (107, 12),\n  (108, 1),\n  (108, 6),\n  (108, 9),\n  (109, 3),\n  (109, 7),\n  (110, 0),\n  (110, 1),\n  (111, 11),\n  (112, 8),\n  (113, 0),\n  (113, 2),\n  (113, 9),\n  (114, 5),\n  (114, 9),\n  (115, 5),\n  (115, 11),\n  (116, 8),\n  (117, 10),\n  (117, 12),\n  (119, 6),\n  (119, 7),\n  (119, 11),\n  (120, 4),\n  (121, 2),\n  (122, 2),\n  (123, 7),\n  (124, 2),\n  (124, 10),\n  (125, 0),\n  (125, 7),\n  (126, 3),\n  (130, 12),\n  (131, 8),\n  (132, 0),\n  (132, 3),\n  (132, 7),\n  (133, 10),\n  (134, 2),\n  (135, 7),\n  (135, 12),\n  (138, 4),\n  (138, 9),\n  (140, 4),\n  (142, 7),\n  (143, 6),\n  (143, 8),\n  (144, 1),\n  (144, 3),\n  (145, 5),\n  (145, 8),\n  (146, 5),\n  (147, 0),\n  (147, 8),\n  (148, 4),\n  (148, 8),\n  (148, 12),\n  (149, 2),\n  (149, 5),\n  (150, 10),\n  (151, 1),\n  (152, 8),\n  (152, 9),\n  (152, 12),\n  (155, 6),\n  (156, 1),\n  (157, 3),\n  (158, 2),\n  (158, 10),\n  (159, 2),\n  (160, 1),\n  (160, 7),\n  (160, 8),\n  (161, 8),\n  (162, 4),\n  (162, 9),\n  (163, 8),\n  (164, 0),\n  (164, 2),\n  (164, 12),\n  (165, 2),\n  (165, 7),\n  (166, 3),\n  (166, 7),\n  (166, 10),\n  (168, 2),\n  (168, 3),\n  (169, 5),\n  (169, 6),\n  (170, 8),\n  (170, 9),\n  (171, 3),\n  (172, 0),\n  (172, 8),\n  (172, 11),\n  (173, 5),\n  (174, 1),\n  (175, 0),\n  (177, 1),\n  (177, 6),\n  (177, 8),\n  (179, 3),\n  (180, 1),\n  (181, 4),\n  (183, 0),\n  (183, 7),\n  (184, 4),\n  (184, 11),\n  (185, 0),\n  (185, 1),\n  (185, 9),\n  (186, 4),\n  (186, 10),\n  (190, 11),\n  (191, 4),\n  (191, 5),\n  (191, 12),\n  (192, 3),\n  (194, 4),\n  (194, 5),\n  (194, 7),\n  (195, 12),\n  (197, 1),\n  (198, 8),\n  (198, 10),\n  (199, 1),\n  (199, 6),\n  (199, 8),\n  (200, 5),\n  (200, 11),\n  (202, 5),\n  (202, 6),\n  (202, 7),\n  (203, 0),\n  (203, 6),\n  (205, 1),\n  (208, 3),\n  (208, 11),\n  (208, 12),\n  (210, 1),\n  (211, 2),\n  (214, 9),\n  (215, 4),\n  (215, 10),\n  (216, 1),\n  (216, 9),\n  (217, 3),\n  (219, 11),\n  (220, 4),\n  (220, 12),\n  (221, 1),\n  (221, 6),\n  (221, 8),\n  (223, 5),\n  (224, 2),\n  (224, 3),\n  (224, 9),\n  (224, 10),\n  (225, 0),\n  (225, 3),\n  (225, 9),\n  (225, 10),\n  (226, 0),\n  (226, 2),\n  (227, 4)],\n [(0, 0),\n  (0, 5),\n  (0, 7),\n  (2, 11),\n  (3, 9),\n  (3, 12),\n  (4, 6),\n  (4, 9),\n  (5, 8),\n  (6, 0),\n  (7, 7),\n  (8, 5),\n  (8, 7),\n  (9, 0),\n  (9, 2),\n  (11, 12),\n  (12, 2),\n  (12, 3),\n  (12, 4),\n  (13, 8),\n  (15, 3),\n  (15, 5),\n  (15, 12),\n  (18, 3),\n  (20, 2),\n  (20, 10),\n  (21, 1),\n  (21, 7),\n  (23, 0),\n  (23, 8),\n  (23, 11),\n  (24, 6),\n  (24, 7),\n  (24, 11),\n  (27, 4),\n  (27, 6),\n  (27, 10),\n  (28, 0),\n  (28, 10),\n  (28, 11),\n  (29, 4),\n  (30, 12),\n  (31, 11),\n  (32, 7),\n  (34, 5),\n  (34, 9),\n  (37, 10),\n  (37, 12),\n  (38, 3),\n  (38, 6),\n  (38, 7),\n  (39, 10),\n  (40, 0),\n  (40, 1),\n  (41, 7),\n  (43, 5),\n  (43, 7),\n  (45, 1),\n  (45, 2),\n  (45, 12),\n  (46, 3),\n  (46, 5),\n  (47, 1),\n  (48, 0),\n  (49, 2),\n  (49, 8),\n  (50, 10),\n  (51, 2),\n  (51, 3),\n  (51, 7),\n  (52, 8),\n  (53, 4),\n  (55, 1),\n  (55, 8),\n  (56, 4),\n  (57, 0),\n  (58, 2),\n  (58, 7),\n  (59, 1),\n  (61, 0),\n  (61, 3),\n  (61, 6),\n  (62, 3),\n  (63, 7),\n  (64, 7),\n  (67, 2),\n  (69, 3),\n  (69, 4),\n  (69, 7),\n  (69, 10),\n  (70, 1),\n  (70, 5),\n  (71, 0),\n  (71, 3),\n  (71, 4),\n  (71, 8),\n  (72, 0),\n  (73, 7),\n  (73, 10),\n  (77, 5),\n  (78, 1),\n  (78, 9),\n  (78, 10),\n  (79, 9),\n  (79, 11),\n  (80, 2),\n  (82, 9),\n  (82, 10),\n  (86, 6),\n  (86, 8),\n  (86, 10),\n  (87, 0),\n  (87, 1),\n  (88, 4),\n  (88, 7),\n  (88, 8),\n  (89, 10),\n  (89, 11),\n  (89, 12),\n  (90, 4),\n  (90, 6),\n  (91, 10),\n  (93, 10),\n  (94, 12),\n  (96, 3),\n  (98, 2),\n  (98, 4),\n  (99, 3),\n  (100, 4),\n  (100, 7),\n  (100, 12),\n  (101, 7),\n  (102, 3),\n  (103, 5),\n  (104, 2),\n  (107, 12),\n  (108, 1),\n  (108, 6),\n  (108, 9),\n  (109, 3),\n  (109, 7),\n  (110, 0),\n  (110, 1),\n  (111, 11),\n  (112, 8),\n  (113, 0),\n  (113, 2),\n  (113, 9),\n  (114, 5),\n  (114, 9),\n  (115, 5),\n  (115, 11),\n  (116, 8),\n  (117, 10),\n  (117, 12),\n  (119, 6),\n  (119, 7),\n  (119, 11),\n  (120, 4),\n  (121, 2),\n  (122, 2),\n  (123, 7),\n  (124, 2),\n  (124, 10),\n  (125, 0),\n  (125, 7),\n  (126, 3),\n  (130, 12),\n  (131, 8),\n  (132, 0),\n  (132, 3),\n  (132, 7),\n  (133, 10),\n  (134, 2),\n  (135, 7),\n  (135, 12),\n  (138, 4),\n  (138, 9),\n  (140, 4),\n  (142, 7),\n  (143, 6),\n  (143, 8),\n  (144, 1),\n  (144, 3),\n  (145, 5),\n  (145, 8),\n  (146, 5),\n  (147, 0),\n  (147, 8),\n  (148, 4),\n  (148, 8),\n  (148, 12),\n  (149, 2),\n  (149, 5),\n  (150, 10),\n  (151, 1),\n  (152, 8),\n  (152, 9),\n  (152, 12),\n  (155, 6),\n  (156, 1),\n  (157, 3),\n  (158, 2),\n  (158, 10),\n  (159, 2),\n  (160, 1),\n  (160, 7),\n  (160, 8),\n  (161, 8),\n  (162, 4),\n  (162, 9),\n  (163, 8),\n  (164, 0),\n  (164, 2),\n  (164, 12),\n  (165, 2),\n  (165, 7),\n  (166, 3),\n  (166, 7),\n  (166, 10),\n  (168, 2),\n  (168, 3),\n  (169, 5),\n  (169, 6),\n  (170, 8),\n  (170, 9),\n  (171, 3),\n  (172, 0),\n  (172, 8),\n  (172, 11),\n  (173, 5),\n  (174, 1),\n  (175, 0),\n  (177, 1),\n  (177, 6),\n  (177, 8),\n  (179, 3),\n  (180, 1),\n  (181, 4),\n  (183, 0),\n  (183, 7),\n  (184, 4),\n  (184, 11),\n  (185, 0),\n  (185, 1),\n  (185, 9),\n  (186, 4),\n  (186, 10),\n  (190, 11),\n  (191, 4),\n  (191, 5),\n  (191, 12),\n  (192, 3),\n  (194, 4),\n  (194, 5),\n  (194, 7),\n  (195, 12),\n  (197, 1),\n  (198, 8),\n  (198, 10),\n  (199, 1),\n  (199, 6),\n  (199, 8),\n  (200, 5),\n  (200, 11),\n  (202, 5),\n  (202, 6),\n  (202, 7),\n  (203, 0),\n  (203, 6),\n  (205, 1),\n  (208, 3),\n  (208, 11),\n  (208, 12),\n  (210, 1),\n  (211, 2),\n  (214, 9),\n  (215, 4),\n  (215, 10),\n  (216, 1),\n  (216, 9),\n  (217, 3),\n  (219, 11),\n  (220, 4),\n  (220, 12),\n  (221, 1),\n  (221, 6),\n  (221, 8),\n  (223, 5),\n  (224, 2),\n  (224, 3),\n  (224, 9),\n  (224, 10),\n  (225, 0),\n  (225, 3),\n  (225, 9),\n  (225, 10),\n  (226, 0),\n  (226, 2),\n  (227, 4)],\n [(0, 0),\n  (0, 5),\n  (0, 7),\n  (2, 11),\n  (3, 9),\n  (3, 12),\n  (4, 6),\n  (4, 9),\n  (5, 8),\n  (6, 0),\n  (7, 7),\n  (8, 5),\n  (8, 7),\n  (9, 0),\n  (9, 2),\n  (11, 12),\n  (12, 2),\n  (12, 3),\n  (12, 4),\n  (13, 8),\n  (15, 3),\n  (15, 5),\n  (15, 12),\n  (18, 3),\n  (20, 2),\n  (20, 10),\n  (21, 1),\n  (21, 7),\n  (23, 0),\n  (23, 8),\n  (23, 11),\n  (24, 6),\n  (24, 7),\n  (24, 11),\n  (27, 4),\n  (27, 6),\n  (27, 10),\n  (28, 0),\n  (28, 10),\n  (28, 11),\n  (29, 4),\n  (30, 12),\n  (31, 11),\n  (32, 7),\n  (34, 5),\n  (34, 9),\n  (37, 10),\n  (37, 12),\n  (38, 3),\n  (38, 6),\n  (38, 7),\n  (39, 10),\n  (40, 0),\n  (40, 1),\n  (41, 7),\n  (43, 5),\n  (43, 7),\n  (45, 1),\n  (45, 2),\n  (45, 12),\n  (46, 3),\n  (46, 5),\n  (47, 1),\n  (48, 0),\n  (49, 2),\n  (49, 8),\n  (50, 10),\n  (51, 2),\n  (51, 3),\n  (51, 7),\n  (52, 8),\n  (53, 4),\n  (55, 1),\n  (55, 8),\n  (56, 4),\n  (57, 0),\n  (58, 2),\n  (58, 7),\n  (59, 1),\n  (61, 0),\n  (61, 3),\n  (61, 6),\n  (62, 3),\n  (63, 7),\n  (64, 7),\n  (67, 2),\n  (69, 3),\n  (69, 4),\n  (69, 7),\n  (69, 10),\n  (70, 1),\n  (70, 5),\n  (71, 0),\n  (71, 3),\n  (71, 4),\n  (71, 8),\n  (72, 0),\n  (73, 7),\n  (73, 10),\n  (77, 5),\n  (78, 1),\n  (78, 9),\n  (78, 10),\n  (79, 9),\n  (79, 11),\n  (80, 2),\n  (82, 9),\n  (82, 10),\n  (86, 6),\n  (86, 8),\n  (86, 10),\n  (87, 0),\n  (87, 1),\n  (88, 4),\n  (88, 7),\n  (88, 8),\n  (89, 10),\n  (89, 11),\n  (89, 12),\n  (90, 4),\n  (90, 6),\n  (91, 10),\n  (93, 10),\n  (94, 12),\n  (96, 3),\n  (98, 2),\n  (98, 4),\n  (99, 3),\n  (100, 4),\n  (100, 7),\n  (100, 12),\n  (101, 7),\n  (102, 3),\n  (103, 5),\n  (104, 2),\n  (107, 12),\n  (108, 1),\n  (108, 6),\n  (108, 9),\n  (109, 3),\n  (109, 7),\n  (110, 0),\n  (110, 1),\n  (111, 11),\n  (112, 8),\n  (113, 0),\n  (113, 2),\n  (113, 9),\n  (114, 5),\n  (114, 9),\n  (115, 5),\n  (115, 11),\n  (116, 8),\n  (117, 10),\n  (117, 12),\n  (119, 6),\n  (119, 7),\n  (119, 11),\n  (120, 4),\n  (121, 2),\n  (122, 2),\n  (123, 7),\n  (124, 2),\n  (124, 10),\n  (125, 0),\n  (125, 7),\n  (126, 3),\n  (130, 12),\n  (131, 8),\n  (132, 0),\n  (132, 3),\n  (132, 7),\n  (133, 10),\n  (134, 2),\n  (135, 7),\n  (135, 12),\n  (138, 4),\n  (138, 9),\n  (140, 4),\n  (142, 7),\n  (143, 6),\n  (143, 8),\n  (144, 1),\n  (144, 3),\n  (145, 5),\n  (145, 8),\n  (146, 5),\n  (147, 0),\n  (147, 8),\n  (148, 4),\n  (148, 8),\n  (148, 12),\n  (149, 2),\n  (149, 5),\n  (150, 10),\n  (151, 1),\n  (152, 8),\n  (152, 9),\n  (152, 12),\n  (155, 6),\n  (156, 1),\n  (157, 3),\n  (158, 2),\n  (158, 10),\n  (159, 2),\n  (160, 1),\n  (160, 7),\n  (160, 8),\n  (161, 8),\n  (162, 4),\n  (162, 9),\n  (163, 8),\n  (164, 0),\n  (164, 2),\n  (164, 12),\n  (165, 2),\n  (165, 7),\n  (166, 3),\n  (166, 7),\n  (166, 10),\n  (168, 2),\n  (168, 3),\n  (169, 5),\n  (169, 6),\n  (170, 8),\n  (170, 9),\n  (171, 3),\n  (172, 0),\n  (172, 8),\n  (172, 11),\n  (173, 5),\n  (174, 1),\n  (175, 0),\n  (177, 1),\n  (177, 6),\n  (177, 8),\n  (179, 3),\n  (180, 1),\n  (181, 4),\n  (183, 0),\n  (183, 7),\n  (184, 4),\n  (184, 11),\n  (185, 0),\n  (185, 1),\n  (185, 9),\n  (186, 4),\n  (186, 10),\n  (190, 11),\n  (191, 4),\n  (191, 5),\n  (191, 12),\n  (192, 3),\n  (194, 4),\n  (194, 5),\n  (194, 7),\n  (195, 12),\n  (197, 1),\n  (198, 8),\n  (198, 10),\n  (199, 1),\n  (199, 6),\n  (199, 8),\n  (200, 5),\n  (200, 11),\n  (202, 5),\n  (202, 6),\n  (202, 7),\n  (203, 0),\n  (203, 6),\n  (205, 1),\n  (208, 3),\n  (208, 11),\n  (208, 12),\n  (210, 1),\n  (211, 2),\n  (214, 9),\n  (215, 4),\n  (215, 10),\n  (216, 1),\n  (216, 9),\n  (217, 3),\n  (219, 11),\n  (220, 4),\n  (220, 12),\n  (221, 1),\n  (221, 6),\n  (221, 8),\n  (223, 5),\n  (224, 2),\n  (224, 3),\n  (224, 9),\n  (224, 10),\n  (225, 0),\n  (225, 3),\n  (225, 9),\n  (225, 10),\n  (226, 0),\n  (226, 2),\n  (227, 4)],\n [(0, 0),\n  (0, 5),\n  (0, 7),\n  (2, 11),\n  (3, 9),\n  (3, 12),\n  (4, 6),\n  (4, 9),\n  (5, 8),\n  (6, 0),\n  (7, 7),\n  (8, 5),\n  (8, 7),\n  (9, 0),\n  (9, 2),\n  (11, 12),\n  (12, 2),\n  (12, 3),\n  (12, 4),\n  (13, 8),\n  (15, 3),\n  (15, 5),\n  (15, 12),\n  (18, 3),\n  (20, 2),\n  (20, 10),\n  (21, 1),\n  (21, 7),\n  (23, 0),\n  (23, 8),\n  (23, 11),\n  (24, 6),\n  (24, 7),\n  (24, 11),\n  (27, 4),\n  (27, 6),\n  (27, 10),\n  (28, 0),\n  (28, 10),\n  (28, 11),\n  (29, 4),\n  (30, 12),\n  (31, 11),\n  (32, 7),\n  (34, 5),\n  (34, 9),\n  (37, 10),\n  (37, 12),\n  (38, 3),\n  (38, 6),\n  (38, 7),\n  (39, 10),\n  (40, 0),\n  (40, 1),\n  (41, 7),\n  (43, 5),\n  (43, 7),\n  (45, 1),\n  (45, 2),\n  (45, 12),\n  (46, 3),\n  (46, 5),\n  (47, 1),\n  (48, 0),\n  (49, 2),\n  (49, 8),\n  (50, 10),\n  (51, 2),\n  (51, 3),\n  (51, 7),\n  (52, 8),\n  (53, 4),\n  (55, 1),\n  (55, 8),\n  (56, 4),\n  (57, 0),\n  (58, 2),\n  (58, 7),\n  (59, 1),\n  (61, 0),\n  (61, 3),\n  (61, 6),\n  (62, 3),\n  (63, 7),\n  (64, 7),\n  (67, 2),\n  (69, 3),\n  (69, 4),\n  (69, 7),\n  (69, 10),\n  (70, 1),\n  (70, 5),\n  (71, 0),\n  (71, 3),\n  (71, 4),\n  (71, 8),\n  (72, 0),\n  (73, 7),\n  (73, 10),\n  (77, 5),\n  (78, 1),\n  (78, 9),\n  (78, 10),\n  (79, 9),\n  (79, 11),\n  (80, 2),\n  (82, 9),\n  (82, 10),\n  (86, 6),\n  (86, 8),\n  (86, 10),\n  (87, 0),\n  (87, 1),\n  (88, 4),\n  (88, 7),\n  (88, 8),\n  (89, 10),\n  (89, 11),\n  (89, 12),\n  (90, 4),\n  (90, 6),\n  (91, 10),\n  (93, 10),\n  (94, 12),\n  (96, 3),\n  (98, 2),\n  (98, 4),\n  (99, 3),\n  (100, 4),\n  (100, 7),\n  (100, 12),\n  (101, 7),\n  (102, 3),\n  (103, 5),\n  (104, 2),\n  (107, 12),\n  (108, 1),\n  (108, 6),\n  (108, 9),\n  (109, 3),\n  (109, 7),\n  (110, 0),\n  (110, 1),\n  (111, 11),\n  (112, 8),\n  (113, 0),\n  (113, 2),\n  (113, 9),\n  (114, 5),\n  (114, 9),\n  (115, 5),\n  (115, 11),\n  (116, 8),\n  (117, 10),\n  (117, 12),\n  (119, 6),\n  (119, 7),\n  (119, 11),\n  (120, 4),\n  (121, 2),\n  (122, 2),\n  (123, 7),\n  (124, 2),\n  (124, 10),\n  (125, 0),\n  (125, 7),\n  (126, 3),\n  (130, 12),\n  (131, 8),\n  (132, 0),\n  (132, 3),\n  (132, 7),\n  (133, 10),\n  (134, 2),\n  (135, 7),\n  (135, 12),\n  (138, 4),\n  (138, 9),\n  (140, 4),\n  (142, 7),\n  (143, 6),\n  (143, 8),\n  (144, 1),\n  (144, 3),\n  (145, 5),\n  (145, 8),\n  (146, 5),\n  (147, 0),\n  (147, 8),\n  (148, 4),\n  (148, 8),\n  (148, 12),\n  (149, 2),\n  (149, 5),\n  (150, 10),\n  (151, 1),\n  (152, 8),\n  (152, 9),\n  (152, 12),\n  (155, 6),\n  (156, 1),\n  (157, 3),\n  (158, 2),\n  (158, 10),\n  (159, 2),\n  (160, 1),\n  (160, 7),\n  (160, 8),\n  (161, 8),\n  (162, 4),\n  (162, 9),\n  (163, 8),\n  (164, 0),\n  (164, 2),\n  (164, 12),\n  (165, 2),\n  (165, 7),\n  (166, 3),\n  (166, 7),\n  (166, 10),\n  (168, 2),\n  (168, 3),\n  (169, 5),\n  (169, 6),\n  (170, 8),\n  (170, 9),\n  (171, 3),\n  (172, 0),\n  (172, 8),\n  (172, 11),\n  (173, 5),\n  (174, 1),\n  (175, 0),\n  (177, 1),\n  (177, 6),\n  (177, 8),\n  (179, 3),\n  (180, 1),\n  (181, 4),\n  (183, 0),\n  (183, 7),\n  (184, 4),\n  (184, 11),\n  (185, 0),\n  (185, 1),\n  (185, 9),\n  (186, 4),\n  (186, 10),\n  (190, 11),\n  (191, 4),\n  (191, 5),\n  (191, 12),\n  (192, 3),\n  (194, 4),\n  (194, 5),\n  (194, 7),\n  (195, 12),\n  (197, 1),\n  (198, 8),\n  (198, 10),\n  (199, 1),\n  (199, 6),\n  (199, 8),\n  (200, 5),\n  (200, 11),\n  (202, 5),\n  (202, 6),\n  (202, 7),\n  (203, 0),\n  (203, 6),\n  (205, 1),\n  (208, 3),\n  (208, 11),\n  (208, 12),\n  (210, 1),\n  (211, 2),\n  (214, 9),\n  (215, 4),\n  (215, 10),\n  (216, 1),\n  (216, 9),\n  (217, 3),\n  (219, 11),\n  (220, 4),\n  (220, 12),\n  (221, 1),\n  (221, 6),\n  (221, 8),\n  (223, 5),\n  (224, 2),\n  (224, 3),\n  (224, 9),\n  (224, 10),\n  (225, 0),\n  (225, 3),\n  (225, 9),\n  (225, 10),\n  (226, 0),\n  (226, 2),\n  (227, 4)],\n [(0, 0),\n  (0, 5),\n  (0, 7),\n  (2, 11),\n  (3, 9),\n  (3, 12),\n  (4, 6),\n  (4, 9),\n  (5, 8),\n  (6, 0),\n  (7, 7),\n  (8, 5),\n  (8, 7),\n  (9, 0),\n  (9, 2),\n  (11, 12),\n  (12, 2),\n  (12, 3),\n  (12, 4),\n  (13, 8),\n  (15, 3),\n  (15, 5),\n  (15, 12),\n  (18, 3),\n  (20, 2),\n  (20, 10),\n  (21, 1),\n  (21, 7),\n  (23, 0),\n  (23, 8),\n  (23, 11),\n  (24, 6),\n  (24, 7),\n  (24, 11),\n  (27, 4),\n  (27, 6),\n  (27, 10),\n  (28, 0),\n  (28, 10),\n  (28, 11),\n  (29, 4),\n  (30, 12),\n  (31, 11),\n  (32, 7),\n  (34, 5),\n  (34, 9),\n  (37, 10),\n  (37, 12),\n  (38, 3),\n  (38, 6),\n  (38, 7),\n  (39, 10),\n  (40, 0),\n  (40, 1),\n  (41, 7),\n  (43, 5),\n  (43, 7),\n  (45, 1),\n  (45, 2),\n  (45, 12),\n  (46, 3),\n  (46, 5),\n  (47, 1),\n  (48, 0),\n  (49, 2),\n  (49, 8),\n  (50, 10),\n  (51, 2),\n  (51, 3),\n  (51, 7),\n  (52, 8),\n  (53, 4),\n  (55, 1),\n  (55, 8),\n  (56, 4),\n  (57, 0),\n  (58, 2),\n  (58, 7),\n  (59, 1),\n  (61, 0),\n  (61, 3),\n  (61, 6),\n  (62, 3),\n  (63, 7),\n  (64, 7),\n  (67, 2),\n  (69, 3),\n  (69, 4),\n  (69, 7),\n  (69, 10),\n  (70, 1),\n  (70, 5),\n  (71, 0),\n  (71, 3),\n  (71, 4),\n  (71, 8),\n  (72, 0),\n  (73, 7),\n  (73, 10),\n  (77, 5),\n  (78, 1),\n  (78, 9),\n  (78, 10),\n  (79, 9),\n  (79, 11),\n  (80, 2),\n  (82, 9),\n  (82, 10),\n  (86, 6),\n  (86, 8),\n  (86, 10),\n  (87, 0),\n  (87, 1),\n  (88, 4),\n  (88, 7),\n  (88, 8),\n  (89, 10),\n  (89, 11),\n  (89, 12),\n  (90, 4),\n  (90, 6),\n  (91, 10),\n  (93, 10),\n  (94, 12),\n  (96, 3),\n  (98, 2),\n  (98, 4),\n  (99, 3),\n  (100, 4),\n  (100, 7),\n  (100, 12),\n  (101, 7),\n  (102, 3),\n  (103, 5),\n  (104, 2),\n  (107, 12),\n  (108, 1),\n  (108, 6),\n  (108, 9),\n  (109, 3),\n  (109, 7),\n  (110, 0),\n  (110, 1),\n  (111, 11),\n  (112, 8),\n  (113, 0),\n  (113, 2),\n  (113, 9),\n  (114, 5),\n  (114, 9),\n  (115, 5),\n  (115, 11),\n  (116, 8),\n  (117, 10),\n  (117, 12),\n  (119, 6),\n  (119, 7),\n  (119, 11),\n  (120, 4),\n  (121, 2),\n  (122, 2),\n  (123, 7),\n  (124, 2),\n  (124, 10),\n  (125, 0),\n  (125, 7),\n  (126, 3),\n  (130, 12),\n  (131, 8),\n  (132, 0),\n  (132, 3),\n  (132, 7),\n  (133, 10),\n  (134, 2),\n  (135, 7),\n  (135, 12),\n  (138, 4),\n  (138, 9),\n  (140, 4),\n  (142, 7),\n  (143, 6),\n  (143, 8),\n  (144, 1),\n  (144, 3),\n  (145, 5),\n  (145, 8),\n  (146, 5),\n  (147, 0),\n  (147, 8),\n  (148, 4),\n  (148, 8),\n  (148, 12),\n  (149, 2),\n  (149, 5),\n  (150, 10),\n  (151, 1),\n  (152, 8),\n  (152, 9),\n  (152, 12),\n  (155, 6),\n  (156, 1),\n  (157, 3),\n  (158, 2),\n  (158, 10),\n  (159, 2),\n  (160, 1),\n  (160, 7),\n  (160, 8),\n  (161, 8),\n  (162, 4),\n  (162, 9),\n  (163, 8),\n  (164, 0),\n  (164, 2),\n  (164, 12),\n  (165, 2),\n  (165, 7),\n  (166, 3),\n  (166, 7),\n  (166, 10),\n  (168, 2),\n  (168, 3),\n  (169, 5),\n  (169, 6),\n  (170, 8),\n  (170, 9),\n  (171, 3),\n  (172, 0),\n  (172, 8),\n  (172, 11),\n  (173, 5),\n  (174, 1),\n  (175, 0),\n  (177, 1),\n  (177, 6),\n  (177, 8),\n  (179, 3),\n  (180, 1),\n  (181, 4),\n  (183, 0),\n  (183, 7),\n  (184, 4),\n  (184, 11),\n  (185, 0),\n  (185, 1),\n  (185, 9),\n  (186, 4),\n  (186, 10),\n  (190, 11),\n  (191, 4),\n  (191, 5),\n  (191, 12),\n  (192, 3),\n  (194, 4),\n  (194, 5),\n  (194, 7),\n  (195, 12),\n  (197, 1),\n  (198, 8),\n  (198, 10),\n  (199, 1),\n  (199, 6),\n  (199, 8),\n  (200, 5),\n  (200, 11),\n  (202, 5),\n  (202, 6),\n  (202, 7),\n  (203, 0),\n  (203, 6),\n  (205, 1),\n  (208, 3),\n  (208, 11),\n  (208, 12),\n  (210, 1),\n  (211, 2),\n  (214, 9),\n  (215, 4),\n  (215, 10),\n  (216, 1),\n  (216, 9),\n  (217, 3),\n  (219, 11),\n  (220, 4),\n  (220, 12),\n  (221, 1),\n  (221, 6),\n  (221, 8),\n  (223, 5),\n  (224, 2),\n  (224, 3),\n  (224, 9),\n  (224, 10),\n  (225, 0),\n  (225, 3),\n  (225, 9),\n  (225, 10),\n  (226, 0),\n  (226, 2),\n  (227, 4)],\n [(0, 0),\n  (0, 5),\n  (0, 7),\n  (2, 11),\n  (3, 9),\n  (3, 12),\n  (4, 6),\n  (4, 9),\n  (5, 8),\n  (6, 0),\n  (7, 7),\n  (8, 5),\n  (8, 7),\n  (9, 0),\n  (9, 2),\n  (11, 12),\n  (12, 2),\n  (12, 3),\n  (12, 4),\n  (13, 8),\n  (15, 3),\n  (15, 5),\n  (15, 12),\n  (18, 3),\n  (20, 2),\n  (20, 10),\n  (21, 1),\n  (21, 7),\n  (23, 0),\n  (23, 8),\n  (23, 11),\n  (24, 6),\n  (24, 7),\n  (24, 11),\n  (27, 4),\n  (27, 6),\n  (27, 10),\n  (28, 0),\n  (28, 10),\n  (28, 11),\n  (29, 4),\n  (30, 12),\n  (31, 11),\n  (32, 7),\n  (34, 5),\n  (34, 9),\n  (37, 10),\n  (37, 12),\n  (38, 3),\n  (38, 6),\n  (38, 7),\n  (39, 10),\n  (40, 0),\n  (40, 1),\n  (41, 7),\n  (43, 5),\n  (43, 7),\n  (45, 1),\n  (45, 2),\n  (45, 12),\n  (46, 3),\n  (46, 5),\n  (47, 1),\n  (48, 0),\n  (49, 2),\n  (49, 8),\n  (50, 10),\n  (51, 2),\n  (51, 3),\n  (51, 7),\n  (52, 8),\n  (53, 4),\n  (55, 1),\n  (55, 8),\n  (56, 4),\n  (57, 0),\n  (58, 2),\n  (58, 7),\n  (59, 1),\n  (61, 0),\n  (61, 3),\n  (61, 6),\n  (62, 3),\n  (63, 7),\n  (64, 7),\n  (67, 2),\n  (69, 3),\n  (69, 4),\n  (69, 7),\n  (69, 10),\n  (70, 1),\n  (70, 5),\n  (71, 0),\n  (71, 3),\n  (71, 4),\n  (71, 8),\n  (72, 0),\n  (73, 7),\n  (73, 10),\n  (77, 5),\n  (78, 1),\n  (78, 9),\n  (78, 10),\n  (79, 9),\n  (79, 11),\n  (80, 2),\n  (82, 9),\n  (82, 10),\n  (86, 6),\n  (86, 8),\n  (86, 10),\n  (87, 0),\n  (87, 1),\n  (88, 4),\n  (88, 7),\n  (88, 8),\n  (89, 10),\n  (89, 11),\n  (89, 12),\n  (90, 4),\n  (90, 6),\n  (91, 10),\n  (93, 10),\n  (94, 12),\n  (96, 3),\n  (98, 2),\n  (98, 4),\n  (99, 3),\n  (100, 4),\n  (100, 7),\n  (100, 12),\n  (101, 7),\n  (102, 3),\n  (103, 5),\n  (104, 2),\n  (107, 12),\n  (108, 1),\n  (108, 6),\n  (108, 9),\n  (109, 3),\n  (109, 7),\n  (110, 0),\n  (110, 1),\n  (111, 11),\n  (112, 8),\n  (113, 0),\n  (113, 2),\n  (113, 9),\n  (114, 5),\n  (114, 9),\n  (115, 5),\n  (115, 11),\n  (116, 8),\n  (117, 10),\n  (117, 12),\n  (119, 6),\n  (119, 7),\n  (119, 11),\n  (120, 4),\n  (121, 2),\n  (122, 2),\n  (123, 7),\n  (124, 2),\n  (124, 10),\n  (125, 0),\n  (125, 7),\n  (126, 3),\n  (130, 12),\n  (131, 8),\n  (132, 0),\n  (132, 3),\n  (132, 7),\n  (133, 10),\n  (134, 2),\n  (135, 7),\n  (135, 12),\n  (138, 4),\n  (138, 9),\n  (140, 4),\n  (142, 7),\n  (143, 6),\n  (143, 8),\n  (144, 1),\n  (144, 3),\n  (145, 5),\n  (145, 8),\n  (146, 5),\n  (147, 0),\n  (147, 8),\n  (148, 4),\n  (148, 8),\n  (148, 12),\n  (149, 2),\n  (149, 5),\n  (150, 10),\n  (151, 1),\n  (152, 8),\n  (152, 9),\n  (152, 12),\n  (155, 6),\n  (156, 1),\n  (157, 3),\n  (158, 2),\n  (158, 10),\n  (159, 2),\n  (160, 1),\n  (160, 7),\n  (160, 8),\n  (161, 8),\n  (162, 4),\n  (162, 9),\n  (163, 8),\n  (164, 0),\n  (164, 2),\n  (164, 12),\n  (165, 2),\n  (165, 7),\n  (166, 3),\n  (166, 7),\n  (166, 10),\n  (168, 2),\n  (168, 3),\n  (169, 5),\n  (169, 6),\n  (170, 8),\n  (170, 9),\n  (171, 3),\n  (172, 0),\n  (172, 8),\n  (172, 11),\n  (173, 5),\n  (174, 1),\n  (175, 0),\n  (177, 1),\n  (177, 6),\n  (177, 8),\n  (179, 3),\n  (180, 1),\n  (181, 4),\n  (183, 0),\n  (183, 7),\n  (184, 4),\n  (184, 11),\n  (185, 0),\n  (185, 1),\n  (185, 9),\n  (186, 4),\n  (186, 10),\n  (190, 11),\n  (191, 4),\n  (191, 5),\n  (191, 12),\n  (192, 3),\n  (194, 4),\n  (194, 5),\n  (194, 7),\n  (195, 12),\n  (197, 1),\n  (198, 8),\n  (198, 10),\n  (199, 1),\n  (199, 6),\n  (199, 8),\n  (200, 5),\n  (200, 11),\n  (202, 5),\n  (202, 6),\n  (202, 7),\n  (203, 0),\n  (203, 6),\n  (205, 1),\n  (208, 3),\n  (208, 11),\n  (208, 12),\n  (210, 1),\n  (211, 2),\n  (214, 9),\n  (215, 4),\n  (215, 10),\n  (216, 1),\n  (216, 9),\n  (217, 3),\n  (219, 11),\n  (220, 4),\n  (220, 12),\n  (221, 1),\n  (221, 6),\n  (221, 8),\n  (223, 5),\n  (224, 2),\n  (224, 3),\n  (224, 9),\n  (224, 10),\n  (225, 0),\n  (225, 3),\n  (225, 9),\n  (225, 10),\n  (226, 0),\n  (226, 2),\n  (227, 4)],\n [(0, 0),\n  (0, 5),\n  (0, 7),\n  (2, 11),\n  (3, 9),\n  (3, 12),\n  (4, 6),\n  (4, 9),\n  (5, 8),\n  (6, 0),\n  (7, 7),\n  (8, 5),\n  (8, 7),\n  (9, 0),\n  (9, 2),\n  (11, 12),\n  (12, 2),\n  (12, 3),\n  (12, 4),\n  (13, 8),\n  (15, 3),\n  (15, 5),\n  (15, 12),\n  (18, 3),\n  (20, 2),\n  (20, 10),\n  (21, 1),\n  (21, 7),\n  (23, 0),\n  (23, 8),\n  (23, 11),\n  (24, 6),\n  (24, 7),\n  (24, 11),\n  (27, 4),\n  (27, 6),\n  (27, 10),\n  (28, 0),\n  (28, 10),\n  (28, 11),\n  (29, 4),\n  (30, 12),\n  (31, 11),\n  (32, 7),\n  (34, 5),\n  (34, 9),\n  (37, 10),\n  (37, 12),\n  (38, 3),\n  (38, 6),\n  (38, 7),\n  (39, 10),\n  (40, 0),\n  (40, 1),\n  (41, 7),\n  (43, 5),\n  (43, 7),\n  (45, 1),\n  (45, 2),\n  (45, 12),\n  (46, 3),\n  (46, 5),\n  (47, 1),\n  (48, 0),\n  (49, 2),\n  (49, 8),\n  (50, 10),\n  (51, 2),\n  (51, 3),\n  (51, 7),\n  (52, 8),\n  (53, 4),\n  (55, 1),\n  (55, 8),\n  (56, 4),\n  (57, 0),\n  (58, 2),\n  (58, 7),\n  (59, 1),\n  (61, 0),\n  (61, 3),\n  (61, 6),\n  (62, 3),\n  (63, 7),\n  (64, 7),\n  (67, 2),\n  (69, 3),\n  (69, 4),\n  (69, 7),\n  (69, 10),\n  (70, 1),\n  (70, 5),\n  (71, 0),\n  (71, 3),\n  (71, 4),\n  (71, 8),\n  (72, 0),\n  (73, 7),\n  (73, 10),\n  (77, 5),\n  (78, 1),\n  (78, 9),\n  (78, 10),\n  (79, 9),\n  (79, 11),\n  (80, 2),\n  (82, 9),\n  (82, 10),\n  (86, 6),\n  (86, 8),\n  (86, 10),\n  (87, 0),\n  (87, 1),\n  (88, 4),\n  (88, 7),\n  (88, 8),\n  (89, 10),\n  (89, 11),\n  (89, 12),\n  (90, 4),\n  (90, 6),\n  (91, 10),\n  (93, 10),\n  (94, 12),\n  (96, 3),\n  (98, 2),\n  (98, 4),\n  (99, 3),\n  (100, 4),\n  (100, 7),\n  (100, 12),\n  (101, 7),\n  (102, 3),\n  (103, 5),\n  (104, 2),\n  (107, 12),\n  (108, 1),\n  (108, 6),\n  (108, 9),\n  (109, 3),\n  (109, 7),\n  (110, 0),\n  (110, 1),\n  (111, 11),\n  (112, 8),\n  (113, 0),\n  (113, 2),\n  (113, 9),\n  (114, 5),\n  (114, 9),\n  (115, 5),\n  (115, 11),\n  (116, 8),\n  (117, 10),\n  (117, 12),\n  (119, 6),\n  (119, 7),\n  (119, 11),\n  (120, 4),\n  (121, 2),\n  (122, 2),\n  (123, 7),\n  (124, 2),\n  (124, 10),\n  (125, 0),\n  (125, 7),\n  (126, 3),\n  (130, 12),\n  (131, 8),\n  (132, 0),\n  (132, 3),\n  (132, 7),\n  (133, 10),\n  (134, 2),\n  (135, 7),\n  (135, 12),\n  (138, 4),\n  (138, 9),\n  (140, 4),\n  (142, 7),\n  (143, 6),\n  (143, 8),\n  (144, 1),\n  (144, 3),\n  (145, 5),\n  (145, 8),\n  (146, 5),\n  (147, 0),\n  (147, 8),\n  (148, 4),\n  (148, 8),\n  (148, 12),\n  (149, 2),\n  (149, 5),\n  (150, 10),\n  (151, 1),\n  (152, 8),\n  (152, 9),\n  (152, 12),\n  (155, 6),\n  (156, 1),\n  (157, 3),\n  (158, 2),\n  (158, 10),\n  (159, 2),\n  (160, 1),\n  (160, 7),\n  (160, 8),\n  (161, 8),\n  (162, 4),\n  (162, 9),\n  (163, 8),\n  (164, 0),\n  (164, 2),\n  (164, 12),\n  (165, 2),\n  (165, 7),\n  (166, 3),\n  (166, 7),\n  (166, 10),\n  (168, 2),\n  (168, 3),\n  (169, 5),\n  (169, 6),\n  (170, 8),\n  (170, 9),\n  (171, 3),\n  (172, 0),\n  (172, 8),\n  (172, 11),\n  (173, 5),\n  (174, 1),\n  (175, 0),\n  (177, 1),\n  (177, 6),\n  (177, 8),\n  (179, 3),\n  (180, 1),\n  (181, 4),\n  (183, 0),\n  (183, 7),\n  (184, 4),\n  (184, 11),\n  (185, 0),\n  (185, 1),\n  (185, 9),\n  (186, 4),\n  (186, 10),\n  (190, 11),\n  (191, 4),\n  (191, 5),\n  (191, 12),\n  (192, 3),\n  (194, 4),\n  (194, 5),\n  (194, 7),\n  (195, 12),\n  (197, 1),\n  (198, 8),\n  (198, 10),\n  (199, 1),\n  (199, 6),\n  (199, 8),\n  (200, 5),\n  (200, 11),\n  (202, 5),\n  (202, 6),\n  (202, 7),\n  (203, 0),\n  (203, 6),\n  (205, 1),\n  (208, 3),\n  (208, 11),\n  (208, 12),\n  (210, 1),\n  (211, 2),\n  (214, 9),\n  (215, 4),\n  (215, 10),\n  (216, 1),\n  (216, 9),\n  (217, 3),\n  (219, 11),\n  (220, 4),\n  (220, 12),\n  (221, 1),\n  (221, 6),\n  (221, 8),\n  (223, 5),\n  (224, 2),\n  (224, 3),\n  (224, 9),\n  (224, 10),\n  (225, 0),\n  (225, 3),\n  (225, 9),\n  (225, 10),\n  (226, 0),\n  (226, 2),\n  (227, 4)],\n [(0, 0),\n  (0, 5),\n  (0, 7),\n  (2, 11),\n  (3, 9),\n  (3, 12),\n  (4, 6),\n  (4, 9),\n  (5, 8),\n  (6, 0),\n  (7, 7),\n  (8, 5),\n  (8, 7),\n  (9, 0),\n  (9, 2),\n  (11, 12),\n  (12, 2),\n  (12, 3),\n  (12, 4),\n  (13, 8),\n  (15, 3),\n  (15, 5),\n  (15, 12),\n  (18, 3),\n  (20, 2),\n  (20, 10),\n  (21, 1),\n  (21, 7),\n  (23, 0),\n  (23, 8),\n  (23, 11),\n  (24, 6),\n  (24, 7),\n  (24, 11),\n  (27, 4),\n  (27, 6),\n  (27, 10),\n  (28, 0),\n  (28, 10),\n  (28, 11),\n  (29, 4),\n  (30, 12),\n  (31, 11),\n  (32, 7),\n  (34, 5),\n  (34, 9),\n  (37, 10),\n  (37, 12),\n  (38, 3),\n  (38, 6),\n  (38, 7),\n  (39, 10),\n  (40, 0),\n  (40, 1),\n  (41, 7),\n  (43, 5),\n  (43, 7),\n  (45, 1),\n  (45, 2),\n  (45, 12),\n  (46, 3),\n  (46, 5),\n  (47, 1),\n  (48, 0),\n  (49, 2),\n  (49, 8),\n  (50, 10),\n  (51, 2),\n  (51, 3),\n  (51, 7),\n  (52, 8),\n  (53, 4),\n  (55, 1),\n  (55, 8),\n  (56, 4),\n  (57, 0),\n  (58, 2),\n  (58, 7),\n  (59, 1),\n  (61, 0),\n  (61, 3),\n  (61, 6),\n  (62, 3),\n  (63, 7),\n  (64, 7),\n  (67, 2),\n  (69, 3),\n  (69, 4),\n  (69, 7),\n  (69, 10),\n  (70, 1),\n  (70, 5),\n  (71, 0),\n  (71, 3),\n  (71, 4),\n  (71, 8),\n  (72, 0),\n  (73, 7),\n  (73, 10),\n  (77, 5),\n  (78, 1),\n  (78, 9),\n  (78, 10),\n  (79, 9),\n  (79, 11),\n  (80, 2),\n  (82, 9),\n  (82, 10),\n  (86, 6),\n  (86, 8),\n  (86, 10),\n  (87, 0),\n  (87, 1),\n  (88, 4),\n  (88, 7),\n  (88, 8),\n  (89, 10),\n  (89, 11),\n  (89, 12),\n  (90, 4),\n  (90, 6),\n  (91, 10),\n  (93, 10),\n  (94, 12),\n  (96, 3),\n  (98, 2),\n  (98, 4),\n  (99, 3),\n  (100, 4),\n  (100, 7),\n  (100, 12),\n  (101, 7),\n  (102, 3),\n  (103, 5),\n  (104, 2),\n  (107, 12),\n  (108, 1),\n  (108, 6),\n  (108, 9),\n  (109, 3),\n  (109, 7),\n  (110, 0),\n  (110, 1),\n  (111, 11),\n  (112, 8),\n  (113, 0),\n  (113, 2),\n  (113, 9),\n  (114, 5),\n  (114, 9),\n  (115, 5),\n  (115, 11),\n  (116, 8),\n  (117, 10),\n  (117, 12),\n  (119, 6),\n  (119, 7),\n  (119, 11),\n  (120, 4),\n  (121, 2),\n  (122, 2),\n  (123, 7),\n  (124, 2),\n  (124, 10),\n  (125, 0),\n  (125, 7),\n  (126, 3),\n  (130, 12),\n  (131, 8),\n  (132, 0),\n  (132, 3),\n  (132, 7),\n  (133, 10),\n  (134, 2),\n  (135, 7),\n  (135, 12),\n  (138, 4),\n  (138, 9),\n  (140, 4),\n  (142, 7),\n  (143, 6),\n  (143, 8),\n  (144, 1),\n  (144, 3),\n  (145, 5),\n  (145, 8),\n  (146, 5),\n  (147, 0),\n  (147, 8),\n  (148, 4),\n  (148, 8),\n  (148, 12),\n  (149, 2),\n  (149, 5),\n  (150, 10),\n  (151, 1),\n  (152, 8),\n  (152, 9),\n  (152, 12),\n  (155, 6),\n  (156, 1),\n  (157, 3),\n  (158, 2),\n  (158, 10),\n  (159, 2),\n  (160, 1),\n  (160, 7),\n  (160, 8),\n  (161, 8),\n  (162, 4),\n  (162, 9),\n  (163, 8),\n  (164, 0),\n  (164, 2),\n  (164, 12),\n  (165, 2),\n  (165, 7),\n  (166, 3),\n  (166, 7),\n  (166, 10),\n  (168, 2),\n  (168, 3),\n  (169, 5),\n  (169, 6),\n  (170, 8),\n  (170, 9),\n  (171, 3),\n  (172, 0),\n  (172, 8),\n  (172, 11),\n  (173, 5),\n  (174, 1),\n  (175, 0),\n  (177, 1),\n  (177, 6),\n  (177, 8),\n  (179, 3),\n  (180, 1),\n  (181, 4),\n  (183, 0),\n  (183, 7),\n  (184, 4),\n  (184, 11),\n  (185, 0),\n  (185, 1),\n  (185, 9),\n  (186, 4),\n  (186, 10),\n  (190, 11),\n  (191, 4),\n  (191, 5),\n  (191, 12),\n  (192, 3),\n  (194, 4),\n  (194, 5),\n  (194, 7),\n  (195, 12),\n  (197, 1),\n  (198, 8),\n  (198, 10),\n  (199, 1),\n  (199, 6),\n  (199, 8),\n  (200, 5),\n  (200, 11),\n  (202, 5),\n  (202, 6),\n  (202, 7),\n  (203, 0),\n  (203, 6),\n  (205, 1),\n  (208, 3),\n  (208, 11),\n  (208, 12),\n  (210, 1),\n  (211, 2),\n  (214, 9),\n  (215, 4),\n  (215, 10),\n  (216, 1),\n  (216, 9),\n  (217, 3),\n  (219, 11),\n  (220, 4),\n  (220, 12),\n  (221, 1),\n  (221, 6),\n  (221, 8),\n  (223, 5),\n  (224, 2),\n  (224, 3),\n  (224, 9),\n  (224, 10),\n  (225, 0),\n  (225, 3),\n  (225, 9),\n  (225, 10),\n  (226, 0),\n  (226, 2),\n  (227, 4)],\n [(0, 0),\n  (0, 5),\n  (0, 7),\n  (2, 11),\n  (3, 9),\n  (3, 12),\n  (4, 6),\n  (4, 9),\n  (5, 8),\n  (6, 0),\n  (7, 7),\n  (8, 5),\n  (8, 7),\n  (9, 0),\n  (9, 2),\n  (11, 12),\n  (12, 2),\n  (12, 3),\n  (12, 4),\n  (13, 8),\n  (15, 3),\n  (15, 5),\n  (15, 12),\n  (18, 3),\n  (20, 2),\n  (20, 10),\n  (21, 1),\n  (21, 7),\n  (23, 0),\n  (23, 8),\n  (23, 11),\n  (24, 6),\n  (24, 7),\n  (24, 11),\n  (27, 4),\n  (27, 6),\n  (27, 10),\n  (28, 0),\n  (28, 10),\n  (28, 11),\n  (29, 4),\n  (30, 12),\n  (31, 11),\n  (32, 7),\n  (34, 5),\n  (34, 9),\n  (37, 10),\n  (37, 12),\n  (38, 3),\n  (38, 6),\n  (38, 7),\n  (39, 10),\n  (40, 0),\n  (40, 1),\n  (41, 7),\n  (43, 5),\n  (43, 7),\n  (45, 1),\n  (45, 2),\n  (45, 12),\n  (46, 3),\n  (46, 5),\n  (47, 1),\n  (48, 0),\n  (49, 2),\n  (49, 8),\n  (50, 10),\n  (51, 2),\n  (51, 3),\n  (51, 7),\n  (52, 8),\n  (53, 4),\n  (55, 1),\n  (55, 8),\n  (56, 4),\n  (57, 0),\n  (58, 2),\n  (58, 7),\n  (59, 1),\n  (61, 0),\n  (61, 3),\n  (61, 6),\n  (62, 3),\n  (63, 7),\n  (64, 7),\n  (67, 2),\n  (69, 3),\n  (69, 4),\n  (69, 7),\n  (69, 10),\n  (70, 1),\n  (70, 5),\n  (71, 0),\n  (71, 3),\n  (71, 4),\n  (71, 8),\n  (72, 0),\n  (73, 7),\n  (73, 10),\n  (77, 5),\n  (78, 1),\n  (78, 9),\n  (78, 10),\n  (79, 9),\n  (79, 11),\n  (80, 2),\n  (82, 9),\n  (82, 10),\n  (86, 6),\n  (86, 8),\n  (86, 10),\n  (87, 0),\n  (87, 1),\n  (88, 4),\n  (88, 7),\n  (88, 8),\n  (89, 10),\n  (89, 11),\n  (89, 12),\n  (90, 4),\n  (90, 6),\n  (91, 10),\n  (93, 10),\n  (94, 12),\n  (96, 3),\n  (98, 2),\n  (98, 4),\n  (99, 3),\n  (100, 4),\n  (100, 7),\n  (100, 12),\n  (101, 7),\n  (102, 3),\n  (103, 5),\n  (104, 2),\n  (107, 12),\n  (108, 1),\n  (108, 6),\n  (108, 9),\n  (109, 3),\n  (109, 7),\n  (110, 0),\n  (110, 1),\n  (111, 11),\n  (112, 8),\n  (113, 0),\n  (113, 2),\n  (113, 9),\n  (114, 5),\n  (114, 9),\n  (115, 5),\n  (115, 11),\n  (116, 8),\n  (117, 10),\n  (117, 12),\n  (119, 6),\n  (119, 7),\n  (119, 11),\n  (120, 4),\n  (121, 2),\n  (122, 2),\n  (123, 7),\n  (124, 2),\n  (124, 10),\n  (125, 0),\n  (125, 7),\n  (126, 3),\n  (130, 12),\n  (131, 8),\n  (132, 0),\n  (132, 3),\n  (132, 7),\n  (133, 10),\n  (134, 2),\n  (135, 7),\n  (135, 12),\n  (138, 4),\n  (138, 9),\n  (140, 4),\n  (142, 7),\n  (143, 6),\n  (143, 8),\n  (144, 1),\n  (144, 3),\n  (145, 5),\n  (145, 8),\n  (146, 5),\n  (147, 0),\n  (147, 8),\n  (148, 4),\n  (148, 8),\n  (148, 12),\n  (149, 2),\n  (149, 5),\n  (150, 10),\n  (151, 1),\n  (152, 8),\n  (152, 9),\n  (152, 12),\n  (155, 6),\n  (156, 1),\n  (157, 3),\n  (158, 2),\n  (158, 10),\n  (159, 2),\n  (160, 1),\n  (160, 7),\n  (160, 8),\n  (161, 8),\n  (162, 4),\n  (162, 9),\n  (163, 8),\n  (164, 0),\n  (164, 2),\n  (164, 12),\n  (165, 2),\n  (165, 7),\n  (166, 3),\n  (166, 7),\n  (166, 10),\n  (168, 2),\n  (168, 3),\n  (169, 5),\n  (169, 6),\n  (170, 8),\n  (170, 9),\n  (171, 3),\n  (172, 0),\n  (172, 8),\n  (172, 11),\n  (173, 5),\n  (174, 1),\n  (175, 0),\n  (177, 1),\n  (177, 6),\n  (177, 8),\n  (179, 3),\n  (180, 1),\n  (181, 4),\n  (183, 0),\n  (183, 7),\n  (184, 4),\n  (184, 11),\n  (185, 0),\n  (185, 1),\n  (185, 9),\n  (186, 4),\n  (186, 10),\n  (190, 11),\n  (191, 4),\n  (191, 5),\n  (191, 12),\n  (192, 3),\n  (194, 4),\n  (194, 5),\n  (194, 7),\n  (195, 12),\n  (197, 1),\n  (198, 8),\n  (198, 10),\n  (199, 1),\n  (199, 6),\n  (199, 8),\n  (200, 5),\n  (200, 11),\n  (202, 5),\n  (202, 6),\n  (202, 7),\n  (203, 0),\n  (203, 6),\n  (205, 1),\n  (208, 3),\n  (208, 11),\n  (208, 12),\n  (210, 1),\n  (211, 2),\n  (214, 9),\n  (215, 4),\n  (215, 10),\n  (216, 1),\n  (216, 9),\n  (217, 3),\n  (219, 11),\n  (220, 4),\n  (220, 12),\n  (221, 1),\n  (221, 6),\n  (221, 8),\n  (223, 5),\n  (224, 2),\n  (224, 3),\n  (224, 9),\n  (224, 10),\n  (225, 0),\n  (225, 3),\n  (225, 9),\n  (225, 10),\n  (226, 0),\n  (226, 2),\n  (227, 4)],\n [(0, 0),\n  (0, 5),\n  (0, 7),\n  (2, 11),\n  (3, 9),\n  (3, 12),\n  (4, 6),\n  (4, 9),\n  (5, 8),\n  (6, 0),\n  (7, 7),\n  (8, 5),\n  (8, 7),\n  (9, 0),\n  (9, 2),\n  (11, 12),\n  (12, 2),\n  (12, 3),\n  (12, 4),\n  (13, 8),\n  (15, 3),\n  (15, 5),\n  (15, 12),\n  (18, 3),\n  (20, 2),\n  (20, 10),\n  (21, 1),\n  (21, 7),\n  (23, 0),\n  (23, 8),\n  (23, 11),\n  (24, 6),\n  (24, 7),\n  (24, 11),\n  (27, 4),\n  (27, 6),\n  (27, 10),\n  (28, 0),\n  (28, 10),\n  (28, 11),\n  (29, 4),\n  (30, 12),\n  (31, 11),\n  (32, 7),\n  (34, 5),\n  (34, 9),\n  (37, 10),\n  (37, 12),\n  (38, 3),\n  (38, 6),\n  (38, 7),\n  (39, 10),\n  (40, 0),\n  (40, 1),\n  (41, 7),\n  (43, 5),\n  (43, 7),\n  (45, 1),\n  (45, 2),\n  (45, 12),\n  (46, 3),\n  (46, 5),\n  (47, 1),\n  (48, 0),\n  (49, 2),\n  (49, 8),\n  (50, 10),\n  (51, 2),\n  (51, 3),\n  (51, 7),\n  (52, 8),\n  (53, 4),\n  (55, 1),\n  (55, 8),\n  (56, 4),\n  (57, 0),\n  (58, 2),\n  (58, 7),\n  (59, 1),\n  (61, 0),\n  (61, 3),\n  (61, 6),\n  (62, 3),\n  (63, 7),\n  (64, 7),\n  (67, 2),\n  (69, 3),\n  (69, 4),\n  (69, 7),\n  (69, 10),\n  (70, 1),\n  (70, 5),\n  (71, 0),\n  (71, 3),\n  (71, 4),\n  (71, 8),\n  (72, 0),\n  (73, 7),\n  (73, 10),\n  (77, 5),\n  (78, 1),\n  (78, 9),\n  (78, 10),\n  (79, 9),\n  (79, 11),\n  (80, 2),\n  (82, 9),\n  (82, 10),\n  (86, 6),\n  (86, 8),\n  (86, 10),\n  (87, 0),\n  (87, 1),\n  (88, 4),\n  (88, 7),\n  (88, 8),\n  (89, 10),\n  (89, 11),\n  (89, 12),\n  (90, 4),\n  (90, 6),\n  (91, 10),\n  (93, 10),\n  (94, 12),\n  (96, 3),\n  (98, 2),\n  (98, 4),\n  (99, 3),\n  (100, 4),\n  (100, 7),\n  (100, 12),\n  (101, 7),\n  (102, 3),\n  (103, 5),\n  (104, 2),\n  (107, 12),\n  (108, 1),\n  (108, 6),\n  (108, 9),\n  (109, 3),\n  (109, 7),\n  (110, 0),\n  (110, 1),\n  (111, 11),\n  (112, 8),\n  (113, 0),\n  (113, 2),\n  (113, 9),\n  (114, 5),\n  (114, 9),\n  (115, 5),\n  (115, 11),\n  (116, 8),\n  (117, 10),\n  (117, 12),\n  (119, 6),\n  (119, 7),\n  (119, 11),\n  (120, 4),\n  (121, 2),\n  (122, 2),\n  (123, 7),\n  (124, 2),\n  (124, 10),\n  (125, 0),\n  (125, 7),\n  (126, 3),\n  (130, 12),\n  (131, 8),\n  (132, 0),\n  (132, 3),\n  (132, 7),\n  (133, 10),\n  (134, 2),\n  (135, 7),\n  (135, 12),\n  (138, 4),\n  (138, 9),\n  (140, 4),\n  (142, 7),\n  (143, 6),\n  (143, 8),\n  (144, 1),\n  (144, 3),\n  (145, 5),\n  (145, 8),\n  (146, 5),\n  (147, 0),\n  (147, 8),\n  (148, 4),\n  (148, 8),\n  (148, 12),\n  (149, 2),\n  (149, 5),\n  (150, 10),\n  (151, 1),\n  (152, 8),\n  (152, 9),\n  (152, 12),\n  (155, 6),\n  (156, 1),\n  (157, 3),\n  (158, 2),\n  (158, 10),\n  (159, 2),\n  (160, 1),\n  (160, 7),\n  (160, 8),\n  (161, 8),\n  (162, 4),\n  (162, 9),\n  (163, 8),\n  (164, 0),\n  (164, 2),\n  (164, 12),\n  (165, 2),\n  (165, 7),\n  (166, 3),\n  (166, 7),\n  (166, 10),\n  (168, 2),\n  (168, 3),\n  (169, 5),\n  (169, 6),\n  (170, 8),\n  (170, 9),\n  (171, 3),\n  (172, 0),\n  (172, 8),\n  (172, 11),\n  (173, 5),\n  (174, 1),\n  (175, 0),\n  (177, 1),\n  (177, 6),\n  (177, 8),\n  (179, 3),\n  (180, 1),\n  (181, 4),\n  (183, 0),\n  (183, 7),\n  (184, 4),\n  (184, 11),\n  (185, 0),\n  (185, 1),\n  (185, 9),\n  (186, 4),\n  (186, 10),\n  (190, 11),\n  (191, 4),\n  (191, 5),\n  (191, 12),\n  (192, 3),\n  (194, 4),\n  (194, 5),\n  (194, 7),\n  (195, 12),\n  (197, 1),\n  (198, 8),\n  (198, 10),\n  (199, 1),\n  (199, 6),\n  (199, 8),\n  (200, 5),\n  (200, 11),\n  (202, 5),\n  (202, 6),\n  (202, 7),\n  (203, 0),\n  (203, 6),\n  (205, 1),\n  (208, 3),\n  (208, 11),\n  (208, 12),\n  (210, 1),\n  (211, 2),\n  (214, 9),\n  (215, 4),\n  (215, 10),\n  (216, 1),\n  (216, 9),\n  (217, 3),\n  (219, 11),\n  (220, 4),\n  (220, 12),\n  (221, 1),\n  (221, 6),\n  (221, 8),\n  (223, 5),\n  (224, 2),\n  (224, 3),\n  (224, 9),\n  (224, 10),\n  (225, 0),\n  (225, 3),\n  (225, 9),\n  (225, 10),\n  (226, 0),\n  (226, 2),\n  (227, 4)],\n [(0, 0),\n  (0, 5),\n  (0, 7),\n  (2, 11),\n  (3, 9),\n  (3, 12),\n  (4, 6),\n  (4, 9),\n  (5, 8),\n  (6, 0),\n  (7, 7),\n  (8, 5),\n  (8, 7),\n  (9, 0),\n  (9, 2),\n  (11, 12),\n  (12, 2),\n  (12, 3),\n  (12, 4),\n  (13, 8),\n  (15, 3),\n  (15, 5),\n  (15, 12),\n  (18, 3),\n  (20, 2),\n  (20, 10),\n  (21, 1),\n  (21, 7),\n  (23, 0),\n  (23, 8),\n  (23, 11),\n  (24, 6),\n  (24, 7),\n  (24, 11),\n  (27, 4),\n  (27, 6),\n  (27, 10),\n  (28, 0),\n  (28, 10),\n  (28, 11),\n  (29, 4),\n  (30, 12),\n  (31, 11),\n  (32, 7),\n  (34, 5),\n  (34, 9),\n  (37, 10),\n  (37, 12),\n  (38, 3),\n  (38, 6),\n  (38, 7),\n  (39, 10),\n  (40, 0),\n  (40, 1),\n  (41, 7),\n  (43, 5),\n  (43, 7),\n  (45, 1),\n  (45, 2),\n  (45, 12),\n  (46, 3),\n  (46, 5),\n  (47, 1),\n  (48, 0),\n  (49, 2),\n  (49, 8),\n  (50, 10),\n  (51, 2),\n  (51, 3),\n  (51, 7),\n  (52, 8),\n  (53, 4),\n  (55, 1),\n  (55, 8),\n  (56, 4),\n  (57, 0),\n  (58, 2),\n  (58, 7),\n  (59, 1),\n  (61, 0),\n  (61, 3),\n  (61, 6),\n  (62, 3),\n  (63, 7),\n  (64, 7),\n  (67, 2),\n  (69, 3),\n  (69, 4),\n  (69, 7),\n  (69, 10),\n  (70, 1),\n  (70, 5),\n  (71, 0),\n  (71, 3),\n  (71, 4),\n  (71, 8),\n  (72, 0),\n  (73, 7),\n  (73, 10),\n  (77, 5),\n  (78, 1),\n  (78, 9),\n  (78, 10),\n  (79, 9),\n  (79, 11),\n  (80, 2),\n  (82, 9),\n  (82, 10),\n  (86, 6),\n  (86, 8),\n  (86, 10),\n  (87, 0),\n  (87, 1),\n  (88, 4),\n  (88, 7),\n  (88, 8),\n  (89, 10),\n  (89, 11),\n  (89, 12),\n  (90, 4),\n  (90, 6),\n  (91, 10),\n  (93, 10),\n  (94, 12),\n  (96, 3),\n  (98, 2),\n  (98, 4),\n  (99, 3),\n  (100, 4),\n  (100, 7),\n  (100, 12),\n  (101, 7),\n  (102, 3),\n  (103, 5),\n  (104, 2),\n  (107, 12),\n  (108, 1),\n  (108, 6),\n  (108, 9),\n  (109, 3),\n  (109, 7),\n  (110, 0),\n  (110, 1),\n  (111, 11),\n  (112, 8),\n  (113, 0),\n  (113, 2),\n  (113, 9),\n  (114, 5),\n  (114, 9),\n  (115, 5),\n  (115, 11),\n  (116, 8),\n  (117, 10),\n  (117, 12),\n  (119, 6),\n  (119, 7),\n  (119, 11),\n  (120, 4),\n  (121, 2),\n  (122, 2),\n  (123, 7),\n  (124, 2),\n  (124, 10),\n  (125, 0),\n  (125, 7),\n  (126, 3),\n  (130, 12),\n  (131, 8),\n  (132, 0),\n  (132, 3),\n  (132, 7),\n  (133, 10),\n  (134, 2),\n  (135, 7),\n  (135, 12),\n  (138, 4),\n  (138, 9),\n  (140, 4),\n  (142, 7),\n  (143, 6),\n  (143, 8),\n  (144, 1),\n  (144, 3),\n  (145, 5),\n  (145, 8),\n  (146, 5),\n  (147, 0),\n  (147, 8),\n  (148, 4),\n  (148, 8),\n  (148, 12),\n  (149, 2),\n  (149, 5),\n  (150, 10),\n  (151, 1),\n  (152, 8),\n  (152, 9),\n  (152, 12),\n  (155, 6),\n  (156, 1),\n  (157, 3),\n  (158, 2),\n  (158, 10),\n  (159, 2),\n  (160, 1),\n  (160, 7),\n  (160, 8),\n  (161, 8),\n  (162, 4),\n  (162, 9),\n  (163, 8),\n  (164, 0),\n  (164, 2),\n  (164, 12),\n  (165, 2),\n  (165, 7),\n  (166, 3),\n  (166, 7),\n  (166, 10),\n  (168, 2),\n  (168, 3),\n  (169, 5),\n  (169, 6),\n  (170, 8),\n  (170, 9),\n  (171, 3),\n  (172, 0),\n  (172, 8),\n  (172, 11),\n  (173, 5),\n  (174, 1),\n  (175, 0),\n  (177, 1),\n  (177, 6),\n  (177, 8),\n  (179, 3),\n  (180, 1),\n  (181, 4),\n  (183, 0),\n  (183, 7),\n  (184, 4),\n  (184, 11),\n  (185, 0),\n  (185, 1),\n  (185, 9),\n  (186, 4),\n  (186, 10),\n  (190, 11),\n  (191, 4),\n  (191, 5),\n  (191, 12),\n  (192, 3),\n  (194, 4),\n  (194, 5),\n  (194, 7),\n  (195, 12),\n  (197, 1),\n  (198, 8),\n  (198, 10),\n  (199, 1),\n  (199, 6),\n  (199, 8),\n  (200, 5),\n  (200, 11),\n  (202, 5),\n  (202, 6),\n  (202, 7),\n  (203, 0),\n  (203, 6),\n  (205, 1),\n  (208, 3),\n  (208, 11),\n  (208, 12),\n  (210, 1),\n  (211, 2),\n  (214, 9),\n  (215, 4),\n  (215, 10),\n  (216, 1),\n  (216, 9),\n  (217, 3),\n  (219, 11),\n  (220, 4),\n  (220, 12),\n  (221, 1),\n  (221, 6),\n  (221, 8),\n  (223, 5),\n  (224, 2),\n  (224, 3),\n  (224, 9),\n  (224, 10),\n  (225, 0),\n  (225, 3),\n  (225, 9),\n  (225, 10),\n  (226, 0),\n  (226, 2),\n  (227, 4)],\n [(0, 0),\n  (0, 5),\n  (0, 7),\n  (2, 11),\n  (3, 9),\n  (3, 12),\n  (4, 6),\n  (4, 9),\n  (5, 8),\n  (6, 0),\n  (7, 7),\n  (8, 5),\n  (8, 7),\n  (9, 0),\n  (9, 2),\n  (11, 12),\n  (12, 2),\n  (12, 3),\n  (12, 4),\n  (13, 8),\n  (15, 3),\n  (15, 5),\n  (15, 12),\n  (18, 3),\n  (20, 2),\n  (20, 10),\n  (21, 1),\n  (21, 7),\n  (23, 0),\n  (23, 8),\n  (23, 11),\n  (24, 6),\n  (24, 7),\n  (24, 11),\n  (27, 4),\n  (27, 6),\n  (27, 10),\n  (28, 0),\n  (28, 10),\n  (28, 11),\n  (29, 4),\n  (30, 12),\n  (31, 11),\n  (32, 7),\n  (34, 5),\n  (34, 9),\n  (37, 10),\n  (37, 12),\n  (38, 3),\n  (38, 6),\n  (38, 7),\n  (39, 10),\n  (40, 0),\n  (40, 1),\n  (41, 7),\n  (43, 5),\n  (43, 7),\n  (45, 1),\n  (45, 2),\n  (45, 12),\n  (46, 3),\n  (46, 5),\n  (47, 1),\n  (48, 0),\n  (49, 2),\n  (49, 8),\n  (50, 10),\n  (51, 2),\n  (51, 3),\n  (51, 7),\n  (52, 8),\n  (53, 4),\n  (55, 1),\n  (55, 8),\n  (56, 4),\n  (57, 0),\n  (58, 2),\n  (58, 7),\n  (59, 1),\n  (61, 0),\n  (61, 3),\n  (61, 6),\n  (62, 3),\n  (63, 7),\n  (64, 7),\n  (67, 2),\n  (69, 3),\n  (69, 4),\n  (69, 7),\n  (69, 10),\n  (70, 1),\n  (70, 5),\n  (71, 0),\n  (71, 3),\n  (71, 4),\n  (71, 8),\n  (72, 0),\n  (73, 7),\n  (73, 10),\n  (77, 5),\n  (78, 1),\n  (78, 9),\n  (78, 10),\n  (79, 9),\n  (79, 11),\n  (80, 2),\n  (82, 9),\n  (82, 10),\n  (86, 6),\n  (86, 8),\n  (86, 10),\n  (87, 0),\n  (87, 1),\n  (88, 4),\n  (88, 7),\n  (88, 8),\n  (89, 10),\n  (89, 11),\n  (89, 12),\n  (90, 4),\n  (90, 6),\n  (91, 10),\n  (93, 10),\n  (94, 12),\n  (96, 3),\n  (98, 2),\n  (98, 4),\n  (99, 3),\n  (100, 4),\n  (100, 7),\n  (100, 12),\n  (101, 7),\n  (102, 3),\n  (103, 5),\n  (104, 2),\n  (107, 12),\n  (108, 1),\n  (108, 6),\n  (108, 9),\n  (109, 3),\n  (109, 7),\n  (110, 0),\n  (110, 1),\n  (111, 11),\n  (112, 8),\n  (113, 0),\n  (113, 2),\n  (113, 9),\n  (114, 5),\n  (114, 9),\n  (115, 5),\n  (115, 11),\n  (116, 8),\n  (117, 10),\n  (117, 12),\n  (119, 6),\n  (119, 7),\n  (119, 11),\n  (120, 4),\n  (121, 2),\n  (122, 2),\n  (123, 7),\n  (124, 2),\n  (124, 10),\n  (125, 0),\n  (125, 7),\n  (126, 3),\n  (130, 12),\n  (131, 8),\n  (132, 0),\n  (132, 3),\n  (132, 7),\n  (133, 10),\n  (134, 2),\n  (135, 7),\n  (135, 12),\n  (138, 4),\n  (138, 9),\n  (140, 4),\n  (142, 7),\n  (143, 6),\n  (143, 8),\n  (144, 1),\n  (144, 3),\n  (145, 5),\n  (145, 8),\n  (146, 5),\n  (147, 0),\n  (147, 8),\n  (148, 4),\n  (148, 8),\n  (148, 12),\n  (149, 2),\n  (149, 5),\n  (150, 10),\n  (151, 1),\n  (152, 8),\n  (152, 9),\n  (152, 12),\n  (155, 6),\n  (156, 1),\n  (157, 3),\n  (158, 2),\n  (158, 10),\n  (159, 2),\n  (160, 1),\n  (160, 7),\n  (160, 8),\n  (161, 8),\n  (162, 4),\n  (162, 9),\n  (163, 8),\n  (164, 0),\n  (164, 2),\n  (164, 12),\n  (165, 2),\n  (165, 7),\n  (166, 3),\n  (166, 7),\n  (166, 10),\n  (168, 2),\n  (168, 3),\n  (169, 5),\n  (169, 6),\n  (170, 8),\n  (170, 9),\n  (171, 3),\n  (172, 0),\n  (172, 8),\n  (172, 11),\n  (173, 5),\n  (174, 1),\n  (175, 0),\n  (177, 1),\n  (177, 6),\n  (177, 8),\n  (179, 3),\n  (180, 1),\n  (181, 4),\n  (183, 0),\n  (183, 7),\n  (184, 4),\n  (184, 11),\n  (185, 0),\n  (185, 1),\n  (185, 9),\n  (186, 4),\n  (186, 10),\n  (190, 11),\n  (191, 4),\n  (191, 5),\n  (191, 12),\n  (192, 3),\n  (194, 4),\n  (194, 5),\n  (194, 7),\n  (195, 12),\n  (197, 1),\n  (198, 8),\n  (198, 10),\n  (199, 1),\n  (199, 6),\n  (199, 8),\n  (200, 5),\n  (200, 11),\n  (202, 5),\n  (202, 6),\n  (202, 7),\n  (203, 0),\n  (203, 6),\n  (205, 1),\n  (208, 3),\n  (208, 11),\n  (208, 12),\n  (210, 1),\n  (211, 2),\n  (214, 9),\n  (215, 4),\n  (215, 10),\n  (216, 1),\n  (216, 9),\n  (217, 3),\n  (219, 11),\n  (220, 4),\n  (220, 12),\n  (221, 1),\n  (221, 6),\n  (221, 8),\n  (223, 5),\n  (224, 2),\n  (224, 3),\n  (224, 9),\n  (224, 10),\n  (225, 0),\n  (225, 3),\n  (225, 9),\n  (225, 10),\n  (226, 0),\n  (226, 2),\n  (227, 4)],\n [(0, 0),\n  (0, 5),\n  (0, 7),\n  (2, 11),\n  (3, 9),\n  (3, 12),\n  (4, 6),\n  (4, 9),\n  (5, 8),\n  (6, 0),\n  (7, 7),\n  (8, 5),\n  (8, 7),\n  (9, 0),\n  (9, 2),\n  (11, 12),\n  (12, 2),\n  (12, 3),\n  (12, 4),\n  (13, 8),\n  (15, 3),\n  (15, 5),\n  (15, 12),\n  (18, 3),\n  (20, 2),\n  (20, 10),\n  (21, 1),\n  (21, 7),\n  (23, 0),\n  (23, 8),\n  (23, 11),\n  (24, 6),\n  (24, 7),\n  (24, 11),\n  (27, 4),\n  (27, 6),\n  (27, 10),\n  (28, 0),\n  (28, 10),\n  (28, 11),\n  (29, 4),\n  (30, 12),\n  (31, 11),\n  (32, 7),\n  (34, 5),\n  (34, 9),\n  (37, 10),\n  (37, 12),\n  (38, 3),\n  (38, 6),\n  (38, 7),\n  (39, 10),\n  (40, 0),\n  (40, 1),\n  (41, 7),\n  (43, 5),\n  (43, 7),\n  (45, 1),\n  (45, 2),\n  (45, 12),\n  (46, 3),\n  (46, 5),\n  (47, 1),\n  (48, 0),\n  (49, 2),\n  (49, 8),\n  (50, 10),\n  (51, 2),\n  (51, 3),\n  (51, 7),\n  (52, 8),\n  (53, 4),\n  (55, 1),\n  (55, 8),\n  (56, 4),\n  (57, 0),\n  (58, 2),\n  (58, 7),\n  (59, 1),\n  (61, 0),\n  (61, 3),\n  (61, 6),\n  (62, 3),\n  (63, 7),\n  (64, 7),\n  (67, 2),\n  (69, 3),\n  (69, 4),\n  (69, 7),\n  (69, 10),\n  (70, 1),\n  (70, 5),\n  (71, 0),\n  (71, 3),\n  (71, 4),\n  (71, 8),\n  (72, 0),\n  (73, 7),\n  (73, 10),\n  (77, 5),\n  (78, 1),\n  (78, 9),\n  (78, 10),\n  (79, 9),\n  (79, 11),\n  (80, 2),\n  (82, 9),\n  (82, 10),\n  (86, 6),\n  (86, 8),\n  (86, 10),\n  (87, 0),\n  (87, 1),\n  (88, 4),\n  (88, 7),\n  (88, 8),\n  (89, 10),\n  (89, 11),\n  (89, 12),\n  (90, 4),\n  (90, 6),\n  (91, 10),\n  (93, 10),\n  (94, 12),\n  (96, 3),\n  (98, 2),\n  (98, 4),\n  (99, 3),\n  (100, 4),\n  (100, 7),\n  (100, 12),\n  (101, 7),\n  (102, 3),\n  (103, 5),\n  (104, 2),\n  (107, 12),\n  (108, 1),\n  (108, 6),\n  (108, 9),\n  (109, 3),\n  (109, 7),\n  (110, 0),\n  (110, 1),\n  (111, 11),\n  (112, 8),\n  (113, 0),\n  (113, 2),\n  (113, 9),\n  (114, 5),\n  (114, 9),\n  (115, 5),\n  (115, 11),\n  (116, 8),\n  (117, 10),\n  (117, 12),\n  (119, 6),\n  (119, 7),\n  (119, 11),\n  (120, 4),\n  (121, 2),\n  (122, 2),\n  (123, 7),\n  (124, 2),\n  (124, 10),\n  (125, 0),\n  (125, 7),\n  (126, 3),\n  (130, 12),\n  (131, 8),\n  (132, 0),\n  (132, 3),\n  (132, 7),\n  (133, 10),\n  (134, 2),\n  (135, 7),\n  (135, 12),\n  (138, 4),\n  (138, 9),\n  (140, 4),\n  (142, 7),\n  (143, 6),\n  (143, 8),\n  (144, 1),\n  (144, 3),\n  (145, 5),\n  (145, 8),\n  (146, 5),\n  (147, 0),\n  (147, 8),\n  (148, 4),\n  (148, 8),\n  (148, 12),\n  (149, 2),\n  (149, 5),\n  (150, 10),\n  (151, 1),\n  (152, 8),\n  (152, 9),\n  (152, 12),\n  (155, 6),\n  (156, 1),\n  (157, 3),\n  (158, 2),\n  (158, 10),\n  (159, 2),\n  (160, 1),\n  (160, 7),\n  (160, 8),\n  (161, 8),\n  (162, 4),\n  (162, 9),\n  (163, 8),\n  (164, 0),\n  (164, 2),\n  (164, 12),\n  (165, 2),\n  (165, 7),\n  (166, 3),\n  (166, 7),\n  (166, 10),\n  (168, 2),\n  (168, 3),\n  (169, 5),\n  (169, 6),\n  (170, 8),\n  (170, 9),\n  (171, 3),\n  (172, 0),\n  (172, 8),\n  (172, 11),\n  (173, 5),\n  (174, 1),\n  (175, 0),\n  (177, 1),\n  (177, 6),\n  (177, 8),\n  (179, 3),\n  (180, 1),\n  (181, 4),\n  (183, 0),\n  (183, 7),\n  (184, 4),\n  (184, 11),\n  (185, 0),\n  (185, 1),\n  (185, 9),\n  (186, 4),\n  (186, 10),\n  (190, 11),\n  (191, 4),\n  (191, 5),\n  (191, 12),\n  (192, 3),\n  (194, 4),\n  (194, 5),\n  (194, 7),\n  (195, 12),\n  (197, 1),\n  (198, 8),\n  (198, 10),\n  (199, 1),\n  (199, 6),\n  (199, 8),\n  (200, 5),\n  (200, 11),\n  (202, 5),\n  (202, 6),\n  (202, 7),\n  (203, 0),\n  (203, 6),\n  (205, 1),\n  (208, 3),\n  (208, 11),\n  (208, 12),\n  (210, 1),\n  (211, 2),\n  (214, 9),\n  (215, 4),\n  (215, 10),\n  (216, 1),\n  (216, 9),\n  (217, 3),\n  (219, 11),\n  (220, 4),\n  (220, 12),\n  (221, 1),\n  (221, 6),\n  (221, 8),\n  (223, 5),\n  (224, 2),\n  (224, 3),\n  (224, 9),\n  (224, 10),\n  (225, 0),\n  (225, 3),\n  (225, 9),\n  (225, 10),\n  (226, 0),\n  (226, 2),\n  (227, 4)],\n [(0, 0),\n  (0, 5),\n  (0, 7),\n  (2, 11),\n  (3, 9),\n  (3, 12),\n  (4, 6),\n  (4, 9),\n  (5, 8),\n  (6, 0),\n  (7, 7),\n  (8, 5),\n  (8, 7),\n  (9, 0),\n  (9, 2),\n  (11, 12),\n  (12, 2),\n  (12, 3),\n  (12, 4),\n  (13, 8),\n  (15, 3),\n  (15, 5),\n  (15, 12),\n  (18, 3),\n  (20, 2),\n  (20, 10),\n  (21, 1),\n  (21, 7),\n  (23, 0),\n  (23, 8),\n  (23, 11),\n  (24, 6),\n  (24, 7),\n  (24, 11),\n  (27, 4),\n  (27, 6),\n  (27, 10),\n  (28, 0),\n  (28, 10),\n  (28, 11),\n  (29, 4),\n  (30, 12),\n  (31, 11),\n  (32, 7),\n  (34, 5),\n  (34, 9),\n  (37, 10),\n  (37, 12),\n  (38, 3),\n  (38, 6),\n  (38, 7),\n  (39, 10),\n  (40, 0),\n  (40, 1),\n  (41, 7),\n  (43, 5),\n  (43, 7),\n  (45, 1),\n  (45, 2),\n  (45, 12),\n  (46, 3),\n  (46, 5),\n  (47, 1),\n  (48, 0),\n  (49, 2),\n  (49, 8),\n  (50, 10),\n  (51, 2),\n  (51, 3),\n  (51, 7),\n  (52, 8),\n  (53, 4),\n  (55, 1),\n  (55, 8),\n  (56, 4),\n  (57, 0),\n  (58, 2),\n  (58, 7),\n  (59, 1),\n  (61, 0),\n  (61, 3),\n  (61, 6),\n  (62, 3),\n  (63, 7),\n  (64, 7),\n  (67, 2),\n  (69, 3),\n  (69, 4),\n  (69, 7),\n  (69, 10),\n  (70, 1),\n  (70, 5),\n  (71, 0),\n  (71, 3),\n  (71, 4),\n  (71, 8),\n  (72, 0),\n  (73, 7),\n  (73, 10),\n  (77, 5),\n  (78, 1),\n  (78, 9),\n  (78, 10),\n  (79, 9),\n  (79, 11),\n  (80, 2),\n  (82, 9),\n  (82, 10),\n  (86, 6),\n  (86, 8),\n  (86, 10),\n  (87, 0),\n  (87, 1),\n  (88, 4),\n  (88, 7),\n  (88, 8),\n  (89, 10),\n  (89, 11),\n  (89, 12),\n  (90, 4),\n  (90, 6),\n  (91, 10),\n  (93, 10),\n  (94, 12),\n  (96, 3),\n  (98, 2),\n  (98, 4),\n  (99, 3),\n  (100, 4),\n  (100, 7),\n  (100, 12),\n  (101, 7),\n  (102, 3),\n  (103, 5),\n  (104, 2),\n  (107, 12),\n  (108, 1),\n  (108, 6),\n  (108, 9),\n  (109, 3),\n  (109, 7),\n  (110, 0),\n  (110, 1),\n  (111, 11),\n  (112, 8),\n  (113, 0),\n  (113, 2),\n  (113, 9),\n  (114, 5),\n  (114, 9),\n  (115, 5),\n  (115, 11),\n  (116, 8),\n  (117, 10),\n  (117, 12),\n  (119, 6),\n  (119, 7),\n  (119, 11),\n  (120, 4),\n  (121, 2),\n  (122, 2),\n  (123, 7),\n  (124, 2),\n  (124, 10),\n  (125, 0),\n  (125, 7),\n  (126, 3),\n  (130, 12),\n  (131, 8),\n  (132, 0),\n  (132, 3),\n  (132, 7),\n  (133, 10),\n  (134, 2),\n  (135, 7),\n  (135, 12),\n  (138, 4),\n  (138, 9),\n  (140, 4),\n  (142, 7),\n  (143, 6),\n  (143, 8),\n  (144, 1),\n  (144, 3),\n  (145, 5),\n  (145, 8),\n  (146, 5),\n  (147, 0),\n  (147, 8),\n  (148, 4),\n  (148, 8),\n  (148, 12),\n  (149, 2),\n  (149, 5),\n  (150, 10),\n  (151, 1),\n  (152, 8),\n  (152, 9),\n  (152, 12),\n  (155, 6),\n  (156, 1),\n  (157, 3),\n  (158, 2),\n  (158, 10),\n  (159, 2),\n  (160, 1),\n  (160, 7),\n  (160, 8),\n  (161, 8),\n  (162, 4),\n  (162, 9),\n  (163, 8),\n  (164, 0),\n  (164, 2),\n  (164, 12),\n  (165, 2),\n  (165, 7),\n  (166, 3),\n  (166, 7),\n  (166, 10),\n  (168, 2),\n  (168, 3),\n  (169, 5),\n  (169, 6),\n  (170, 8),\n  (170, 9),\n  (171, 3),\n  (172, 0),\n  (172, 8),\n  (172, 11),\n  (173, 5),\n  (174, 1),\n  (175, 0),\n  (177, 1),\n  (177, 6),\n  (177, 8),\n  (179, 3),\n  (180, 1),\n  (181, 4),\n  (183, 0),\n  (183, 7),\n  (184, 4),\n  (184, 11),\n  (185, 0),\n  (185, 1),\n  (185, 9),\n  (186, 4),\n  (186, 10),\n  (190, 11),\n  (191, 4),\n  (191, 5),\n  (191, 12),\n  (192, 3),\n  (194, 4),\n  (194, 5),\n  (194, 7),\n  (195, 12),\n  (197, 1),\n  (198, 8),\n  (198, 10),\n  (199, 1),\n  (199, 6),\n  (199, 8),\n  (200, 5),\n  (200, 11),\n  (202, 5),\n  (202, 6),\n  (202, 7),\n  (203, 0),\n  (203, 6),\n  (205, 1),\n  (208, 3),\n  (208, 11),\n  (208, 12),\n  (210, 1),\n  (211, 2),\n  (214, 9),\n  (215, 4),\n  (215, 10),\n  (216, 1),\n  (216, 9),\n  (217, 3),\n  (219, 11),\n  (220, 4),\n  (220, 12),\n  (221, 1),\n  (221, 6),\n  (221, 8),\n  (223, 5),\n  (224, 2),\n  (224, 3),\n  (224, 9),\n  (224, 10),\n  (225, 0),\n  (225, 3),\n  (225, 9),\n  (225, 10),\n  (226, 0),\n  (226, 2),\n  (227, 4)]]"
     },
     "execution_count": 47,
     "metadata": {},
     "output_type": "execute_result"
    }
   ],
   "source": [
    "annealing_paths"
   ],
   "metadata": {
    "collapsed": false,
    "pycharm": {
     "name": "#%%\n"
    }
   }
  },
  {
   "cell_type": "code",
   "execution_count": 48,
   "outputs": [
    {
     "data": {
      "text/plain": "78226"
     },
     "execution_count": 48,
     "metadata": {},
     "output_type": "execute_result"
    }
   ],
   "source": [
    "sa_total"
   ],
   "metadata": {
    "collapsed": false,
    "pycharm": {
     "name": "#%%\n"
    }
   }
  },
  {
   "cell_type": "markdown",
   "source": [
    "### State-compression Dynamic Programming to computer the min-cost (shortest path start from the first location but do not return to the initial location)"
   ],
   "metadata": {
    "collapsed": false
   }
  },
  {
   "cell_type": "code",
   "execution_count": 49,
   "outputs": [],
   "source": [
    "def dp(n, locations):\n",
    "\tgraph = construct_graph(locations, n)\n",
    "\t# for i in range(1, n + 1):\n",
    "\t# \tprint(graph[i][1])\n",
    "\n",
    "\tstate_size = 1 << n\n",
    "\tf = [\n",
    "\t\t[float('inf')] * (n + 1)\n",
    "\t\tfor _ in range(state_size)\n",
    "\t]\n",
    "\tf[1][1] = 0\n",
    "\tfor state in range(state_size):\n",
    "\t\tfor i in range(2, n + 1):\n",
    "\t\t\tif state & (1 << (i - 1)) == 0:\n",
    "\t\t\t\tcontinue\n",
    "\n",
    "\t\t\tprev_state = state ^ (1 << (i - 1))\n",
    "\t\t\tfor j in range(1, n + 1):\n",
    "\t\t\t\tif prev_state & (1 << (j - 1)) == 0:\n",
    "\t\t\t\t\tcontinue\n",
    "\n",
    "\t\t\t\tf[state][i] = min(f[state][i], f[prev_state][j] + graph[j][i])\n",
    "\n",
    "\treturn min(f[state_size - 1])\n",
    "\n",
    "\n",
    "def construct_graph(locations, n):\n",
    "\tgraph = {\n",
    "\t\ti: {j: float('inf') for j in range(1, n + 1)}\n",
    "\t\tfor i in range(1, n + 1)\n",
    "\t}\n",
    "\n",
    "\tfor i in range(1, n + 1):\n",
    "\t\tfor j in range(1, n + 1):\n",
    "\t\t\tgraph[i][j] = calc_manhattan(locations[i - 1],locations[j - 1])\n",
    "\t\t\tgraph[j][i] = graph[i][j]\n",
    "\treturn graph"
   ],
   "metadata": {
    "collapsed": false,
    "pycharm": {
     "name": "#%%\n"
    }
   }
  },
  {
   "cell_type": "code",
   "execution_count": 50,
   "outputs": [
    {
     "name": "stdout",
     "output_type": "stream",
     "text": [
      "The global min-cost is:  61\n",
      "func: dp took: 100.77173256874084 sec\n",
      "The global min-cost is:  36\n",
      "func: dp took: 0.03126263618469238 sec\n",
      "The global min-cost is:  29\n",
      "func: dp took: 0.015622377395629883 sec\n",
      "The global min-cost is:  3\n",
      "func: dp took: 0.0 sec\n",
      "The global min-cost is:  24\n",
      "func: dp took: 0.0 sec\n",
      "The global min-cost is:  13\n",
      "func: dp took: 0.0 sec\n",
      "The global min-cost is:  2\n",
      "func: dp took: 0.0 sec\n",
      "The global min-cost is:  27\n",
      "func: dp took: 0.01562643051147461 sec\n",
      "The global min-cost is:  8\n",
      "func: dp took: 0.0 sec\n",
      "The global min-cost is:  4\n",
      "func: dp took: 0.0 sec\n",
      "The global min-cost is:  11\n",
      "func: dp took: 0.0 sec\n",
      "The global min-cost is:  8\n",
      "func: dp took: 0.0 sec\n",
      "The global min-cost is:  5\n",
      "func: dp took: 0.0 sec\n",
      "The global min-cost is:  6\n",
      "func: dp took: 0.0 sec\n",
      "The global min-cost is:  5\n",
      "func: dp took: 0.0 sec\n",
      "The global min-cost is:  1\n",
      "func: dp took: 0.0 sec\n",
      "The global min-cost is:  3\n",
      "func: dp took: 0.0 sec\n",
      "The global min-cost is:  7\n",
      "func: dp took: 0.0 sec\n",
      "The global min-cost is:  7\n",
      "func: dp took: 0.0 sec\n",
      "The global min-cost is:  8\n",
      "func: dp took: 0.0 sec\n",
      "The global min-cost is:  15\n",
      "func: dp took: 0.0 sec\n",
      "The global min-cost is:  19\n",
      "func: dp took: 0.0 sec\n",
      "The global min-cost is:  12\n",
      "func: dp took: 0.0 sec\n",
      "The global min-cost is:  11\n",
      "func: dp took: 0.0 sec\n",
      "The global min-cost is:  24\n",
      "func: dp took: 0.01562356948852539 sec\n",
      "The global min-cost is:  10\n",
      "func: dp took: 0.0 sec\n",
      "The global min-cost is:  20\n",
      "func: dp took: 0.0 sec\n",
      "The global min-cost is:  22\n",
      "func: dp took: 0.0 sec\n",
      "The global min-cost is:  20\n",
      "func: dp took: 0.0 sec\n",
      "The global min-cost is:  28\n",
      "func: dp took: 0.03943300247192383 sec\n",
      "The global min-cost is:  20\n",
      "func: dp took: 0.0 sec\n",
      "The global min-cost is:  13\n",
      "func: dp took: 0.0 sec\n",
      "The global min-cost is:  27\n",
      "func: dp took: 0.002062082290649414 sec\n",
      "The global min-cost is:  37\n",
      "func: dp took: 0.010574579238891602 sec\n",
      "The global min-cost is:  27\n",
      "func: dp took: 0.0 sec\n",
      "The global min-cost is:  16\n",
      "func: dp took: 0.0 sec\n",
      "The global min-cost is:  28\n",
      "func: dp took: 0.015629053115844727 sec\n",
      "The global min-cost is:  36\n",
      "func: dp took: 0.2980997562408447 sec\n",
      "The global min-cost is:  47\n",
      "func: dp took: 4.0241265296936035 sec\n",
      "The global min-cost is:  54\n",
      "func: dp took: 8.879985570907593 sec\n",
      "The global min-cost is:  23\n",
      "func: dp took: 0.01573801040649414 sec\n",
      "The global min-cost is:  36\n",
      "func: dp took: 0.8577640056610107 sec\n",
      "The global min-cost is:  41\n",
      "func: dp took: 0.07367372512817383 sec\n",
      "The global min-cost is:  46\n",
      "func: dp took: 19.83757185935974 sec\n"
     ]
    }
   ],
   "source": [
    "runtimes[dp.__name__] = 0\n",
    "dp_minCost = []\n",
    "dp_total = 0\n",
    "for key in loc:\n",
    "    loc_list = loc[key]\n",
    "    ts = time.time()\n",
    "    dp_minCost.append(dp(len(loc_list), loc_list))\n",
    "    te = time.time()\n",
    "    dp_total += dp_minCost[-1]\n",
    "    print('The global min-cost is: ', dp_minCost[-1])\n",
    "    print(f'func: {dp.__name__} took: {te-ts} sec')\n",
    "    runtimes[dp.__name__] += te - ts"
   ],
   "metadata": {
    "collapsed": false,
    "pycharm": {
     "name": "#%%\n"
    }
   }
  },
  {
   "cell_type": "markdown",
   "source": [
    "## Held-Karp Implementation"
   ],
   "metadata": {
    "collapsed": false
   }
  },
  {
   "cell_type": "code",
   "execution_count": 51,
   "outputs": [],
   "source": [
    "import itertools\n",
    "\n",
    "def construct_dists(locations, n):\n",
    "\tdists = [[0] * n for i in range(n)]\n",
    "\n",
    "\tfor i in range(n):\n",
    "\t\tfor j in range(n):\n",
    "\t\t\tdists[i][j] = calc_manhattan(locations[i],locations[j])\n",
    "\t\t\t# graph[j][i] = graph[i][j]\n",
    "\treturn dists\n",
    "\n",
    "def held_karp(n, locations):\n",
    "\n",
    "    dists = construct_dists(locations, n)\n",
    "    # print(dists)\n",
    "\n",
    "    # Maps each subset of the nodes to the cost to reach that subset, as well\n",
    "    # as what node it passed before reaching this subset.\n",
    "    # Node subsets are represented as set bits.\n",
    "    C = {}\n",
    "\n",
    "    # Set transition cost from initial state\n",
    "    for k in range(1, n):\n",
    "        C[(1 << k, k)] = (dists[0][k], 0)\n",
    "\n",
    "    # Iterate subsets of increasing length and store intermediate results\n",
    "    # in classic dynamic programming manner\n",
    "    for subset_size in range(2, n):\n",
    "        for subset in itertools.combinations(range(1, n), subset_size):\n",
    "            # Set bits for all nodes in this subset\n",
    "            bits = 0\n",
    "            for bit in subset:\n",
    "                bits |= 1 << bit\n",
    "\n",
    "            # Find the lowest cost to get to this subset\n",
    "            for k in subset:\n",
    "                prev = bits & ~(1 << k)\n",
    "\n",
    "                res = []\n",
    "                for m in subset:\n",
    "                    if m == 0 or m == k:\n",
    "                        continue\n",
    "                    res.append((C[(prev, m)][0] + dists[m][k], m))\n",
    "                C[(bits, k)] = min(res)\n",
    "\n",
    "    # We're interested in all bits but the least significant (the start state)\n",
    "    bits = (2**n - 1) - 1\n",
    "\n",
    "    # Calculate optimal cost\n",
    "    res = []\n",
    "    for k in range(1, n):\n",
    "        res.append((C[(bits, k)][0] + dists[k][0], k))\n",
    "    opt, parent = min(res)\n",
    "\n",
    "    # Backtrack to find full path\n",
    "    path = []\n",
    "    for i in range(n - 1):\n",
    "        path.append(parent)\n",
    "        new_bits = bits & ~(1 << parent)\n",
    "        _, parent = C[(bits, parent)]\n",
    "        bits = new_bits\n",
    "\n",
    "    # Add implicit start state\n",
    "    path.append(0)\n",
    "\n",
    "    return opt, list(reversed(path))"
   ],
   "metadata": {
    "collapsed": false,
    "pycharm": {
     "name": "#%%\n"
    }
   }
  },
  {
   "cell_type": "code",
   "execution_count": 52,
   "outputs": [
    {
     "name": "stdout",
     "output_type": "stream",
     "text": [
      "func: held_karp took: 48.940953969955444 sec\n",
      "func: held_karp took: 0.0 sec\n",
      "func: held_karp took: 0.0 sec\n",
      "func: held_karp took: 0.0 sec\n",
      "func: held_karp took: 0.0 sec\n",
      "func: held_karp took: 0.0 sec\n",
      "func: held_karp took: 0.0 sec\n",
      "func: held_karp took: 0.0 sec\n",
      "func: held_karp took: 0.0 sec\n",
      "func: held_karp took: 0.0 sec\n",
      "func: held_karp took: 0.0 sec\n",
      "func: held_karp took: 0.0 sec\n",
      "func: held_karp took: 0.0 sec\n",
      "func: held_karp took: 0.0 sec\n",
      "func: held_karp took: 0.0 sec\n",
      "func: held_karp took: 0.0 sec\n",
      "func: held_karp took: 0.0 sec\n",
      "func: held_karp took: 0.0 sec\n",
      "func: held_karp took: 0.0 sec\n",
      "func: held_karp took: 0.0 sec\n",
      "func: held_karp took: 0.0 sec\n",
      "func: held_karp took: 0.0 sec\n",
      "func: held_karp took: 0.0 sec\n",
      "func: held_karp took: 0.0 sec\n",
      "func: held_karp took: 0.0 sec\n",
      "func: held_karp took: 0.0 sec\n",
      "func: held_karp took: 0.0 sec\n",
      "func: held_karp took: 0.0 sec\n",
      "func: held_karp took: 0.0 sec\n",
      "func: held_karp took: 0.01602339744567871 sec\n",
      "func: held_karp took: 0.0 sec\n",
      "func: held_karp took: 0.0 sec\n",
      "func: held_karp took: 0.0 sec\n",
      "func: held_karp took: 0.0030794143676757812 sec\n",
      "func: held_karp took: 0.0 sec\n",
      "func: held_karp took: 0.0 sec\n",
      "func: held_karp took: 0.0 sec\n",
      "func: held_karp took: 0.10015678405761719 sec\n",
      "func: held_karp took: 1.594451904296875 sec\n",
      "func: held_karp took: 3.459228992462158 sec\n",
      "func: held_karp took: 0.0 sec\n",
      "func: held_karp took: 0.2739715576171875 sec\n",
      "func: held_karp took: 0.015621423721313477 sec\n",
      "func: held_karp took: 8.545597553253174 sec\n"
     ]
    }
   ],
   "source": [
    "hk_results = []\n",
    "runtimes[held_karp.__name__] = 0\n",
    "for key in loc:\n",
    "    loc_list = loc[key]\n",
    "    ts = time.time()\n",
    "    hk_results.append(held_karp(len(loc_list), loc_list))\n",
    "    te = time.time()\n",
    "    print(f'func: {held_karp.__name__} took: {te-ts} sec')\n",
    "    runtimes[held_karp.__name__] += te - ts"
   ],
   "metadata": {
    "collapsed": false,
    "pycharm": {
     "name": "#%%\n"
    }
   }
  },
  {
   "cell_type": "markdown",
   "source": [
    "## Runtime Analysis"
   ],
   "metadata": {
    "collapsed": false
   }
  },
  {
   "cell_type": "code",
   "execution_count": 64,
   "outputs": [
    {
     "data": {
      "text/plain": "<BarContainer object of 6 artists>"
     },
     "execution_count": 64,
     "metadata": {},
     "output_type": "execute_result"
    },
    {
     "data": {
      "text/plain": "<Figure size 1440x432 with 1 Axes>",
      "image/png": "[encoded data removed]"
     },
     "metadata": {
      "needs_background": "light"
     },
     "output_type": "display_data"
    }
   ],
   "source": [
    "k, v = runtimes.keys(), runtimes.values()\n",
    "plt.title('Runtime in Seconds of TSP Algorithmns')\n",
    "plt.ylabel('Seconds')\n",
    "plt.rcParams[\"figure.figsize\"] = (18,6)\n",
    "plt.bar(k, v)"
   ],
   "metadata": {
    "collapsed": false,
    "pycharm": {
     "name": "#%%\n"
    }
   }
  },
  {
   "cell_type": "code",
   "execution_count": null,
   "outputs": [],
   "source": [],
   "metadata": {
    "collapsed": false,
    "pycharm": {
     "name": "#%%\n"
    }
   }
  }
 ],
 "metadata": {
  "interpreter": {
   "hash": "ddff950863c2b977daee2bec7219ae5f9b3a03c532fcc882a2a1d067c0474d1c"
  },
  "kernelspec": {
   "display_name": "Python 3.9.7 64-bit",
   "language": "python",
   "name": "python3"
  },
  "language_info": {
   "codemirror_mode": {
    "name": "ipython",
    "version": 3
   },
   "file_extension": ".py",
   "mimetype": "text/x-python",
   "name": "python",
   "nbconvert_exporter": "python",
   "pygments_lexer": "ipython3",
   "version": "3.9.7"
  },
  "orig_nbformat": 4
 },
 "nbformat": 4,
 "nbformat_minor": 2
}