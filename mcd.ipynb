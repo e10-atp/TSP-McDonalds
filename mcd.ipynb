{
 "cells": [
  {
   "cell_type": "code",
   "execution_count": 49,
   "metadata": {},
   "outputs": [],
   "source": [
    "import numpy as np\n",
    "import math\n",
    "import pandas as pd\n",
    "import matplotlib.pyplot as plt"
   ]
  },
  {
   "cell_type": "code",
   "execution_count": 50,
   "metadata": {},
   "outputs": [],
   "source": [
    "class Result:\n",
    "  def __init__(self):\n",
    "    self.min_cost = float('inf')\n",
    "\n",
    "class findPath:\n",
    "\n",
    "  def brute_force_dfs(self, spot, n, graph, visited, cost, result):\n",
    "    if len(visited) == n:\n",
    "      result.min_cost = min(result.min_cost, cost)\n",
    "      return\n",
    "\n",
    "    for next_spot in graph[spot]:\n",
    "      if next_spot in visited:\n",
    "        continue\n",
    "    visited.add(next_spot)\n",
    "    self.brute_force_dfs(next_spot, n, graph, visited, cost + graph[spot][next_spot], result)\n",
    "    visited.remove(next_spot)\n",
    "\n",
    "  def minCost(n, mcd, list_of_intersection):\n",
    "    graph = self.construct_graph(list_of_intersection)\n",
    "    result = Result()\n",
    "    n = len(list_of_intersection)\n",
    "    self.brute_force_dfs(mcd, n, graph, set(mcd), 0, result)\n",
    "\n",
    "  # def prunning_dfs(self, spot, n, graph, visited, cost, result)\n",
    "\n",
    "  # def dp_findPath(self, graph, list_of_intersection, mcd)\n"
   ]
  },
  {
   "cell_type": "code",
   "execution_count": 51,
   "metadata": {},
   "outputs": [],
   "source": [
    "class Node:\n",
    "    def __init__(self):\n",
    "        self.isVisited = False\n",
    "        self.hasMCD = False\n",
    "        self.neighbors = list()\n",
    "        self.MCDRegion = (-1,-1)\n",
    "        self.color = [255,255,255]\n",
    "\n",
    "    def __repr__(self):\n",
    "        return '(McD: {} isVisited: {} regionalMcD: {})'.format(self.hasMCD, self.isVisited, self.MCDRegion)"
   ]
  },
  {
   "cell_type": "code",
   "execution_count": 52,
   "metadata": {},
   "outputs": [],
   "source": [
    "class Grid:\n",
    "  def __init__(self, streets=228, aves=13):\n",
    "    self.streets = streets\n",
    "    self.aves = aves\n",
    "    self.grid = [[Node() for y in range(aves)] for x in range(streets)]\n",
    "\n",
    "  def draw_map(self):\n",
    "    r = ''\n",
    "    for x in range(self.streets):\n",
    "      r += f'{x}: '\n",
    "      for y in range(self.aves):\n",
    "        if self.grid[x][y].hasMCD:\n",
    "            r += f'[{self.grid[x][y].hasMCD}] '\n",
    "        else:\n",
    "            r += f'[{self.grid[x][y].MCDRegion}] '\n",
    "      r += '\\n'\n",
    "    return r\n",
    "  \n",
    "  def __repr__(self):\n",
    "    return self.draw_map()"
   ]
  },
  {
   "cell_type": "code",
   "execution_count": 53,
   "outputs": [],
   "source": [
    "import random\n",
    "def rand_color():\n",
    "    return [random.randint(0, 255), random.randint(0, 255), random.randint(0, 255)]"
   ],
   "metadata": {
    "collapsed": false,
    "pycharm": {
     "name": "#%%\n"
    }
   }
  },
  {
   "cell_type": "code",
   "execution_count": 54,
   "metadata": {},
   "outputs": [],
   "source": [
    "McD_loc = \"McDonald_loc.txt\""
   ]
  },
  {
   "cell_type": "code",
   "execution_count": 55,
   "metadata": {},
   "outputs": [],
   "source": [
    "with open(McD_loc) as f:\n",
    "    mcd_loc_data = []\n",
    "    for line in f:\n",
    "        s = line.split(\",\")\n",
    "        s[0] = int(s[0])\n",
    "        s[1] = int(s[1])\n",
    "        s.append(rand_color())\n",
    "        mcd_loc_data.append(s)"
   ]
  },
  {
   "cell_type": "code",
   "execution_count": 56,
   "metadata": {},
   "outputs": [
    {
     "data": {
      "text/plain": "   SN_Street  EW_Avenue           Inter_Names            Color\n0         11          5   MaidenLn+Broadway\\n   [130, 253, 56]\n1         19          6  Chambers+Greenwich\\n   [207, 11, 191]\n2         28          4     Canel+Lafayette\\n  [171, 201, 164]\n3         32          1  Williamsburg+Essex\\n   [212, 28, 220]\n4         35          7      Houston+Varick\\n  [237, 136, 117]",
      "text/html": "<div>\n<style scoped>\n    .dataframe tbody tr th:only-of-type {\n        vertical-align: middle;\n    }\n\n    .dataframe tbody tr th {\n        vertical-align: top;\n    }\n\n    .dataframe thead th {\n        text-align: right;\n    }\n</style>\n<table border=\"1\" class=\"dataframe\">\n  <thead>\n    <tr style=\"text-align: right;\">\n      <th></th>\n      <th>SN_Street</th>\n      <th>EW_Avenue</th>\n      <th>Inter_Names</th>\n      <th>Color</th>\n    </tr>\n  </thead>\n  <tbody>\n    <tr>\n      <th>0</th>\n      <td>11</td>\n      <td>5</td>\n      <td>MaidenLn+Broadway\\n</td>\n      <td>[130, 253, 56]</td>\n    </tr>\n    <tr>\n      <th>1</th>\n      <td>19</td>\n      <td>6</td>\n      <td>Chambers+Greenwich\\n</td>\n      <td>[207, 11, 191]</td>\n    </tr>\n    <tr>\n      <th>2</th>\n      <td>28</td>\n      <td>4</td>\n      <td>Canel+Lafayette\\n</td>\n      <td>[171, 201, 164]</td>\n    </tr>\n    <tr>\n      <th>3</th>\n      <td>32</td>\n      <td>1</td>\n      <td>Williamsburg+Essex\\n</td>\n      <td>[212, 28, 220]</td>\n    </tr>\n    <tr>\n      <th>4</th>\n      <td>35</td>\n      <td>7</td>\n      <td>Houston+Varick\\n</td>\n      <td>[237, 136, 117]</td>\n    </tr>\n  </tbody>\n</table>\n</div>"
     },
     "execution_count": 56,
     "metadata": {},
     "output_type": "execute_result"
    }
   ],
   "source": [
    "MD_loc_data = pd.DataFrame(mcd_loc_data,columns=['SN_Street', 'EW_Avenue', 'Inter_Names', 'Color'])\n",
    "MD_loc_data.head()"
   ]
  },
  {
   "cell_type": "markdown",
   "metadata": {},
   "source": [
    "Description of features:\n",
    "'SN_Street': We assign street numbers from 1 to 228 from south to north of Manhattan\n",
    "'EW_Avenue': We assign avenue numbers from 1 to 13 from east to north of Manhattan\n",
    "'Inter_Names': The name of two streets that have a McDonald's in their intersection"
   ]
  },
  {
   "cell_type": "code",
   "execution_count": 57,
   "metadata": {},
   "outputs": [],
   "source": [
    "map = Grid()"
   ]
  },
  {
   "cell_type": "code",
   "execution_count": 58,
   "metadata": {},
   "outputs": [
    {
     "name": "stdout",
     "output_type": "stream",
     "text": [
      "(McD: False isVisited: False regionalMcD: (-1, -1))\n"
     ]
    }
   ],
   "source": [
    "print(map.grid[0][0])"
   ]
  },
  {
   "cell_type": "code",
   "execution_count": 59,
   "outputs": [],
   "source": [
    "color_mapping = {}"
   ],
   "metadata": {
    "collapsed": false,
    "pycharm": {
     "name": "#%%\n"
    }
   }
  },
  {
   "cell_type": "code",
   "execution_count": 60,
   "outputs": [],
   "source": [
    "for index, row in MD_loc_data.iterrows():\n",
    "    st, ave = int(row['SN_Street']) - 1, int(row['EW_Avenue']) - 1\n",
    "    map.grid[st][ave].hasMCD = True\n",
    "    color_mapping[(st, ave)] = row['Color']"
   ],
   "metadata": {
    "collapsed": false,
    "pycharm": {
     "name": "#%%\n"
    }
   }
  },
  {
   "cell_type": "code",
   "execution_count": 61,
   "metadata": {},
   "outputs": [],
   "source": [
    "def calc_euclidean(pos1x, pos1y, pos2x, pos2y):\n",
    "    return math.sqrt((pos2x - pos1x)**2 + (pos2y - pos1y)**2)\n",
    "\n",
    "def calc_manhattan(pos1x, pos1y, pos2x, pos2y):\n",
    "    return abs(pos2x - pos1x) + abs(pos2y - pos1y)"
   ]
  },
  {
   "cell_type": "code",
   "execution_count": 62,
   "metadata": {},
   "outputs": [],
   "source": [
    "for i in range(len(map.grid)):\n",
    "    for j in range(len(map.grid[0])):\n",
    "        min_dis = float('inf')\n",
    "        for index, row in MD_loc_data.iterrows():\n",
    "            st, ave = int(row['SN_Street']) - 1, int(row['EW_Avenue']) - 1\n",
    "            dis = calc_manhattan(i, j, st, ave)\n",
    "            if dis < min_dis:\n",
    "                min_dis = dis\n",
    "                map.grid[i][j].MCDRegion = (st, ave)\n",
    "                if map.grid[i][j].hasMCD:\n",
    "                    map.grid[i][j].color = [0, 0, 0]\n",
    "                else:\n",
    "                    map.grid[i][j].color = color_mapping[(st, ave)]"
   ]
  },
  {
   "cell_type": "code",
   "execution_count": 63,
   "outputs": [
    {
     "data": {
      "text/plain": "[130, 253, 56]"
     },
     "execution_count": 63,
     "metadata": {},
     "output_type": "execute_result"
    }
   ],
   "source": [
    "map.grid[0][0].color"
   ],
   "metadata": {
    "collapsed": false,
    "pycharm": {
     "name": "#%%\n"
    }
   }
  },
  {
   "cell_type": "code",
   "execution_count": 64,
   "outputs": [],
   "source": [
    "from PIL import Image\n",
    "\n",
    "def make_colors(map, scale=8):\n",
    "    data = np.zeros((map.streets * scale, map.aves * scale, 3), dtype=np.uint8)\n",
    "    for i in range(map.streets):\n",
    "        for j in range(map.aves):\n",
    "            for k in range(scale):\n",
    "                for l in range (scale):\n",
    "                    data[scale*i + k, scale*j + l] = map.grid[i][j].color\n",
    "\n",
    "    return Image.fromarray(data).transpose(method=Image.ROTATE_180)"
   ],
   "metadata": {
    "collapsed": false,
    "pycharm": {
     "name": "#%%\n"
    }
   }
  },
  {
   "cell_type": "code",
   "execution_count": 65,
   "outputs": [],
   "source": [
    "c = make_colors(map)"
   ],
   "metadata": {
    "collapsed": false,
    "pycharm": {
     "name": "#%%\n"
    }
   }
  },
  {
   "cell_type": "code",
   "execution_count": 66,
   "outputs": [
    {
     "data": {
      "text/plain": "<PIL.Image.Image image mode=RGB size=104x1824 at 0x1F8001D4F70>",
      "image/png": "[encoded data removed]"
     },
     "metadata": {},
     "output_type": "display_data"
    }
   ],
   "source": [
    "display(c) #jupyter command"
   ],
   "metadata": {
    "collapsed": false,
    "pycharm": {
     "name": "#%%\n"
    }
   }
  },
  {
   "cell_type": "code",
   "execution_count": 67,
   "outputs": [],
   "source": [
    "c.save('manhattanmcd.png', format=None)"
   ],
   "metadata": {
    "collapsed": false,
    "pycharm": {
     "name": "#%%\n"
    }
   }
  },
  {
   "cell_type": "code",
   "execution_count": 68,
   "outputs": [],
   "source": [
    "def assign_points(map, prob=0.10):\n",
    "    locations = []\n",
    "    for i in range(map.streets):\n",
    "        for j in range(map.aves):\n",
    "            if random.random() <= prob:\n",
    "                locations.append((i, j))\n",
    "    return locations"
   ],
   "metadata": {
    "collapsed": false,
    "pycharm": {
     "name": "#%%\n"
    }
   }
  },
  {
   "cell_type": "code",
   "execution_count": 69,
   "outputs": [],
   "source": [
    "delivery_loc = assign_points(map)"
   ],
   "metadata": {
    "collapsed": false,
    "pycharm": {
     "name": "#%%\n"
    }
   }
  },
  {
   "cell_type": "code",
   "execution_count": 70,
   "outputs": [],
   "source": [
    "#separate locations by McDRegion buckets\n",
    "def regionize(locations, map):\n",
    "    regionpoints = {}\n",
    "    for point in locations:\n",
    "        i, j = point[0], point[1]\n",
    "        region = map.grid[i][j].MCDRegion\n",
    "        if region not in regionpoints:\n",
    "            regionpoints[region] = []\n",
    "            regionpoints[region].append(region)\n",
    "            regionpoints[region].append(point)\n",
    "        else:\n",
    "            regionpoints[region].append(point)\n",
    "    return regionpoints"
   ],
   "metadata": {
    "collapsed": false,
    "pycharm": {
     "name": "#%%\n"
    }
   }
  },
  {
   "cell_type": "code",
   "execution_count": 71,
   "outputs": [],
   "source": [
    "loc = regionize(delivery_loc, map)"
   ],
   "metadata": {
    "collapsed": false,
    "pycharm": {
     "name": "#%%\n"
    }
   }
  },
  {
   "cell_type": "code",
   "execution_count": 72,
   "outputs": [
    {
     "data": {
      "text/plain": "{(10, 4): [(10, 4),\n  (3, 10),\n  (4, 3),\n  (4, 5),\n  (5, 7),\n  (6, 1),\n  (7, 2),\n  (10, 4),\n  (10, 6),\n  (12, 1),\n  (12, 4),\n  (13, 7),\n  (13, 8),\n  (13, 12),\n  (14, 2)],\n (18, 5): [(18, 5),\n  (15, 11),\n  (15, 12),\n  (17, 6),\n  (18, 10),\n  (19, 7),\n  (19, 11),\n  (19, 12),\n  (21, 2),\n  (21, 7),\n  (22, 6),\n  (23, 6)],\n (27, 3): [(27, 3),\n  (24, 0),\n  (24, 2),\n  (24, 12),\n  (27, 2),\n  (27, 8),\n  (27, 10),\n  (27, 11),\n  (29, 6),\n  (29, 11)],\n (34, 6): [(34, 6), (32, 11), (33, 4), (33, 9), (35, 4), (36, 8)],\n (31, 0): [(31, 0), (33, 1), (34, 1), (35, 0)],\n (38, 4): [(38, 4), (36, 3), (37, 5), (38, 8), (39, 8), (40, 6), (40, 11)],\n (39, 0): [(39, 0), (40, 2), (41, 2)],\n (47, 0): [(47, 0), (45, 2), (48, 1)],\n (48, 5): [(48, 5),\n  (45, 12),\n  (46, 8),\n  (49, 4),\n  (49, 11),\n  (51, 6),\n  (51, 9),\n  (51, 10)],\n (50, 3): [(50, 3), (50, 1), (53, 3)],\n (55, 5): [(55, 5), (52, 12), (54, 7), (57, 5)],\n (59, 7): [(59, 7), (58, 12), (59, 10), (60, 12), (61, 12), (63, 9)],\n (61, 3): [(61, 3), (59, 3), (62, 0), (62, 1)],\n (61, 5): [(61, 5), (60, 4), (61, 6), (64, 4)],\n (66, 6): [(66, 6), (64, 10)],\n (66, 2): [(66, 2), (65, 0), (67, 2)],\n (67, 6): [(67, 6), (67, 4)],\n (68, 7): [(68, 7), (68, 9), (68, 10), (70, 7), (71, 10)],\n (69, 5): [(69, 5), (70, 6), (71, 4)],\n (73, 6): [(73, 6), (72, 2), (72, 11), (74, 8)],\n (75, 4): [(75, 4), (74, 0), (74, 4), (75, 4)],\n (76, 7): [(76, 7), (75, 9), (75, 11), (76, 6), (76, 12)],\n (78, 6): [(78, 6), (79, 12), (80, 11)],\n (79, 5): [(79, 5), (80, 4)],\n (84, 6): [(84, 6), (82, 6), (82, 11), (83, 5), (85, 7), (85, 12)],\n (83, 2): [(83, 2), (84, 3), (86, 3)],\n (89, 7): [(89, 7),\n  (87, 11),\n  (88, 4),\n  (88, 10),\n  (89, 6),\n  (91, 7),\n  (92, 6),\n  (92, 8),\n  (94, 7),\n  (95, 6),\n  (95, 7),\n  (95, 8)],\n (91, 2): [(91, 2),\n  (88, 1),\n  (88, 3),\n  (90, 1),\n  (92, 2),\n  (92, 5),\n  (93, 1),\n  (94, 0),\n  (95, 0),\n  (95, 2),\n  (95, 5)],\n (104, 10): [(104, 10),\n  (97, 9),\n  (100, 12),\n  (101, 9),\n  (102, 8),\n  (103, 10),\n  (106, 10),\n  (109, 10),\n  (111, 8)],\n (102, 0): [(102, 0), (101, 4)],\n (108, 2): [(108, 2), (107, 0), (107, 2), (112, 2), (113, 2)],\n (117, 11): [(117, 11), (112, 9), (114, 7), (116, 7), (119, 7)],\n (117, 1): [(117, 1),\n  (114, 1),\n  (114, 5),\n  (116, 4),\n  (117, 1),\n  (117, 6),\n  (119, 3),\n  (120, 5)],\n (124, 2): [(124, 2),\n  (122, 3),\n  (123, 5),\n  (124, 6),\n  (125, 2),\n  (128, 5),\n  (128, 6),\n  (129, 2),\n  (129, 4),\n  (130, 0),\n  (131, 2),\n  (131, 6)],\n (124, 11): [(124, 11),\n  (127, 8),\n  (128, 9),\n  (129, 7),\n  (130, 9),\n  (131, 7),\n  (133, 10),\n  (134, 10)],\n (138, 2): [(138, 2),\n  (136, 2),\n  (137, 11),\n  (139, 10),\n  (140, 1),\n  (141, 0),\n  (143, 1)],\n (146, 8): [(146, 8),\n  (143, 9),\n  (144, 8),\n  (144, 9),\n  (144, 10),\n  (146, 9),\n  (149, 12),\n  (150, 10)],\n (146, 6): [(146, 6), (144, 6), (145, 4), (146, 1), (148, 2)],\n (153, 5): [(153, 5),\n  (152, 2),\n  (152, 3),\n  (152, 5),\n  (154, 2),\n  (155, 9),\n  (156, 6),\n  (157, 0),\n  (157, 1),\n  (157, 4)],\n (160, 6): [(160, 6),\n  (157, 12),\n  (158, 10),\n  (159, 5),\n  (159, 7),\n  (159, 10),\n  (159, 11),\n  (159, 12),\n  (160, 9),\n  (160, 12),\n  (161, 5),\n  (162, 0),\n  (162, 3),\n  (164, 3),\n  (165, 1)],\n (166, 11): [(166, 11),\n  (165, 10),\n  (167, 12),\n  (169, 10),\n  (170, 3),\n  (171, 1),\n  (171, 5),\n  (172, 0),\n  (172, 6)],\n (180, 11): [(180, 11),\n  (174, 10),\n  (175, 4),\n  (175, 7),\n  (175, 12),\n  (178, 3),\n  (179, 3),\n  (180, 1),\n  (180, 4),\n  (180, 7),\n  (181, 6),\n  (182, 2),\n  (183, 6),\n  (185, 3),\n  (185, 8),\n  (185, 10),\n  (186, 1),\n  (186, 9)],\n (191, 12): [(191, 12),\n  (190, 1),\n  (190, 10),\n  (190, 12),\n  (191, 7),\n  (191, 11),\n  (192, 5),\n  (192, 6),\n  (192, 8),\n  (192, 9),\n  (193, 5),\n  (195, 11),\n  (196, 0),\n  (196, 7),\n  (196, 8)],\n (202, 12): [(202, 12),\n  (198, 5),\n  (198, 7),\n  (200, 0),\n  (201, 9),\n  (204, 3),\n  (205, 3),\n  (205, 12),\n  (206, 8),\n  (207, 1),\n  (207, 5),\n  (207, 7)],\n (213, 12): [(213, 12),\n  (208, 0),\n  (208, 5),\n  (209, 1),\n  (209, 3),\n  (210, 8),\n  (210, 10),\n  (211, 2),\n  (211, 7),\n  (212, 0),\n  (212, 10),\n  (212, 11),\n  (213, 5),\n  (215, 0),\n  (215, 6),\n  (216, 8),\n  (217, 12)],\n (222, 11): [(222, 11),\n  (218, 5),\n  (219, 6),\n  (220, 2),\n  (223, 7),\n  (223, 12),\n  (224, 5),\n  (225, 6),\n  (226, 10),\n  (227, 7)]}"
     },
     "execution_count": 72,
     "metadata": {},
     "output_type": "execute_result"
    }
   ],
   "source": [
    "loc"
   ],
   "metadata": {
    "collapsed": false,
    "pycharm": {
     "name": "#%%\n"
    }
   }
  },
  {
   "cell_type": "code",
   "execution_count": 73,
   "outputs": [],
   "source": [
    "def calc_manhattan(p1, p2):\n",
    "    return abs(p1[0] - p2[0]) + abs(p1[1] - p2[1])"
   ],
   "metadata": {
    "collapsed": false,
    "pycharm": {
     "name": "#%%\n"
    }
   }
  },
  {
   "cell_type": "code",
   "execution_count": 74,
   "outputs": [
    {
     "name": "stdout",
     "output_type": "stream",
     "text": [
      "Requirement already satisfied: landscapes in c:\\users\\nahte\\appdata\\local\\programs\\python\\python39\\lib\\site-packages (0.0.12)\n",
      "Note: you may need to restart the kernel to use updated packages.\n"
     ]
    }
   ],
   "source": [
    "pip install landscapes"
   ],
   "metadata": {
    "collapsed": false,
    "pycharm": {
     "name": "#%%\n"
    }
   }
  },
  {
   "cell_type": "code",
   "execution_count": 75,
   "outputs": [],
   "source": [
    "import time\n",
    "runtimes = {}"
   ],
   "metadata": {
    "collapsed": false,
    "pycharm": {
     "name": "#%%\n"
    }
   }
  },
  {
   "cell_type": "code",
   "execution_count": 76,
   "outputs": [
    {
     "data": {
      "text/plain": "{(10, 4): [(10, 4),\n  (3, 10),\n  (4, 3),\n  (4, 5),\n  (5, 7),\n  (6, 1),\n  (7, 2),\n  (10, 4),\n  (10, 6),\n  (12, 1),\n  (12, 4),\n  (13, 7),\n  (13, 8),\n  (13, 12),\n  (14, 2)],\n (18, 5): [(18, 5),\n  (15, 11),\n  (15, 12),\n  (17, 6),\n  (18, 10),\n  (19, 7),\n  (19, 11),\n  (19, 12),\n  (21, 2),\n  (21, 7),\n  (22, 6),\n  (23, 6)],\n (27, 3): [(27, 3),\n  (24, 0),\n  (24, 2),\n  (24, 12),\n  (27, 2),\n  (27, 8),\n  (27, 10),\n  (27, 11),\n  (29, 6),\n  (29, 11)],\n (34, 6): [(34, 6), (32, 11), (33, 4), (33, 9), (35, 4), (36, 8)],\n (31, 0): [(31, 0), (33, 1), (34, 1), (35, 0)],\n (38, 4): [(38, 4), (36, 3), (37, 5), (38, 8), (39, 8), (40, 6), (40, 11)],\n (39, 0): [(39, 0), (40, 2), (41, 2)],\n (47, 0): [(47, 0), (45, 2), (48, 1)],\n (48, 5): [(48, 5),\n  (45, 12),\n  (46, 8),\n  (49, 4),\n  (49, 11),\n  (51, 6),\n  (51, 9),\n  (51, 10)],\n (50, 3): [(50, 3), (50, 1), (53, 3)],\n (55, 5): [(55, 5), (52, 12), (54, 7), (57, 5)],\n (59, 7): [(59, 7), (58, 12), (59, 10), (60, 12), (61, 12), (63, 9)],\n (61, 3): [(61, 3), (59, 3), (62, 0), (62, 1)],\n (61, 5): [(61, 5), (60, 4), (61, 6), (64, 4)],\n (66, 6): [(66, 6), (64, 10)],\n (66, 2): [(66, 2), (65, 0), (67, 2)],\n (67, 6): [(67, 6), (67, 4)],\n (68, 7): [(68, 7), (68, 9), (68, 10), (70, 7), (71, 10)],\n (69, 5): [(69, 5), (70, 6), (71, 4)],\n (73, 6): [(73, 6), (72, 2), (72, 11), (74, 8)],\n (75, 4): [(75, 4), (74, 0), (74, 4), (75, 4)],\n (76, 7): [(76, 7), (75, 9), (75, 11), (76, 6), (76, 12)],\n (78, 6): [(78, 6), (79, 12), (80, 11)],\n (79, 5): [(79, 5), (80, 4)],\n (84, 6): [(84, 6), (82, 6), (82, 11), (83, 5), (85, 7), (85, 12)],\n (83, 2): [(83, 2), (84, 3), (86, 3)],\n (89, 7): [(89, 7),\n  (87, 11),\n  (88, 4),\n  (88, 10),\n  (89, 6),\n  (91, 7),\n  (92, 6),\n  (92, 8),\n  (94, 7),\n  (95, 6),\n  (95, 7),\n  (95, 8)],\n (91, 2): [(91, 2),\n  (88, 1),\n  (88, 3),\n  (90, 1),\n  (92, 2),\n  (92, 5),\n  (93, 1),\n  (94, 0),\n  (95, 0),\n  (95, 2),\n  (95, 5)],\n (104, 10): [(104, 10),\n  (97, 9),\n  (100, 12),\n  (101, 9),\n  (102, 8),\n  (103, 10),\n  (106, 10),\n  (109, 10),\n  (111, 8)],\n (102, 0): [(102, 0), (101, 4)],\n (108, 2): [(108, 2), (107, 0), (107, 2), (112, 2), (113, 2)],\n (117, 11): [(117, 11), (112, 9), (114, 7), (116, 7), (119, 7)],\n (117, 1): [(117, 1),\n  (114, 1),\n  (114, 5),\n  (116, 4),\n  (117, 1),\n  (117, 6),\n  (119, 3),\n  (120, 5)],\n (124, 2): [(124, 2),\n  (122, 3),\n  (123, 5),\n  (124, 6),\n  (125, 2),\n  (128, 5),\n  (128, 6),\n  (129, 2),\n  (129, 4),\n  (130, 0),\n  (131, 2),\n  (131, 6)],\n (124, 11): [(124, 11),\n  (127, 8),\n  (128, 9),\n  (129, 7),\n  (130, 9),\n  (131, 7),\n  (133, 10),\n  (134, 10)],\n (138, 2): [(138, 2),\n  (136, 2),\n  (137, 11),\n  (139, 10),\n  (140, 1),\n  (141, 0),\n  (143, 1)],\n (146, 8): [(146, 8),\n  (143, 9),\n  (144, 8),\n  (144, 9),\n  (144, 10),\n  (146, 9),\n  (149, 12),\n  (150, 10)],\n (146, 6): [(146, 6), (144, 6), (145, 4), (146, 1), (148, 2)],\n (153, 5): [(153, 5),\n  (152, 2),\n  (152, 3),\n  (152, 5),\n  (154, 2),\n  (155, 9),\n  (156, 6),\n  (157, 0),\n  (157, 1),\n  (157, 4)],\n (160, 6): [(160, 6),\n  (157, 12),\n  (158, 10),\n  (159, 5),\n  (159, 7),\n  (159, 10),\n  (159, 11),\n  (159, 12),\n  (160, 9),\n  (160, 12),\n  (161, 5),\n  (162, 0),\n  (162, 3),\n  (164, 3),\n  (165, 1)],\n (166, 11): [(166, 11),\n  (165, 10),\n  (167, 12),\n  (169, 10),\n  (170, 3),\n  (171, 1),\n  (171, 5),\n  (172, 0),\n  (172, 6)],\n (180, 11): [(180, 11),\n  (174, 10),\n  (175, 4),\n  (175, 7),\n  (175, 12),\n  (178, 3),\n  (179, 3),\n  (180, 1),\n  (180, 4),\n  (180, 7),\n  (181, 6),\n  (182, 2),\n  (183, 6),\n  (185, 3),\n  (185, 8),\n  (185, 10),\n  (186, 1),\n  (186, 9)],\n (191, 12): [(191, 12),\n  (190, 1),\n  (190, 10),\n  (190, 12),\n  (191, 7),\n  (191, 11),\n  (192, 5),\n  (192, 6),\n  (192, 8),\n  (192, 9),\n  (193, 5),\n  (195, 11),\n  (196, 0),\n  (196, 7),\n  (196, 8)],\n (202, 12): [(202, 12),\n  (198, 5),\n  (198, 7),\n  (200, 0),\n  (201, 9),\n  (204, 3),\n  (205, 3),\n  (205, 12),\n  (206, 8),\n  (207, 1),\n  (207, 5),\n  (207, 7)],\n (213, 12): [(213, 12),\n  (208, 0),\n  (208, 5),\n  (209, 1),\n  (209, 3),\n  (210, 8),\n  (210, 10),\n  (211, 2),\n  (211, 7),\n  (212, 0),\n  (212, 10),\n  (212, 11),\n  (213, 5),\n  (215, 0),\n  (215, 6),\n  (216, 8),\n  (217, 12)],\n (222, 11): [(222, 11),\n  (218, 5),\n  (219, 6),\n  (220, 2),\n  (223, 7),\n  (223, 12),\n  (224, 5),\n  (225, 6),\n  (226, 10),\n  (227, 7)]}"
     },
     "execution_count": 76,
     "metadata": {},
     "output_type": "execute_result"
    }
   ],
   "source": [
    "loc"
   ],
   "metadata": {
    "collapsed": false,
    "pycharm": {
     "name": "#%%\n"
    }
   }
  },
  {
   "cell_type": "code",
   "execution_count": 77,
   "outputs": [],
   "source": [
    "costs = 0\n",
    "for key in loc:\n",
    "    points = loc[key]\n",
    "    mode_cost = 0\n",
    "    for i in range(len(points) - 1):\n",
    "        mode_cost += calc_manhattan(points[i], points[i + 1])\n",
    "    costs += mode_cost"
   ],
   "metadata": {
    "collapsed": false,
    "pycharm": {
     "name": "#%%\n"
    }
   }
  },
  {
   "cell_type": "code",
   "execution_count": 78,
   "outputs": [
    {
     "data": {
      "text/plain": "1257"
     },
     "execution_count": 78,
     "metadata": {},
     "output_type": "execute_result"
    }
   ],
   "source": [
    "costs"
   ],
   "metadata": {
    "collapsed": false,
    "pycharm": {
     "name": "#%%\n"
    }
   }
  },
  {
   "cell_type": "markdown",
   "source": [
    "## Simulated Annealing Implementation"
   ],
   "metadata": {
    "collapsed": false
   }
  },
  {
   "cell_type": "code",
   "execution_count": 79,
   "outputs": [],
   "source": [
    "\n",
    "from landscapes.single_objective import tsp\n",
    "\n",
    "import pandas as pd\n",
    "# import osmnx as ox\n",
    "import networkx as nx\n",
    "import math\n",
    "import random"
   ],
   "metadata": {
    "collapsed": false,
    "pycharm": {
     "name": "#%%\n"
    }
   }
  },
  {
   "cell_type": "code",
   "execution_count": 80,
   "outputs": [],
   "source": [
    "tsp_manhattan = tsp(dist_func=calc_manhattan, close_loop=True).dist"
   ],
   "metadata": {
    "collapsed": false,
    "pycharm": {
     "name": "#%%\n"
    }
   }
  },
  {
   "cell_type": "code",
   "execution_count": 81,
   "outputs": [
    {
     "data": {
      "text/plain": "1694"
     },
     "execution_count": 81,
     "metadata": {},
     "output_type": "execute_result"
    }
   ],
   "source": [
    "tsp_manhattan(delivery_loc)"
   ],
   "metadata": {
    "collapsed": false,
    "pycharm": {
     "name": "#%%\n"
    }
   }
  },
  {
   "cell_type": "code",
   "execution_count": 82,
   "outputs": [],
   "source": [
    "from random import randint\n",
    "from random import random\n",
    "from math import exp\n",
    "from math import log\n",
    "class minimize():\n",
    "    '''Simple Simulated Annealing\n",
    "    '''\n",
    "\n",
    "    def __init__(self, func, x0, opt_mode, cooling_schedule='linear', step_max=1000, t_min=0, t_max=100, bounds=[], alpha=None, damping=1):\n",
    "\n",
    "        # checks\n",
    "        assert opt_mode in ['combinatorial','continuous'], 'opt_mode must be either \"combinatorial\" or \"continuous\"'\n",
    "        assert cooling_schedule in ['linear','exponential','logarithmic', 'quadratic'], 'cooling_schedule must be either \"linear\", \"exponential\", \"logarithmic\", or \"quadratic\"'\n",
    "\n",
    "\n",
    "        # initialize starting conditions\n",
    "        self.t = t_max\n",
    "        self.t_max = t_max\n",
    "        self.t_min = t_min\n",
    "        self.step_max = step_max\n",
    "        self.opt_mode = opt_mode\n",
    "        self.hist = []\n",
    "        self.cooling_schedule = cooling_schedule\n",
    "\n",
    "        self.cost_func = func\n",
    "        self.x0 = x0\n",
    "        self.bounds = bounds[:]\n",
    "        self.damping = damping\n",
    "        self.current_state = self.x0\n",
    "        self.current_energy = func(self.x0)\n",
    "        self.best_state = self.current_state\n",
    "        self.best_energy = self.current_energy\n",
    "\n",
    "\n",
    "        # initialize optimization scheme\n",
    "        if self.opt_mode == 'combinatorial': self.get_neighbor = self.move_combinatorial\n",
    "        if self.opt_mode == 'continuous': self.get_neighbor = self.move_continuous\n",
    "\n",
    "\n",
    "        # initialize cooling schedule\n",
    "        if self.cooling_schedule == 'linear':\n",
    "            if alpha != None:\n",
    "                self.update_t = self.cooling_linear_m\n",
    "                self.cooling_schedule = 'linear multiplicative cooling'\n",
    "                self.alpha = alpha\n",
    "\n",
    "            if alpha == None:\n",
    "                self.update_t = self.cooling_linear_a\n",
    "                self.cooling_schedule = 'linear additive cooling'\n",
    "\n",
    "        if self.cooling_schedule == 'quadratic':\n",
    "            if alpha != None:\n",
    "                self.update_t = self.cooling_quadratic_m\n",
    "                self.cooling_schedule = 'quadratic multiplicative cooling'\n",
    "                self.alpha = alpha\n",
    "\n",
    "            if alpha == None:\n",
    "                self.update_t = self.cooling_quadratic_a\n",
    "                self.cooling_schedule = 'quadratic additive cooling'\n",
    "\n",
    "        if self.cooling_schedule == 'exponential':\n",
    "            if alpha == None: self.alpha =  0.8\n",
    "            else: self.alpha = alpha\n",
    "            self.update_t = self.cooling_exponential_b\n",
    "\n",
    "        if self.cooling_schedule == 'logarithmic':\n",
    "            if alpha == None: self.alpha =  0.8\n",
    "            else: self.alpha = alpha\n",
    "            self.update_t = self.cooling_logarithmic_m\n",
    "\n",
    "\n",
    "        # begin optimizing\n",
    "        self.step, self.accept = 1, 0\n",
    "        while self.step < self.step_max and self.t >= self.t_min and self.t>0:\n",
    "\n",
    "            # get neighbor\n",
    "            proposed_neighbor = self.get_neighbor()\n",
    "\n",
    "            # check energy level of neighbor\n",
    "            E_n = self.cost_func(proposed_neighbor)\n",
    "            dE = E_n - self.current_energy\n",
    "\n",
    "            # determine if we should accept the current neighbor\n",
    "            if random() < self.safe_exp(-dE / self.t):\n",
    "                self.current_energy = E_n\n",
    "                self.current_state = proposed_neighbor[:]\n",
    "                self.accept += 1\n",
    "\n",
    "            # check if the current neighbor is best solution so far\n",
    "            if E_n < self.best_energy:\n",
    "                self.best_energy = E_n\n",
    "                self.best_state = proposed_neighbor[:]\n",
    "\n",
    "            # persist some info for later\n",
    "            self.hist.append([\n",
    "                self.step,\n",
    "                self.t,\n",
    "                self.current_energy,\n",
    "                self.best_energy])\n",
    "\n",
    "            # update some stuff\n",
    "            self.t = self.update_t(self.step)\n",
    "            self.step += 1\n",
    "\n",
    "        # generate some final stats\n",
    "        self.acceptance_rate = self.accept / self.step\n",
    "\n",
    "\n",
    "    def move_continuous(self):\n",
    "        # preturb current state by a random amount\n",
    "        neighbor = [item + ((random() - 0.5) * self.damping) for item in self.current_state]\n",
    "\n",
    "        # clip to upper and lower bounds\n",
    "        if self.bounds:\n",
    "            for i in range(len(neighbor)):\n",
    "                x_min, x_max = self.bounds[i]\n",
    "                neighbor[i] = min(max(neighbor[i], x_min), x_max)\n",
    "\n",
    "        return neighbor\n",
    "\n",
    "\n",
    "    def move_combinatorial(self):\n",
    "        '''Swaps two random nodes along path\n",
    "        Not the most efficient, but it does the job...\n",
    "        '''\n",
    "        p0 = randint(0, len(self.current_state)-1)\n",
    "        p1 = randint(0, len(self.current_state)-1)\n",
    "\n",
    "        neighbor = self.current_state[:]\n",
    "        neighbor[p0], neighbor[p1] = neighbor[p1], neighbor[p0]\n",
    "\n",
    "        return neighbor\n",
    "\n",
    "\n",
    "    def results(self):\n",
    "        print('+------------------------ RESULTS -------------------------+\\n')\n",
    "        print(f'      opt.mode: {self.opt_mode}')\n",
    "        print(f'cooling sched.: {self.cooling_schedule}')\n",
    "        if self.damping != 1: print(f'       damping: {self.damping}\\n')\n",
    "        else: print('\\n')\n",
    "\n",
    "        print(f'  initial temp: {self.t_max}')\n",
    "        print(f'    final temp: {self.t:0.6f}')\n",
    "        print(f'     max steps: {self.step_max}')\n",
    "        print(f'    final step: {self.step}\\n')\n",
    "\n",
    "        print(f'  final energy: {self.best_energy:0.6f}\\n')\n",
    "        print('+-------------------------- END ---------------------------+')\n",
    "\n",
    "    # linear multiplicative cooling\n",
    "    def cooling_linear_m(self, step):\n",
    "        return self.t_max /  (1 + self.alpha * step)\n",
    "\n",
    "    # linear additive cooling\n",
    "    def cooling_linear_a(self, step):\n",
    "        return self.t_min + (self.t_max - self.t_min) * ((self.step_max - step)/self.step_max)\n",
    "\n",
    "    # quadratic multiplicative cooling\n",
    "    def cooling_quadratic_m(self, step):\n",
    "        return self.t_min / (1 + self.alpha * step**2)\n",
    "\n",
    "    # quadratic additive cooling\n",
    "    def cooling_quadratic_a(self, step):\n",
    "        return self.t_min + (self.t_max - self.t_min) * ((self.step_max - step)/self.step_max)**2\n",
    "\n",
    "    # exponential multiplicative cooling\n",
    "    def cooling_exponential_b(self, step):\n",
    "        return self.t_max * self.alpha**step\n",
    "\n",
    "    # logarithmical multiplicative cooling\n",
    "    def cooling_logarithmic_m(self, step):\n",
    "        return self.t_max / (self.alpha * log(step + 1))\n",
    "\n",
    "\n",
    "    def safe_exp(self, x):\n",
    "        try: return exp(x)\n",
    "        except: return 0"
   ],
   "metadata": {
    "collapsed": false,
    "pycharm": {
     "name": "#%%\n"
    }
   }
  },
  {
   "cell_type": "code",
   "execution_count": 83,
   "outputs": [
    {
     "name": "stdout",
     "output_type": "stream",
     "text": [
      "func: Annealing linear took: 0.0 sec\n",
      "func: Annealing linear took: 0.015685319900512695 sec\n",
      "func: Annealing linear took: 0.009774208068847656 sec\n",
      "func: Annealing linear took: 0.0 sec\n",
      "func: Annealing linear took: 0.0005018711090087891 sec\n",
      "func: Annealing linear took: 0.010655879974365234 sec\n",
      "func: Annealing linear took: 0.005488157272338867 sec\n",
      "func: Annealing linear took: 0.0005409717559814453 sec\n",
      "func: Annealing linear took: 0.006482362747192383 sec\n",
      "func: Annealing linear took: 0.0 sec\n",
      "func: Annealing linear took: 0.0 sec\n",
      "func: Annealing linear took: 0.0 sec\n",
      "func: Annealing linear took: 0.0167694091796875 sec\n",
      "func: Annealing linear took: 0.0 sec\n",
      "func: Annealing linear took: 0.010234594345092773 sec\n",
      "func: Annealing linear took: 0.0 sec\n",
      "func: Annealing linear took: 0.0 sec\n",
      "func: Annealing linear took: 0.01567554473876953 sec\n",
      "func: Annealing linear took: 0.0 sec\n",
      "func: Annealing linear took: 0.0 sec\n",
      "func: Annealing linear took: 0.01005864143371582 sec\n",
      "func: Annealing linear took: 0.0 sec\n",
      "func: Annealing linear took: 0.0 sec\n",
      "func: Annealing linear took: 0.0 sec\n",
      "func: Annealing linear took: 0.015825271606445312 sec\n",
      "func: Annealing linear took: 0.0 sec\n",
      "func: Annealing linear took: 0.0 sec\n",
      "func: Annealing linear took: 0.0 sec\n",
      "func: Annealing linear took: 0.017745494842529297 sec\n",
      "func: Annealing linear took: 0.0 sec\n",
      "func: Annealing linear took: 0.007811307907104492 sec\n",
      "func: Annealing linear took: 0.0 sec\n",
      "func: Annealing linear took: 0.0 sec\n",
      "func: Annealing linear took: 0.015715599060058594 sec\n",
      "func: Annealing linear took: 0.0 sec\n",
      "func: Annealing linear took: 0.0 sec\n",
      "func: Annealing linear took: 0.0 sec\n",
      "func: Annealing linear took: 0.015610694885253906 sec\n",
      "func: Annealing linear took: 0.0 sec\n",
      "func: Annealing linear took: 0.010248899459838867 sec\n",
      "func: Annealing linear took: 0.0 sec\n",
      "func: Annealing linear took: 0.0 sec\n",
      "func: Annealing linear took: 0.016347646713256836 sec\n",
      "func: Annealing linear took: 0.015725135803222656 sec\n",
      "func: Annealing linear took: 0.009574174880981445 sec\n",
      "func: Annealing linear took: 0.0 sec\n",
      "func: Annealing quadratic took: 0.014540433883666992 sec\n",
      "func: Annealing quadratic took: 0.0 sec\n",
      "func: Annealing quadratic took: 0.015801191329956055 sec\n",
      "func: Annealing quadratic took: 0.0 sec\n",
      "func: Annealing quadratic took: 0.0010945796966552734 sec\n",
      "func: Annealing quadratic took: 0.0 sec\n",
      "func: Annealing quadratic took: 0.01633477210998535 sec\n",
      "func: Annealing quadratic took: 0.0 sec\n",
      "func: Annealing quadratic took: 0.0 sec\n",
      "func: Annealing quadratic took: 0.015740156173706055 sec\n",
      "func: Annealing quadratic took: 0.0 sec\n",
      "func: Annealing quadratic took: 0.010480403900146484 sec\n",
      "func: Annealing quadratic took: 0.0 sec\n",
      "func: Annealing quadratic took: 0.0 sec\n",
      "func: Annealing quadratic took: 0.0 sec\n",
      "func: Annealing quadratic took: 0.0 sec\n",
      "func: Annealing quadratic took: 0.01569652557373047 sec\n",
      "func: Annealing quadratic took: 0.0 sec\n",
      "func: Annealing quadratic took: 0.010100841522216797 sec\n",
      "func: Annealing quadratic took: 0.0 sec\n",
      "func: Annealing quadratic took: 0.006081581115722656 sec\n",
      "func: Annealing quadratic took: 0.0 sec\n",
      "func: Annealing quadratic took: 0.0 sec\n",
      "func: Annealing quadratic took: 0.0 sec\n",
      "func: Annealing quadratic took: 0.015731096267700195 sec\n",
      "func: Annealing quadratic took: 0.0 sec\n",
      "func: Annealing quadratic took: 0.015863895416259766 sec\n",
      "func: Annealing quadratic took: 0.0 sec\n",
      "func: Annealing quadratic took: 0.0 sec\n",
      "func: Annealing quadratic took: 0.0 sec\n",
      "func: Annealing quadratic took: 0.015607118606567383 sec\n",
      "func: Annealing quadratic took: 0.0 sec\n",
      "func: Annealing quadratic took: 0.0 sec\n",
      "func: Annealing quadratic took: 0.017752885818481445 sec\n",
      "func: Annealing quadratic took: 0.006666421890258789 sec\n",
      "func: Annealing quadratic took: 0.0 sec\n",
      "func: Annealing quadratic took: 0.007088184356689453 sec\n",
      "func: Annealing quadratic took: 0.0 sec\n",
      "func: Annealing quadratic took: 0.017004966735839844 sec\n",
      "func: Annealing quadratic took: 0.01573014259338379 sec\n",
      "func: Annealing quadratic took: 0.0 sec\n",
      "func: Annealing quadratic took: 0.022800922393798828 sec\n",
      "func: Annealing quadratic took: 0.0 sec\n",
      "func: Annealing quadratic took: 0.0 sec\n",
      "func: Annealing quadratic took: 0.01702570915222168 sec\n",
      "func: Annealing quadratic took: 0.0 sec\n",
      "func: Annealing exponential took: 0.0 sec\n",
      "func: Annealing exponential took: 0.015666961669921875 sec\n",
      "func: Annealing exponential took: 0.00802755355834961 sec\n",
      "func: Annealing exponential took: 0.0 sec\n",
      "func: Annealing exponential took: 0.015748262405395508 sec\n",
      "func: Annealing exponential took: 0.004256725311279297 sec\n",
      "func: Annealing exponential took: 0.0 sec\n",
      "func: Annealing exponential took: 0.0 sec\n",
      "func: Annealing exponential took: 0.0 sec\n",
      "func: Annealing exponential took: 0.01642322540283203 sec\n",
      "func: Annealing exponential took: 0.0 sec\n",
      "func: Annealing exponential took: 0.0 sec\n",
      "func: Annealing exponential took: 0.0 sec\n",
      "func: Annealing exponential took: 0.0156404972076416 sec\n",
      "func: Annealing exponential took: 0.0 sec\n",
      "func: Annealing exponential took: 0.0 sec\n",
      "func: Annealing exponential took: 0.0 sec\n",
      "func: Annealing exponential took: 0.0 sec\n",
      "func: Annealing exponential took: 0.015625715255737305 sec\n",
      "func: Annealing exponential took: 0.0 sec\n",
      "func: Annealing exponential took: 0.0 sec\n",
      "func: Annealing exponential took: 0.0 sec\n",
      "func: Annealing exponential took: 0.017469167709350586 sec\n",
      "func: Annealing exponential took: 0.0 sec\n",
      "func: Annealing exponential took: 0.0 sec\n",
      "func: Annealing exponential took: 0.0 sec\n",
      "func: Annealing exponential took: 0.015694141387939453 sec\n",
      "func: Annealing exponential took: 0.0 sec\n",
      "func: Annealing exponential took: 0.0 sec\n",
      "func: Annealing exponential took: 0.0 sec\n",
      "func: Annealing exponential took: 0.015642166137695312 sec\n",
      "func: Annealing exponential took: 0.003009796142578125 sec\n",
      "func: Annealing exponential took: 0.006806850433349609 sec\n",
      "func: Annealing exponential took: 0.0 sec\n",
      "func: Annealing exponential took: 0.015692710876464844 sec\n",
      "func: Annealing exponential took: 0.0 sec\n",
      "func: Annealing exponential took: 0.0 sec\n",
      "func: Annealing exponential took: 0.0 sec\n",
      "func: Annealing exponential took: 0.015624284744262695 sec\n",
      "func: Annealing exponential took: 0.0 sec\n",
      "func: Annealing exponential took: 0.010621309280395508 sec\n",
      "func: Annealing exponential took: 0.0 sec\n",
      "func: Annealing exponential took: 0.01587510108947754 sec\n",
      "func: Annealing exponential took: 0.00048232078552246094 sec\n",
      "func: Annealing exponential took: 0.0 sec\n",
      "func: Annealing exponential took: 0.0 sec\n",
      "func: Annealing logarithmic took: 0.0 sec\n",
      "func: Annealing logarithmic took: 0.00896310806274414 sec\n",
      "func: Annealing logarithmic took: 0.0 sec\n",
      "func: Annealing logarithmic took: 0.010045051574707031 sec\n",
      "func: Annealing logarithmic took: 0.0 sec\n",
      "func: Annealing logarithmic took: 0.0 sec\n",
      "func: Annealing logarithmic took: 0.0 sec\n",
      "func: Annealing logarithmic took: 0.015638351440429688 sec\n",
      "func: Annealing logarithmic took: 0.0 sec\n",
      "func: Annealing logarithmic took: 0.0 sec\n",
      "func: Annealing logarithmic took: 0.0 sec\n",
      "func: Annealing logarithmic took: 0.015623807907104492 sec\n",
      "func: Annealing logarithmic took: 0.0 sec\n",
      "func: Annealing logarithmic took: 0.015644073486328125 sec\n",
      "func: Annealing logarithmic took: 0.0 sec\n",
      "func: Annealing logarithmic took: 0.0 sec\n",
      "func: Annealing logarithmic took: 0.0 sec\n",
      "func: Annealing logarithmic took: 0.015936613082885742 sec\n",
      "func: Annealing logarithmic took: 0.0 sec\n",
      "func: Annealing logarithmic took: 0.0 sec\n",
      "func: Annealing logarithmic took: 0.0 sec\n",
      "func: Annealing logarithmic took: 0.0158083438873291 sec\n",
      "func: Annealing logarithmic took: 0.0 sec\n",
      "func: Annealing logarithmic took: 0.0 sec\n",
      "func: Annealing logarithmic took: 0.0 sec\n",
      "func: Annealing logarithmic took: 0.015627622604370117 sec\n",
      "func: Annealing logarithmic took: 0.006014347076416016 sec\n",
      "func: Annealing logarithmic took: 0.0 sec\n",
      "func: Annealing logarithmic took: 0.01001429557800293 sec\n",
      "func: Annealing logarithmic took: 0.004094600677490234 sec\n",
      "func: Annealing logarithmic took: 0.0 sec\n",
      "func: Annealing logarithmic took: 0.0 sec\n",
      "func: Annealing logarithmic took: 0.0 sec\n",
      "func: Annealing logarithmic took: 0.015661239624023438 sec\n",
      "func: Annealing logarithmic took: 0.0 sec\n",
      "func: Annealing logarithmic took: 0.015899658203125 sec\n",
      "func: Annealing logarithmic took: 0.011893749237060547 sec\n",
      "func: Annealing logarithmic took: 0.0 sec\n",
      "func: Annealing logarithmic took: 0.015076160430908203 sec\n",
      "func: Annealing logarithmic took: 0.0 sec\n",
      "func: Annealing logarithmic took: 0.0 sec\n",
      "func: Annealing logarithmic took: 0.01566481590270996 sec\n",
      "func: Annealing logarithmic took: 0.0 sec\n",
      "func: Annealing logarithmic took: 0.011862993240356445 sec\n",
      "func: Annealing logarithmic took: 0.00408482551574707 sec\n",
      "func: Annealing logarithmic took: 0.0 sec\n"
     ]
    }
   ],
   "source": [
    "cooling_schedule=['linear', 'quadratic', 'exponential', 'logarithmic']\n",
    "cooling_results = {}\n",
    "# alpha = None, int(64)\n",
    "for mode in cooling_schedule:\n",
    "    runtimes[\"Annealing \"+ mode] = 0\n",
    "    sa_opt_results = []\n",
    "    for key in loc:\n",
    "        loc_list = loc[key]\n",
    "        ts = time.time()\n",
    "        m = minimize(tsp_manhattan, loc[key], opt_mode='combinatorial', cooling_schedule = mode, step_max=1000, t_max=100, t_min=0)\n",
    "        sa_opt_results.append(m)\n",
    "        te = time.time()\n",
    "        print(f'func: {\"Annealing \"+ mode} took: {te-ts} sec')\n",
    "        runtimes[\"Annealing \"+ mode] += te - ts\n",
    "    cooling_results[mode] = sa_opt_results"
   ],
   "metadata": {
    "collapsed": false,
    "pycharm": {
     "name": "#%%\n"
    }
   }
  },
  {
   "cell_type": "code",
   "execution_count": 84,
   "outputs": [
    {
     "name": "stdout",
     "output_type": "stream",
     "text": [
      "+------------------------ RESULTS -------------------------+\n",
      "\n",
      "      opt.mode: combinatorial\n",
      "cooling sched.: logarithmic\n",
      "\n",
      "\n",
      "  initial temp: 100\n",
      "    final temp: 18.095603\n",
      "     max steps: 1000\n",
      "    final step: 1000\n",
      "\n",
      "  final energy: 78.000000\n",
      "\n",
      "+-------------------------- END ---------------------------+\n"
     ]
    }
   ],
   "source": [
    "sa_opt_results[0].results()"
   ],
   "metadata": {
    "collapsed": false,
    "pycharm": {
     "name": "#%%\n"
    }
   }
  },
  {
   "cell_type": "code",
   "execution_count": 85,
   "outputs": [],
   "source": [
    "sa_total = {}\n",
    "sa_paths = {}\n",
    "for mode in cooling_schedule:\n",
    "    annealing_paths = []\n",
    "    sa_total[mode] = 0\n",
    "    for region in cooling_results[mode]:\n",
    "        annealing_paths.append(region.best_state)\n",
    "        sa_total[mode] += region.best_energy\n",
    "    sa_paths[mode] = annealing_paths"
   ],
   "metadata": {
    "collapsed": false,
    "pycharm": {
     "name": "#%%\n"
    }
   }
  },
  {
   "cell_type": "code",
   "execution_count": 86,
   "outputs": [
    {
     "data": {
      "text/plain": "{'linear': 1322, 'quadratic': 1184, 'exponential': 1246, 'logarithmic': 1330}"
     },
     "execution_count": 86,
     "metadata": {},
     "output_type": "execute_result"
    }
   ],
   "source": [
    "sa_total"
   ],
   "metadata": {
    "collapsed": false,
    "pycharm": {
     "name": "#%%\n"
    }
   }
  },
  {
   "cell_type": "markdown",
   "source": [
    "### State-compression Dynamic Programming to computer the min-cost (shortest path start from the first location but do not return to the initial location)"
   ],
   "metadata": {
    "collapsed": false
   }
  },
  {
   "cell_type": "code",
   "execution_count": 87,
   "outputs": [],
   "source": [
    "def dp(n, locations):\n",
    "\tgraph = construct_graph(locations, n)\n",
    "\t# for i in range(1, n + 1):\n",
    "\t# \tprint(graph[i][1])\n",
    "\n",
    "\tstate_size = 1 << n\n",
    "\tf = [\n",
    "\t\t[float('inf')] * (n + 1)\n",
    "\t\tfor _ in range(state_size)\n",
    "\t]\n",
    "\tf[1][1] = 0\n",
    "\tfor state in range(state_size):\n",
    "\t\tfor i in range(2, n + 1):\n",
    "\t\t\tif state & (1 << (i - 1)) == 0:\n",
    "\t\t\t\tcontinue\n",
    "\n",
    "\t\t\tprev_state = state ^ (1 << (i - 1))\n",
    "\t\t\tfor j in range(1, n + 1):\n",
    "\t\t\t\tif prev_state & (1 << (j - 1)) == 0:\n",
    "\t\t\t\t\tcontinue\n",
    "\n",
    "\t\t\t\tf[state][i] = min(f[state][i], f[prev_state][j] + graph[j][i])\n",
    "\n",
    "\treturn min(f[state_size - 1])\n",
    "\n",
    "\n",
    "def construct_graph(locations, n):\n",
    "\tgraph = {\n",
    "\t\ti: {j: float('inf') for j in range(1, n + 1)}\n",
    "\t\tfor i in range(1, n + 1)\n",
    "\t}\n",
    "\n",
    "\tfor i in range(1, n + 1):\n",
    "\t\tfor j in range(1, n + 1):\n",
    "\t\t\tgraph[i][j] = calc_manhattan(locations[i - 1],locations[j - 1])\n",
    "\t\t\tgraph[j][i] = graph[i][j]\n",
    "\treturn graph"
   ],
   "metadata": {
    "collapsed": false,
    "pycharm": {
     "name": "#%%\n"
    }
   }
  },
  {
   "cell_type": "code",
   "execution_count": 88,
   "outputs": [
    {
     "name": "stdout",
     "output_type": "stream",
     "text": [
      "The global min-cost is:  49\n",
      "func: dp took: 0.8872661590576172 sec\n",
      "The global min-cost is:  32\n",
      "func: dp took: 0.0523679256439209 sec\n",
      "The global min-cost is:  32\n",
      "func: dp took: 0.015661001205444336 sec\n",
      "The global min-cost is:  17\n",
      "func: dp took: 0.0 sec\n",
      "The global min-cost is:  6\n",
      "func: dp took: 0.0 sec\n",
      "The global min-cost is:  19\n",
      "func: dp took: 0.0 sec\n",
      "The global min-cost is:  4\n",
      "func: dp took: 0.0 sec\n",
      "The global min-cost is:  6\n",
      "func: dp took: 0.0 sec\n",
      "The global min-cost is:  23\n",
      "func: dp took: 0.0 sec\n",
      "The global min-cost is:  7\n",
      "func: dp took: 0.0 sec\n",
      "The global min-cost is:  14\n",
      "func: dp took: 0.0 sec\n",
      "The global min-cost is:  14\n",
      "func: dp took: 0.0 sec\n",
      "The global min-cost is:  8\n",
      "func: dp took: 0.0 sec\n",
      "The global min-cost is:  8\n",
      "func: dp took: 0.0 sec\n",
      "The global min-cost is:  6\n",
      "func: dp took: 0.0 sec\n",
      "The global min-cost is:  5\n",
      "func: dp took: 0.0 sec\n",
      "The global min-cost is:  2\n",
      "func: dp took: 0.0 sec\n",
      "The global min-cost is:  10\n",
      "func: dp took: 0.0 sec\n",
      "The global min-cost is:  5\n",
      "func: dp took: 0.0 sec\n",
      "The global min-cost is:  17\n",
      "func: dp took: 0.0 sec\n",
      "The global min-cost is:  5\n",
      "func: dp took: 0.0 sec\n",
      "The global min-cost is:  9\n",
      "func: dp took: 0.0 sec\n",
      "The global min-cost is:  9\n",
      "func: dp took: 0.0 sec\n",
      "The global min-cost is:  2\n",
      "func: dp took: 0.0 sec\n",
      "The global min-cost is:  17\n",
      "func: dp took: 0.0 sec\n",
      "The global min-cost is:  4\n",
      "func: dp took: 0.0 sec\n",
      "The global min-cost is:  28\n",
      "func: dp took: 0.06788086891174316 sec\n",
      "The global min-cost is:  22\n",
      "func: dp took: 0.025850534439086914 sec\n",
      "The global min-cost is:  31\n",
      "func: dp took: 0.0 sec\n",
      "The global min-cost is:  5\n",
      "func: dp took: 0.0 sec\n",
      "The global min-cost is:  11\n",
      "func: dp took: 0.0 sec\n",
      "The global min-cost is:  15\n",
      "func: dp took: 0.0 sec\n",
      "The global min-cost is:  20\n",
      "func: dp took: 0.0 sec\n",
      "The global min-cost is:  29\n",
      "func: dp took: 0.05716276168823242 sec\n",
      "The global min-cost is:  21\n",
      "func: dp took: 0.0 sec\n",
      "The global min-cost is:  28\n",
      "func: dp took: 0.0 sec\n",
      "The global min-cost is:  17\n",
      "func: dp took: 0.0 sec\n",
      "The global min-cost is:  12\n",
      "func: dp took: 0.0 sec\n",
      "The global min-cost is:  22\n",
      "func: dp took: 0.015625953674316406 sec\n",
      "The global min-cost is:  34\n",
      "func: dp took: 0.8754158020019531 sec\n",
      "The global min-cost is:  27\n",
      "func: dp took: 0.0 sec\n",
      "The global min-cost is:  54\n",
      "func: dp took: 9.567242622375488 sec\n",
      "The global min-cost is:  41\n",
      "func: dp took: 0.8595070838928223 sec\n",
      "The global min-cost is:  42\n",
      "func: dp took: 0.0607907772064209 sec\n",
      "The global min-cost is:  50\n",
      "func: dp took: 4.303536891937256 sec\n",
      "The global min-cost is:  31\n",
      "func: dp took: 0.01562666893005371 sec\n"
     ]
    }
   ],
   "source": [
    "runtimes[dp.__name__] = 0\n",
    "dp_minCost = []\n",
    "dp_total = 0\n",
    "for key in loc:\n",
    "    loc_list = loc[key]\n",
    "    ts = time.time()\n",
    "    dp_minCost.append(dp(len(loc_list), loc_list))\n",
    "    te = time.time()\n",
    "    dp_total += dp_minCost[-1]\n",
    "    print('The global min-cost is: ', dp_minCost[-1])\n",
    "    print(f'func: {dp.__name__} took: {te-ts} sec')\n",
    "    runtimes[dp.__name__] += te - ts"
   ],
   "metadata": {
    "collapsed": false,
    "pycharm": {
     "name": "#%%\n"
    }
   }
  },
  {
   "cell_type": "markdown",
   "source": [
    "## Held-Karp Implementation"
   ],
   "metadata": {
    "collapsed": false
   }
  },
  {
   "cell_type": "code",
   "execution_count": 89,
   "outputs": [],
   "source": [
    "import itertools\n",
    "\n",
    "def construct_dists(locations, n):\n",
    "\tdists = [[0] * n for i in range(n)]\n",
    "\n",
    "\tfor i in range(n):\n",
    "\t\tfor j in range(n):\n",
    "\t\t\tdists[i][j] = calc_manhattan(locations[i],locations[j])\n",
    "\t\t\t# graph[j][i] = graph[i][j]\n",
    "\treturn dists\n",
    "\n",
    "def held_karp(n, locations):\n",
    "\n",
    "    dists = construct_dists(locations, n)\n",
    "    # print(dists)\n",
    "\n",
    "    # Maps each subset of the nodes to the cost to reach that subset, as well\n",
    "    # as what node it passed before reaching this subset.\n",
    "    # Node subsets are represented as set bits.\n",
    "    C = {}\n",
    "\n",
    "    # Set transition cost from initial state\n",
    "    for k in range(1, n):\n",
    "        C[(1 << k, k)] = (dists[0][k], 0)\n",
    "\n",
    "    # Iterate subsets of increasing length and store intermediate results\n",
    "    # in classic dynamic programming manner\n",
    "    for subset_size in range(2, n):\n",
    "        for subset in itertools.combinations(range(1, n), subset_size):\n",
    "            # Set bits for all nodes in this subset\n",
    "            bits = 0\n",
    "            for bit in subset:\n",
    "                bits |= 1 << bit\n",
    "\n",
    "            # Find the lowest cost to get to this subset\n",
    "            for k in subset:\n",
    "                prev = bits & ~(1 << k)\n",
    "\n",
    "                res = []\n",
    "                for m in subset:\n",
    "                    if m == 0 or m == k:\n",
    "                        continue\n",
    "                    res.append((C[(prev, m)][0] + dists[m][k], m))\n",
    "                C[(bits, k)] = min(res)\n",
    "\n",
    "    # We're interested in all bits but the least significant (the start state)\n",
    "    bits = (2**n - 1) - 1\n",
    "\n",
    "    # Calculate optimal cost\n",
    "    res = []\n",
    "    for k in range(1, n):\n",
    "        res.append((C[(bits, k)][0] + dists[k][0], k))\n",
    "    opt, parent = min(res)\n",
    "\n",
    "    # Backtrack to find full path\n",
    "    path = []\n",
    "    for i in range(n - 1):\n",
    "        path.append(parent)\n",
    "        new_bits = bits & ~(1 << parent)\n",
    "        _, parent = C[(bits, parent)]\n",
    "        bits = new_bits\n",
    "\n",
    "    # Add implicit start state\n",
    "    path.append(0)\n",
    "\n",
    "    return opt, list(reversed(path))"
   ],
   "metadata": {
    "collapsed": false,
    "pycharm": {
     "name": "#%%\n"
    }
   }
  },
  {
   "cell_type": "code",
   "execution_count": 90,
   "outputs": [
    {
     "name": "stdout",
     "output_type": "stream",
     "text": [
      "func: held_karp took: 0.2524137496948242 sec\n",
      "func: held_karp took: 0.026109933853149414 sec\n",
      "func: held_karp took: 0.0 sec\n",
      "func: held_karp took: 0.0 sec\n",
      "func: held_karp took: 0.0 sec\n",
      "func: held_karp took: 0.0 sec\n",
      "func: held_karp took: 0.0 sec\n",
      "func: held_karp took: 0.0 sec\n",
      "func: held_karp took: 0.0 sec\n",
      "func: held_karp took: 0.0 sec\n",
      "func: held_karp took: 0.0 sec\n",
      "func: held_karp took: 0.0 sec\n",
      "func: held_karp took: 0.0 sec\n",
      "func: held_karp took: 0.0 sec\n",
      "func: held_karp took: 0.0 sec\n",
      "func: held_karp took: 0.0 sec\n",
      "func: held_karp took: 0.0 sec\n",
      "func: held_karp took: 0.0 sec\n",
      "func: held_karp took: 0.0 sec\n",
      "func: held_karp took: 0.0 sec\n",
      "func: held_karp took: 0.0 sec\n",
      "func: held_karp took: 0.0 sec\n",
      "func: held_karp took: 0.0 sec\n",
      "func: held_karp took: 0.0 sec\n",
      "func: held_karp took: 0.0 sec\n",
      "func: held_karp took: 0.0 sec\n",
      "func: held_karp took: 0.015642881393432617 sec\n",
      "func: held_karp took: 0.011207103729248047 sec\n",
      "func: held_karp took: 0.0 sec\n",
      "func: held_karp took: 0.0 sec\n",
      "func: held_karp took: 0.0 sec\n",
      "func: held_karp took: 0.0 sec\n",
      "func: held_karp took: 0.0 sec\n",
      "func: held_karp took: 0.015752315521240234 sec\n",
      "func: held_karp took: 0.0 sec\n",
      "func: held_karp took: 0.0 sec\n",
      "func: held_karp took: 0.0 sec\n",
      "func: held_karp took: 0.0 sec\n",
      "func: held_karp took: 0.0 sec\n",
      "func: held_karp took: 0.25438880920410156 sec\n",
      "func: held_karp took: 0.0 sec\n",
      "func: held_karp took: 3.7601449489593506 sec\n",
      "func: held_karp took: 0.3020193576812744 sec\n",
      "func: held_karp took: 0.014071941375732422 sec\n",
      "func: held_karp took: 1.6029598712921143 sec\n",
      "func: held_karp took: 0.0079345703125 sec\n"
     ]
    }
   ],
   "source": [
    "hk_results = []\n",
    "runtimes[held_karp.__name__] = 0\n",
    "hk_total = 0\n",
    "for key in loc:\n",
    "    loc_list = loc[key]\n",
    "    ts = time.time()\n",
    "    hk_results.append(held_karp(len(loc_list), loc_list))\n",
    "    te = time.time()\n",
    "    hk_total += hk_results[-1][0]\n",
    "    print(f'func: {held_karp.__name__} took: {te-ts} sec')\n",
    "    runtimes[held_karp.__name__] += te - ts"
   ],
   "metadata": {
    "collapsed": false,
    "pycharm": {
     "name": "#%%\n"
    }
   }
  },
  {
   "cell_type": "markdown",
   "source": [
    "## Runtime Analysis"
   ],
   "metadata": {
    "collapsed": false
   }
  },
  {
   "cell_type": "code",
   "execution_count": 91,
   "outputs": [
    {
     "data": {
      "text/plain": "<BarContainer object of 6 artists>"
     },
     "execution_count": 91,
     "metadata": {},
     "output_type": "execute_result"
    },
    {
     "data": {
      "text/plain": "<Figure size 1008x432 with 1 Axes>",
      "image/png": "[encoded data removed]"
     },
     "metadata": {
      "needs_background": "light"
     },
     "output_type": "display_data"
    }
   ],
   "source": [
    "k, v = runtimes.keys(), runtimes.values()\n",
    "plt.title('Runtime in Seconds of TSP Algorithmns')\n",
    "plt.ylabel('Seconds')\n",
    "plt.rcParams[\"figure.figsize\"] = (20,6)\n",
    "plt.bar(k, v)"
   ],
   "metadata": {
    "collapsed": false,
    "pycharm": {
     "name": "#%%\n"
    }
   }
  },
  {
   "cell_type": "code",
   "execution_count": 96,
   "outputs": [
    {
     "data": {
      "text/plain": "{'Annealing linear': 0.2264711856842041,\n 'Annealing quadratic': 0.2571418285369873,\n 'Annealing exponential': 0.20830678939819336,\n 'Annealing logarithmic': 0.22355365753173828,\n 'dp': 16.803935050964355,\n 'held_karp': 6.262645483016968}"
     },
     "execution_count": 96,
     "metadata": {},
     "output_type": "execute_result"
    }
   ],
   "source": [
    "runtimes"
   ],
   "metadata": {
    "collapsed": false,
    "pycharm": {
     "name": "#%%\n"
    }
   }
  },
  {
   "cell_type": "markdown",
   "source": [
    "## Cost Analysis"
   ],
   "metadata": {
    "collapsed": false
   }
  },
  {
   "cell_type": "code",
   "execution_count": 92,
   "outputs": [
    {
     "data": {
      "text/plain": "1112"
     },
     "execution_count": 92,
     "metadata": {},
     "output_type": "execute_result"
    }
   ],
   "source": [
    "hk_total"
   ],
   "metadata": {
    "collapsed": false,
    "pycharm": {
     "name": "#%%\n"
    }
   }
  },
  {
   "cell_type": "code",
   "execution_count": 93,
   "outputs": [
    {
     "data": {
      "text/plain": "{'linear': 1322, 'quadratic': 1184, 'exponential': 1246, 'logarithmic': 1330}"
     },
     "execution_count": 93,
     "metadata": {},
     "output_type": "execute_result"
    }
   ],
   "source": [
    "sa_total"
   ],
   "metadata": {
    "collapsed": false,
    "pycharm": {
     "name": "#%%\n"
    }
   }
  },
  {
   "cell_type": "code",
   "execution_count": 94,
   "outputs": [],
   "source": [
    "sa_total['held karp'] = hk_total"
   ],
   "metadata": {
    "collapsed": false,
    "pycharm": {
     "name": "#%%\n"
    }
   }
  },
  {
   "cell_type": "code",
   "execution_count": 95,
   "outputs": [
    {
     "data": {
      "text/plain": "<BarContainer object of 5 artists>"
     },
     "execution_count": 95,
     "metadata": {},
     "output_type": "execute_result"
    },
    {
     "data": {
      "text/plain": "<Figure size 1440x432 with 1 Axes>",
      "image/png": "[encoded data removed]"
     },
     "metadata": {
      "needs_background": "light"
     },
     "output_type": "display_data"
    }
   ],
   "source": [
    "k, v = sa_total.keys(), sa_total.values()\n",
    "plt.title('Distance Cost of TSP Algorithmns')\n",
    "plt.ylabel('Units')\n",
    "plt.rcParams[\"figure.figsize\"] = (14,6)\n",
    "plt.bar(k, v)"
   ],
   "metadata": {
    "collapsed": false,
    "pycharm": {
     "name": "#%%\n"
    }
   }
  },
  {
   "cell_type": "code",
   "execution_count": 95,
   "outputs": [],
   "source": [],
   "metadata": {
    "collapsed": false,
    "pycharm": {
     "name": "#%%\n"
    }
   }
  }
 ],
 "metadata": {
  "interpreter": {
   "hash": "ddff950863c2b977daee2bec7219ae5f9b3a03c532fcc882a2a1d067c0474d1c"
  },
  "kernelspec": {
   "display_name": "Python 3.9.7 64-bit",
   "language": "python",
   "name": "python3"
  },
  "language_info": {
   "codemirror_mode": {
    "name": "ipython",
    "version": 3
   },
   "file_extension": ".py",
   "mimetype": "text/x-python",
   "name": "python",
   "nbconvert_exporter": "python",
   "pygments_lexer": "ipython3",
   "version": "3.9.7"
  },
  "orig_nbformat": 4
 },
 "nbformat": 4,
 "nbformat_minor": 2
}