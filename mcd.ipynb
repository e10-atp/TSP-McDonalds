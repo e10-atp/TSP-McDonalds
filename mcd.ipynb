{
 "cells": [
  {
   "cell_type": "code",
   "execution_count": 1,
   "metadata": {},
   "outputs": [],
   "source": [
    "import numpy as np\n",
    "import math\n",
    "import pandas as pd\n",
    "import matplotlib.pyplot as plt"
   ]
  },
  {
   "cell_type": "code",
   "execution_count": 2,
   "metadata": {},
   "outputs": [],
   "source": [
    "class Result:\n",
    "  def __init__(self):\n",
    "    self.min_cost = float('inf')\n",
    "\n",
    "class findPath:\n",
    "\n",
    "  def brute_force_dfs(self, spot, n, graph, visited, cost, result):\n",
    "    if len(visited) == n:\n",
    "      result.min_cost = min(result.min_cost, cost)\n",
    "      return\n",
    "\n",
    "    for next_spot in graph[spot]:\n",
    "      if next_spot in visited:\n",
    "        continue\n",
    "    visited.add(next_spot)\n",
    "    self.brute_force_dfs(next_spot, n, graph, visited, cost + graph[spot][next_spot], result)\n",
    "    visited.remove(next_spot)\n",
    "\n",
    "  def minCost(n, mcd, list_of_intersection):\n",
    "    graph = self.construct_graph(list_of_intersection)\n",
    "    result = Result()\n",
    "    n = len(list_of_intersection)\n",
    "    self.brute_force_dfs(mcd, n, graph, set(mcd), 0, result)\n",
    "\n",
    "  # def prunning_dfs(self, spot, n, graph, visited, cost, result)\n",
    "\n",
    "  # def dp_findPath(self, graph, list_of_intersection, mcd)\n"
   ]
  },
  {
   "cell_type": "code",
   "execution_count": 3,
   "metadata": {},
   "outputs": [],
   "source": [
    "class Node:\n",
    "    def __init__(self):\n",
    "        self.isVisited = False\n",
    "        self.hasMCD = False\n",
    "        self.neighbors = list()\n",
    "        self.MCDRegion = (-1,-1)\n",
    "        self.color = [255,255,255]\n",
    "\n",
    "    def __repr__(self):\n",
    "        return '(McD: {} isVisited: {} regionalMcD: {})'.format(self.hasMCD, self.isVisited, self.MCDRegion)"
   ]
  },
  {
   "cell_type": "code",
   "execution_count": 4,
   "metadata": {},
   "outputs": [],
   "source": [
    "class Grid:\n",
    "  def __init__(self, streets=228, aves=13):\n",
    "    self.streets = streets\n",
    "    self.aves = aves\n",
    "    self.grid = [[Node() for y in range(aves)] for x in range(streets)]\n",
    "\n",
    "  def draw_map(self):\n",
    "    r = ''\n",
    "    for x in range(self.streets):\n",
    "      r += f'{x}: '\n",
    "      for y in range(self.aves):\n",
    "        if self.grid[x][y].hasMCD:\n",
    "            r += f'[{self.grid[x][y].hasMCD}] '\n",
    "        else:\n",
    "            r += f'[{self.grid[x][y].MCDRegion}] '\n",
    "      r += '\\n'\n",
    "    return r\n",
    "  \n",
    "  def __repr__(self):\n",
    "    return self.draw_map()"
   ]
  },
  {
   "cell_type": "code",
   "execution_count": 5,
   "outputs": [],
   "source": [
    "import random\n",
    "def rand_color():\n",
    "    return [random.randint(0, 255), random.randint(0, 255), random.randint(0, 255)]"
   ],
   "metadata": {
    "collapsed": false,
    "pycharm": {
     "name": "#%%\n"
    }
   }
  },
  {
   "cell_type": "code",
   "execution_count": 6,
   "metadata": {},
   "outputs": [],
   "source": [
    "McD_loc = \"McDonald_loc.txt\""
   ]
  },
  {
   "cell_type": "code",
   "execution_count": 7,
   "metadata": {},
   "outputs": [],
   "source": [
    "with open(McD_loc) as f:\n",
    "    mcd_loc_data = []\n",
    "    for line in f:\n",
    "        s = line.split(\",\")\n",
    "        s[0] = int(s[0])\n",
    "        s[1] = int(s[1])\n",
    "        s.append(rand_color())\n",
    "        mcd_loc_data.append(s)"
   ]
  },
  {
   "cell_type": "code",
   "execution_count": 8,
   "metadata": {},
   "outputs": [
    {
     "data": {
      "text/plain": "   SN_Street  EW_Avenue           Inter_Names           Color\n0         11          5   MaidenLn+Broadway\\n  [235, 70, 113]\n1         19          6  Chambers+Greenwich\\n   [134, 8, 231]\n2         28          4     Canel+Lafayette\\n   [178, 230, 9]\n3         32          1  Williamsburg+Essex\\n  [184, 88, 159]\n4         35          7      Houston+Varick\\n  [218, 92, 179]",
      "text/html": "<div>\n<style scoped>\n    .dataframe tbody tr th:only-of-type {\n        vertical-align: middle;\n    }\n\n    .dataframe tbody tr th {\n        vertical-align: top;\n    }\n\n    .dataframe thead th {\n        text-align: right;\n    }\n</style>\n<table border=\"1\" class=\"dataframe\">\n  <thead>\n    <tr style=\"text-align: right;\">\n      <th></th>\n      <th>SN_Street</th>\n      <th>EW_Avenue</th>\n      <th>Inter_Names</th>\n      <th>Color</th>\n    </tr>\n  </thead>\n  <tbody>\n    <tr>\n      <th>0</th>\n      <td>11</td>\n      <td>5</td>\n      <td>MaidenLn+Broadway\\n</td>\n      <td>[235, 70, 113]</td>\n    </tr>\n    <tr>\n      <th>1</th>\n      <td>19</td>\n      <td>6</td>\n      <td>Chambers+Greenwich\\n</td>\n      <td>[134, 8, 231]</td>\n    </tr>\n    <tr>\n      <th>2</th>\n      <td>28</td>\n      <td>4</td>\n      <td>Canel+Lafayette\\n</td>\n      <td>[178, 230, 9]</td>\n    </tr>\n    <tr>\n      <th>3</th>\n      <td>32</td>\n      <td>1</td>\n      <td>Williamsburg+Essex\\n</td>\n      <td>[184, 88, 159]</td>\n    </tr>\n    <tr>\n      <th>4</th>\n      <td>35</td>\n      <td>7</td>\n      <td>Houston+Varick\\n</td>\n      <td>[218, 92, 179]</td>\n    </tr>\n  </tbody>\n</table>\n</div>"
     },
     "execution_count": 8,
     "metadata": {},
     "output_type": "execute_result"
    }
   ],
   "source": [
    "MD_loc_data = pd.DataFrame(mcd_loc_data,columns=['SN_Street', 'EW_Avenue', 'Inter_Names', 'Color'])\n",
    "MD_loc_data.head()"
   ]
  },
  {
   "cell_type": "markdown",
   "metadata": {},
   "source": [
    "Description of features:\n",
    "'SN_Street': We assign street numbers from 1 to 228 from south to north of Manhattan\n",
    "'EW_Avenue': We assign avenue numbers from 1 to 13 from east to north of Manhattan\n",
    "'Inter_Names': The name of two streets that have a McDonald's in their intersection"
   ]
  },
  {
   "cell_type": "code",
   "execution_count": 9,
   "metadata": {},
   "outputs": [],
   "source": [
    "map = Grid()"
   ]
  },
  {
   "cell_type": "code",
   "execution_count": 10,
   "metadata": {},
   "outputs": [
    {
     "name": "stdout",
     "output_type": "stream",
     "text": [
      "(McD: False isVisited: False regionalMcD: (-1, -1))\n"
     ]
    }
   ],
   "source": [
    "print(map.grid[0][0])"
   ]
  },
  {
   "cell_type": "code",
   "execution_count": 11,
   "outputs": [],
   "source": [
    "color_mapping = {}"
   ],
   "metadata": {
    "collapsed": false,
    "pycharm": {
     "name": "#%%\n"
    }
   }
  },
  {
   "cell_type": "code",
   "execution_count": 12,
   "outputs": [],
   "source": [
    "for index, row in MD_loc_data.iterrows():\n",
    "    st, ave = int(row['SN_Street']) - 1, int(row['EW_Avenue']) - 1\n",
    "    map.grid[st][ave].hasMCD = True\n",
    "    color_mapping[(st, ave)] = row['Color']"
   ],
   "metadata": {
    "collapsed": false,
    "pycharm": {
     "name": "#%%\n"
    }
   }
  },
  {
   "cell_type": "code",
   "execution_count": 13,
   "metadata": {},
   "outputs": [],
   "source": [
    "def calc_euclidean(pos1x, pos1y, pos2x, pos2y):\n",
    "    return math.sqrt((pos2x - pos1x)**2 + (pos2y - pos1y)**2)\n",
    "\n",
    "def calc_manhattan(pos1x, pos1y, pos2x, pos2y):\n",
    "    return abs(pos2x - pos1x) + abs(pos2y - pos1y)"
   ]
  },
  {
   "cell_type": "code",
   "execution_count": 14,
   "metadata": {},
   "outputs": [],
   "source": [
    "for i in range(len(map.grid)):\n",
    "    for j in range(len(map.grid[0])):\n",
    "        min_dis = float('inf')\n",
    "        for index, row in MD_loc_data.iterrows():\n",
    "            st, ave = int(row['SN_Street']) - 1, int(row['EW_Avenue']) - 1\n",
    "            dis = calc_manhattan(i, j, st, ave)\n",
    "            if dis < min_dis:\n",
    "                min_dis = dis\n",
    "                map.grid[i][j].MCDRegion = (st, ave)\n",
    "                if map.grid[i][j].hasMCD:\n",
    "                    map.grid[i][j].color = [0, 0, 0]\n",
    "                else:\n",
    "                    map.grid[i][j].color = color_mapping[(st, ave)]"
   ]
  },
  {
   "cell_type": "code",
   "execution_count": 15,
   "outputs": [
    {
     "data": {
      "text/plain": "[235, 70, 113]"
     },
     "execution_count": 15,
     "metadata": {},
     "output_type": "execute_result"
    }
   ],
   "source": [
    "map.grid[0][0].color"
   ],
   "metadata": {
    "collapsed": false,
    "pycharm": {
     "name": "#%%\n"
    }
   }
  },
  {
   "cell_type": "code",
   "execution_count": 16,
   "outputs": [],
   "source": [
    "from PIL import Image\n",
    "\n",
    "def make_colors(map, scale=8):\n",
    "    data = np.zeros((map.streets * scale, map.aves * scale, 3), dtype=np.uint8)\n",
    "    for i in range(map.streets):\n",
    "        for j in range(map.aves):\n",
    "            for k in range(scale):\n",
    "                for l in range (scale):\n",
    "                    data[scale*i + k, scale*j + l] = map.grid[i][j].color\n",
    "\n",
    "    return Image.fromarray(data).transpose(method=Image.ROTATE_180)"
   ],
   "metadata": {
    "collapsed": false,
    "pycharm": {
     "name": "#%%\n"
    }
   }
  },
  {
   "cell_type": "code",
   "execution_count": 17,
   "outputs": [],
   "source": [
    "c = make_colors(map)"
   ],
   "metadata": {
    "collapsed": false,
    "pycharm": {
     "name": "#%%\n"
    }
   }
  },
  {
   "cell_type": "code",
   "execution_count": 18,
   "outputs": [
    {
     "data": {
      "text/plain": "<PIL.Image.Image image mode=RGB size=104x1824 at 0x1F8458F1BE0>",
      "image/png": "[encoded data removed]"
     },
     "metadata": {},
     "output_type": "display_data"
    }
   ],
   "source": [
    "display(c) #jupyter command"
   ],
   "metadata": {
    "collapsed": false,
    "pycharm": {
     "name": "#%%\n"
    }
   }
  },
  {
   "cell_type": "code",
   "execution_count": 19,
   "outputs": [],
   "source": [
    "c.save('manhattanmcd.png', format=None)"
   ],
   "metadata": {
    "collapsed": false,
    "pycharm": {
     "name": "#%%\n"
    }
   }
  },
  {
   "cell_type": "code",
   "execution_count": 20,
   "outputs": [],
   "source": [
    "def assign_points(map, prob=0.10):\n",
    "    locations = []\n",
    "    for i in range(map.streets):\n",
    "        for j in range(map.aves):\n",
    "            if random.random() <= prob:\n",
    "                locations.append((i, j))\n",
    "    return locations"
   ],
   "metadata": {
    "collapsed": false,
    "pycharm": {
     "name": "#%%\n"
    }
   }
  },
  {
   "cell_type": "code",
   "execution_count": 21,
   "outputs": [],
   "source": [
    "delivery_loc = assign_points(map)"
   ],
   "metadata": {
    "collapsed": false,
    "pycharm": {
     "name": "#%%\n"
    }
   }
  },
  {
   "cell_type": "code",
   "execution_count": 22,
   "outputs": [],
   "source": [
    "#separate locations by McDRegion buckets\n",
    "def regionize(locations, map):\n",
    "    regionpoints = {}\n",
    "    for point in locations:\n",
    "        i, j = point[0], point[1]\n",
    "        region = map.grid[i][j].MCDRegion\n",
    "        if region not in regionpoints:\n",
    "            regionpoints[region] = []\n",
    "            regionpoints[region].append(region)\n",
    "            regionpoints[region].append(point)\n",
    "        else:\n",
    "            regionpoints[region].append(point)\n",
    "    return regionpoints"
   ],
   "metadata": {
    "collapsed": false,
    "pycharm": {
     "name": "#%%\n"
    }
   }
  },
  {
   "cell_type": "code",
   "execution_count": 23,
   "outputs": [],
   "source": [
    "loc = regionize(delivery_loc, map)"
   ],
   "metadata": {
    "collapsed": false,
    "pycharm": {
     "name": "#%%\n"
    }
   }
  },
  {
   "cell_type": "code",
   "execution_count": 24,
   "outputs": [
    {
     "data": {
      "text/plain": "{(10, 4): [(10, 4),\n  (0, 0),\n  (0, 3),\n  (1, 11),\n  (2, 3),\n  (2, 11),\n  (3, 3),\n  (3, 12),\n  (4, 7),\n  (4, 9),\n  (4, 10),\n  (5, 12),\n  (6, 3),\n  (7, 5),\n  (8, 4),\n  (8, 11),\n  (9, 6),\n  (9, 12),\n  (10, 2),\n  (10, 6),\n  (11, 1),\n  (11, 8),\n  (12, 4)],\n (18, 5): [(18, 5),\n  (14, 11),\n  (15, 0),\n  (15, 1),\n  (15, 3),\n  (16, 1),\n  (18, 2),\n  (21, 0)],\n (27, 3): [(27, 3),\n  (23, 3),\n  (24, 1),\n  (24, 8),\n  (25, 12),\n  (27, 6),\n  (28, 6),\n  (30, 3)],\n (31, 0): [(31, 0), (29, 0), (31, 1), (33, 0)],\n (34, 6): [(34, 6),\n  (30, 9),\n  (31, 8),\n  (32, 10),\n  (34, 11),\n  (35, 3),\n  (35, 4),\n  (37, 8)],\n (38, 4): [(38, 4),\n  (36, 4),\n  (37, 3),\n  (37, 4),\n  (38, 2),\n  (38, 9),\n  (38, 10),\n  (39, 4),\n  (39, 12),\n  (40, 4),\n  (41, 9),\n  (43, 3)],\n (47, 0): [(47, 0), (44, 2), (45, 3), (46, 3), (49, 1)],\n (48, 5): [(48, 5), (45, 4), (45, 8), (49, 10), (51, 6), (51, 8), (51, 10)],\n (56, 0): [(56, 0), (56, 0)],\n (55, 5): [(55, 5), (57, 5), (58, 5)],\n (59, 7): [(59, 7), (58, 7), (58, 10), (59, 6), (59, 7), (63, 9)],\n (61, 3): [(61, 3), (60, 3), (61, 2), (62, 0), (63, 2), (63, 3)],\n (61, 5): [(61, 5), (60, 4), (61, 5), (63, 6)],\n (66, 6): [(66, 6), (64, 7), (64, 8), (65, 8)],\n (66, 2): [(66, 2), (66, 1), (66, 4), (71, 0), (71, 2)],\n (67, 6): [(67, 6), (67, 8)],\n (68, 7): [(68, 7), (68, 11), (69, 11), (70, 9), (71, 8), (71, 10)],\n (69, 5): [(69, 5), (70, 5)],\n (73, 6): [(73, 6), (73, 2), (73, 8)],\n (75, 4): [(75, 4), (75, 5), (77, 0)],\n (76, 7): [(76, 7), (76, 6)],\n (78, 6): [(78, 6), (77, 5), (80, 7), (81, 8)],\n (79, 5): [(79, 5), (81, 4)],\n (83, 2): [(83, 2), (82, 2), (84, 1), (84, 3), (85, 0)],\n (84, 6): [(84, 6), (83, 7), (84, 7), (84, 10)],\n (89, 7): [(89, 7),\n  (87, 10),\n  (88, 6),\n  (88, 7),\n  (88, 12),\n  (90, 6),\n  (92, 9),\n  (94, 9),\n  (94, 10),\n  (96, 7)],\n (91, 2): [(91, 2), (92, 0), (93, 4), (94, 0), (94, 2)],\n (102, 0): [(102, 0),\n  (98, 3),\n  (98, 4),\n  (100, 1),\n  (100, 3),\n  (102, 1),\n  (102, 4),\n  (103, 4)],\n (104, 10): [(104, 10),\n  (98, 10),\n  (100, 10),\n  (101, 10),\n  (103, 8),\n  (104, 8),\n  (106, 10),\n  (107, 11),\n  (109, 11),\n  (110, 12),\n  (111, 8)],\n (108, 2): [(108, 2), (105, 4), (108, 6), (110, 1), (111, 1), (111, 4)],\n (117, 11): [(117, 11),\n  (112, 8),\n  (112, 10),\n  (112, 12),\n  (113, 11),\n  (117, 8),\n  (118, 12),\n  (120, 8),\n  (120, 12)],\n (117, 1): [(117, 1),\n  (115, 2),\n  (116, 2),\n  (117, 3),\n  (118, 2),\n  (118, 3),\n  (120, 5),\n  (121, 0)],\n (124, 2): [(124, 2),\n  (121, 2),\n  (121, 4),\n  (124, 4),\n  (125, 5),\n  (128, 4),\n  (128, 5),\n  (128, 6),\n  (129, 2),\n  (131, 3)],\n (124, 11): [(124, 11), (123, 7), (123, 8), (125, 7), (132, 12)],\n (138, 2): [(138, 2),\n  (132, 1),\n  (133, 1),\n  (136, 0),\n  (136, 8),\n  (137, 0),\n  (137, 4),\n  (137, 6),\n  (138, 5),\n  (138, 7),\n  (139, 5),\n  (141, 5),\n  (142, 3)],\n (146, 8): [(146, 8), (140, 8), (143, 12), (144, 10), (147, 8)],\n (146, 6): [(146, 6),\n  (143, 5),\n  (144, 4),\n  (145, 0),\n  (145, 1),\n  (145, 3),\n  (145, 6),\n  (147, 3),\n  (148, 0),\n  (148, 1),\n  (148, 5),\n  (149, 4),\n  (149, 7)],\n (153, 5): [(153, 5),\n  (150, 1),\n  (151, 7),\n  (152, 8),\n  (153, 8),\n  (155, 6),\n  (155, 9),\n  (156, 6),\n  (156, 8),\n  (157, 1)],\n (160, 6): [(160, 6),\n  (157, 10),\n  (158, 8),\n  (158, 10),\n  (160, 0),\n  (160, 5),\n  (160, 8),\n  (161, 8),\n  (163, 4),\n  (163, 5),\n  (164, 6)],\n (166, 11): [(166, 11),\n  (162, 11),\n  (164, 12),\n  (166, 0),\n  (167, 1),\n  (167, 2),\n  (169, 7),\n  (170, 4),\n  (170, 5),\n  (171, 3),\n  (171, 4),\n  (172, 5),\n  (173, 4),\n  (173, 10)],\n (180, 11): [(180, 11),\n  (174, 7),\n  (175, 10),\n  (176, 9),\n  (177, 4),\n  (177, 12),\n  (178, 0),\n  (178, 1),\n  (178, 8),\n  (178, 11),\n  (179, 8),\n  (179, 10),\n  (180, 1),\n  (182, 3),\n  (182, 8),\n  (183, 3),\n  (184, 2),\n  (184, 11),\n  (185, 2),\n  (185, 6),\n  (186, 3),\n  (186, 11)],\n (191, 12): [(191, 12),\n  (189, 0),\n  (189, 2),\n  (191, 10),\n  (192, 7),\n  (193, 0),\n  (195, 6),\n  (196, 7)],\n (202, 12): [(202, 12),\n  (197, 5),\n  (199, 3),\n  (200, 7),\n  (200, 12),\n  (202, 1),\n  (202, 9),\n  (203, 0),\n  (204, 12),\n  (205, 7),\n  (205, 10),\n  (206, 3),\n  (206, 4),\n  (206, 12)],\n (213, 12): [(213, 12),\n  (208, 5),\n  (208, 8),\n  (210, 1),\n  (210, 5),\n  (213, 1),\n  (213, 7),\n  (214, 7),\n  (214, 11),\n  (215, 4),\n  (215, 7),\n  (215, 11),\n  (217, 0),\n  (217, 7)],\n (222, 11): [(222, 11),\n  (218, 3),\n  (219, 7),\n  (220, 3),\n  (221, 4),\n  (222, 7),\n  (223, 7),\n  (223, 8),\n  (224, 5),\n  (224, 7),\n  (225, 2),\n  (225, 5),\n  (225, 11),\n  (226, 3),\n  (226, 5),\n  (227, 0),\n  (227, 1)]}"
     },
     "execution_count": 24,
     "metadata": {},
     "output_type": "execute_result"
    }
   ],
   "source": [
    "loc"
   ],
   "metadata": {
    "collapsed": false,
    "pycharm": {
     "name": "#%%\n"
    }
   }
  },
  {
   "cell_type": "code",
   "execution_count": 25,
   "outputs": [],
   "source": [
    "def calc_manhattan(p1, p2):\n",
    "    return abs(p1[0] - p2[0]) + abs(p1[1] - p2[1])"
   ],
   "metadata": {
    "collapsed": false,
    "pycharm": {
     "name": "#%%\n"
    }
   }
  },
  {
   "cell_type": "code",
   "execution_count": 26,
   "outputs": [
    {
     "name": "stdout",
     "output_type": "stream",
     "text": [
      "Requirement already satisfied: landscapes in c:\\users\\nahte\\appdata\\local\\programs\\python\\python39\\lib\\site-packages (0.0.12)Note: you may need to restart the kernel to use updated packages.\n",
      "\n"
     ]
    }
   ],
   "source": [
    "pip install landscapes"
   ],
   "metadata": {
    "collapsed": false,
    "pycharm": {
     "name": "#%%\n"
    }
   }
  },
  {
   "cell_type": "code",
   "execution_count": 27,
   "outputs": [],
   "source": [
    "import time\n",
    "runtimes = {}"
   ],
   "metadata": {
    "collapsed": false,
    "pycharm": {
     "name": "#%%\n"
    }
   }
  },
  {
   "cell_type": "code",
   "execution_count": 28,
   "outputs": [
    {
     "data": {
      "text/plain": "{(10, 4): [(10, 4),\n  (0, 0),\n  (0, 3),\n  (1, 11),\n  (2, 3),\n  (2, 11),\n  (3, 3),\n  (3, 12),\n  (4, 7),\n  (4, 9),\n  (4, 10),\n  (5, 12),\n  (6, 3),\n  (7, 5),\n  (8, 4),\n  (8, 11),\n  (9, 6),\n  (9, 12),\n  (10, 2),\n  (10, 6),\n  (11, 1),\n  (11, 8),\n  (12, 4)],\n (18, 5): [(18, 5),\n  (14, 11),\n  (15, 0),\n  (15, 1),\n  (15, 3),\n  (16, 1),\n  (18, 2),\n  (21, 0)],\n (27, 3): [(27, 3),\n  (23, 3),\n  (24, 1),\n  (24, 8),\n  (25, 12),\n  (27, 6),\n  (28, 6),\n  (30, 3)],\n (31, 0): [(31, 0), (29, 0), (31, 1), (33, 0)],\n (34, 6): [(34, 6),\n  (30, 9),\n  (31, 8),\n  (32, 10),\n  (34, 11),\n  (35, 3),\n  (35, 4),\n  (37, 8)],\n (38, 4): [(38, 4),\n  (36, 4),\n  (37, 3),\n  (37, 4),\n  (38, 2),\n  (38, 9),\n  (38, 10),\n  (39, 4),\n  (39, 12),\n  (40, 4),\n  (41, 9),\n  (43, 3)],\n (47, 0): [(47, 0), (44, 2), (45, 3), (46, 3), (49, 1)],\n (48, 5): [(48, 5), (45, 4), (45, 8), (49, 10), (51, 6), (51, 8), (51, 10)],\n (56, 0): [(56, 0), (56, 0)],\n (55, 5): [(55, 5), (57, 5), (58, 5)],\n (59, 7): [(59, 7), (58, 7), (58, 10), (59, 6), (59, 7), (63, 9)],\n (61, 3): [(61, 3), (60, 3), (61, 2), (62, 0), (63, 2), (63, 3)],\n (61, 5): [(61, 5), (60, 4), (61, 5), (63, 6)],\n (66, 6): [(66, 6), (64, 7), (64, 8), (65, 8)],\n (66, 2): [(66, 2), (66, 1), (66, 4), (71, 0), (71, 2)],\n (67, 6): [(67, 6), (67, 8)],\n (68, 7): [(68, 7), (68, 11), (69, 11), (70, 9), (71, 8), (71, 10)],\n (69, 5): [(69, 5), (70, 5)],\n (73, 6): [(73, 6), (73, 2), (73, 8)],\n (75, 4): [(75, 4), (75, 5), (77, 0)],\n (76, 7): [(76, 7), (76, 6)],\n (78, 6): [(78, 6), (77, 5), (80, 7), (81, 8)],\n (79, 5): [(79, 5), (81, 4)],\n (83, 2): [(83, 2), (82, 2), (84, 1), (84, 3), (85, 0)],\n (84, 6): [(84, 6), (83, 7), (84, 7), (84, 10)],\n (89, 7): [(89, 7),\n  (87, 10),\n  (88, 6),\n  (88, 7),\n  (88, 12),\n  (90, 6),\n  (92, 9),\n  (94, 9),\n  (94, 10),\n  (96, 7)],\n (91, 2): [(91, 2), (92, 0), (93, 4), (94, 0), (94, 2)],\n (102, 0): [(102, 0),\n  (98, 3),\n  (98, 4),\n  (100, 1),\n  (100, 3),\n  (102, 1),\n  (102, 4),\n  (103, 4)],\n (104, 10): [(104, 10),\n  (98, 10),\n  (100, 10),\n  (101, 10),\n  (103, 8),\n  (104, 8),\n  (106, 10),\n  (107, 11),\n  (109, 11),\n  (110, 12),\n  (111, 8)],\n (108, 2): [(108, 2), (105, 4), (108, 6), (110, 1), (111, 1), (111, 4)],\n (117, 11): [(117, 11),\n  (112, 8),\n  (112, 10),\n  (112, 12),\n  (113, 11),\n  (117, 8),\n  (118, 12),\n  (120, 8),\n  (120, 12)],\n (117, 1): [(117, 1),\n  (115, 2),\n  (116, 2),\n  (117, 3),\n  (118, 2),\n  (118, 3),\n  (120, 5),\n  (121, 0)],\n (124, 2): [(124, 2),\n  (121, 2),\n  (121, 4),\n  (124, 4),\n  (125, 5),\n  (128, 4),\n  (128, 5),\n  (128, 6),\n  (129, 2),\n  (131, 3)],\n (124, 11): [(124, 11), (123, 7), (123, 8), (125, 7), (132, 12)],\n (138, 2): [(138, 2),\n  (132, 1),\n  (133, 1),\n  (136, 0),\n  (136, 8),\n  (137, 0),\n  (137, 4),\n  (137, 6),\n  (138, 5),\n  (138, 7),\n  (139, 5),\n  (141, 5),\n  (142, 3)],\n (146, 8): [(146, 8), (140, 8), (143, 12), (144, 10), (147, 8)],\n (146, 6): [(146, 6),\n  (143, 5),\n  (144, 4),\n  (145, 0),\n  (145, 1),\n  (145, 3),\n  (145, 6),\n  (147, 3),\n  (148, 0),\n  (148, 1),\n  (148, 5),\n  (149, 4),\n  (149, 7)],\n (153, 5): [(153, 5),\n  (150, 1),\n  (151, 7),\n  (152, 8),\n  (153, 8),\n  (155, 6),\n  (155, 9),\n  (156, 6),\n  (156, 8),\n  (157, 1)],\n (160, 6): [(160, 6),\n  (157, 10),\n  (158, 8),\n  (158, 10),\n  (160, 0),\n  (160, 5),\n  (160, 8),\n  (161, 8),\n  (163, 4),\n  (163, 5),\n  (164, 6)],\n (166, 11): [(166, 11),\n  (162, 11),\n  (164, 12),\n  (166, 0),\n  (167, 1),\n  (167, 2),\n  (169, 7),\n  (170, 4),\n  (170, 5),\n  (171, 3),\n  (171, 4),\n  (172, 5),\n  (173, 4),\n  (173, 10)],\n (180, 11): [(180, 11),\n  (174, 7),\n  (175, 10),\n  (176, 9),\n  (177, 4),\n  (177, 12),\n  (178, 0),\n  (178, 1),\n  (178, 8),\n  (178, 11),\n  (179, 8),\n  (179, 10),\n  (180, 1),\n  (182, 3),\n  (182, 8),\n  (183, 3),\n  (184, 2),\n  (184, 11),\n  (185, 2),\n  (185, 6),\n  (186, 3),\n  (186, 11)],\n (191, 12): [(191, 12),\n  (189, 0),\n  (189, 2),\n  (191, 10),\n  (192, 7),\n  (193, 0),\n  (195, 6),\n  (196, 7)],\n (202, 12): [(202, 12),\n  (197, 5),\n  (199, 3),\n  (200, 7),\n  (200, 12),\n  (202, 1),\n  (202, 9),\n  (203, 0),\n  (204, 12),\n  (205, 7),\n  (205, 10),\n  (206, 3),\n  (206, 4),\n  (206, 12)],\n (213, 12): [(213, 12),\n  (208, 5),\n  (208, 8),\n  (210, 1),\n  (210, 5),\n  (213, 1),\n  (213, 7),\n  (214, 7),\n  (214, 11),\n  (215, 4),\n  (215, 7),\n  (215, 11),\n  (217, 0),\n  (217, 7)],\n (222, 11): [(222, 11),\n  (218, 3),\n  (219, 7),\n  (220, 3),\n  (221, 4),\n  (222, 7),\n  (223, 7),\n  (223, 8),\n  (224, 5),\n  (224, 7),\n  (225, 2),\n  (225, 5),\n  (225, 11),\n  (226, 3),\n  (226, 5),\n  (227, 0),\n  (227, 1)]}"
     },
     "execution_count": 28,
     "metadata": {},
     "output_type": "execute_result"
    }
   ],
   "source": [
    "loc"
   ],
   "metadata": {
    "collapsed": false,
    "pycharm": {
     "name": "#%%\n"
    }
   }
  },
  {
   "cell_type": "code",
   "execution_count": 29,
   "outputs": [],
   "source": [
    "costs = 0\n",
    "for key in loc:\n",
    "    points = loc[key]\n",
    "    mode_cost = 0\n",
    "    for i in range(len(points) - 1):\n",
    "        mode_cost += calc_manhattan(points[i], points[i + 1])\n",
    "    costs += mode_cost"
   ],
   "metadata": {
    "collapsed": false,
    "pycharm": {
     "name": "#%%\n"
    }
   }
  },
  {
   "cell_type": "code",
   "execution_count": 30,
   "outputs": [
    {
     "data": {
      "text/plain": "1332"
     },
     "execution_count": 30,
     "metadata": {},
     "output_type": "execute_result"
    }
   ],
   "source": [
    "costs"
   ],
   "metadata": {
    "collapsed": false,
    "pycharm": {
     "name": "#%%\n"
    }
   }
  },
  {
   "cell_type": "markdown",
   "source": [
    "## Simulated Annealing Implementation"
   ],
   "metadata": {
    "collapsed": false
   }
  },
  {
   "cell_type": "code",
   "execution_count": 31,
   "outputs": [],
   "source": [
    "\n",
    "from landscapes.single_objective import tsp\n",
    "\n",
    "import pandas as pd\n",
    "# import osmnx as ox\n",
    "import networkx as nx\n",
    "import math\n",
    "import random"
   ],
   "metadata": {
    "collapsed": false,
    "pycharm": {
     "name": "#%%\n"
    }
   }
  },
  {
   "cell_type": "code",
   "execution_count": 32,
   "outputs": [],
   "source": [
    "tsp_manhattan = tsp(dist_func=calc_manhattan, close_loop=True).dist"
   ],
   "metadata": {
    "collapsed": false,
    "pycharm": {
     "name": "#%%\n"
    }
   }
  },
  {
   "cell_type": "code",
   "execution_count": 33,
   "outputs": [
    {
     "data": {
      "text/plain": "1764"
     },
     "execution_count": 33,
     "metadata": {},
     "output_type": "execute_result"
    }
   ],
   "source": [
    "tsp_manhattan(delivery_loc)"
   ],
   "metadata": {
    "collapsed": false,
    "pycharm": {
     "name": "#%%\n"
    }
   }
  },
  {
   "cell_type": "code",
   "execution_count": 34,
   "outputs": [],
   "source": [
    "from random import randint\n",
    "from random import random\n",
    "from math import exp\n",
    "from math import log\n",
    "class minimize():\n",
    "    '''Simple Simulated Annealing\n",
    "    '''\n",
    "\n",
    "    def __init__(self, func, x0, opt_mode, cooling_schedule='linear', step_max=1000, t_min=0, t_max=100, bounds=[], alpha=None, damping=1):\n",
    "\n",
    "        # checks\n",
    "        assert opt_mode in ['combinatorial','continuous'], 'opt_mode must be either \"combinatorial\" or \"continuous\"'\n",
    "        assert cooling_schedule in ['linear','exponential','logarithmic', 'quadratic'], 'cooling_schedule must be either \"linear\", \"exponential\", \"logarithmic\", or \"quadratic\"'\n",
    "\n",
    "\n",
    "        # initialize starting conditions\n",
    "        self.t = t_max\n",
    "        self.t_max = t_max\n",
    "        self.t_min = t_min\n",
    "        self.step_max = step_max\n",
    "        self.opt_mode = opt_mode\n",
    "        self.hist = []\n",
    "        self.cooling_schedule = cooling_schedule\n",
    "\n",
    "        self.cost_func = func\n",
    "        self.x0 = x0\n",
    "        self.bounds = bounds[:]\n",
    "        self.damping = damping\n",
    "        self.current_state = self.x0\n",
    "        self.current_energy = func(self.x0)\n",
    "        self.best_state = self.current_state\n",
    "        self.best_energy = self.current_energy\n",
    "\n",
    "\n",
    "        # initialize optimization scheme\n",
    "        if self.opt_mode == 'combinatorial': self.get_neighbor = self.move_combinatorial\n",
    "        if self.opt_mode == 'continuous': self.get_neighbor = self.move_continuous\n",
    "\n",
    "\n",
    "        # initialize cooling schedule\n",
    "        if self.cooling_schedule == 'linear':\n",
    "            if alpha != None:\n",
    "                self.update_t = self.cooling_linear_m\n",
    "                self.cooling_schedule = 'linear multiplicative cooling'\n",
    "                self.alpha = alpha\n",
    "\n",
    "            if alpha == None:\n",
    "                self.update_t = self.cooling_linear_a\n",
    "                self.cooling_schedule = 'linear additive cooling'\n",
    "\n",
    "        if self.cooling_schedule == 'quadratic':\n",
    "            if alpha != None:\n",
    "                self.update_t = self.cooling_quadratic_m\n",
    "                self.cooling_schedule = 'quadratic multiplicative cooling'\n",
    "                self.alpha = alpha\n",
    "\n",
    "            if alpha == None:\n",
    "                self.update_t = self.cooling_quadratic_a\n",
    "                self.cooling_schedule = 'quadratic additive cooling'\n",
    "\n",
    "        if self.cooling_schedule == 'exponential':\n",
    "            if alpha == None: self.alpha =  0.8\n",
    "            else: self.alpha = alpha\n",
    "            self.update_t = self.cooling_exponential_b\n",
    "\n",
    "        if self.cooling_schedule == 'logarithmic':\n",
    "            if alpha == None: self.alpha =  0.8\n",
    "            else: self.alpha = alpha\n",
    "            self.update_t = self.cooling_logarithmic_m\n",
    "\n",
    "\n",
    "        # begin optimizing\n",
    "        self.step, self.accept = 1, 0\n",
    "        while self.step < self.step_max and self.t >= self.t_min and self.t>0:\n",
    "\n",
    "            # get neighbor\n",
    "            proposed_neighbor = self.get_neighbor()\n",
    "\n",
    "            # check energy level of neighbor\n",
    "            E_n = self.cost_func(proposed_neighbor)\n",
    "            dE = E_n - self.current_energy\n",
    "\n",
    "            # determine if we should accept the current neighbor\n",
    "            if random() < self.safe_exp(-dE / self.t):\n",
    "                self.current_energy = E_n\n",
    "                self.current_state = proposed_neighbor[:]\n",
    "                self.accept += 1\n",
    "\n",
    "            # check if the current neighbor is best solution so far\n",
    "            if E_n < self.best_energy:\n",
    "                self.best_energy = E_n\n",
    "                self.best_state = proposed_neighbor[:]\n",
    "\n",
    "            # persist some info for later\n",
    "            self.hist.append([\n",
    "                self.step,\n",
    "                self.t,\n",
    "                self.current_energy,\n",
    "                self.best_energy])\n",
    "\n",
    "            # update some stuff\n",
    "            self.t = self.update_t(self.step)\n",
    "            self.step += 1\n",
    "\n",
    "        # generate some final stats\n",
    "        self.acceptance_rate = self.accept / self.step\n",
    "\n",
    "\n",
    "    def move_continuous(self):\n",
    "        # preturb current state by a random amount\n",
    "        neighbor = [item + ((random() - 0.5) * self.damping) for item in self.current_state]\n",
    "\n",
    "        # clip to upper and lower bounds\n",
    "        if self.bounds:\n",
    "            for i in range(len(neighbor)):\n",
    "                x_min, x_max = self.bounds[i]\n",
    "                neighbor[i] = min(max(neighbor[i], x_min), x_max)\n",
    "\n",
    "        return neighbor\n",
    "\n",
    "\n",
    "    def move_combinatorial(self):\n",
    "        '''Swaps two random nodes along path\n",
    "        Not the most efficient, but it does the job...\n",
    "        '''\n",
    "        p0 = randint(0, len(self.current_state)-1)\n",
    "        p1 = randint(0, len(self.current_state)-1)\n",
    "\n",
    "        neighbor = self.current_state[:]\n",
    "        neighbor[p0], neighbor[p1] = neighbor[p1], neighbor[p0]\n",
    "\n",
    "        return neighbor\n",
    "\n",
    "\n",
    "    def results(self):\n",
    "        print('+------------------------ RESULTS -------------------------+\\n')\n",
    "        print(f'      opt.mode: {self.opt_mode}')\n",
    "        print(f'cooling sched.: {self.cooling_schedule}')\n",
    "        if self.damping != 1: print(f'       damping: {self.damping}\\n')\n",
    "        else: print('\\n')\n",
    "\n",
    "        print(f'  initial temp: {self.t_max}')\n",
    "        print(f'    final temp: {self.t:0.6f}')\n",
    "        print(f'     max steps: {self.step_max}')\n",
    "        print(f'    final step: {self.step}\\n')\n",
    "\n",
    "        print(f'  final energy: {self.best_energy:0.6f}\\n')\n",
    "        print('+-------------------------- END ---------------------------+')\n",
    "\n",
    "    # linear multiplicative cooling\n",
    "    def cooling_linear_m(self, step):\n",
    "        return self.t_max /  (1 + self.alpha * step)\n",
    "\n",
    "    # linear additive cooling\n",
    "    def cooling_linear_a(self, step):\n",
    "        return self.t_min + (self.t_max - self.t_min) * ((self.step_max - step)/self.step_max)\n",
    "\n",
    "    # quadratic multiplicative cooling\n",
    "    def cooling_quadratic_m(self, step):\n",
    "        return self.t_min / (1 + self.alpha * step**2)\n",
    "\n",
    "    # quadratic additive cooling\n",
    "    def cooling_quadratic_a(self, step):\n",
    "        return self.t_min + (self.t_max - self.t_min) * ((self.step_max - step)/self.step_max)**2\n",
    "\n",
    "    # exponential multiplicative cooling\n",
    "    def cooling_exponential_b(self, step):\n",
    "        return self.t_max * self.alpha**step\n",
    "\n",
    "    # logarithmical multiplicative cooling\n",
    "    def cooling_logarithmic_m(self, step):\n",
    "        return self.t_max / (self.alpha * log(step + 1))\n",
    "\n",
    "\n",
    "    def safe_exp(self, x):\n",
    "        try: return exp(x)\n",
    "        except: return 0"
   ],
   "metadata": {
    "collapsed": false,
    "pycharm": {
     "name": "#%%\n"
    }
   }
  },
  {
   "cell_type": "code",
   "execution_count": 35,
   "outputs": [
    {
     "name": "stdout",
     "output_type": "stream",
     "text": [
      "func: Annealing linear took: 0.0 sec\n",
      "func: Annealing linear took: 0.015646696090698242 sec\n",
      "func: Annealing linear took: 0.0 sec\n",
      "func: Annealing linear took: 0.0 sec\n",
      "func: Annealing linear took: 0.015624046325683594 sec\n",
      "func: Annealing linear took: 0.0 sec\n",
      "func: Annealing linear took: 0.0 sec\n",
      "func: Annealing linear took: 0.0 sec\n",
      "func: Annealing linear took: 0.02064037322998047 sec\n",
      "func: Annealing linear took: 0.0026497840881347656 sec\n",
      "func: Annealing linear took: 0.0 sec\n",
      "func: Annealing linear took: 0.0 sec\n",
      "func: Annealing linear took: 0.015793323516845703 sec\n",
      "func: Annealing linear took: 0.0 sec\n",
      "func: Annealing linear took: 0.0 sec\n",
      "func: Annealing linear took: 0.015898942947387695 sec\n",
      "func: Annealing linear took: 0.0 sec\n",
      "func: Annealing linear took: 0.01300811767578125 sec\n",
      "func: Annealing linear took: 0.0030100345611572266 sec\n",
      "func: Annealing linear took: 0.0 sec\n",
      "func: Annealing linear took: 0.0 sec\n",
      "func: Annealing linear took: 0.01563882827758789 sec\n",
      "func: Annealing linear took: 0.015650272369384766 sec\n",
      "func: Annealing linear took: 0.0 sec\n",
      "func: Annealing linear took: 0.0 sec\n",
      "func: Annealing linear took: 0.0 sec\n",
      "func: Annealing linear took: 0.01560521125793457 sec\n",
      "func: Annealing linear took: 0.0 sec\n",
      "func: Annealing linear took: 0.0 sec\n",
      "func: Annealing linear took: 0.0 sec\n",
      "func: Annealing linear took: 0.01562643051147461 sec\n",
      "func: Annealing linear took: 0.0 sec\n",
      "func: Annealing linear took: 0.0 sec\n",
      "func: Annealing linear took: 0.04728245735168457 sec\n",
      "func: Annealing linear took: 0.0 sec\n",
      "func: Annealing linear took: 0.0 sec\n",
      "func: Annealing linear took: 0.0 sec\n",
      "func: Annealing linear took: 0.0 sec\n",
      "func: Annealing linear took: 0.01562190055847168 sec\n",
      "func: Annealing linear took: 0.0 sec\n",
      "func: Annealing linear took: 0.015627145767211914 sec\n",
      "func: Annealing linear took: 0.0 sec\n",
      "func: Annealing linear took: 0.0 sec\n",
      "func: Annealing linear took: 0.01564621925354004 sec\n",
      "func: Annealing linear took: 0.0 sec\n",
      "func: Annealing quadratic took: 0.015604019165039062 sec\n",
      "func: Annealing quadratic took: 0.0 sec\n",
      "func: Annealing quadratic took: 0.0095367431640625 sec\n",
      "func: Annealing quadratic took: 0.0 sec\n",
      "func: Annealing quadratic took: 0.006528139114379883 sec\n",
      "func: Annealing quadratic took: 0.0 sec\n",
      "func: Annealing quadratic took: 0.01579117774963379 sec\n",
      "func: Annealing quadratic took: 0.0 sec\n",
      "func: Annealing quadratic took: 0.0 sec\n",
      "func: Annealing quadratic took: 0.0 sec\n",
      "func: Annealing quadratic took: 0.01563739776611328 sec\n",
      "func: Annealing quadratic took: 0.0 sec\n",
      "func: Annealing quadratic took: 0.0 sec\n",
      "func: Annealing quadratic took: 0.01571965217590332 sec\n",
      "func: Annealing quadratic took: 0.0 sec\n",
      "func: Annealing quadratic took: 0.0 sec\n",
      "func: Annealing quadratic took: 0.015531301498413086 sec\n",
      "func: Annealing quadratic took: 0.0 sec\n",
      "func: Annealing quadratic took: 0.0 sec\n",
      "func: Annealing quadratic took: 0.0 sec\n",
      "func: Annealing quadratic took: 0.0 sec\n",
      "func: Annealing quadratic took: 0.015890836715698242 sec\n",
      "func: Annealing quadratic took: 0.0 sec\n",
      "func: Annealing quadratic took: 0.0 sec\n",
      "func: Annealing quadratic took: 0.0 sec\n",
      "func: Annealing quadratic took: 0.015037775039672852 sec\n",
      "func: Annealing quadratic took: 0.0 sec\n",
      "func: Annealing quadratic took: 0.0 sec\n",
      "func: Annealing quadratic took: 0.01563739776611328 sec\n",
      "func: Annealing quadratic took: 0.0 sec\n",
      "func: Annealing quadratic took: 0.0 sec\n",
      "func: Annealing quadratic took: 0.0 sec\n",
      "func: Annealing quadratic took: 0.015624046325683594 sec\n",
      "func: Annealing quadratic took: 0.0 sec\n",
      "func: Annealing quadratic took: 0.0 sec\n",
      "func: Annealing quadratic took: 0.0156252384185791 sec\n",
      "func: Annealing quadratic took: 0.0 sec\n",
      "func: Annealing quadratic took: 0.0 sec\n",
      "func: Annealing quadratic took: 0.015625953674316406 sec\n",
      "func: Annealing quadratic took: 0.0 sec\n",
      "func: Annealing quadratic took: 0.0 sec\n",
      "func: Annealing quadratic took: 0.015624761581420898 sec\n",
      "func: Annealing quadratic took: 0.0 sec\n",
      "func: Annealing quadratic took: 0.0 sec\n",
      "func: Annealing quadratic took: 0.015651226043701172 sec\n",
      "func: Annealing exponential took: 0.006508350372314453 sec\n",
      "func: Annealing exponential took: 0.009504556655883789 sec\n",
      "func: Annealing exponential took: 0.0 sec\n",
      "func: Annealing exponential took: 0.0 sec\n",
      "func: Annealing exponential took: 0.015659093856811523 sec\n",
      "func: Annealing exponential took: 0.0 sec\n",
      "func: Annealing exponential took: 0.0 sec\n",
      "func: Annealing exponential took: 0.0 sec\n",
      "func: Annealing exponential took: 0.015626907348632812 sec\n",
      "func: Annealing exponential took: 0.0 sec\n",
      "func: Annealing exponential took: 0.0 sec\n",
      "func: Annealing exponential took: 0.015614509582519531 sec\n",
      "func: Annealing exponential took: 0.0 sec\n",
      "func: Annealing exponential took: 0.0 sec\n",
      "func: Annealing exponential took: 0.0 sec\n",
      "func: Annealing exponential took: 0.015689611434936523 sec\n",
      "func: Annealing exponential took: 0.0 sec\n",
      "func: Annealing exponential took: 0.0 sec\n",
      "func: Annealing exponential took: 0.0 sec\n",
      "func: Annealing exponential took: 0.0 sec\n",
      "func: Annealing exponential took: 0.015645265579223633 sec\n",
      "func: Annealing exponential took: 0.0 sec\n",
      "func: Annealing exponential took: 0.012516260147094727 sec\n",
      "func: Annealing exponential took: 0.0035114288330078125 sec\n",
      "func: Annealing exponential took: 0.0 sec\n",
      "func: Annealing exponential took: 0.0 sec\n",
      "func: Annealing exponential took: 0.0 sec\n",
      "func: Annealing exponential took: 0.016292095184326172 sec\n",
      "func: Annealing exponential took: 0.0 sec\n",
      "func: Annealing exponential took: 0.0 sec\n",
      "func: Annealing exponential took: 0.01609325408935547 sec\n",
      "func: Annealing exponential took: 0.0 sec\n",
      "func: Annealing exponential took: 0.0 sec\n",
      "func: Annealing exponential took: 0.0 sec\n",
      "func: Annealing exponential took: 0.01692676544189453 sec\n",
      "func: Annealing exponential took: 0.0 sec\n",
      "func: Annealing exponential took: 0.047445058822631836 sec\n",
      "func: Annealing exponential took: 0.015512466430664062 sec\n",
      "func: Annealing exponential took: 0.0 sec\n",
      "func: Annealing exponential took: 0.0 sec\n",
      "func: Annealing exponential took: 0.015649080276489258 sec\n",
      "func: Annealing exponential took: 0.0 sec\n",
      "func: Annealing exponential took: 0.016161203384399414 sec\n",
      "func: Annealing exponential took: 0.0 sec\n",
      "func: Annealing exponential took: 0.016231298446655273 sec\n",
      "func: Annealing logarithmic took: 0.0 sec\n",
      "func: Annealing logarithmic took: 0.015991926193237305 sec\n",
      "func: Annealing logarithmic took: 0.0 sec\n",
      "func: Annealing logarithmic took: 0.0 sec\n",
      "func: Annealing logarithmic took: 0.02029895782470703 sec\n",
      "func: Annealing logarithmic took: 0.0 sec\n",
      "func: Annealing logarithmic took: 0.01101231575012207 sec\n",
      "func: Annealing logarithmic took: 0.0 sec\n",
      "func: Annealing logarithmic took: 0.0 sec\n",
      "func: Annealing logarithmic took: 0.0 sec\n",
      "func: Annealing logarithmic took: 0.015769481658935547 sec\n",
      "func: Annealing logarithmic took: 0.0 sec\n",
      "func: Annealing logarithmic took: 0.015957355499267578 sec\n",
      "func: Annealing logarithmic took: 0.0 sec\n",
      "func: Annealing logarithmic took: 0.0 sec\n",
      "func: Annealing logarithmic took: 0.0 sec\n",
      "func: Annealing logarithmic took: 0.015614748001098633 sec\n",
      "func: Annealing logarithmic took: 0.0 sec\n",
      "func: Annealing logarithmic took: 0.0 sec\n",
      "func: Annealing logarithmic took: 0.0 sec\n",
      "func: Annealing logarithmic took: 0.015539169311523438 sec\n",
      "func: Annealing logarithmic took: 0.0 sec\n",
      "func: Annealing logarithmic took: 0.0 sec\n",
      "func: Annealing logarithmic took: 0.0 sec\n",
      "func: Annealing logarithmic took: 0.0 sec\n",
      "func: Annealing logarithmic took: 0.015624046325683594 sec\n",
      "func: Annealing logarithmic took: 0.0 sec\n",
      "func: Annealing logarithmic took: 0.010517358779907227 sec\n",
      "func: Annealing logarithmic took: 0.00551295280456543 sec\n",
      "func: Annealing logarithmic took: 0.0 sec\n",
      "func: Annealing logarithmic took: 0.0 sec\n",
      "func: Annealing logarithmic took: 0.015743494033813477 sec\n",
      "func: Annealing logarithmic took: 0.0 sec\n",
      "func: Annealing logarithmic took: 0.0 sec\n",
      "func: Annealing logarithmic took: 0.015620708465576172 sec\n",
      "func: Annealing logarithmic took: 0.0 sec\n",
      "func: Annealing logarithmic took: 0.0 sec\n",
      "func: Annealing logarithmic took: 0.0 sec\n",
      "func: Annealing logarithmic took: 0.015526294708251953 sec\n",
      "func: Annealing logarithmic took: 0.0 sec\n",
      "func: Annealing logarithmic took: 0.015864133834838867 sec\n",
      "func: Annealing logarithmic took: 0.0 sec\n",
      "func: Annealing logarithmic took: 0.0 sec\n",
      "func: Annealing logarithmic took: 0.015979290008544922 sec\n",
      "func: Annealing logarithmic took: 0.0 sec\n"
     ]
    }
   ],
   "source": [
    "cooling_schedule=['linear', 'quadratic', 'exponential', 'logarithmic']\n",
    "cooling_results = {}\n",
    "# alpha = None, int(64)\n",
    "for mode in cooling_schedule:\n",
    "    runtimes[\"Annealing \"+ mode] = 0\n",
    "    sa_opt_results = []\n",
    "    for key in loc:\n",
    "        loc_list = loc[key]\n",
    "        ts = time.time()\n",
    "        m = minimize(tsp_manhattan, loc[key], opt_mode='combinatorial', cooling_schedule = mode, step_max=1000, t_max=100, t_min=0)\n",
    "        sa_opt_results.append(m)\n",
    "        te = time.time()\n",
    "        print(f'func: {\"Annealing \"+ mode} took: {te-ts} sec')\n",
    "        runtimes[\"Annealing \"+ mode] += te - ts\n",
    "    cooling_results[mode] = sa_opt_results"
   ],
   "metadata": {
    "collapsed": false,
    "pycharm": {
     "name": "#%%\n"
    }
   }
  },
  {
   "cell_type": "code",
   "execution_count": 36,
   "outputs": [
    {
     "name": "stdout",
     "output_type": "stream",
     "text": [
      "+------------------------ RESULTS -------------------------+\n",
      "\n",
      "      opt.mode: combinatorial\n",
      "cooling sched.: logarithmic\n",
      "\n",
      "\n",
      "  initial temp: 100\n",
      "    final temp: 18.095603\n",
      "     max steps: 1000\n",
      "    final step: 1000\n",
      "\n",
      "  final energy: 142.000000\n",
      "\n",
      "+-------------------------- END ---------------------------+\n"
     ]
    }
   ],
   "source": [
    "sa_opt_results[0].results()"
   ],
   "metadata": {
    "collapsed": false,
    "pycharm": {
     "name": "#%%\n"
    }
   }
  },
  {
   "cell_type": "code",
   "execution_count": 37,
   "outputs": [],
   "source": [
    "sa_total = {}\n",
    "sa_paths = {}\n",
    "for mode in cooling_schedule:\n",
    "    annealing_paths = []\n",
    "    sa_total[mode] = 0\n",
    "    for region in cooling_results[mode]:\n",
    "        annealing_paths.append(region.best_state)\n",
    "        sa_total[mode] += region.best_energy\n",
    "    sa_paths[mode] = annealing_paths"
   ],
   "metadata": {
    "collapsed": false,
    "pycharm": {
     "name": "#%%\n"
    }
   }
  },
  {
   "cell_type": "code",
   "execution_count": 38,
   "outputs": [
    {
     "data": {
      "text/plain": "{'linear': 1364, 'quadratic': 1262, 'exponential': 1302, 'logarithmic': 1370}"
     },
     "execution_count": 38,
     "metadata": {},
     "output_type": "execute_result"
    }
   ],
   "source": [
    "sa_total"
   ],
   "metadata": {
    "collapsed": false,
    "pycharm": {
     "name": "#%%\n"
    }
   }
  },
  {
   "cell_type": "markdown",
   "source": [
    "### State-compression Dynamic Programming to computer the min-cost (shortest path start from the first location but do not return to the initial location)"
   ],
   "metadata": {
    "collapsed": false
   }
  },
  {
   "cell_type": "code",
   "execution_count": 39,
   "outputs": [],
   "source": [
    "def dp(n, locations):\n",
    "\tgraph = construct_graph(locations, n)\n",
    "\t# for i in range(1, n + 1):\n",
    "\t# \tprint(graph[i][1])\n",
    "\n",
    "\tstate_size = 1 << n\n",
    "\tf = [\n",
    "\t\t[float('inf')] * (n + 1)\n",
    "\t\tfor _ in range(state_size)\n",
    "\t]\n",
    "\tf[1][1] = 0\n",
    "\tfor state in range(state_size):\n",
    "\t\tfor i in range(2, n + 1):\n",
    "\t\t\tif state & (1 << (i - 1)) == 0:\n",
    "\t\t\t\tcontinue\n",
    "\n",
    "\t\t\tprev_state = state ^ (1 << (i - 1))\n",
    "\t\t\tfor j in range(1, n + 1):\n",
    "\t\t\t\tif prev_state & (1 << (j - 1)) == 0:\n",
    "\t\t\t\t\tcontinue\n",
    "\n",
    "\t\t\t\tf[state][i] = min(f[state][i], f[prev_state][j] + graph[j][i])\n",
    "\n",
    "\treturn min(f[state_size - 1])\n",
    "\n",
    "\n",
    "def construct_graph(locations, n):\n",
    "\tgraph = {\n",
    "\t\ti: {j: float('inf') for j in range(1, n + 1)}\n",
    "\t\tfor i in range(1, n + 1)\n",
    "\t}\n",
    "\n",
    "\tfor i in range(1, n + 1):\n",
    "\t\tfor j in range(1, n + 1):\n",
    "\t\t\tgraph[i][j] = calc_manhattan(locations[i - 1],locations[j - 1])\n",
    "\t\t\tgraph[j][i] = graph[i][j]\n",
    "\treturn graph"
   ],
   "metadata": {
    "collapsed": false,
    "pycharm": {
     "name": "#%%\n"
    }
   }
  },
  {
   "cell_type": "code",
   "execution_count": null,
   "outputs": [
    {
     "name": "stdout",
     "output_type": "stream",
     "text": [
      "The global min-cost is:  60\n",
      "func: dp took: 476.1962161064148 sec\n",
      "The global min-cost is:  28\n",
      "func: dp took: 0.01627492904663086 sec\n",
      "The global min-cost is:  31\n",
      "func: dp took: 0.0 sec\n",
      "The global min-cost is:  8\n",
      "func: dp took: 0.0 sec\n",
      "The global min-cost is:  25\n",
      "func: dp took: 0.0 sec\n",
      "The global min-cost is:  29\n",
      "func: dp took: 0.06361079216003418 sec\n",
      "The global min-cost is:  11\n",
      "func: dp took: 0.0 sec\n",
      "The global min-cost is:  20\n",
      "func: dp took: 0.0 sec\n",
      "The global min-cost is:  0\n",
      "func: dp took: 0.0 sec\n",
      "The global min-cost is:  3\n",
      "func: dp took: 0.0 sec\n",
      "The global min-cost is:  12\n",
      "func: dp took: 0.0 sec\n",
      "The global min-cost is:  10\n",
      "func: dp took: 0.0 sec\n",
      "The global min-cost is:  7\n",
      "func: dp took: 0.0 sec\n",
      "The global min-cost is:  5\n",
      "func: dp took: 0.0 sec\n",
      "The global min-cost is:  13\n",
      "func: dp took: 0.0 sec\n",
      "The global min-cost is:  2\n",
      "func: dp took: 0.0 sec\n",
      "The global min-cost is:  12\n",
      "func: dp took: 0.0 sec\n",
      "The global min-cost is:  1\n",
      "func: dp took: 0.0 sec\n",
      "The global min-cost is:  8\n",
      "func: dp took: 0.0 sec\n",
      "The global min-cost is:  8\n",
      "func: dp took: 0.0 sec\n",
      "The global min-cost is:  1\n",
      "func: dp took: 0.0 sec\n",
      "The global min-cost is:  9\n",
      "func: dp took: 0.0 sec\n",
      "The global min-cost is:  3\n",
      "func: dp took: 0.0 sec\n",
      "The global min-cost is:  8\n",
      "func: dp took: 0.0 sec\n",
      "The global min-cost is:  6\n",
      "func: dp took: 0.0 sec\n",
      "The global min-cost is:  27\n",
      "func: dp took: 0.01563715934753418 sec\n",
      "The global min-cost is:  10\n",
      "func: dp took: 0.0 sec\n",
      "The global min-cost is:  13\n",
      "func: dp took: 0.0 sec\n",
      "The global min-cost is:  28\n",
      "func: dp took: 0.03130626678466797 sec\n",
      "The global min-cost is:  17\n",
      "func: dp took: 0.0 sec\n",
      "The global min-cost is:  22\n",
      "func: dp took: 0.0 sec\n",
      "The global min-cost is:  19\n",
      "func: dp took: 0.0 sec\n",
      "The global min-cost is:  22\n",
      "func: dp took: 0.015575647354125977 sec\n",
      "The global min-cost is:  19\n",
      "func: dp took: 0.0 sec\n",
      "The global min-cost is:  31\n",
      "func: dp took: 0.18883633613586426 sec\n",
      "The global min-cost is:  16\n",
      "func: dp took: 0.0 sec\n",
      "The global min-cost is:  26\n",
      "func: dp took: 0.14763832092285156 sec\n",
      "The global min-cost is:  28\n",
      "func: dp took: 0.011011362075805664 sec\n",
      "The global min-cost is:  27\n",
      "func: dp took: 0.01693558692932129 sec\n",
      "The global min-cost is:  45\n",
      "func: dp took: 0.3507692813873291 sec\n"
     ]
    }
   ],
   "source": [
    "runtimes[dp.__name__] = 0\n",
    "dp_minCost = []\n",
    "dp_total = 0\n",
    "for key in loc:\n",
    "    loc_list = loc[key]\n",
    "    ts = time.time()\n",
    "    dp_minCost.append(dp(len(loc_list), loc_list))\n",
    "    te = time.time()\n",
    "    dp_total += dp_minCost[-1]\n",
    "    print('The global min-cost is: ', dp_minCost[-1])\n",
    "    print(f'func: {dp.__name__} took: {te-ts} sec')\n",
    "    runtimes[dp.__name__] += te - ts"
   ],
   "metadata": {
    "collapsed": false,
    "pycharm": {
     "name": "#%%\n",
     "is_executing": true
    }
   }
  },
  {
   "cell_type": "markdown",
   "source": [
    "## Held-Karp Implementation"
   ],
   "metadata": {
    "collapsed": false
   }
  },
  {
   "cell_type": "code",
   "execution_count": null,
   "outputs": [],
   "source": [
    "import itertools\n",
    "\n",
    "def construct_dists(locations, n):\n",
    "\tdists = [[0] * n for i in range(n)]\n",
    "\n",
    "\tfor i in range(n):\n",
    "\t\tfor j in range(n):\n",
    "\t\t\tdists[i][j] = calc_manhattan(locations[i],locations[j])\n",
    "\t\t\t# graph[j][i] = graph[i][j]\n",
    "\treturn dists\n",
    "\n",
    "def held_karp(n, locations):\n",
    "\n",
    "    dists = construct_dists(locations, n)\n",
    "    # print(dists)\n",
    "\n",
    "    # Maps each subset of the nodes to the cost to reach that subset, as well\n",
    "    # as what node it passed before reaching this subset.\n",
    "    # Node subsets are represented as set bits.\n",
    "    C = {}\n",
    "\n",
    "    # Set transition cost from initial state\n",
    "    for k in range(1, n):\n",
    "        C[(1 << k, k)] = (dists[0][k], 0)\n",
    "\n",
    "    # Iterate subsets of increasing length and store intermediate results\n",
    "    # in classic dynamic programming manner\n",
    "    for subset_size in range(2, n):\n",
    "        for subset in itertools.combinations(range(1, n), subset_size):\n",
    "            # Set bits for all nodes in this subset\n",
    "            bits = 0\n",
    "            for bit in subset:\n",
    "                bits |= 1 << bit\n",
    "\n",
    "            # Find the lowest cost to get to this subset\n",
    "            for k in subset:\n",
    "                prev = bits & ~(1 << k)\n",
    "\n",
    "                res = []\n",
    "                for m in subset:\n",
    "                    if m == 0 or m == k:\n",
    "                        continue\n",
    "                    res.append((C[(prev, m)][0] + dists[m][k], m))\n",
    "                C[(bits, k)] = min(res)\n",
    "\n",
    "    # We're interested in all bits but the least significant (the start state)\n",
    "    bits = (2**n - 1) - 1\n",
    "\n",
    "    # Calculate optimal cost\n",
    "    res = []\n",
    "    for k in range(1, n):\n",
    "        res.append((C[(bits, k)][0] + dists[k][0], k))\n",
    "    opt, parent = min(res)\n",
    "\n",
    "    # Backtrack to find full path\n",
    "    path = []\n",
    "    for i in range(n - 1):\n",
    "        path.append(parent)\n",
    "        new_bits = bits & ~(1 << parent)\n",
    "        _, parent = C[(bits, parent)]\n",
    "        bits = new_bits\n",
    "\n",
    "    # Add implicit start state\n",
    "    path.append(0)\n",
    "\n",
    "    return opt, list(reversed(path))"
   ],
   "metadata": {
    "collapsed": false,
    "pycharm": {
     "name": "#%%\n",
     "is_executing": true
    }
   }
  },
  {
   "cell_type": "code",
   "execution_count": null,
   "outputs": [],
   "source": [
    "hk_results = []\n",
    "runtimes[held_karp.__name__] = 0\n",
    "hk_total = 0\n",
    "for key in loc:\n",
    "    loc_list = loc[key]\n",
    "    ts = time.time()\n",
    "    hk_results.append(held_karp(len(loc_list), loc_list))\n",
    "    te = time.time()\n",
    "    hk_total += hk_results[-1][0]\n",
    "    print(f'func: {held_karp.__name__} took: {te-ts} sec')\n",
    "    runtimes[held_karp.__name__] += te - ts"
   ],
   "metadata": {
    "collapsed": false,
    "pycharm": {
     "name": "#%%\n",
     "is_executing": true
    }
   }
  },
  {
   "cell_type": "markdown",
   "source": [
    "## Runtime Analysis"
   ],
   "metadata": {
    "collapsed": false
   }
  },
  {
   "cell_type": "code",
   "execution_count": null,
   "outputs": [],
   "source": [
    "k, v = runtimes.keys(), runtimes.values()\n",
    "plt.title('Runtime in Seconds of TSP Algorithmns')\n",
    "plt.ylabel('Seconds')\n",
    "plt.rcParams[\"figure.figsize\"] = (20,6)\n",
    "plt.bar(k, v)"
   ],
   "metadata": {
    "collapsed": false,
    "pycharm": {
     "name": "#%%\n",
     "is_executing": true
    }
   }
  },
  {
   "cell_type": "markdown",
   "source": [
    "## Cost Analysis"
   ],
   "metadata": {
    "collapsed": false
   }
  },
  {
   "cell_type": "code",
   "execution_count": null,
   "outputs": [],
   "source": [
    "hk_total"
   ],
   "metadata": {
    "collapsed": false,
    "pycharm": {
     "name": "#%%\n",
     "is_executing": true
    }
   }
  },
  {
   "cell_type": "code",
   "execution_count": null,
   "outputs": [],
   "source": [
    "sa_total"
   ],
   "metadata": {
    "collapsed": false,
    "pycharm": {
     "name": "#%%\n",
     "is_executing": true
    }
   }
  },
  {
   "cell_type": "code",
   "execution_count": null,
   "outputs": [],
   "source": [],
   "metadata": {
    "collapsed": false,
    "pycharm": {
     "name": "#%%\n",
     "is_executing": true
    }
   }
  }
 ],
 "metadata": {
  "interpreter": {
   "hash": "ddff950863c2b977daee2bec7219ae5f9b3a03c532fcc882a2a1d067c0474d1c"
  },
  "kernelspec": {
   "display_name": "Python 3.9.7 64-bit",
   "language": "python",
   "name": "python3"
  },
  "language_info": {
   "codemirror_mode": {
    "name": "ipython",
    "version": 3
   },
   "file_extension": ".py",
   "mimetype": "text/x-python",
   "name": "python",
   "nbconvert_exporter": "python",
   "pygments_lexer": "ipython3",
   "version": "3.9.7"
  },
  "orig_nbformat": 4
 },
 "nbformat": 4,
 "nbformat_minor": 2
}