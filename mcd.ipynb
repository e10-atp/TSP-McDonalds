{
 "cells": [
  {
   "cell_type": "code",
   "execution_count": 1,
   "metadata": {},
   "outputs": [],
   "source": [
    "import numpy as np\n",
    "import math\n",
    "import pandas as pd\n",
    "import matplotlib.pyplot as plt"
   ]
  },
  {
   "cell_type": "code",
   "execution_count": 2,
   "metadata": {},
   "outputs": [],
   "source": [
    "class Result:\n",
    "  def __init__(self):\n",
    "    self.min_cost = float('inf')\n",
    "\n",
    "class findPath:\n",
    "\n",
    "  def brute_force_dfs(self, spot, n, graph, visited, cost, result):\n",
    "    if len(visited) == n:\n",
    "      result.min_cost = min(result.min_cost, cost)\n",
    "      return\n",
    "\n",
    "    for next_spot in graph[spot]:\n",
    "      if next_spot in visited:\n",
    "        continue\n",
    "    visited.add(next_spot)\n",
    "    self.brute_force_dfs(next_spot, n, graph, visited, cost + graph[spot][next_spot], result)\n",
    "    visited.remove(next_spot)\n",
    "\n",
    "  def minCost(n, mcd, list_of_intersection):\n",
    "    graph = self.construct_graph(list_of_intersection)\n",
    "    result = Result()\n",
    "    n = len(list_of_intersection)\n",
    "    self.brute_force_dfs(mcd, n, graph, set(mcd), 0, result)\n",
    "\n",
    "  # def prunning_dfs(self, spot, n, graph, visited, cost, result)\n",
    "\n",
    "  # def dp_findPath(self, graph, list_of_intersection, mcd)\n"
   ]
  },
  {
   "cell_type": "code",
   "execution_count": 3,
   "metadata": {},
   "outputs": [],
   "source": [
    "class Node:\n",
    "    def __init__(self):\n",
    "        self.isVisited = False\n",
    "        self.hasMCD = False\n",
    "        self.neighbors = list()\n",
    "        self.MCDRegion = (-1,-1)\n",
    "        self.color = [255,255,255]\n",
    "\n",
    "    def __repr__(self):\n",
    "        return '(McD: {} isVisited: {} regionalMcD: {})'.format(self.hasMCD, self.isVisited, self.MCDRegion)"
   ]
  },
  {
   "cell_type": "code",
   "execution_count": 4,
   "metadata": {},
   "outputs": [],
   "source": [
    "class Grid:\n",
    "  def __init__(self, streets=228, aves=13):\n",
    "    self.streets = streets\n",
    "    self.aves = aves\n",
    "    self.grid = [[Node() for y in range(aves)] for x in range(streets)]\n",
    "\n",
    "  def draw_map(self):\n",
    "    r = ''\n",
    "    for x in range(self.streets):\n",
    "      r += f'{x}: '\n",
    "      for y in range(self.aves):\n",
    "        if self.grid[x][y].hasMCD:\n",
    "            r += f'[{self.grid[x][y].hasMCD}] '\n",
    "        else:\n",
    "            r += f'[{self.grid[x][y].MCDRegion}] '\n",
    "      r += '\\n'\n",
    "    return r\n",
    "  \n",
    "  def __repr__(self):\n",
    "    return self.draw_map()"
   ]
  },
  {
   "cell_type": "code",
   "execution_count": 5,
   "outputs": [],
   "source": [
    "import random\n",
    "def rand_color():\n",
    "    return [random.randint(0, 255), random.randint(0, 255), random.randint(0, 255)]"
   ],
   "metadata": {
    "collapsed": false,
    "pycharm": {
     "name": "#%%\n"
    }
   }
  },
  {
   "cell_type": "code",
   "execution_count": 6,
   "metadata": {},
   "outputs": [],
   "source": [
    "McD_loc = \"McDonald_loc.txt\""
   ]
  },
  {
   "cell_type": "code",
   "execution_count": 7,
   "metadata": {},
   "outputs": [],
   "source": [
    "with open(McD_loc) as f:\n",
    "    mcd_loc_data = []\n",
    "    for line in f:\n",
    "        s = line.split(\",\")\n",
    "        s[0] = int(s[0])\n",
    "        s[1] = int(s[1])\n",
    "        s.append(rand_color())\n",
    "        mcd_loc_data.append(s)"
   ]
  },
  {
   "cell_type": "code",
   "execution_count": 8,
   "metadata": {},
   "outputs": [
    {
     "data": {
      "text/plain": "   SN_Street  EW_Avenue           Inter_Names            Color\n0         11          5   MaidenLn+Broadway\\n   [251, 229, 80]\n1         19          6  Chambers+Greenwich\\n  [163, 221, 250]\n2         28          4     Canel+Lafayette\\n     [112, 24, 8]\n3         32          1  Williamsburg+Essex\\n    [115, 77, 54]\n4         35          7      Houston+Varick\\n   [228, 98, 108]",
      "text/html": "<div>\n<style scoped>\n    .dataframe tbody tr th:only-of-type {\n        vertical-align: middle;\n    }\n\n    .dataframe tbody tr th {\n        vertical-align: top;\n    }\n\n    .dataframe thead th {\n        text-align: right;\n    }\n</style>\n<table border=\"1\" class=\"dataframe\">\n  <thead>\n    <tr style=\"text-align: right;\">\n      <th></th>\n      <th>SN_Street</th>\n      <th>EW_Avenue</th>\n      <th>Inter_Names</th>\n      <th>Color</th>\n    </tr>\n  </thead>\n  <tbody>\n    <tr>\n      <th>0</th>\n      <td>11</td>\n      <td>5</td>\n      <td>MaidenLn+Broadway\\n</td>\n      <td>[251, 229, 80]</td>\n    </tr>\n    <tr>\n      <th>1</th>\n      <td>19</td>\n      <td>6</td>\n      <td>Chambers+Greenwich\\n</td>\n      <td>[163, 221, 250]</td>\n    </tr>\n    <tr>\n      <th>2</th>\n      <td>28</td>\n      <td>4</td>\n      <td>Canel+Lafayette\\n</td>\n      <td>[112, 24, 8]</td>\n    </tr>\n    <tr>\n      <th>3</th>\n      <td>32</td>\n      <td>1</td>\n      <td>Williamsburg+Essex\\n</td>\n      <td>[115, 77, 54]</td>\n    </tr>\n    <tr>\n      <th>4</th>\n      <td>35</td>\n      <td>7</td>\n      <td>Houston+Varick\\n</td>\n      <td>[228, 98, 108]</td>\n    </tr>\n  </tbody>\n</table>\n</div>"
     },
     "execution_count": 8,
     "metadata": {},
     "output_type": "execute_result"
    }
   ],
   "source": [
    "MD_loc_data = pd.DataFrame(mcd_loc_data,columns=['SN_Street', 'EW_Avenue', 'Inter_Names', 'Color'])\n",
    "MD_loc_data.head()"
   ]
  },
  {
   "cell_type": "markdown",
   "metadata": {},
   "source": [
    "Description of features:\n",
    "'SN_Street': We assign street numbers from 1 to 228 from south to north of Manhattan\n",
    "'EW_Avenue': We assign avenue numbers from 1 to 13 from east to north of Manhattan\n",
    "'Inter_Names': The name of two streets that have a McDonald's in their intersection"
   ]
  },
  {
   "cell_type": "code",
   "execution_count": 9,
   "metadata": {},
   "outputs": [],
   "source": [
    "map = Grid()"
   ]
  },
  {
   "cell_type": "code",
   "execution_count": 10,
   "metadata": {},
   "outputs": [
    {
     "name": "stdout",
     "output_type": "stream",
     "text": [
      "(McD: False isVisited: False regionalMcD: (-1, -1))\n"
     ]
    }
   ],
   "source": [
    "print(map.grid[0][0])"
   ]
  },
  {
   "cell_type": "code",
   "execution_count": 11,
   "outputs": [],
   "source": [
    "color_mapping = {}"
   ],
   "metadata": {
    "collapsed": false,
    "pycharm": {
     "name": "#%%\n"
    }
   }
  },
  {
   "cell_type": "code",
   "execution_count": 12,
   "outputs": [],
   "source": [
    "for index, row in MD_loc_data.iterrows():\n",
    "    st, ave = int(row['SN_Street']) - 1, int(row['EW_Avenue']) - 1\n",
    "    map.grid[st][ave].hasMCD = True\n",
    "    color_mapping[(st, ave)] = row['Color']"
   ],
   "metadata": {
    "collapsed": false,
    "pycharm": {
     "name": "#%%\n"
    }
   }
  },
  {
   "cell_type": "code",
   "execution_count": 13,
   "metadata": {},
   "outputs": [],
   "source": [
    "def calc_euclidean(pos1x, pos1y, pos2x, pos2y):\n",
    "    return math.sqrt((pos2x - pos1x)**2 + (pos2y - pos1y)**2)\n",
    "\n",
    "def calc_manhattan(pos1x, pos1y, pos2x, pos2y):\n",
    "    return abs(pos2x - pos1x) + abs(pos2y - pos1y)"
   ]
  },
  {
   "cell_type": "code",
   "execution_count": 14,
   "metadata": {},
   "outputs": [],
   "source": [
    "for i in range(len(map.grid)):\n",
    "    for j in range(len(map.grid[0])):\n",
    "        min_dis = float('inf')\n",
    "        for index, row in MD_loc_data.iterrows():\n",
    "            st, ave = int(row['SN_Street']) - 1, int(row['EW_Avenue']) - 1\n",
    "            dis = calc_manhattan(i, j, st, ave)\n",
    "            if dis < min_dis:\n",
    "                min_dis = dis\n",
    "                map.grid[i][j].MCDRegion = (st, ave)\n",
    "                if map.grid[i][j].hasMCD:\n",
    "                    map.grid[i][j].color = [0, 0, 0]\n",
    "                else:\n",
    "                    map.grid[i][j].color = color_mapping[(st, ave)]"
   ]
  },
  {
   "cell_type": "code",
   "execution_count": 15,
   "outputs": [
    {
     "data": {
      "text/plain": "[251, 229, 80]"
     },
     "execution_count": 15,
     "metadata": {},
     "output_type": "execute_result"
    }
   ],
   "source": [
    "map.grid[0][0].color"
   ],
   "metadata": {
    "collapsed": false,
    "pycharm": {
     "name": "#%%\n"
    }
   }
  },
  {
   "cell_type": "code",
   "execution_count": 16,
   "outputs": [],
   "source": [
    "from PIL import Image\n",
    "\n",
    "def make_colors(map, scale=8):\n",
    "    data = np.zeros((map.streets * scale, map.aves * scale, 3), dtype=np.uint8)\n",
    "    for i in range(map.streets):\n",
    "        for j in range(map.aves):\n",
    "            for k in range(scale):\n",
    "                for l in range (scale):\n",
    "                    data[scale*i + k, scale*j + l] = map.grid[i][j].color\n",
    "\n",
    "    return Image.fromarray(data).transpose(method=Image.ROTATE_180)"
   ],
   "metadata": {
    "collapsed": false,
    "pycharm": {
     "name": "#%%\n"
    }
   }
  },
  {
   "cell_type": "code",
   "execution_count": 17,
   "outputs": [],
   "source": [
    "c = make_colors(map)"
   ],
   "metadata": {
    "collapsed": false,
    "pycharm": {
     "name": "#%%\n"
    }
   }
  },
  {
   "cell_type": "code",
   "execution_count": 18,
   "outputs": [
    {
     "data": {
      "text/plain": "<PIL.Image.Image image mode=RGB size=104x1824 at 0x217F9E1E280>",
      "image/png": "[encoded data removed]"
     },
     "metadata": {},
     "output_type": "display_data"
    }
   ],
   "source": [
    "display(c) #jupyter command"
   ],
   "metadata": {
    "collapsed": false,
    "pycharm": {
     "name": "#%%\n"
    }
   }
  },
  {
   "cell_type": "code",
   "execution_count": 19,
   "outputs": [],
   "source": [
    "c.save('manhattanmcd.png', format=None)"
   ],
   "metadata": {
    "collapsed": false,
    "pycharm": {
     "name": "#%%\n"
    }
   }
  },
  {
   "cell_type": "code",
   "execution_count": 20,
   "outputs": [],
   "source": [
    "def assign_points(map, prob=0.05):\n",
    "    locations = []\n",
    "    for i in range(map.streets):\n",
    "        for j in range(map.aves):\n",
    "            if random.random() <= prob:\n",
    "                locations.append((i, j))\n",
    "    return locations"
   ],
   "metadata": {
    "collapsed": false,
    "pycharm": {
     "name": "#%%\n"
    }
   }
  },
  {
   "cell_type": "code",
   "execution_count": 21,
   "outputs": [],
   "source": [
    "delivery_loc = assign_points(map)"
   ],
   "metadata": {
    "collapsed": false,
    "pycharm": {
     "name": "#%%\n"
    }
   }
  },
  {
   "cell_type": "code",
   "execution_count": 22,
   "outputs": [],
   "source": [
    "#separate locations by McDRegion buckets\n",
    "def regionize(locations, map):\n",
    "    regionpoints = {}\n",
    "    for point in locations:\n",
    "        i, j = point[0], point[1]\n",
    "        region = map.grid[i][j].MCDRegion\n",
    "        if region not in regionpoints:\n",
    "            regionpoints[region] = []\n",
    "            regionpoints[region].append(region)\n",
    "            regionpoints[region].append(point)\n",
    "        else:\n",
    "            regionpoints[region].append(point)\n",
    "    return regionpoints"
   ],
   "metadata": {
    "collapsed": false,
    "pycharm": {
     "name": "#%%\n"
    }
   }
  },
  {
   "cell_type": "code",
   "execution_count": 23,
   "outputs": [],
   "source": [
    "loc = regionize(delivery_loc, map)"
   ],
   "metadata": {
    "collapsed": false,
    "pycharm": {
     "name": "#%%\n"
    }
   }
  },
  {
   "cell_type": "code",
   "execution_count": 24,
   "outputs": [
    {
     "data": {
      "text/plain": "{(10, 4): [(10, 4),\n  (1, 11),\n  (3, 10),\n  (4, 12),\n  (5, 0),\n  (7, 9),\n  (9, 10),\n  (10, 1),\n  (10, 5),\n  (10, 12),\n  (11, 8),\n  (12, 12),\n  (13, 5),\n  (13, 11)],\n (18, 5): [(18, 5),\n  (14, 5),\n  (15, 1),\n  (16, 6),\n  (18, 2),\n  (21, 9),\n  (22, 6),\n  (22, 9)],\n (27, 3): [(27, 3), (23, 1), (24, 1), (26, 1), (26, 9), (28, 9), (28, 12)],\n (31, 0): [(31, 0), (31, 1), (31, 3)],\n (34, 6): [(34, 6), (31, 8), (33, 8), (34, 7), (34, 11), (35, 3), (35, 8)],\n (38, 4): [(38, 4), (36, 3), (37, 2), (38, 3), (40, 8), (40, 10), (42, 9)],\n (48, 5): [(48, 5), (43, 12), (46, 7), (47, 4), (47, 10), (48, 12), (49, 4)],\n (50, 3): [(50, 3), (52, 3)],\n (55, 5): [(55, 5), (53, 12), (54, 6)],\n (56, 0): [(56, 0), (55, 1), (57, 0)],\n (56, 3): [(56, 3), (57, 3), (58, 4)],\n (59, 7): [(59, 7), (57, 11), (58, 7), (58, 10)],\n (66, 2): [(66, 2), (64, 0), (65, 0)],\n (66, 6): [(66, 6), (64, 10)],\n (68, 7): [(68, 7), (70, 10)],\n (73, 6): [(73, 6), (73, 2), (73, 12)],\n (76, 7): [(76, 7), (75, 9)],\n (79, 5): [(79, 5), (79, 2)],\n (78, 6): [(78, 6), (80, 10), (81, 11)],\n (84, 6): [(84, 6), (82, 10)],\n (83, 2): [(83, 2), (83, 1), (84, 1)],\n (89, 7): [(89, 7), (90, 5)],\n (91, 2): [(91, 2), (96, 2)],\n (102, 0): [(102, 0),\n  (98, 1),\n  (98, 4),\n  (101, 1),\n  (101, 4),\n  (101, 6),\n  (102, 2)],\n (104, 10): [(104, 10), (103, 12)],\n (108, 2): [(108, 2), (105, 2)],\n (117, 11): [(117, 11), (115, 7), (120, 8)],\n (124, 11): [(124, 11),\n  (121, 10),\n  (121, 12),\n  (124, 8),\n  (128, 8),\n  (128, 9),\n  (129, 10),\n  (134, 10)],\n (124, 2): [(124, 2),\n  (122, 2),\n  (124, 6),\n  (127, 6),\n  (128, 2),\n  (129, 2),\n  (129, 3),\n  (130, 3)],\n (138, 2): [(138, 2), (137, 6), (140, 0), (141, 5)],\n (146, 8): [(146, 8), (140, 12)],\n (146, 6): [(146, 6), (142, 6), (145, 1), (147, 3), (148, 4)],\n (153, 5): [(153, 5), (154, 10)],\n (160, 6): [(160, 6),\n  (158, 2),\n  (158, 3),\n  (158, 9),\n  (158, 11),\n  (160, 0),\n  (160, 7),\n  (162, 1),\n  (162, 2),\n  (164, 2)],\n (166, 11): [(166, 11),\n  (166, 10),\n  (167, 7),\n  (168, 4),\n  (173, 3),\n  (173, 5),\n  (173, 12)],\n (180, 11): [(180, 11),\n  (174, 1),\n  (177, 4),\n  (177, 8),\n  (177, 12),\n  (182, 11),\n  (184, 12),\n  (186, 3)],\n (191, 12): [(191, 12),\n  (187, 0),\n  (189, 6),\n  (191, 5),\n  (192, 11),\n  (193, 0),\n  (193, 11)],\n (202, 12): [(202, 12),\n  (197, 2),\n  (197, 8),\n  (197, 12),\n  (198, 0),\n  (200, 11),\n  (204, 2),\n  (207, 3)],\n (213, 12): [(213, 12), (209, 8), (213, 6), (215, 3), (215, 4), (217, 7)],\n (222, 11): [(222, 11), (218, 8), (221, 1), (222, 1), (224, 5), (225, 9)]}"
     },
     "execution_count": 24,
     "metadata": {},
     "output_type": "execute_result"
    }
   ],
   "source": [
    "loc"
   ],
   "metadata": {
    "collapsed": false,
    "pycharm": {
     "name": "#%%\n"
    }
   }
  },
  {
   "cell_type": "code",
   "execution_count": 25,
   "outputs": [],
   "source": [
    "def calc_manhattan(p1, p2):\n",
    "    return abs(p1[0] - p2[0]) + abs(p1[1] - p2[1])"
   ],
   "metadata": {
    "collapsed": false,
    "pycharm": {
     "name": "#%%\n"
    }
   }
  },
  {
   "cell_type": "code",
   "execution_count": 26,
   "outputs": [
    {
     "name": "stdout",
     "output_type": "stream",
     "text": [
      "Requirement already satisfied: landscapes in c:\\users\\nahte\\appdata\\local\\programs\\python\\python39\\lib\\site-packages (0.0.12)\n",
      "Note: you may need to restart the kernel to use updated packages.\n"
     ]
    }
   ],
   "source": [
    "pip install landscapes"
   ],
   "metadata": {
    "collapsed": false,
    "pycharm": {
     "name": "#%%\n"
    }
   }
  },
  {
   "cell_type": "code",
   "execution_count": 27,
   "outputs": [
    {
     "name": "stdout",
     "output_type": "stream",
     "text": [
      "Collecting git+https://github.com/nathanrooy/simulated-annealing\n",
      "  Cloning https://github.com/nathanrooy/simulated-annealing to c:\\users\\nahte\\appdata\\local\\temp\\pip-req-build-daedgoe5\n",
      "  Resolved https://github.com/nathanrooy/simulated-annealing to commit 42eb34e761b76692882a3905ec2be48e19e8133e\n",
      "  Preparing metadata (setup.py): started\n",
      "  Preparing metadata (setup.py): finished with status 'done'\n",
      "Note: you may need to restart the kernel to use updated packages.\n"
     ]
    },
    {
     "name": "stderr",
     "output_type": "stream",
     "text": [
      "  Running command git clone --filter=blob:none -q https://github.com/nathanrooy/simulated-annealing 'C:\\Users\\nahte\\AppData\\Local\\Temp\\pip-req-build-daedgoe5'\n"
     ]
    }
   ],
   "source": [
    "pip install git+https://github.com/nathanrooy/simulated-annealing"
   ],
   "metadata": {
    "collapsed": false,
    "pycharm": {
     "name": "#%%\n"
    }
   }
  },
  {
   "cell_type": "code",
   "execution_count": 28,
   "outputs": [],
   "source": [
    "import time\n",
    "runtimes = {}"
   ],
   "metadata": {
    "collapsed": false,
    "pycharm": {
     "name": "#%%\n"
    }
   }
  },
  {
   "cell_type": "markdown",
   "source": [
    "## Simulated Annealing Implementation"
   ],
   "metadata": {
    "collapsed": false
   }
  },
  {
   "cell_type": "code",
   "execution_count": 29,
   "outputs": [],
   "source": [
    "from simulated_annealing import sa\n",
    "from landscapes.single_objective import tsp\n",
    "\n",
    "import pandas as pd\n",
    "# import osmnx as ox\n",
    "import networkx as nx\n",
    "import math\n",
    "import random"
   ],
   "metadata": {
    "collapsed": false,
    "pycharm": {
     "name": "#%%\n"
    }
   }
  },
  {
   "cell_type": "code",
   "execution_count": 30,
   "outputs": [],
   "source": [
    "tsp_manhattan = tsp(dist_func=calc_manhattan, close_loop=True).dist"
   ],
   "metadata": {
    "collapsed": false,
    "pycharm": {
     "name": "#%%\n"
    }
   }
  },
  {
   "cell_type": "code",
   "execution_count": 31,
   "outputs": [
    {
     "data": {
      "text/plain": "1152"
     },
     "execution_count": 31,
     "metadata": {},
     "output_type": "execute_result"
    }
   ],
   "source": [
    "tsp_manhattan(delivery_loc)"
   ],
   "metadata": {
    "collapsed": false,
    "pycharm": {
     "name": "#%%\n"
    }
   }
  },
  {
   "cell_type": "code",
   "execution_count": 32,
   "outputs": [
    {
     "name": "stdout",
     "output_type": "stream",
     "text": [
      "func: simulated_annealing.sa took: 0.06773924827575684 sec\n",
      "func: simulated_annealing.sa took: 0.047738075256347656 sec\n",
      "func: simulated_annealing.sa took: 0.04760122299194336 sec\n",
      "func: simulated_annealing.sa took: 0.04697775840759277 sec\n",
      "func: simulated_annealing.sa took: 0.042842864990234375 sec\n",
      "func: simulated_annealing.sa took: 0.020383119583129883 sec\n",
      "func: simulated_annealing.sa took: 0.04710650444030762 sec\n",
      "func: simulated_annealing.sa took: 0.047396183013916016 sec\n",
      "func: simulated_annealing.sa took: 0.04696822166442871 sec\n",
      "func: simulated_annealing.sa took: 0.06296110153198242 sec\n",
      "func: simulated_annealing.sa took: 0.0313267707824707 sec\n",
      "func: simulated_annealing.sa took: 0.031249523162841797 sec\n",
      "func: simulated_annealing.sa took: 0.03387165069580078 sec\n",
      "func: simulated_annealing.sa took: 0.03133416175842285 sec\n",
      "func: simulated_annealing.sa took: 0.047926902770996094 sec\n",
      "func: simulated_annealing.sa took: 0.04828476905822754 sec\n",
      "func: simulated_annealing.sa took: 0.04881930351257324 sec\n",
      "func: simulated_annealing.sa took: 0.06437397003173828 sec\n",
      "func: simulated_annealing.sa took: 0.03189730644226074 sec\n",
      "func: simulated_annealing.sa took: 0.031334877014160156 sec\n",
      "func: simulated_annealing.sa took: 0.04695296287536621 sec\n",
      "func: simulated_annealing.sa took: 0.03137350082397461 sec\n",
      "func: simulated_annealing.sa took: 0.031233787536621094 sec\n",
      "func: simulated_annealing.sa took: 0.04809260368347168 sec\n",
      "func: simulated_annealing.sa took: 0.021233558654785156 sec\n",
      "func: simulated_annealing.sa took: 0.06374812126159668 sec\n",
      "func: simulated_annealing.sa took: 0.03179669380187988 sec\n",
      "func: simulated_annealing.sa took: 0.03132128715515137 sec\n",
      "func: simulated_annealing.sa took: 0.04693603515625 sec\n",
      "func: simulated_annealing.sa took: 0.04746389389038086 sec\n",
      "func: simulated_annealing.sa took: 0.03116297721862793 sec\n",
      "func: simulated_annealing.sa took: 0.04759836196899414 sec\n",
      "func: simulated_annealing.sa took: 0.04721379280090332 sec\n",
      "func: simulated_annealing.sa took: 0.031502485275268555 sec\n",
      "func: simulated_annealing.sa took: 0.021640539169311523 sec\n",
      "func: simulated_annealing.sa took: 0.04686880111694336 sec\n",
      "func: simulated_annealing.sa took: 0.03708314895629883 sec\n",
      "func: simulated_annealing.sa took: 0.0263059139251709 sec\n",
      "func: simulated_annealing.sa took: 0.03119516372680664 sec\n",
      "func: simulated_annealing.sa took: 0.0784306526184082 sec\n"
     ]
    }
   ],
   "source": [
    "# cooling_schedule=['linear', 'quadratic', 'exponential', 'logarithmic']\n",
    "# alpha = None, int(64)\n",
    "runtimes[sa.__name__] = 0\n",
    "sa_opt_results = []\n",
    "for key in loc:\n",
    "    loc_list = loc[key]\n",
    "    ts = time.time()\n",
    "    sa_opt_results.append(sa.minimize(tsp_manhattan, delivery_loc, opt_mode='combinatorial', cooling_schedule = 'quadratic', step_max=1000, t_max=100, t_min=0))\n",
    "    te = time.time()\n",
    "    print(f'func: {sa.__name__} took: {te-ts} sec')\n",
    "    runtimes[sa.__name__] += te - ts"
   ],
   "metadata": {
    "collapsed": false,
    "pycharm": {
     "name": "#%%\n"
    }
   }
  },
  {
   "cell_type": "code",
   "execution_count": 33,
   "outputs": [
    {
     "name": "stdout",
     "output_type": "stream",
     "text": [
      "+------------------------ RESULTS -------------------------+\n",
      "\n",
      "      opt.mode: combinatorial\n",
      "cooling sched.: quadratic additive cooling\n",
      "\n",
      "\n",
      "  initial temp: 100\n",
      "    final temp: 0.000100\n",
      "     max steps: 1000\n",
      "    final step: 1000\n",
      "\n",
      "  final energy: 1152.000000\n",
      "\n",
      "+-------------------------- END ---------------------------+\n"
     ]
    }
   ],
   "source": [
    "sa_opt_results[0].results()"
   ],
   "metadata": {
    "collapsed": false,
    "pycharm": {
     "name": "#%%\n"
    }
   }
  },
  {
   "cell_type": "code",
   "execution_count": 34,
   "outputs": [
    {
     "data": {
      "text/plain": "1152"
     },
     "execution_count": 34,
     "metadata": {},
     "output_type": "execute_result"
    }
   ],
   "source": [
    "sa_opt_results[0].best_energy"
   ],
   "metadata": {
    "collapsed": false,
    "pycharm": {
     "name": "#%%\n"
    }
   }
  },
  {
   "cell_type": "code",
   "execution_count": 35,
   "outputs": [],
   "source": [
    "annealing_paths = []\n",
    "sa_total = 0\n",
    "for region in sa_opt_results:\n",
    "    annealing_paths.append(region.best_state)\n",
    "    sa_total += region.best_energy"
   ],
   "metadata": {
    "collapsed": false,
    "pycharm": {
     "name": "#%%\n"
    }
   }
  },
  {
   "cell_type": "code",
   "execution_count": 36,
   "outputs": [
    {
     "data": {
      "text/plain": "[[(1, 11),\n  (3, 10),\n  (4, 12),\n  (5, 0),\n  (7, 9),\n  (9, 10),\n  (10, 1),\n  (10, 5),\n  (10, 12),\n  (11, 8),\n  (12, 12),\n  (13, 5),\n  (13, 11),\n  (14, 5),\n  (15, 1),\n  (16, 6),\n  (18, 2),\n  (21, 9),\n  (22, 6),\n  (22, 9),\n  (23, 1),\n  (24, 1),\n  (26, 1),\n  (26, 9),\n  (28, 9),\n  (28, 12),\n  (31, 1),\n  (31, 3),\n  (31, 8),\n  (33, 8),\n  (34, 7),\n  (34, 11),\n  (35, 3),\n  (35, 8),\n  (36, 3),\n  (37, 2),\n  (38, 3),\n  (40, 8),\n  (40, 10),\n  (42, 9),\n  (43, 12),\n  (46, 7),\n  (47, 4),\n  (47, 10),\n  (48, 12),\n  (49, 4),\n  (52, 3),\n  (53, 12),\n  (54, 6),\n  (55, 1),\n  (57, 0),\n  (57, 3),\n  (57, 11),\n  (58, 4),\n  (58, 7),\n  (58, 10),\n  (64, 0),\n  (64, 10),\n  (65, 0),\n  (70, 10),\n  (73, 2),\n  (73, 12),\n  (75, 9),\n  (79, 2),\n  (80, 10),\n  (81, 11),\n  (82, 10),\n  (83, 1),\n  (84, 1),\n  (90, 5),\n  (96, 2),\n  (98, 1),\n  (98, 4),\n  (101, 1),\n  (101, 4),\n  (101, 6),\n  (102, 2),\n  (103, 12),\n  (105, 2),\n  (115, 7),\n  (120, 8),\n  (121, 10),\n  (121, 12),\n  (122, 2),\n  (124, 6),\n  (124, 8),\n  (127, 6),\n  (128, 2),\n  (128, 8),\n  (128, 9),\n  (129, 2),\n  (129, 3),\n  (129, 10),\n  (130, 3),\n  (134, 10),\n  (137, 6),\n  (140, 0),\n  (140, 12),\n  (141, 5),\n  (142, 6),\n  (145, 1),\n  (147, 3),\n  (148, 4),\n  (154, 10),\n  (158, 2),\n  (158, 3),\n  (158, 9),\n  (158, 11),\n  (160, 0),\n  (160, 7),\n  (162, 1),\n  (162, 2),\n  (164, 2),\n  (166, 10),\n  (167, 7),\n  (168, 4),\n  (173, 3),\n  (173, 5),\n  (173, 12),\n  (174, 1),\n  (177, 4),\n  (177, 8),\n  (177, 12),\n  (182, 11),\n  (184, 12),\n  (186, 3),\n  (187, 0),\n  (189, 6),\n  (191, 5),\n  (192, 11),\n  (193, 0),\n  (193, 11),\n  (197, 2),\n  (197, 8),\n  (197, 12),\n  (198, 0),\n  (200, 11),\n  (204, 2),\n  (207, 3),\n  (209, 8),\n  (213, 6),\n  (215, 3),\n  (215, 4),\n  (217, 7),\n  (218, 8),\n  (221, 1),\n  (222, 1),\n  (224, 5),\n  (225, 9)],\n [(1, 11),\n  (3, 10),\n  (4, 12),\n  (5, 0),\n  (7, 9),\n  (9, 10),\n  (10, 1),\n  (10, 5),\n  (10, 12),\n  (11, 8),\n  (12, 12),\n  (13, 5),\n  (13, 11),\n  (14, 5),\n  (15, 1),\n  (16, 6),\n  (18, 2),\n  (21, 9),\n  (22, 6),\n  (22, 9),\n  (23, 1),\n  (24, 1),\n  (26, 1),\n  (26, 9),\n  (28, 9),\n  (28, 12),\n  (31, 1),\n  (31, 3),\n  (31, 8),\n  (33, 8),\n  (34, 7),\n  (34, 11),\n  (35, 3),\n  (35, 8),\n  (36, 3),\n  (37, 2),\n  (38, 3),\n  (40, 8),\n  (40, 10),\n  (42, 9),\n  (43, 12),\n  (46, 7),\n  (47, 4),\n  (47, 10),\n  (48, 12),\n  (49, 4),\n  (52, 3),\n  (53, 12),\n  (54, 6),\n  (55, 1),\n  (57, 0),\n  (57, 3),\n  (57, 11),\n  (58, 4),\n  (58, 7),\n  (58, 10),\n  (64, 0),\n  (64, 10),\n  (65, 0),\n  (70, 10),\n  (73, 2),\n  (73, 12),\n  (75, 9),\n  (79, 2),\n  (80, 10),\n  (81, 11),\n  (82, 10),\n  (83, 1),\n  (84, 1),\n  (90, 5),\n  (96, 2),\n  (98, 1),\n  (98, 4),\n  (101, 1),\n  (101, 4),\n  (101, 6),\n  (102, 2),\n  (103, 12),\n  (105, 2),\n  (115, 7),\n  (120, 8),\n  (121, 10),\n  (121, 12),\n  (122, 2),\n  (124, 6),\n  (124, 8),\n  (127, 6),\n  (128, 2),\n  (128, 8),\n  (128, 9),\n  (129, 2),\n  (129, 3),\n  (129, 10),\n  (130, 3),\n  (134, 10),\n  (137, 6),\n  (140, 0),\n  (140, 12),\n  (141, 5),\n  (142, 6),\n  (145, 1),\n  (147, 3),\n  (148, 4),\n  (154, 10),\n  (158, 2),\n  (158, 3),\n  (158, 9),\n  (158, 11),\n  (160, 0),\n  (160, 7),\n  (162, 1),\n  (162, 2),\n  (164, 2),\n  (166, 10),\n  (167, 7),\n  (168, 4),\n  (173, 3),\n  (173, 5),\n  (173, 12),\n  (174, 1),\n  (177, 4),\n  (177, 8),\n  (177, 12),\n  (182, 11),\n  (184, 12),\n  (186, 3),\n  (187, 0),\n  (189, 6),\n  (191, 5),\n  (192, 11),\n  (193, 0),\n  (193, 11),\n  (197, 2),\n  (197, 8),\n  (197, 12),\n  (198, 0),\n  (200, 11),\n  (204, 2),\n  (207, 3),\n  (209, 8),\n  (213, 6),\n  (215, 3),\n  (215, 4),\n  (217, 7),\n  (218, 8),\n  (221, 1),\n  (222, 1),\n  (224, 5),\n  (225, 9)],\n [(1, 11),\n  (3, 10),\n  (4, 12),\n  (5, 0),\n  (7, 9),\n  (9, 10),\n  (10, 1),\n  (10, 5),\n  (10, 12),\n  (11, 8),\n  (12, 12),\n  (13, 5),\n  (13, 11),\n  (14, 5),\n  (15, 1),\n  (16, 6),\n  (18, 2),\n  (21, 9),\n  (22, 6),\n  (22, 9),\n  (23, 1),\n  (24, 1),\n  (26, 1),\n  (26, 9),\n  (28, 9),\n  (28, 12),\n  (31, 1),\n  (31, 3),\n  (31, 8),\n  (33, 8),\n  (34, 7),\n  (34, 11),\n  (35, 3),\n  (35, 8),\n  (36, 3),\n  (37, 2),\n  (38, 3),\n  (40, 8),\n  (40, 10),\n  (42, 9),\n  (43, 12),\n  (46, 7),\n  (47, 4),\n  (47, 10),\n  (48, 12),\n  (49, 4),\n  (52, 3),\n  (53, 12),\n  (54, 6),\n  (55, 1),\n  (57, 0),\n  (57, 3),\n  (57, 11),\n  (58, 4),\n  (58, 7),\n  (58, 10),\n  (64, 0),\n  (64, 10),\n  (65, 0),\n  (70, 10),\n  (73, 2),\n  (73, 12),\n  (75, 9),\n  (79, 2),\n  (80, 10),\n  (81, 11),\n  (82, 10),\n  (83, 1),\n  (84, 1),\n  (90, 5),\n  (96, 2),\n  (98, 1),\n  (98, 4),\n  (101, 1),\n  (101, 4),\n  (101, 6),\n  (102, 2),\n  (103, 12),\n  (105, 2),\n  (115, 7),\n  (120, 8),\n  (121, 10),\n  (121, 12),\n  (122, 2),\n  (124, 6),\n  (124, 8),\n  (127, 6),\n  (128, 2),\n  (128, 8),\n  (128, 9),\n  (129, 2),\n  (129, 3),\n  (129, 10),\n  (130, 3),\n  (134, 10),\n  (137, 6),\n  (140, 0),\n  (140, 12),\n  (141, 5),\n  (142, 6),\n  (145, 1),\n  (147, 3),\n  (148, 4),\n  (154, 10),\n  (158, 2),\n  (158, 3),\n  (158, 9),\n  (158, 11),\n  (160, 0),\n  (160, 7),\n  (162, 1),\n  (162, 2),\n  (164, 2),\n  (166, 10),\n  (167, 7),\n  (168, 4),\n  (173, 3),\n  (173, 5),\n  (173, 12),\n  (174, 1),\n  (177, 4),\n  (177, 8),\n  (177, 12),\n  (182, 11),\n  (184, 12),\n  (186, 3),\n  (187, 0),\n  (189, 6),\n  (191, 5),\n  (192, 11),\n  (193, 0),\n  (193, 11),\n  (197, 2),\n  (197, 8),\n  (197, 12),\n  (198, 0),\n  (200, 11),\n  (204, 2),\n  (207, 3),\n  (209, 8),\n  (213, 6),\n  (215, 3),\n  (215, 4),\n  (217, 7),\n  (218, 8),\n  (221, 1),\n  (222, 1),\n  (224, 5),\n  (225, 9)],\n [(1, 11),\n  (3, 10),\n  (4, 12),\n  (5, 0),\n  (7, 9),\n  (9, 10),\n  (10, 1),\n  (10, 5),\n  (10, 12),\n  (11, 8),\n  (12, 12),\n  (13, 5),\n  (13, 11),\n  (14, 5),\n  (15, 1),\n  (16, 6),\n  (18, 2),\n  (21, 9),\n  (22, 6),\n  (22, 9),\n  (23, 1),\n  (24, 1),\n  (26, 1),\n  (26, 9),\n  (28, 9),\n  (28, 12),\n  (31, 1),\n  (31, 3),\n  (31, 8),\n  (33, 8),\n  (34, 7),\n  (34, 11),\n  (35, 3),\n  (35, 8),\n  (36, 3),\n  (37, 2),\n  (38, 3),\n  (40, 8),\n  (40, 10),\n  (42, 9),\n  (43, 12),\n  (46, 7),\n  (47, 4),\n  (47, 10),\n  (48, 12),\n  (49, 4),\n  (52, 3),\n  (53, 12),\n  (54, 6),\n  (55, 1),\n  (57, 0),\n  (57, 3),\n  (57, 11),\n  (58, 4),\n  (58, 7),\n  (58, 10),\n  (64, 0),\n  (64, 10),\n  (65, 0),\n  (70, 10),\n  (73, 2),\n  (73, 12),\n  (75, 9),\n  (79, 2),\n  (80, 10),\n  (81, 11),\n  (82, 10),\n  (83, 1),\n  (84, 1),\n  (90, 5),\n  (96, 2),\n  (98, 1),\n  (98, 4),\n  (101, 1),\n  (101, 4),\n  (101, 6),\n  (102, 2),\n  (103, 12),\n  (105, 2),\n  (115, 7),\n  (120, 8),\n  (121, 10),\n  (121, 12),\n  (122, 2),\n  (124, 6),\n  (124, 8),\n  (127, 6),\n  (128, 2),\n  (128, 8),\n  (128, 9),\n  (129, 2),\n  (129, 3),\n  (129, 10),\n  (130, 3),\n  (134, 10),\n  (137, 6),\n  (140, 0),\n  (140, 12),\n  (141, 5),\n  (142, 6),\n  (145, 1),\n  (147, 3),\n  (148, 4),\n  (154, 10),\n  (158, 2),\n  (158, 3),\n  (158, 9),\n  (158, 11),\n  (160, 0),\n  (160, 7),\n  (162, 1),\n  (162, 2),\n  (164, 2),\n  (166, 10),\n  (167, 7),\n  (168, 4),\n  (173, 3),\n  (173, 5),\n  (173, 12),\n  (174, 1),\n  (177, 4),\n  (177, 8),\n  (177, 12),\n  (182, 11),\n  (184, 12),\n  (186, 3),\n  (187, 0),\n  (189, 6),\n  (191, 5),\n  (192, 11),\n  (193, 0),\n  (193, 11),\n  (197, 2),\n  (197, 8),\n  (197, 12),\n  (198, 0),\n  (200, 11),\n  (204, 2),\n  (207, 3),\n  (209, 8),\n  (213, 6),\n  (215, 3),\n  (215, 4),\n  (217, 7),\n  (218, 8),\n  (221, 1),\n  (222, 1),\n  (224, 5),\n  (225, 9)],\n [(1, 11),\n  (3, 10),\n  (4, 12),\n  (5, 0),\n  (7, 9),\n  (9, 10),\n  (10, 1),\n  (10, 5),\n  (10, 12),\n  (11, 8),\n  (12, 12),\n  (13, 5),\n  (13, 11),\n  (14, 5),\n  (15, 1),\n  (16, 6),\n  (18, 2),\n  (21, 9),\n  (22, 6),\n  (22, 9),\n  (23, 1),\n  (24, 1),\n  (26, 1),\n  (26, 9),\n  (28, 9),\n  (28, 12),\n  (31, 1),\n  (31, 3),\n  (31, 8),\n  (33, 8),\n  (34, 7),\n  (34, 11),\n  (35, 3),\n  (35, 8),\n  (36, 3),\n  (37, 2),\n  (38, 3),\n  (40, 8),\n  (40, 10),\n  (42, 9),\n  (43, 12),\n  (46, 7),\n  (47, 4),\n  (47, 10),\n  (48, 12),\n  (49, 4),\n  (52, 3),\n  (53, 12),\n  (54, 6),\n  (55, 1),\n  (57, 0),\n  (57, 3),\n  (57, 11),\n  (58, 4),\n  (58, 7),\n  (58, 10),\n  (64, 0),\n  (64, 10),\n  (65, 0),\n  (70, 10),\n  (73, 2),\n  (73, 12),\n  (75, 9),\n  (79, 2),\n  (80, 10),\n  (81, 11),\n  (82, 10),\n  (83, 1),\n  (84, 1),\n  (90, 5),\n  (96, 2),\n  (98, 1),\n  (98, 4),\n  (101, 1),\n  (101, 4),\n  (101, 6),\n  (102, 2),\n  (103, 12),\n  (105, 2),\n  (115, 7),\n  (120, 8),\n  (121, 10),\n  (121, 12),\n  (122, 2),\n  (124, 6),\n  (124, 8),\n  (127, 6),\n  (128, 2),\n  (128, 8),\n  (128, 9),\n  (129, 2),\n  (129, 3),\n  (129, 10),\n  (130, 3),\n  (134, 10),\n  (137, 6),\n  (140, 0),\n  (140, 12),\n  (141, 5),\n  (142, 6),\n  (145, 1),\n  (147, 3),\n  (148, 4),\n  (154, 10),\n  (158, 2),\n  (158, 3),\n  (158, 9),\n  (158, 11),\n  (160, 0),\n  (160, 7),\n  (162, 1),\n  (162, 2),\n  (164, 2),\n  (166, 10),\n  (167, 7),\n  (168, 4),\n  (173, 3),\n  (173, 5),\n  (173, 12),\n  (174, 1),\n  (177, 4),\n  (177, 8),\n  (177, 12),\n  (182, 11),\n  (184, 12),\n  (186, 3),\n  (187, 0),\n  (189, 6),\n  (191, 5),\n  (192, 11),\n  (193, 0),\n  (193, 11),\n  (197, 2),\n  (197, 8),\n  (197, 12),\n  (198, 0),\n  (200, 11),\n  (204, 2),\n  (207, 3),\n  (209, 8),\n  (213, 6),\n  (215, 3),\n  (215, 4),\n  (217, 7),\n  (218, 8),\n  (221, 1),\n  (222, 1),\n  (224, 5),\n  (225, 9)],\n [(1, 11),\n  (3, 10),\n  (4, 12),\n  (5, 0),\n  (7, 9),\n  (9, 10),\n  (10, 1),\n  (10, 5),\n  (10, 12),\n  (11, 8),\n  (12, 12),\n  (13, 5),\n  (13, 11),\n  (14, 5),\n  (15, 1),\n  (16, 6),\n  (18, 2),\n  (21, 9),\n  (22, 6),\n  (22, 9),\n  (23, 1),\n  (24, 1),\n  (26, 1),\n  (26, 9),\n  (28, 9),\n  (28, 12),\n  (31, 1),\n  (31, 3),\n  (31, 8),\n  (33, 8),\n  (34, 7),\n  (34, 11),\n  (35, 3),\n  (35, 8),\n  (36, 3),\n  (37, 2),\n  (38, 3),\n  (40, 8),\n  (40, 10),\n  (42, 9),\n  (43, 12),\n  (46, 7),\n  (47, 4),\n  (47, 10),\n  (48, 12),\n  (49, 4),\n  (52, 3),\n  (53, 12),\n  (54, 6),\n  (55, 1),\n  (57, 0),\n  (57, 3),\n  (57, 11),\n  (58, 4),\n  (58, 7),\n  (58, 10),\n  (64, 0),\n  (64, 10),\n  (65, 0),\n  (70, 10),\n  (73, 2),\n  (73, 12),\n  (75, 9),\n  (79, 2),\n  (80, 10),\n  (81, 11),\n  (82, 10),\n  (83, 1),\n  (84, 1),\n  (90, 5),\n  (96, 2),\n  (98, 1),\n  (98, 4),\n  (101, 1),\n  (101, 4),\n  (101, 6),\n  (102, 2),\n  (103, 12),\n  (105, 2),\n  (115, 7),\n  (120, 8),\n  (121, 10),\n  (121, 12),\n  (122, 2),\n  (124, 6),\n  (124, 8),\n  (127, 6),\n  (128, 2),\n  (128, 8),\n  (128, 9),\n  (129, 2),\n  (129, 3),\n  (129, 10),\n  (130, 3),\n  (134, 10),\n  (137, 6),\n  (140, 0),\n  (140, 12),\n  (141, 5),\n  (142, 6),\n  (145, 1),\n  (147, 3),\n  (148, 4),\n  (154, 10),\n  (158, 2),\n  (158, 3),\n  (158, 9),\n  (158, 11),\n  (160, 0),\n  (160, 7),\n  (162, 1),\n  (162, 2),\n  (164, 2),\n  (166, 10),\n  (167, 7),\n  (168, 4),\n  (173, 3),\n  (173, 5),\n  (173, 12),\n  (174, 1),\n  (177, 4),\n  (177, 8),\n  (177, 12),\n  (182, 11),\n  (184, 12),\n  (186, 3),\n  (187, 0),\n  (189, 6),\n  (191, 5),\n  (192, 11),\n  (193, 0),\n  (193, 11),\n  (197, 2),\n  (197, 8),\n  (197, 12),\n  (198, 0),\n  (200, 11),\n  (204, 2),\n  (207, 3),\n  (209, 8),\n  (213, 6),\n  (215, 3),\n  (215, 4),\n  (217, 7),\n  (218, 8),\n  (221, 1),\n  (222, 1),\n  (224, 5),\n  (225, 9)],\n [(1, 11),\n  (3, 10),\n  (4, 12),\n  (5, 0),\n  (7, 9),\n  (9, 10),\n  (10, 1),\n  (10, 5),\n  (10, 12),\n  (11, 8),\n  (12, 12),\n  (13, 5),\n  (13, 11),\n  (14, 5),\n  (15, 1),\n  (16, 6),\n  (18, 2),\n  (21, 9),\n  (22, 6),\n  (22, 9),\n  (23, 1),\n  (24, 1),\n  (26, 1),\n  (26, 9),\n  (28, 9),\n  (28, 12),\n  (31, 1),\n  (31, 3),\n  (31, 8),\n  (33, 8),\n  (34, 7),\n  (34, 11),\n  (35, 3),\n  (35, 8),\n  (36, 3),\n  (37, 2),\n  (38, 3),\n  (40, 8),\n  (40, 10),\n  (42, 9),\n  (43, 12),\n  (46, 7),\n  (47, 4),\n  (47, 10),\n  (48, 12),\n  (49, 4),\n  (52, 3),\n  (53, 12),\n  (54, 6),\n  (55, 1),\n  (57, 0),\n  (57, 3),\n  (57, 11),\n  (58, 4),\n  (58, 7),\n  (58, 10),\n  (64, 0),\n  (64, 10),\n  (65, 0),\n  (70, 10),\n  (73, 2),\n  (73, 12),\n  (75, 9),\n  (79, 2),\n  (80, 10),\n  (81, 11),\n  (82, 10),\n  (83, 1),\n  (84, 1),\n  (90, 5),\n  (96, 2),\n  (98, 1),\n  (98, 4),\n  (101, 1),\n  (101, 4),\n  (101, 6),\n  (102, 2),\n  (103, 12),\n  (105, 2),\n  (115, 7),\n  (120, 8),\n  (121, 10),\n  (121, 12),\n  (122, 2),\n  (124, 6),\n  (124, 8),\n  (127, 6),\n  (128, 2),\n  (128, 8),\n  (128, 9),\n  (129, 2),\n  (129, 3),\n  (129, 10),\n  (130, 3),\n  (134, 10),\n  (137, 6),\n  (140, 0),\n  (140, 12),\n  (141, 5),\n  (142, 6),\n  (145, 1),\n  (147, 3),\n  (148, 4),\n  (154, 10),\n  (158, 2),\n  (158, 3),\n  (158, 9),\n  (158, 11),\n  (160, 0),\n  (160, 7),\n  (162, 1),\n  (162, 2),\n  (164, 2),\n  (166, 10),\n  (167, 7),\n  (168, 4),\n  (173, 3),\n  (173, 5),\n  (173, 12),\n  (174, 1),\n  (177, 4),\n  (177, 8),\n  (177, 12),\n  (182, 11),\n  (184, 12),\n  (186, 3),\n  (187, 0),\n  (189, 6),\n  (191, 5),\n  (192, 11),\n  (193, 0),\n  (193, 11),\n  (197, 2),\n  (197, 8),\n  (197, 12),\n  (198, 0),\n  (200, 11),\n  (204, 2),\n  (207, 3),\n  (209, 8),\n  (213, 6),\n  (215, 3),\n  (215, 4),\n  (217, 7),\n  (218, 8),\n  (221, 1),\n  (222, 1),\n  (224, 5),\n  (225, 9)],\n [(1, 11),\n  (3, 10),\n  (4, 12),\n  (5, 0),\n  (7, 9),\n  (9, 10),\n  (10, 1),\n  (10, 5),\n  (10, 12),\n  (11, 8),\n  (12, 12),\n  (13, 5),\n  (13, 11),\n  (14, 5),\n  (15, 1),\n  (16, 6),\n  (18, 2),\n  (21, 9),\n  (22, 6),\n  (22, 9),\n  (23, 1),\n  (24, 1),\n  (26, 1),\n  (26, 9),\n  (28, 9),\n  (28, 12),\n  (31, 1),\n  (31, 3),\n  (31, 8),\n  (33, 8),\n  (34, 7),\n  (34, 11),\n  (35, 3),\n  (35, 8),\n  (36, 3),\n  (37, 2),\n  (38, 3),\n  (40, 8),\n  (40, 10),\n  (42, 9),\n  (43, 12),\n  (46, 7),\n  (47, 4),\n  (47, 10),\n  (48, 12),\n  (49, 4),\n  (52, 3),\n  (53, 12),\n  (54, 6),\n  (55, 1),\n  (57, 0),\n  (57, 3),\n  (57, 11),\n  (58, 4),\n  (58, 7),\n  (58, 10),\n  (64, 0),\n  (64, 10),\n  (65, 0),\n  (70, 10),\n  (73, 2),\n  (73, 12),\n  (75, 9),\n  (79, 2),\n  (80, 10),\n  (81, 11),\n  (82, 10),\n  (83, 1),\n  (84, 1),\n  (90, 5),\n  (96, 2),\n  (98, 1),\n  (98, 4),\n  (101, 1),\n  (101, 4),\n  (101, 6),\n  (102, 2),\n  (103, 12),\n  (105, 2),\n  (115, 7),\n  (120, 8),\n  (121, 10),\n  (121, 12),\n  (122, 2),\n  (124, 6),\n  (124, 8),\n  (127, 6),\n  (128, 2),\n  (128, 8),\n  (128, 9),\n  (129, 2),\n  (129, 3),\n  (129, 10),\n  (130, 3),\n  (134, 10),\n  (137, 6),\n  (140, 0),\n  (140, 12),\n  (141, 5),\n  (142, 6),\n  (145, 1),\n  (147, 3),\n  (148, 4),\n  (154, 10),\n  (158, 2),\n  (158, 3),\n  (158, 9),\n  (158, 11),\n  (160, 0),\n  (160, 7),\n  (162, 1),\n  (162, 2),\n  (164, 2),\n  (166, 10),\n  (167, 7),\n  (168, 4),\n  (173, 3),\n  (173, 5),\n  (173, 12),\n  (174, 1),\n  (177, 4),\n  (177, 8),\n  (177, 12),\n  (182, 11),\n  (184, 12),\n  (186, 3),\n  (187, 0),\n  (189, 6),\n  (191, 5),\n  (192, 11),\n  (193, 0),\n  (193, 11),\n  (197, 2),\n  (197, 8),\n  (197, 12),\n  (198, 0),\n  (200, 11),\n  (204, 2),\n  (207, 3),\n  (209, 8),\n  (213, 6),\n  (215, 3),\n  (215, 4),\n  (217, 7),\n  (218, 8),\n  (221, 1),\n  (222, 1),\n  (224, 5),\n  (225, 9)],\n [(1, 11),\n  (3, 10),\n  (4, 12),\n  (5, 0),\n  (7, 9),\n  (9, 10),\n  (10, 1),\n  (10, 5),\n  (10, 12),\n  (11, 8),\n  (12, 12),\n  (13, 5),\n  (13, 11),\n  (14, 5),\n  (15, 1),\n  (16, 6),\n  (18, 2),\n  (21, 9),\n  (22, 6),\n  (22, 9),\n  (23, 1),\n  (24, 1),\n  (26, 1),\n  (26, 9),\n  (28, 9),\n  (28, 12),\n  (31, 1),\n  (31, 3),\n  (31, 8),\n  (33, 8),\n  (34, 7),\n  (34, 11),\n  (35, 3),\n  (35, 8),\n  (36, 3),\n  (37, 2),\n  (38, 3),\n  (40, 8),\n  (40, 10),\n  (42, 9),\n  (43, 12),\n  (46, 7),\n  (47, 4),\n  (47, 10),\n  (48, 12),\n  (49, 4),\n  (52, 3),\n  (53, 12),\n  (54, 6),\n  (55, 1),\n  (57, 0),\n  (57, 3),\n  (57, 11),\n  (58, 4),\n  (58, 7),\n  (58, 10),\n  (64, 0),\n  (64, 10),\n  (65, 0),\n  (70, 10),\n  (73, 2),\n  (73, 12),\n  (75, 9),\n  (79, 2),\n  (80, 10),\n  (81, 11),\n  (82, 10),\n  (83, 1),\n  (84, 1),\n  (90, 5),\n  (96, 2),\n  (98, 1),\n  (98, 4),\n  (101, 1),\n  (101, 4),\n  (101, 6),\n  (102, 2),\n  (103, 12),\n  (105, 2),\n  (115, 7),\n  (120, 8),\n  (121, 10),\n  (121, 12),\n  (122, 2),\n  (124, 6),\n  (124, 8),\n  (127, 6),\n  (128, 2),\n  (128, 8),\n  (128, 9),\n  (129, 2),\n  (129, 3),\n  (129, 10),\n  (130, 3),\n  (134, 10),\n  (137, 6),\n  (140, 0),\n  (140, 12),\n  (141, 5),\n  (142, 6),\n  (145, 1),\n  (147, 3),\n  (148, 4),\n  (154, 10),\n  (158, 2),\n  (158, 3),\n  (158, 9),\n  (158, 11),\n  (160, 0),\n  (160, 7),\n  (162, 1),\n  (162, 2),\n  (164, 2),\n  (166, 10),\n  (167, 7),\n  (168, 4),\n  (173, 3),\n  (173, 5),\n  (173, 12),\n  (174, 1),\n  (177, 4),\n  (177, 8),\n  (177, 12),\n  (182, 11),\n  (184, 12),\n  (186, 3),\n  (187, 0),\n  (189, 6),\n  (191, 5),\n  (192, 11),\n  (193, 0),\n  (193, 11),\n  (197, 2),\n  (197, 8),\n  (197, 12),\n  (198, 0),\n  (200, 11),\n  (204, 2),\n  (207, 3),\n  (209, 8),\n  (213, 6),\n  (215, 3),\n  (215, 4),\n  (217, 7),\n  (218, 8),\n  (221, 1),\n  (222, 1),\n  (224, 5),\n  (225, 9)],\n [(1, 11),\n  (3, 10),\n  (4, 12),\n  (5, 0),\n  (7, 9),\n  (9, 10),\n  (10, 1),\n  (10, 5),\n  (10, 12),\n  (11, 8),\n  (12, 12),\n  (13, 5),\n  (13, 11),\n  (14, 5),\n  (15, 1),\n  (16, 6),\n  (18, 2),\n  (21, 9),\n  (22, 6),\n  (22, 9),\n  (23, 1),\n  (24, 1),\n  (26, 1),\n  (26, 9),\n  (28, 9),\n  (28, 12),\n  (31, 1),\n  (31, 3),\n  (31, 8),\n  (33, 8),\n  (34, 7),\n  (34, 11),\n  (35, 3),\n  (35, 8),\n  (36, 3),\n  (37, 2),\n  (38, 3),\n  (40, 8),\n  (40, 10),\n  (42, 9),\n  (43, 12),\n  (46, 7),\n  (47, 4),\n  (47, 10),\n  (48, 12),\n  (49, 4),\n  (52, 3),\n  (53, 12),\n  (54, 6),\n  (55, 1),\n  (57, 0),\n  (57, 3),\n  (57, 11),\n  (58, 4),\n  (58, 7),\n  (58, 10),\n  (64, 0),\n  (64, 10),\n  (65, 0),\n  (70, 10),\n  (73, 2),\n  (73, 12),\n  (75, 9),\n  (79, 2),\n  (80, 10),\n  (81, 11),\n  (82, 10),\n  (83, 1),\n  (84, 1),\n  (90, 5),\n  (96, 2),\n  (98, 1),\n  (98, 4),\n  (101, 1),\n  (101, 4),\n  (101, 6),\n  (102, 2),\n  (103, 12),\n  (105, 2),\n  (115, 7),\n  (120, 8),\n  (121, 10),\n  (121, 12),\n  (122, 2),\n  (124, 6),\n  (124, 8),\n  (127, 6),\n  (128, 2),\n  (128, 8),\n  (128, 9),\n  (129, 2),\n  (129, 3),\n  (129, 10),\n  (130, 3),\n  (134, 10),\n  (137, 6),\n  (140, 0),\n  (140, 12),\n  (141, 5),\n  (142, 6),\n  (145, 1),\n  (147, 3),\n  (148, 4),\n  (154, 10),\n  (158, 2),\n  (158, 3),\n  (158, 9),\n  (158, 11),\n  (160, 0),\n  (160, 7),\n  (162, 1),\n  (162, 2),\n  (164, 2),\n  (166, 10),\n  (167, 7),\n  (168, 4),\n  (173, 3),\n  (173, 5),\n  (173, 12),\n  (174, 1),\n  (177, 4),\n  (177, 8),\n  (177, 12),\n  (182, 11),\n  (184, 12),\n  (186, 3),\n  (187, 0),\n  (189, 6),\n  (191, 5),\n  (192, 11),\n  (193, 0),\n  (193, 11),\n  (197, 2),\n  (197, 8),\n  (197, 12),\n  (198, 0),\n  (200, 11),\n  (204, 2),\n  (207, 3),\n  (209, 8),\n  (213, 6),\n  (215, 3),\n  (215, 4),\n  (217, 7),\n  (218, 8),\n  (221, 1),\n  (222, 1),\n  (224, 5),\n  (225, 9)],\n [(1, 11),\n  (3, 10),\n  (4, 12),\n  (5, 0),\n  (7, 9),\n  (9, 10),\n  (10, 1),\n  (10, 5),\n  (10, 12),\n  (11, 8),\n  (12, 12),\n  (13, 5),\n  (13, 11),\n  (14, 5),\n  (15, 1),\n  (16, 6),\n  (18, 2),\n  (21, 9),\n  (22, 6),\n  (22, 9),\n  (23, 1),\n  (24, 1),\n  (26, 1),\n  (26, 9),\n  (28, 9),\n  (28, 12),\n  (31, 1),\n  (31, 3),\n  (31, 8),\n  (33, 8),\n  (34, 7),\n  (34, 11),\n  (35, 3),\n  (35, 8),\n  (36, 3),\n  (37, 2),\n  (38, 3),\n  (40, 8),\n  (40, 10),\n  (42, 9),\n  (43, 12),\n  (46, 7),\n  (47, 4),\n  (47, 10),\n  (48, 12),\n  (49, 4),\n  (52, 3),\n  (53, 12),\n  (54, 6),\n  (55, 1),\n  (57, 0),\n  (57, 3),\n  (57, 11),\n  (58, 4),\n  (58, 7),\n  (58, 10),\n  (64, 0),\n  (64, 10),\n  (65, 0),\n  (70, 10),\n  (73, 2),\n  (73, 12),\n  (75, 9),\n  (79, 2),\n  (80, 10),\n  (81, 11),\n  (82, 10),\n  (83, 1),\n  (84, 1),\n  (90, 5),\n  (96, 2),\n  (98, 1),\n  (98, 4),\n  (101, 1),\n  (101, 4),\n  (101, 6),\n  (102, 2),\n  (103, 12),\n  (105, 2),\n  (115, 7),\n  (120, 8),\n  (121, 10),\n  (121, 12),\n  (122, 2),\n  (124, 6),\n  (124, 8),\n  (127, 6),\n  (128, 2),\n  (128, 8),\n  (128, 9),\n  (129, 2),\n  (129, 3),\n  (129, 10),\n  (130, 3),\n  (134, 10),\n  (137, 6),\n  (140, 0),\n  (140, 12),\n  (141, 5),\n  (142, 6),\n  (145, 1),\n  (147, 3),\n  (148, 4),\n  (154, 10),\n  (158, 2),\n  (158, 3),\n  (158, 9),\n  (158, 11),\n  (160, 0),\n  (160, 7),\n  (162, 1),\n  (162, 2),\n  (164, 2),\n  (166, 10),\n  (167, 7),\n  (168, 4),\n  (173, 3),\n  (173, 5),\n  (173, 12),\n  (174, 1),\n  (177, 4),\n  (177, 8),\n  (177, 12),\n  (182, 11),\n  (184, 12),\n  (186, 3),\n  (187, 0),\n  (189, 6),\n  (191, 5),\n  (192, 11),\n  (193, 0),\n  (193, 11),\n  (197, 2),\n  (197, 8),\n  (197, 12),\n  (198, 0),\n  (200, 11),\n  (204, 2),\n  (207, 3),\n  (209, 8),\n  (213, 6),\n  (215, 3),\n  (215, 4),\n  (217, 7),\n  (218, 8),\n  (221, 1),\n  (222, 1),\n  (224, 5),\n  (225, 9)],\n [(1, 11),\n  (3, 10),\n  (4, 12),\n  (5, 0),\n  (7, 9),\n  (9, 10),\n  (10, 1),\n  (10, 5),\n  (10, 12),\n  (11, 8),\n  (12, 12),\n  (13, 5),\n  (13, 11),\n  (14, 5),\n  (15, 1),\n  (16, 6),\n  (18, 2),\n  (21, 9),\n  (22, 6),\n  (22, 9),\n  (23, 1),\n  (24, 1),\n  (26, 1),\n  (26, 9),\n  (28, 9),\n  (28, 12),\n  (31, 1),\n  (31, 3),\n  (31, 8),\n  (33, 8),\n  (34, 7),\n  (34, 11),\n  (35, 3),\n  (35, 8),\n  (36, 3),\n  (37, 2),\n  (38, 3),\n  (40, 8),\n  (40, 10),\n  (42, 9),\n  (43, 12),\n  (46, 7),\n  (47, 4),\n  (47, 10),\n  (48, 12),\n  (49, 4),\n  (52, 3),\n  (53, 12),\n  (54, 6),\n  (55, 1),\n  (57, 0),\n  (57, 3),\n  (57, 11),\n  (58, 4),\n  (58, 7),\n  (58, 10),\n  (64, 0),\n  (64, 10),\n  (65, 0),\n  (70, 10),\n  (73, 2),\n  (73, 12),\n  (75, 9),\n  (79, 2),\n  (80, 10),\n  (81, 11),\n  (82, 10),\n  (83, 1),\n  (84, 1),\n  (90, 5),\n  (96, 2),\n  (98, 1),\n  (98, 4),\n  (101, 1),\n  (101, 4),\n  (101, 6),\n  (102, 2),\n  (103, 12),\n  (105, 2),\n  (115, 7),\n  (120, 8),\n  (121, 10),\n  (121, 12),\n  (122, 2),\n  (124, 6),\n  (124, 8),\n  (127, 6),\n  (128, 2),\n  (128, 8),\n  (128, 9),\n  (129, 2),\n  (129, 3),\n  (129, 10),\n  (130, 3),\n  (134, 10),\n  (137, 6),\n  (140, 0),\n  (140, 12),\n  (141, 5),\n  (142, 6),\n  (145, 1),\n  (147, 3),\n  (148, 4),\n  (154, 10),\n  (158, 2),\n  (158, 3),\n  (158, 9),\n  (158, 11),\n  (160, 0),\n  (160, 7),\n  (162, 1),\n  (162, 2),\n  (164, 2),\n  (166, 10),\n  (167, 7),\n  (168, 4),\n  (173, 3),\n  (173, 5),\n  (173, 12),\n  (174, 1),\n  (177, 4),\n  (177, 8),\n  (177, 12),\n  (182, 11),\n  (184, 12),\n  (186, 3),\n  (187, 0),\n  (189, 6),\n  (191, 5),\n  (192, 11),\n  (193, 0),\n  (193, 11),\n  (197, 2),\n  (197, 8),\n  (197, 12),\n  (198, 0),\n  (200, 11),\n  (204, 2),\n  (207, 3),\n  (209, 8),\n  (213, 6),\n  (215, 3),\n  (215, 4),\n  (217, 7),\n  (218, 8),\n  (221, 1),\n  (222, 1),\n  (224, 5),\n  (225, 9)],\n [(1, 11),\n  (3, 10),\n  (4, 12),\n  (5, 0),\n  (7, 9),\n  (9, 10),\n  (10, 1),\n  (10, 5),\n  (10, 12),\n  (11, 8),\n  (12, 12),\n  (13, 5),\n  (13, 11),\n  (14, 5),\n  (15, 1),\n  (16, 6),\n  (18, 2),\n  (21, 9),\n  (22, 6),\n  (22, 9),\n  (23, 1),\n  (24, 1),\n  (26, 1),\n  (26, 9),\n  (28, 9),\n  (28, 12),\n  (31, 1),\n  (31, 3),\n  (31, 8),\n  (33, 8),\n  (34, 7),\n  (34, 11),\n  (35, 3),\n  (35, 8),\n  (36, 3),\n  (37, 2),\n  (38, 3),\n  (40, 8),\n  (40, 10),\n  (42, 9),\n  (43, 12),\n  (46, 7),\n  (47, 4),\n  (47, 10),\n  (48, 12),\n  (49, 4),\n  (52, 3),\n  (53, 12),\n  (54, 6),\n  (55, 1),\n  (57, 0),\n  (57, 3),\n  (57, 11),\n  (58, 4),\n  (58, 7),\n  (58, 10),\n  (64, 0),\n  (64, 10),\n  (65, 0),\n  (70, 10),\n  (73, 2),\n  (73, 12),\n  (75, 9),\n  (79, 2),\n  (80, 10),\n  (81, 11),\n  (82, 10),\n  (83, 1),\n  (84, 1),\n  (90, 5),\n  (96, 2),\n  (98, 1),\n  (98, 4),\n  (101, 1),\n  (101, 4),\n  (101, 6),\n  (102, 2),\n  (103, 12),\n  (105, 2),\n  (115, 7),\n  (120, 8),\n  (121, 10),\n  (121, 12),\n  (122, 2),\n  (124, 6),\n  (124, 8),\n  (127, 6),\n  (128, 2),\n  (128, 8),\n  (128, 9),\n  (129, 2),\n  (129, 3),\n  (129, 10),\n  (130, 3),\n  (134, 10),\n  (137, 6),\n  (140, 0),\n  (140, 12),\n  (141, 5),\n  (142, 6),\n  (145, 1),\n  (147, 3),\n  (148, 4),\n  (154, 10),\n  (158, 2),\n  (158, 3),\n  (158, 9),\n  (158, 11),\n  (160, 0),\n  (160, 7),\n  (162, 1),\n  (162, 2),\n  (164, 2),\n  (166, 10),\n  (167, 7),\n  (168, 4),\n  (173, 3),\n  (173, 5),\n  (173, 12),\n  (174, 1),\n  (177, 4),\n  (177, 8),\n  (177, 12),\n  (182, 11),\n  (184, 12),\n  (186, 3),\n  (187, 0),\n  (189, 6),\n  (191, 5),\n  (192, 11),\n  (193, 0),\n  (193, 11),\n  (197, 2),\n  (197, 8),\n  (197, 12),\n  (198, 0),\n  (200, 11),\n  (204, 2),\n  (207, 3),\n  (209, 8),\n  (213, 6),\n  (215, 3),\n  (215, 4),\n  (217, 7),\n  (218, 8),\n  (221, 1),\n  (222, 1),\n  (224, 5),\n  (225, 9)],\n [(1, 11),\n  (3, 10),\n  (4, 12),\n  (5, 0),\n  (7, 9),\n  (9, 10),\n  (10, 1),\n  (10, 5),\n  (10, 12),\n  (11, 8),\n  (12, 12),\n  (13, 5),\n  (13, 11),\n  (14, 5),\n  (15, 1),\n  (16, 6),\n  (18, 2),\n  (21, 9),\n  (22, 6),\n  (22, 9),\n  (23, 1),\n  (24, 1),\n  (26, 1),\n  (26, 9),\n  (28, 9),\n  (28, 12),\n  (31, 1),\n  (31, 3),\n  (31, 8),\n  (33, 8),\n  (34, 7),\n  (34, 11),\n  (35, 3),\n  (35, 8),\n  (36, 3),\n  (37, 2),\n  (38, 3),\n  (40, 8),\n  (40, 10),\n  (42, 9),\n  (43, 12),\n  (46, 7),\n  (47, 4),\n  (47, 10),\n  (48, 12),\n  (49, 4),\n  (52, 3),\n  (53, 12),\n  (54, 6),\n  (55, 1),\n  (57, 0),\n  (57, 3),\n  (57, 11),\n  (58, 4),\n  (58, 7),\n  (58, 10),\n  (64, 0),\n  (64, 10),\n  (65, 0),\n  (70, 10),\n  (73, 2),\n  (73, 12),\n  (75, 9),\n  (79, 2),\n  (80, 10),\n  (81, 11),\n  (82, 10),\n  (83, 1),\n  (84, 1),\n  (90, 5),\n  (96, 2),\n  (98, 1),\n  (98, 4),\n  (101, 1),\n  (101, 4),\n  (101, 6),\n  (102, 2),\n  (103, 12),\n  (105, 2),\n  (115, 7),\n  (120, 8),\n  (121, 10),\n  (121, 12),\n  (122, 2),\n  (124, 6),\n  (124, 8),\n  (127, 6),\n  (128, 2),\n  (128, 8),\n  (128, 9),\n  (129, 2),\n  (129, 3),\n  (129, 10),\n  (130, 3),\n  (134, 10),\n  (137, 6),\n  (140, 0),\n  (140, 12),\n  (141, 5),\n  (142, 6),\n  (145, 1),\n  (147, 3),\n  (148, 4),\n  (154, 10),\n  (158, 2),\n  (158, 3),\n  (158, 9),\n  (158, 11),\n  (160, 0),\n  (160, 7),\n  (162, 1),\n  (162, 2),\n  (164, 2),\n  (166, 10),\n  (167, 7),\n  (168, 4),\n  (173, 3),\n  (173, 5),\n  (173, 12),\n  (174, 1),\n  (177, 4),\n  (177, 8),\n  (177, 12),\n  (182, 11),\n  (184, 12),\n  (186, 3),\n  (187, 0),\n  (189, 6),\n  (191, 5),\n  (192, 11),\n  (193, 0),\n  (193, 11),\n  (197, 2),\n  (197, 8),\n  (197, 12),\n  (198, 0),\n  (200, 11),\n  (204, 2),\n  (207, 3),\n  (209, 8),\n  (213, 6),\n  (215, 3),\n  (215, 4),\n  (217, 7),\n  (218, 8),\n  (221, 1),\n  (222, 1),\n  (224, 5),\n  (225, 9)],\n [(1, 11),\n  (3, 10),\n  (4, 12),\n  (5, 0),\n  (7, 9),\n  (9, 10),\n  (10, 1),\n  (10, 5),\n  (10, 12),\n  (11, 8),\n  (12, 12),\n  (13, 5),\n  (13, 11),\n  (14, 5),\n  (15, 1),\n  (16, 6),\n  (18, 2),\n  (21, 9),\n  (22, 6),\n  (22, 9),\n  (23, 1),\n  (24, 1),\n  (26, 1),\n  (26, 9),\n  (28, 9),\n  (28, 12),\n  (31, 1),\n  (31, 3),\n  (31, 8),\n  (33, 8),\n  (34, 7),\n  (34, 11),\n  (35, 3),\n  (35, 8),\n  (36, 3),\n  (37, 2),\n  (38, 3),\n  (40, 8),\n  (40, 10),\n  (42, 9),\n  (43, 12),\n  (46, 7),\n  (47, 4),\n  (47, 10),\n  (48, 12),\n  (49, 4),\n  (52, 3),\n  (53, 12),\n  (54, 6),\n  (55, 1),\n  (57, 0),\n  (57, 3),\n  (57, 11),\n  (58, 4),\n  (58, 7),\n  (58, 10),\n  (64, 0),\n  (64, 10),\n  (65, 0),\n  (70, 10),\n  (73, 2),\n  (73, 12),\n  (75, 9),\n  (79, 2),\n  (80, 10),\n  (81, 11),\n  (82, 10),\n  (83, 1),\n  (84, 1),\n  (90, 5),\n  (96, 2),\n  (98, 1),\n  (98, 4),\n  (101, 1),\n  (101, 4),\n  (101, 6),\n  (102, 2),\n  (103, 12),\n  (105, 2),\n  (115, 7),\n  (120, 8),\n  (121, 10),\n  (121, 12),\n  (122, 2),\n  (124, 6),\n  (124, 8),\n  (127, 6),\n  (128, 2),\n  (128, 8),\n  (128, 9),\n  (129, 2),\n  (129, 3),\n  (129, 10),\n  (130, 3),\n  (134, 10),\n  (137, 6),\n  (140, 0),\n  (140, 12),\n  (141, 5),\n  (142, 6),\n  (145, 1),\n  (147, 3),\n  (148, 4),\n  (154, 10),\n  (158, 2),\n  (158, 3),\n  (158, 9),\n  (158, 11),\n  (160, 0),\n  (160, 7),\n  (162, 1),\n  (162, 2),\n  (164, 2),\n  (166, 10),\n  (167, 7),\n  (168, 4),\n  (173, 3),\n  (173, 5),\n  (173, 12),\n  (174, 1),\n  (177, 4),\n  (177, 8),\n  (177, 12),\n  (182, 11),\n  (184, 12),\n  (186, 3),\n  (187, 0),\n  (189, 6),\n  (191, 5),\n  (192, 11),\n  (193, 0),\n  (193, 11),\n  (197, 2),\n  (197, 8),\n  (197, 12),\n  (198, 0),\n  (200, 11),\n  (204, 2),\n  (207, 3),\n  (209, 8),\n  (213, 6),\n  (215, 3),\n  (215, 4),\n  (217, 7),\n  (218, 8),\n  (221, 1),\n  (222, 1),\n  (224, 5),\n  (225, 9)],\n [(1, 11),\n  (3, 10),\n  (4, 12),\n  (5, 0),\n  (7, 9),\n  (9, 10),\n  (10, 1),\n  (10, 5),\n  (10, 12),\n  (11, 8),\n  (12, 12),\n  (13, 5),\n  (13, 11),\n  (14, 5),\n  (15, 1),\n  (16, 6),\n  (18, 2),\n  (21, 9),\n  (22, 6),\n  (22, 9),\n  (23, 1),\n  (24, 1),\n  (26, 1),\n  (26, 9),\n  (28, 9),\n  (28, 12),\n  (31, 1),\n  (31, 3),\n  (31, 8),\n  (33, 8),\n  (34, 7),\n  (34, 11),\n  (35, 3),\n  (35, 8),\n  (36, 3),\n  (37, 2),\n  (38, 3),\n  (40, 8),\n  (40, 10),\n  (42, 9),\n  (43, 12),\n  (46, 7),\n  (47, 4),\n  (47, 10),\n  (48, 12),\n  (49, 4),\n  (52, 3),\n  (53, 12),\n  (54, 6),\n  (55, 1),\n  (57, 0),\n  (57, 3),\n  (57, 11),\n  (58, 4),\n  (58, 7),\n  (58, 10),\n  (64, 0),\n  (64, 10),\n  (65, 0),\n  (70, 10),\n  (73, 2),\n  (73, 12),\n  (75, 9),\n  (79, 2),\n  (80, 10),\n  (81, 11),\n  (82, 10),\n  (83, 1),\n  (84, 1),\n  (90, 5),\n  (96, 2),\n  (98, 1),\n  (98, 4),\n  (101, 1),\n  (101, 4),\n  (101, 6),\n  (102, 2),\n  (103, 12),\n  (105, 2),\n  (115, 7),\n  (120, 8),\n  (121, 10),\n  (121, 12),\n  (122, 2),\n  (124, 6),\n  (124, 8),\n  (127, 6),\n  (128, 2),\n  (128, 8),\n  (128, 9),\n  (129, 2),\n  (129, 3),\n  (129, 10),\n  (130, 3),\n  (134, 10),\n  (137, 6),\n  (140, 0),\n  (140, 12),\n  (141, 5),\n  (142, 6),\n  (145, 1),\n  (147, 3),\n  (148, 4),\n  (154, 10),\n  (158, 2),\n  (158, 3),\n  (158, 9),\n  (158, 11),\n  (160, 0),\n  (160, 7),\n  (162, 1),\n  (162, 2),\n  (164, 2),\n  (166, 10),\n  (167, 7),\n  (168, 4),\n  (173, 3),\n  (173, 5),\n  (173, 12),\n  (174, 1),\n  (177, 4),\n  (177, 8),\n  (177, 12),\n  (182, 11),\n  (184, 12),\n  (186, 3),\n  (187, 0),\n  (189, 6),\n  (191, 5),\n  (192, 11),\n  (193, 0),\n  (193, 11),\n  (197, 2),\n  (197, 8),\n  (197, 12),\n  (198, 0),\n  (200, 11),\n  (204, 2),\n  (207, 3),\n  (209, 8),\n  (213, 6),\n  (215, 3),\n  (215, 4),\n  (217, 7),\n  (218, 8),\n  (221, 1),\n  (222, 1),\n  (224, 5),\n  (225, 9)],\n [(1, 11),\n  (3, 10),\n  (4, 12),\n  (5, 0),\n  (7, 9),\n  (9, 10),\n  (10, 1),\n  (10, 5),\n  (10, 12),\n  (11, 8),\n  (12, 12),\n  (13, 5),\n  (13, 11),\n  (14, 5),\n  (15, 1),\n  (16, 6),\n  (18, 2),\n  (21, 9),\n  (22, 6),\n  (22, 9),\n  (23, 1),\n  (24, 1),\n  (26, 1),\n  (26, 9),\n  (28, 9),\n  (28, 12),\n  (31, 1),\n  (31, 3),\n  (31, 8),\n  (33, 8),\n  (34, 7),\n  (34, 11),\n  (35, 3),\n  (35, 8),\n  (36, 3),\n  (37, 2),\n  (38, 3),\n  (40, 8),\n  (40, 10),\n  (42, 9),\n  (43, 12),\n  (46, 7),\n  (47, 4),\n  (47, 10),\n  (48, 12),\n  (49, 4),\n  (52, 3),\n  (53, 12),\n  (54, 6),\n  (55, 1),\n  (57, 0),\n  (57, 3),\n  (57, 11),\n  (58, 4),\n  (58, 7),\n  (58, 10),\n  (64, 0),\n  (64, 10),\n  (65, 0),\n  (70, 10),\n  (73, 2),\n  (73, 12),\n  (75, 9),\n  (79, 2),\n  (80, 10),\n  (81, 11),\n  (82, 10),\n  (83, 1),\n  (84, 1),\n  (90, 5),\n  (96, 2),\n  (98, 1),\n  (98, 4),\n  (101, 1),\n  (101, 4),\n  (101, 6),\n  (102, 2),\n  (103, 12),\n  (105, 2),\n  (115, 7),\n  (120, 8),\n  (121, 10),\n  (121, 12),\n  (122, 2),\n  (124, 6),\n  (124, 8),\n  (127, 6),\n  (128, 2),\n  (128, 8),\n  (128, 9),\n  (129, 2),\n  (129, 3),\n  (129, 10),\n  (130, 3),\n  (134, 10),\n  (137, 6),\n  (140, 0),\n  (140, 12),\n  (141, 5),\n  (142, 6),\n  (145, 1),\n  (147, 3),\n  (148, 4),\n  (154, 10),\n  (158, 2),\n  (158, 3),\n  (158, 9),\n  (158, 11),\n  (160, 0),\n  (160, 7),\n  (162, 1),\n  (162, 2),\n  (164, 2),\n  (166, 10),\n  (167, 7),\n  (168, 4),\n  (173, 3),\n  (173, 5),\n  (173, 12),\n  (174, 1),\n  (177, 4),\n  (177, 8),\n  (177, 12),\n  (182, 11),\n  (184, 12),\n  (186, 3),\n  (187, 0),\n  (189, 6),\n  (191, 5),\n  (192, 11),\n  (193, 0),\n  (193, 11),\n  (197, 2),\n  (197, 8),\n  (197, 12),\n  (198, 0),\n  (200, 11),\n  (204, 2),\n  (207, 3),\n  (209, 8),\n  (213, 6),\n  (215, 3),\n  (215, 4),\n  (217, 7),\n  (218, 8),\n  (221, 1),\n  (222, 1),\n  (224, 5),\n  (225, 9)],\n [(1, 11),\n  (3, 10),\n  (4, 12),\n  (5, 0),\n  (7, 9),\n  (9, 10),\n  (10, 1),\n  (10, 5),\n  (10, 12),\n  (11, 8),\n  (12, 12),\n  (13, 5),\n  (13, 11),\n  (14, 5),\n  (15, 1),\n  (16, 6),\n  (18, 2),\n  (21, 9),\n  (22, 6),\n  (22, 9),\n  (23, 1),\n  (24, 1),\n  (26, 1),\n  (26, 9),\n  (28, 9),\n  (28, 12),\n  (31, 1),\n  (31, 3),\n  (31, 8),\n  (33, 8),\n  (34, 7),\n  (34, 11),\n  (35, 3),\n  (35, 8),\n  (36, 3),\n  (37, 2),\n  (38, 3),\n  (40, 8),\n  (40, 10),\n  (42, 9),\n  (43, 12),\n  (46, 7),\n  (47, 4),\n  (47, 10),\n  (48, 12),\n  (49, 4),\n  (52, 3),\n  (53, 12),\n  (54, 6),\n  (55, 1),\n  (57, 0),\n  (57, 3),\n  (57, 11),\n  (58, 4),\n  (58, 7),\n  (58, 10),\n  (64, 0),\n  (64, 10),\n  (65, 0),\n  (70, 10),\n  (73, 2),\n  (73, 12),\n  (75, 9),\n  (79, 2),\n  (80, 10),\n  (81, 11),\n  (82, 10),\n  (83, 1),\n  (84, 1),\n  (90, 5),\n  (96, 2),\n  (98, 1),\n  (98, 4),\n  (101, 1),\n  (101, 4),\n  (101, 6),\n  (102, 2),\n  (103, 12),\n  (105, 2),\n  (115, 7),\n  (120, 8),\n  (121, 10),\n  (121, 12),\n  (122, 2),\n  (124, 6),\n  (124, 8),\n  (127, 6),\n  (128, 2),\n  (128, 8),\n  (128, 9),\n  (129, 2),\n  (129, 3),\n  (129, 10),\n  (130, 3),\n  (134, 10),\n  (137, 6),\n  (140, 0),\n  (140, 12),\n  (141, 5),\n  (142, 6),\n  (145, 1),\n  (147, 3),\n  (148, 4),\n  (154, 10),\n  (158, 2),\n  (158, 3),\n  (158, 9),\n  (158, 11),\n  (160, 0),\n  (160, 7),\n  (162, 1),\n  (162, 2),\n  (164, 2),\n  (166, 10),\n  (167, 7),\n  (168, 4),\n  (173, 3),\n  (173, 5),\n  (173, 12),\n  (174, 1),\n  (177, 4),\n  (177, 8),\n  (177, 12),\n  (182, 11),\n  (184, 12),\n  (186, 3),\n  (187, 0),\n  (189, 6),\n  (191, 5),\n  (192, 11),\n  (193, 0),\n  (193, 11),\n  (197, 2),\n  (197, 8),\n  (197, 12),\n  (198, 0),\n  (200, 11),\n  (204, 2),\n  (207, 3),\n  (209, 8),\n  (213, 6),\n  (215, 3),\n  (215, 4),\n  (217, 7),\n  (218, 8),\n  (221, 1),\n  (222, 1),\n  (224, 5),\n  (225, 9)],\n [(1, 11),\n  (3, 10),\n  (4, 12),\n  (5, 0),\n  (7, 9),\n  (9, 10),\n  (10, 1),\n  (10, 5),\n  (10, 12),\n  (11, 8),\n  (12, 12),\n  (13, 5),\n  (13, 11),\n  (14, 5),\n  (15, 1),\n  (16, 6),\n  (18, 2),\n  (21, 9),\n  (22, 6),\n  (22, 9),\n  (23, 1),\n  (24, 1),\n  (26, 1),\n  (26, 9),\n  (28, 9),\n  (28, 12),\n  (31, 1),\n  (31, 3),\n  (31, 8),\n  (33, 8),\n  (34, 7),\n  (34, 11),\n  (35, 3),\n  (35, 8),\n  (36, 3),\n  (37, 2),\n  (38, 3),\n  (40, 8),\n  (40, 10),\n  (42, 9),\n  (43, 12),\n  (46, 7),\n  (47, 4),\n  (47, 10),\n  (48, 12),\n  (49, 4),\n  (52, 3),\n  (53, 12),\n  (54, 6),\n  (55, 1),\n  (57, 0),\n  (57, 3),\n  (57, 11),\n  (58, 4),\n  (58, 7),\n  (58, 10),\n  (64, 0),\n  (64, 10),\n  (65, 0),\n  (70, 10),\n  (73, 2),\n  (73, 12),\n  (75, 9),\n  (79, 2),\n  (80, 10),\n  (81, 11),\n  (82, 10),\n  (83, 1),\n  (84, 1),\n  (90, 5),\n  (96, 2),\n  (98, 1),\n  (98, 4),\n  (101, 1),\n  (101, 4),\n  (101, 6),\n  (102, 2),\n  (103, 12),\n  (105, 2),\n  (115, 7),\n  (120, 8),\n  (121, 10),\n  (121, 12),\n  (122, 2),\n  (124, 6),\n  (124, 8),\n  (127, 6),\n  (128, 2),\n  (128, 8),\n  (128, 9),\n  (129, 2),\n  (129, 3),\n  (129, 10),\n  (130, 3),\n  (134, 10),\n  (137, 6),\n  (140, 0),\n  (140, 12),\n  (141, 5),\n  (142, 6),\n  (145, 1),\n  (147, 3),\n  (148, 4),\n  (154, 10),\n  (158, 2),\n  (158, 3),\n  (158, 9),\n  (158, 11),\n  (160, 0),\n  (160, 7),\n  (162, 1),\n  (162, 2),\n  (164, 2),\n  (166, 10),\n  (167, 7),\n  (168, 4),\n  (173, 3),\n  (173, 5),\n  (173, 12),\n  (174, 1),\n  (177, 4),\n  (177, 8),\n  (177, 12),\n  (182, 11),\n  (184, 12),\n  (186, 3),\n  (187, 0),\n  (189, 6),\n  (191, 5),\n  (192, 11),\n  (193, 0),\n  (193, 11),\n  (197, 2),\n  (197, 8),\n  (197, 12),\n  (198, 0),\n  (200, 11),\n  (204, 2),\n  (207, 3),\n  (209, 8),\n  (213, 6),\n  (215, 3),\n  (215, 4),\n  (217, 7),\n  (218, 8),\n  (221, 1),\n  (222, 1),\n  (224, 5),\n  (225, 9)],\n [(1, 11),\n  (3, 10),\n  (4, 12),\n  (5, 0),\n  (7, 9),\n  (9, 10),\n  (10, 1),\n  (10, 5),\n  (10, 12),\n  (11, 8),\n  (12, 12),\n  (13, 5),\n  (13, 11),\n  (14, 5),\n  (15, 1),\n  (16, 6),\n  (18, 2),\n  (21, 9),\n  (22, 6),\n  (22, 9),\n  (23, 1),\n  (24, 1),\n  (26, 1),\n  (26, 9),\n  (28, 9),\n  (28, 12),\n  (31, 1),\n  (31, 3),\n  (31, 8),\n  (33, 8),\n  (34, 7),\n  (34, 11),\n  (35, 3),\n  (35, 8),\n  (36, 3),\n  (37, 2),\n  (38, 3),\n  (40, 8),\n  (40, 10),\n  (42, 9),\n  (43, 12),\n  (46, 7),\n  (47, 4),\n  (47, 10),\n  (48, 12),\n  (49, 4),\n  (52, 3),\n  (53, 12),\n  (54, 6),\n  (55, 1),\n  (57, 0),\n  (57, 3),\n  (57, 11),\n  (58, 4),\n  (58, 7),\n  (58, 10),\n  (64, 0),\n  (64, 10),\n  (65, 0),\n  (70, 10),\n  (73, 2),\n  (73, 12),\n  (75, 9),\n  (79, 2),\n  (80, 10),\n  (81, 11),\n  (82, 10),\n  (83, 1),\n  (84, 1),\n  (90, 5),\n  (96, 2),\n  (98, 1),\n  (98, 4),\n  (101, 1),\n  (101, 4),\n  (101, 6),\n  (102, 2),\n  (103, 12),\n  (105, 2),\n  (115, 7),\n  (120, 8),\n  (121, 10),\n  (121, 12),\n  (122, 2),\n  (124, 6),\n  (124, 8),\n  (127, 6),\n  (128, 2),\n  (128, 8),\n  (128, 9),\n  (129, 2),\n  (129, 3),\n  (129, 10),\n  (130, 3),\n  (134, 10),\n  (137, 6),\n  (140, 0),\n  (140, 12),\n  (141, 5),\n  (142, 6),\n  (145, 1),\n  (147, 3),\n  (148, 4),\n  (154, 10),\n  (158, 2),\n  (158, 3),\n  (158, 9),\n  (158, 11),\n  (160, 0),\n  (160, 7),\n  (162, 1),\n  (162, 2),\n  (164, 2),\n  (166, 10),\n  (167, 7),\n  (168, 4),\n  (173, 3),\n  (173, 5),\n  (173, 12),\n  (174, 1),\n  (177, 4),\n  (177, 8),\n  (177, 12),\n  (182, 11),\n  (184, 12),\n  (186, 3),\n  (187, 0),\n  (189, 6),\n  (191, 5),\n  (192, 11),\n  (193, 0),\n  (193, 11),\n  (197, 2),\n  (197, 8),\n  (197, 12),\n  (198, 0),\n  (200, 11),\n  (204, 2),\n  (207, 3),\n  (209, 8),\n  (213, 6),\n  (215, 3),\n  (215, 4),\n  (217, 7),\n  (218, 8),\n  (221, 1),\n  (222, 1),\n  (224, 5),\n  (225, 9)],\n [(1, 11),\n  (3, 10),\n  (4, 12),\n  (5, 0),\n  (7, 9),\n  (9, 10),\n  (10, 1),\n  (10, 5),\n  (10, 12),\n  (11, 8),\n  (12, 12),\n  (13, 5),\n  (13, 11),\n  (14, 5),\n  (15, 1),\n  (16, 6),\n  (18, 2),\n  (21, 9),\n  (22, 6),\n  (22, 9),\n  (23, 1),\n  (24, 1),\n  (26, 1),\n  (26, 9),\n  (28, 9),\n  (28, 12),\n  (31, 1),\n  (31, 3),\n  (31, 8),\n  (33, 8),\n  (34, 7),\n  (34, 11),\n  (35, 3),\n  (35, 8),\n  (36, 3),\n  (37, 2),\n  (38, 3),\n  (40, 8),\n  (40, 10),\n  (42, 9),\n  (43, 12),\n  (46, 7),\n  (47, 4),\n  (47, 10),\n  (48, 12),\n  (49, 4),\n  (52, 3),\n  (53, 12),\n  (54, 6),\n  (55, 1),\n  (57, 0),\n  (57, 3),\n  (57, 11),\n  (58, 4),\n  (58, 7),\n  (58, 10),\n  (64, 0),\n  (64, 10),\n  (65, 0),\n  (70, 10),\n  (73, 2),\n  (73, 12),\n  (75, 9),\n  (79, 2),\n  (80, 10),\n  (81, 11),\n  (82, 10),\n  (83, 1),\n  (84, 1),\n  (90, 5),\n  (96, 2),\n  (98, 1),\n  (98, 4),\n  (101, 1),\n  (101, 4),\n  (101, 6),\n  (102, 2),\n  (103, 12),\n  (105, 2),\n  (115, 7),\n  (120, 8),\n  (121, 10),\n  (121, 12),\n  (122, 2),\n  (124, 6),\n  (124, 8),\n  (127, 6),\n  (128, 2),\n  (128, 8),\n  (128, 9),\n  (129, 2),\n  (129, 3),\n  (129, 10),\n  (130, 3),\n  (134, 10),\n  (137, 6),\n  (140, 0),\n  (140, 12),\n  (141, 5),\n  (142, 6),\n  (145, 1),\n  (147, 3),\n  (148, 4),\n  (154, 10),\n  (158, 2),\n  (158, 3),\n  (158, 9),\n  (158, 11),\n  (160, 0),\n  (160, 7),\n  (162, 1),\n  (162, 2),\n  (164, 2),\n  (166, 10),\n  (167, 7),\n  (168, 4),\n  (173, 3),\n  (173, 5),\n  (173, 12),\n  (174, 1),\n  (177, 4),\n  (177, 8),\n  (177, 12),\n  (182, 11),\n  (184, 12),\n  (186, 3),\n  (187, 0),\n  (189, 6),\n  (191, 5),\n  (192, 11),\n  (193, 0),\n  (193, 11),\n  (197, 2),\n  (197, 8),\n  (197, 12),\n  (198, 0),\n  (200, 11),\n  (204, 2),\n  (207, 3),\n  (209, 8),\n  (213, 6),\n  (215, 3),\n  (215, 4),\n  (217, 7),\n  (218, 8),\n  (221, 1),\n  (222, 1),\n  (224, 5),\n  (225, 9)],\n [(1, 11),\n  (3, 10),\n  (4, 12),\n  (5, 0),\n  (7, 9),\n  (9, 10),\n  (10, 1),\n  (10, 5),\n  (10, 12),\n  (11, 8),\n  (12, 12),\n  (13, 5),\n  (13, 11),\n  (14, 5),\n  (15, 1),\n  (16, 6),\n  (18, 2),\n  (21, 9),\n  (22, 6),\n  (22, 9),\n  (23, 1),\n  (24, 1),\n  (26, 1),\n  (26, 9),\n  (28, 9),\n  (28, 12),\n  (31, 1),\n  (31, 3),\n  (31, 8),\n  (33, 8),\n  (34, 7),\n  (34, 11),\n  (35, 3),\n  (35, 8),\n  (36, 3),\n  (37, 2),\n  (38, 3),\n  (40, 8),\n  (40, 10),\n  (42, 9),\n  (43, 12),\n  (46, 7),\n  (47, 4),\n  (47, 10),\n  (48, 12),\n  (49, 4),\n  (52, 3),\n  (53, 12),\n  (54, 6),\n  (55, 1),\n  (57, 0),\n  (57, 3),\n  (57, 11),\n  (58, 4),\n  (58, 7),\n  (58, 10),\n  (64, 0),\n  (64, 10),\n  (65, 0),\n  (70, 10),\n  (73, 2),\n  (73, 12),\n  (75, 9),\n  (79, 2),\n  (80, 10),\n  (81, 11),\n  (82, 10),\n  (83, 1),\n  (84, 1),\n  (90, 5),\n  (96, 2),\n  (98, 1),\n  (98, 4),\n  (101, 1),\n  (101, 4),\n  (101, 6),\n  (102, 2),\n  (103, 12),\n  (105, 2),\n  (115, 7),\n  (120, 8),\n  (121, 10),\n  (121, 12),\n  (122, 2),\n  (124, 6),\n  (124, 8),\n  (127, 6),\n  (128, 2),\n  (128, 8),\n  (128, 9),\n  (129, 2),\n  (129, 3),\n  (129, 10),\n  (130, 3),\n  (134, 10),\n  (137, 6),\n  (140, 0),\n  (140, 12),\n  (141, 5),\n  (142, 6),\n  (145, 1),\n  (147, 3),\n  (148, 4),\n  (154, 10),\n  (158, 2),\n  (158, 3),\n  (158, 9),\n  (158, 11),\n  (160, 0),\n  (160, 7),\n  (162, 1),\n  (162, 2),\n  (164, 2),\n  (166, 10),\n  (167, 7),\n  (168, 4),\n  (173, 3),\n  (173, 5),\n  (173, 12),\n  (174, 1),\n  (177, 4),\n  (177, 8),\n  (177, 12),\n  (182, 11),\n  (184, 12),\n  (186, 3),\n  (187, 0),\n  (189, 6),\n  (191, 5),\n  (192, 11),\n  (193, 0),\n  (193, 11),\n  (197, 2),\n  (197, 8),\n  (197, 12),\n  (198, 0),\n  (200, 11),\n  (204, 2),\n  (207, 3),\n  (209, 8),\n  (213, 6),\n  (215, 3),\n  (215, 4),\n  (217, 7),\n  (218, 8),\n  (221, 1),\n  (222, 1),\n  (224, 5),\n  (225, 9)],\n [(1, 11),\n  (3, 10),\n  (4, 12),\n  (5, 0),\n  (7, 9),\n  (9, 10),\n  (10, 1),\n  (10, 5),\n  (10, 12),\n  (11, 8),\n  (12, 12),\n  (13, 5),\n  (13, 11),\n  (14, 5),\n  (15, 1),\n  (16, 6),\n  (18, 2),\n  (21, 9),\n  (22, 6),\n  (22, 9),\n  (23, 1),\n  (24, 1),\n  (26, 1),\n  (26, 9),\n  (28, 9),\n  (28, 12),\n  (31, 1),\n  (31, 3),\n  (31, 8),\n  (33, 8),\n  (34, 7),\n  (34, 11),\n  (35, 3),\n  (35, 8),\n  (36, 3),\n  (37, 2),\n  (38, 3),\n  (40, 8),\n  (40, 10),\n  (42, 9),\n  (43, 12),\n  (46, 7),\n  (47, 4),\n  (47, 10),\n  (48, 12),\n  (49, 4),\n  (52, 3),\n  (53, 12),\n  (54, 6),\n  (55, 1),\n  (57, 0),\n  (57, 3),\n  (57, 11),\n  (58, 4),\n  (58, 7),\n  (58, 10),\n  (64, 0),\n  (64, 10),\n  (65, 0),\n  (70, 10),\n  (73, 2),\n  (73, 12),\n  (75, 9),\n  (79, 2),\n  (80, 10),\n  (81, 11),\n  (82, 10),\n  (83, 1),\n  (84, 1),\n  (90, 5),\n  (96, 2),\n  (98, 1),\n  (98, 4),\n  (101, 1),\n  (101, 4),\n  (101, 6),\n  (102, 2),\n  (103, 12),\n  (105, 2),\n  (115, 7),\n  (120, 8),\n  (121, 10),\n  (121, 12),\n  (122, 2),\n  (124, 6),\n  (124, 8),\n  (127, 6),\n  (128, 2),\n  (128, 8),\n  (128, 9),\n  (129, 2),\n  (129, 3),\n  (129, 10),\n  (130, 3),\n  (134, 10),\n  (137, 6),\n  (140, 0),\n  (140, 12),\n  (141, 5),\n  (142, 6),\n  (145, 1),\n  (147, 3),\n  (148, 4),\n  (154, 10),\n  (158, 2),\n  (158, 3),\n  (158, 9),\n  (158, 11),\n  (160, 0),\n  (160, 7),\n  (162, 1),\n  (162, 2),\n  (164, 2),\n  (166, 10),\n  (167, 7),\n  (168, 4),\n  (173, 3),\n  (173, 5),\n  (173, 12),\n  (174, 1),\n  (177, 4),\n  (177, 8),\n  (177, 12),\n  (182, 11),\n  (184, 12),\n  (186, 3),\n  (187, 0),\n  (189, 6),\n  (191, 5),\n  (192, 11),\n  (193, 0),\n  (193, 11),\n  (197, 2),\n  (197, 8),\n  (197, 12),\n  (198, 0),\n  (200, 11),\n  (204, 2),\n  (207, 3),\n  (209, 8),\n  (213, 6),\n  (215, 3),\n  (215, 4),\n  (217, 7),\n  (218, 8),\n  (221, 1),\n  (222, 1),\n  (224, 5),\n  (225, 9)],\n [(1, 11),\n  (3, 10),\n  (4, 12),\n  (5, 0),\n  (7, 9),\n  (9, 10),\n  (10, 1),\n  (10, 5),\n  (10, 12),\n  (11, 8),\n  (12, 12),\n  (13, 5),\n  (13, 11),\n  (14, 5),\n  (15, 1),\n  (16, 6),\n  (18, 2),\n  (21, 9),\n  (22, 6),\n  (22, 9),\n  (23, 1),\n  (24, 1),\n  (26, 1),\n  (26, 9),\n  (28, 9),\n  (28, 12),\n  (31, 1),\n  (31, 3),\n  (31, 8),\n  (33, 8),\n  (34, 7),\n  (34, 11),\n  (35, 3),\n  (35, 8),\n  (36, 3),\n  (37, 2),\n  (38, 3),\n  (40, 8),\n  (40, 10),\n  (42, 9),\n  (43, 12),\n  (46, 7),\n  (47, 4),\n  (47, 10),\n  (48, 12),\n  (49, 4),\n  (52, 3),\n  (53, 12),\n  (54, 6),\n  (55, 1),\n  (57, 0),\n  (57, 3),\n  (57, 11),\n  (58, 4),\n  (58, 7),\n  (58, 10),\n  (64, 0),\n  (64, 10),\n  (65, 0),\n  (70, 10),\n  (73, 2),\n  (73, 12),\n  (75, 9),\n  (79, 2),\n  (80, 10),\n  (81, 11),\n  (82, 10),\n  (83, 1),\n  (84, 1),\n  (90, 5),\n  (96, 2),\n  (98, 1),\n  (98, 4),\n  (101, 1),\n  (101, 4),\n  (101, 6),\n  (102, 2),\n  (103, 12),\n  (105, 2),\n  (115, 7),\n  (120, 8),\n  (121, 10),\n  (121, 12),\n  (122, 2),\n  (124, 6),\n  (124, 8),\n  (127, 6),\n  (128, 2),\n  (128, 8),\n  (128, 9),\n  (129, 2),\n  (129, 3),\n  (129, 10),\n  (130, 3),\n  (134, 10),\n  (137, 6),\n  (140, 0),\n  (140, 12),\n  (141, 5),\n  (142, 6),\n  (145, 1),\n  (147, 3),\n  (148, 4),\n  (154, 10),\n  (158, 2),\n  (158, 3),\n  (158, 9),\n  (158, 11),\n  (160, 0),\n  (160, 7),\n  (162, 1),\n  (162, 2),\n  (164, 2),\n  (166, 10),\n  (167, 7),\n  (168, 4),\n  (173, 3),\n  (173, 5),\n  (173, 12),\n  (174, 1),\n  (177, 4),\n  (177, 8),\n  (177, 12),\n  (182, 11),\n  (184, 12),\n  (186, 3),\n  (187, 0),\n  (189, 6),\n  (191, 5),\n  (192, 11),\n  (193, 0),\n  (193, 11),\n  (197, 2),\n  (197, 8),\n  (197, 12),\n  (198, 0),\n  (200, 11),\n  (204, 2),\n  (207, 3),\n  (209, 8),\n  (213, 6),\n  (215, 3),\n  (215, 4),\n  (217, 7),\n  (218, 8),\n  (221, 1),\n  (222, 1),\n  (224, 5),\n  (225, 9)],\n [(1, 11),\n  (3, 10),\n  (4, 12),\n  (5, 0),\n  (7, 9),\n  (9, 10),\n  (10, 1),\n  (10, 5),\n  (10, 12),\n  (11, 8),\n  (12, 12),\n  (13, 5),\n  (13, 11),\n  (14, 5),\n  (15, 1),\n  (16, 6),\n  (18, 2),\n  (21, 9),\n  (22, 6),\n  (22, 9),\n  (23, 1),\n  (24, 1),\n  (26, 1),\n  (26, 9),\n  (28, 9),\n  (28, 12),\n  (31, 1),\n  (31, 3),\n  (31, 8),\n  (33, 8),\n  (34, 7),\n  (34, 11),\n  (35, 3),\n  (35, 8),\n  (36, 3),\n  (37, 2),\n  (38, 3),\n  (40, 8),\n  (40, 10),\n  (42, 9),\n  (43, 12),\n  (46, 7),\n  (47, 4),\n  (47, 10),\n  (48, 12),\n  (49, 4),\n  (52, 3),\n  (53, 12),\n  (54, 6),\n  (55, 1),\n  (57, 0),\n  (57, 3),\n  (57, 11),\n  (58, 4),\n  (58, 7),\n  (58, 10),\n  (64, 0),\n  (64, 10),\n  (65, 0),\n  (70, 10),\n  (73, 2),\n  (73, 12),\n  (75, 9),\n  (79, 2),\n  (80, 10),\n  (81, 11),\n  (82, 10),\n  (83, 1),\n  (84, 1),\n  (90, 5),\n  (96, 2),\n  (98, 1),\n  (98, 4),\n  (101, 1),\n  (101, 4),\n  (101, 6),\n  (102, 2),\n  (103, 12),\n  (105, 2),\n  (115, 7),\n  (120, 8),\n  (121, 10),\n  (121, 12),\n  (122, 2),\n  (124, 6),\n  (124, 8),\n  (127, 6),\n  (128, 2),\n  (128, 8),\n  (128, 9),\n  (129, 2),\n  (129, 3),\n  (129, 10),\n  (130, 3),\n  (134, 10),\n  (137, 6),\n  (140, 0),\n  (140, 12),\n  (141, 5),\n  (142, 6),\n  (145, 1),\n  (147, 3),\n  (148, 4),\n  (154, 10),\n  (158, 2),\n  (158, 3),\n  (158, 9),\n  (158, 11),\n  (160, 0),\n  (160, 7),\n  (162, 1),\n  (162, 2),\n  (164, 2),\n  (166, 10),\n  (167, 7),\n  (168, 4),\n  (173, 3),\n  (173, 5),\n  (173, 12),\n  (174, 1),\n  (177, 4),\n  (177, 8),\n  (177, 12),\n  (182, 11),\n  (184, 12),\n  (186, 3),\n  (187, 0),\n  (189, 6),\n  (191, 5),\n  (192, 11),\n  (193, 0),\n  (193, 11),\n  (197, 2),\n  (197, 8),\n  (197, 12),\n  (198, 0),\n  (200, 11),\n  (204, 2),\n  (207, 3),\n  (209, 8),\n  (213, 6),\n  (215, 3),\n  (215, 4),\n  (217, 7),\n  (218, 8),\n  (221, 1),\n  (222, 1),\n  (224, 5),\n  (225, 9)],\n [(1, 11),\n  (3, 10),\n  (4, 12),\n  (5, 0),\n  (7, 9),\n  (9, 10),\n  (10, 1),\n  (10, 5),\n  (10, 12),\n  (11, 8),\n  (12, 12),\n  (13, 5),\n  (13, 11),\n  (14, 5),\n  (15, 1),\n  (16, 6),\n  (18, 2),\n  (21, 9),\n  (22, 6),\n  (22, 9),\n  (23, 1),\n  (24, 1),\n  (26, 1),\n  (26, 9),\n  (28, 9),\n  (28, 12),\n  (31, 1),\n  (31, 3),\n  (31, 8),\n  (33, 8),\n  (34, 7),\n  (34, 11),\n  (35, 3),\n  (35, 8),\n  (36, 3),\n  (37, 2),\n  (38, 3),\n  (40, 8),\n  (40, 10),\n  (42, 9),\n  (43, 12),\n  (46, 7),\n  (47, 4),\n  (47, 10),\n  (48, 12),\n  (49, 4),\n  (52, 3),\n  (53, 12),\n  (54, 6),\n  (55, 1),\n  (57, 0),\n  (57, 3),\n  (57, 11),\n  (58, 4),\n  (58, 7),\n  (58, 10),\n  (64, 0),\n  (64, 10),\n  (65, 0),\n  (70, 10),\n  (73, 2),\n  (73, 12),\n  (75, 9),\n  (79, 2),\n  (80, 10),\n  (81, 11),\n  (82, 10),\n  (83, 1),\n  (84, 1),\n  (90, 5),\n  (96, 2),\n  (98, 1),\n  (98, 4),\n  (101, 1),\n  (101, 4),\n  (101, 6),\n  (102, 2),\n  (103, 12),\n  (105, 2),\n  (115, 7),\n  (120, 8),\n  (121, 10),\n  (121, 12),\n  (122, 2),\n  (124, 6),\n  (124, 8),\n  (127, 6),\n  (128, 2),\n  (128, 8),\n  (128, 9),\n  (129, 2),\n  (129, 3),\n  (129, 10),\n  (130, 3),\n  (134, 10),\n  (137, 6),\n  (140, 0),\n  (140, 12),\n  (141, 5),\n  (142, 6),\n  (145, 1),\n  (147, 3),\n  (148, 4),\n  (154, 10),\n  (158, 2),\n  (158, 3),\n  (158, 9),\n  (158, 11),\n  (160, 0),\n  (160, 7),\n  (162, 1),\n  (162, 2),\n  (164, 2),\n  (166, 10),\n  (167, 7),\n  (168, 4),\n  (173, 3),\n  (173, 5),\n  (173, 12),\n  (174, 1),\n  (177, 4),\n  (177, 8),\n  (177, 12),\n  (182, 11),\n  (184, 12),\n  (186, 3),\n  (187, 0),\n  (189, 6),\n  (191, 5),\n  (192, 11),\n  (193, 0),\n  (193, 11),\n  (197, 2),\n  (197, 8),\n  (197, 12),\n  (198, 0),\n  (200, 11),\n  (204, 2),\n  (207, 3),\n  (209, 8),\n  (213, 6),\n  (215, 3),\n  (215, 4),\n  (217, 7),\n  (218, 8),\n  (221, 1),\n  (222, 1),\n  (224, 5),\n  (225, 9)],\n [(1, 11),\n  (3, 10),\n  (4, 12),\n  (5, 0),\n  (7, 9),\n  (9, 10),\n  (10, 1),\n  (10, 5),\n  (10, 12),\n  (11, 8),\n  (12, 12),\n  (13, 5),\n  (13, 11),\n  (14, 5),\n  (15, 1),\n  (16, 6),\n  (18, 2),\n  (21, 9),\n  (22, 6),\n  (22, 9),\n  (23, 1),\n  (24, 1),\n  (26, 1),\n  (26, 9),\n  (28, 9),\n  (28, 12),\n  (31, 1),\n  (31, 3),\n  (31, 8),\n  (33, 8),\n  (34, 7),\n  (34, 11),\n  (35, 3),\n  (35, 8),\n  (36, 3),\n  (37, 2),\n  (38, 3),\n  (40, 8),\n  (40, 10),\n  (42, 9),\n  (43, 12),\n  (46, 7),\n  (47, 4),\n  (47, 10),\n  (48, 12),\n  (49, 4),\n  (52, 3),\n  (53, 12),\n  (54, 6),\n  (55, 1),\n  (57, 0),\n  (57, 3),\n  (57, 11),\n  (58, 4),\n  (58, 7),\n  (58, 10),\n  (64, 0),\n  (64, 10),\n  (65, 0),\n  (70, 10),\n  (73, 2),\n  (73, 12),\n  (75, 9),\n  (79, 2),\n  (80, 10),\n  (81, 11),\n  (82, 10),\n  (83, 1),\n  (84, 1),\n  (90, 5),\n  (96, 2),\n  (98, 1),\n  (98, 4),\n  (101, 1),\n  (101, 4),\n  (101, 6),\n  (102, 2),\n  (103, 12),\n  (105, 2),\n  (115, 7),\n  (120, 8),\n  (121, 10),\n  (121, 12),\n  (122, 2),\n  (124, 6),\n  (124, 8),\n  (127, 6),\n  (128, 2),\n  (128, 8),\n  (128, 9),\n  (129, 2),\n  (129, 3),\n  (129, 10),\n  (130, 3),\n  (134, 10),\n  (137, 6),\n  (140, 0),\n  (140, 12),\n  (141, 5),\n  (142, 6),\n  (145, 1),\n  (147, 3),\n  (148, 4),\n  (154, 10),\n  (158, 2),\n  (158, 3),\n  (158, 9),\n  (158, 11),\n  (160, 0),\n  (160, 7),\n  (162, 1),\n  (162, 2),\n  (164, 2),\n  (166, 10),\n  (167, 7),\n  (168, 4),\n  (173, 3),\n  (173, 5),\n  (173, 12),\n  (174, 1),\n  (177, 4),\n  (177, 8),\n  (177, 12),\n  (182, 11),\n  (184, 12),\n  (186, 3),\n  (187, 0),\n  (189, 6),\n  (191, 5),\n  (192, 11),\n  (193, 0),\n  (193, 11),\n  (197, 2),\n  (197, 8),\n  (197, 12),\n  (198, 0),\n  (200, 11),\n  (204, 2),\n  (207, 3),\n  (209, 8),\n  (213, 6),\n  (215, 3),\n  (215, 4),\n  (217, 7),\n  (218, 8),\n  (221, 1),\n  (222, 1),\n  (224, 5),\n  (225, 9)],\n [(1, 11),\n  (3, 10),\n  (4, 12),\n  (5, 0),\n  (7, 9),\n  (9, 10),\n  (10, 1),\n  (10, 5),\n  (10, 12),\n  (11, 8),\n  (12, 12),\n  (13, 5),\n  (13, 11),\n  (14, 5),\n  (15, 1),\n  (16, 6),\n  (18, 2),\n  (21, 9),\n  (22, 6),\n  (22, 9),\n  (23, 1),\n  (24, 1),\n  (26, 1),\n  (26, 9),\n  (28, 9),\n  (28, 12),\n  (31, 1),\n  (31, 3),\n  (31, 8),\n  (33, 8),\n  (34, 7),\n  (34, 11),\n  (35, 3),\n  (35, 8),\n  (36, 3),\n  (37, 2),\n  (38, 3),\n  (40, 8),\n  (40, 10),\n  (42, 9),\n  (43, 12),\n  (46, 7),\n  (47, 4),\n  (47, 10),\n  (48, 12),\n  (49, 4),\n  (52, 3),\n  (53, 12),\n  (54, 6),\n  (55, 1),\n  (57, 0),\n  (57, 3),\n  (57, 11),\n  (58, 4),\n  (58, 7),\n  (58, 10),\n  (64, 0),\n  (64, 10),\n  (65, 0),\n  (70, 10),\n  (73, 2),\n  (73, 12),\n  (75, 9),\n  (79, 2),\n  (80, 10),\n  (81, 11),\n  (82, 10),\n  (83, 1),\n  (84, 1),\n  (90, 5),\n  (96, 2),\n  (98, 1),\n  (98, 4),\n  (101, 1),\n  (101, 4),\n  (101, 6),\n  (102, 2),\n  (103, 12),\n  (105, 2),\n  (115, 7),\n  (120, 8),\n  (121, 10),\n  (121, 12),\n  (122, 2),\n  (124, 6),\n  (124, 8),\n  (127, 6),\n  (128, 2),\n  (128, 8),\n  (128, 9),\n  (129, 2),\n  (129, 3),\n  (129, 10),\n  (130, 3),\n  (134, 10),\n  (137, 6),\n  (140, 0),\n  (140, 12),\n  (141, 5),\n  (142, 6),\n  (145, 1),\n  (147, 3),\n  (148, 4),\n  (154, 10),\n  (158, 2),\n  (158, 3),\n  (158, 9),\n  (158, 11),\n  (160, 0),\n  (160, 7),\n  (162, 1),\n  (162, 2),\n  (164, 2),\n  (166, 10),\n  (167, 7),\n  (168, 4),\n  (173, 3),\n  (173, 5),\n  (173, 12),\n  (174, 1),\n  (177, 4),\n  (177, 8),\n  (177, 12),\n  (182, 11),\n  (184, 12),\n  (186, 3),\n  (187, 0),\n  (189, 6),\n  (191, 5),\n  (192, 11),\n  (193, 0),\n  (193, 11),\n  (197, 2),\n  (197, 8),\n  (197, 12),\n  (198, 0),\n  (200, 11),\n  (204, 2),\n  (207, 3),\n  (209, 8),\n  (213, 6),\n  (215, 3),\n  (215, 4),\n  (217, 7),\n  (218, 8),\n  (221, 1),\n  (222, 1),\n  (224, 5),\n  (225, 9)],\n [(1, 11),\n  (3, 10),\n  (4, 12),\n  (5, 0),\n  (7, 9),\n  (9, 10),\n  (10, 1),\n  (10, 5),\n  (10, 12),\n  (11, 8),\n  (12, 12),\n  (13, 5),\n  (13, 11),\n  (14, 5),\n  (15, 1),\n  (16, 6),\n  (18, 2),\n  (21, 9),\n  (22, 6),\n  (22, 9),\n  (23, 1),\n  (24, 1),\n  (26, 1),\n  (26, 9),\n  (28, 9),\n  (28, 12),\n  (31, 1),\n  (31, 3),\n  (31, 8),\n  (33, 8),\n  (34, 7),\n  (34, 11),\n  (35, 3),\n  (35, 8),\n  (36, 3),\n  (37, 2),\n  (38, 3),\n  (40, 8),\n  (40, 10),\n  (42, 9),\n  (43, 12),\n  (46, 7),\n  (47, 4),\n  (47, 10),\n  (48, 12),\n  (49, 4),\n  (52, 3),\n  (53, 12),\n  (54, 6),\n  (55, 1),\n  (57, 0),\n  (57, 3),\n  (57, 11),\n  (58, 4),\n  (58, 7),\n  (58, 10),\n  (64, 0),\n  (64, 10),\n  (65, 0),\n  (70, 10),\n  (73, 2),\n  (73, 12),\n  (75, 9),\n  (79, 2),\n  (80, 10),\n  (81, 11),\n  (82, 10),\n  (83, 1),\n  (84, 1),\n  (90, 5),\n  (96, 2),\n  (98, 1),\n  (98, 4),\n  (101, 1),\n  (101, 4),\n  (101, 6),\n  (102, 2),\n  (103, 12),\n  (105, 2),\n  (115, 7),\n  (120, 8),\n  (121, 10),\n  (121, 12),\n  (122, 2),\n  (124, 6),\n  (124, 8),\n  (127, 6),\n  (128, 2),\n  (128, 8),\n  (128, 9),\n  (129, 2),\n  (129, 3),\n  (129, 10),\n  (130, 3),\n  (134, 10),\n  (137, 6),\n  (140, 0),\n  (140, 12),\n  (141, 5),\n  (142, 6),\n  (145, 1),\n  (147, 3),\n  (148, 4),\n  (154, 10),\n  (158, 2),\n  (158, 3),\n  (158, 9),\n  (158, 11),\n  (160, 0),\n  (160, 7),\n  (162, 1),\n  (162, 2),\n  (164, 2),\n  (166, 10),\n  (167, 7),\n  (168, 4),\n  (173, 3),\n  (173, 5),\n  (173, 12),\n  (174, 1),\n  (177, 4),\n  (177, 8),\n  (177, 12),\n  (182, 11),\n  (184, 12),\n  (186, 3),\n  (187, 0),\n  (189, 6),\n  (191, 5),\n  (192, 11),\n  (193, 0),\n  (193, 11),\n  (197, 2),\n  (197, 8),\n  (197, 12),\n  (198, 0),\n  (200, 11),\n  (204, 2),\n  (207, 3),\n  (209, 8),\n  (213, 6),\n  (215, 3),\n  (215, 4),\n  (217, 7),\n  (218, 8),\n  (221, 1),\n  (222, 1),\n  (224, 5),\n  (225, 9)],\n [(1, 11),\n  (3, 10),\n  (4, 12),\n  (5, 0),\n  (7, 9),\n  (9, 10),\n  (10, 1),\n  (10, 5),\n  (10, 12),\n  (11, 8),\n  (12, 12),\n  (13, 5),\n  (13, 11),\n  (14, 5),\n  (15, 1),\n  (16, 6),\n  (18, 2),\n  (21, 9),\n  (22, 6),\n  (22, 9),\n  (23, 1),\n  (24, 1),\n  (26, 1),\n  (26, 9),\n  (28, 9),\n  (28, 12),\n  (31, 1),\n  (31, 3),\n  (31, 8),\n  (33, 8),\n  (34, 7),\n  (34, 11),\n  (35, 3),\n  (35, 8),\n  (36, 3),\n  (37, 2),\n  (38, 3),\n  (40, 8),\n  (40, 10),\n  (42, 9),\n  (43, 12),\n  (46, 7),\n  (47, 4),\n  (47, 10),\n  (48, 12),\n  (49, 4),\n  (52, 3),\n  (53, 12),\n  (54, 6),\n  (55, 1),\n  (57, 0),\n  (57, 3),\n  (57, 11),\n  (58, 4),\n  (58, 7),\n  (58, 10),\n  (64, 0),\n  (64, 10),\n  (65, 0),\n  (70, 10),\n  (73, 2),\n  (73, 12),\n  (75, 9),\n  (79, 2),\n  (80, 10),\n  (81, 11),\n  (82, 10),\n  (83, 1),\n  (84, 1),\n  (90, 5),\n  (96, 2),\n  (98, 1),\n  (98, 4),\n  (101, 1),\n  (101, 4),\n  (101, 6),\n  (102, 2),\n  (103, 12),\n  (105, 2),\n  (115, 7),\n  (120, 8),\n  (121, 10),\n  (121, 12),\n  (122, 2),\n  (124, 6),\n  (124, 8),\n  (127, 6),\n  (128, 2),\n  (128, 8),\n  (128, 9),\n  (129, 2),\n  (129, 3),\n  (129, 10),\n  (130, 3),\n  (134, 10),\n  (137, 6),\n  (140, 0),\n  (140, 12),\n  (141, 5),\n  (142, 6),\n  (145, 1),\n  (147, 3),\n  (148, 4),\n  (154, 10),\n  (158, 2),\n  (158, 3),\n  (158, 9),\n  (158, 11),\n  (160, 0),\n  (160, 7),\n  (162, 1),\n  (162, 2),\n  (164, 2),\n  (166, 10),\n  (167, 7),\n  (168, 4),\n  (173, 3),\n  (173, 5),\n  (173, 12),\n  (174, 1),\n  (177, 4),\n  (177, 8),\n  (177, 12),\n  (182, 11),\n  (184, 12),\n  (186, 3),\n  (187, 0),\n  (189, 6),\n  (191, 5),\n  (192, 11),\n  (193, 0),\n  (193, 11),\n  (197, 2),\n  (197, 8),\n  (197, 12),\n  (198, 0),\n  (200, 11),\n  (204, 2),\n  (207, 3),\n  (209, 8),\n  (213, 6),\n  (215, 3),\n  (215, 4),\n  (217, 7),\n  (218, 8),\n  (221, 1),\n  (222, 1),\n  (224, 5),\n  (225, 9)],\n [(1, 11),\n  (3, 10),\n  (4, 12),\n  (5, 0),\n  (7, 9),\n  (9, 10),\n  (10, 1),\n  (10, 5),\n  (10, 12),\n  (11, 8),\n  (12, 12),\n  (13, 5),\n  (13, 11),\n  (14, 5),\n  (15, 1),\n  (16, 6),\n  (18, 2),\n  (21, 9),\n  (22, 6),\n  (22, 9),\n  (23, 1),\n  (24, 1),\n  (26, 1),\n  (26, 9),\n  (28, 9),\n  (28, 12),\n  (31, 1),\n  (31, 3),\n  (31, 8),\n  (33, 8),\n  (34, 7),\n  (34, 11),\n  (35, 3),\n  (35, 8),\n  (36, 3),\n  (37, 2),\n  (38, 3),\n  (40, 8),\n  (40, 10),\n  (42, 9),\n  (43, 12),\n  (46, 7),\n  (47, 4),\n  (47, 10),\n  (48, 12),\n  (49, 4),\n  (52, 3),\n  (53, 12),\n  (54, 6),\n  (55, 1),\n  (57, 0),\n  (57, 3),\n  (57, 11),\n  (58, 4),\n  (58, 7),\n  (58, 10),\n  (64, 0),\n  (64, 10),\n  (65, 0),\n  (70, 10),\n  (73, 2),\n  (73, 12),\n  (75, 9),\n  (79, 2),\n  (80, 10),\n  (81, 11),\n  (82, 10),\n  (83, 1),\n  (84, 1),\n  (90, 5),\n  (96, 2),\n  (98, 1),\n  (98, 4),\n  (101, 1),\n  (101, 4),\n  (101, 6),\n  (102, 2),\n  (103, 12),\n  (105, 2),\n  (115, 7),\n  (120, 8),\n  (121, 10),\n  (121, 12),\n  (122, 2),\n  (124, 6),\n  (124, 8),\n  (127, 6),\n  (128, 2),\n  (128, 8),\n  (128, 9),\n  (129, 2),\n  (129, 3),\n  (129, 10),\n  (130, 3),\n  (134, 10),\n  (137, 6),\n  (140, 0),\n  (140, 12),\n  (141, 5),\n  (142, 6),\n  (145, 1),\n  (147, 3),\n  (148, 4),\n  (154, 10),\n  (158, 2),\n  (158, 3),\n  (158, 9),\n  (158, 11),\n  (160, 0),\n  (160, 7),\n  (162, 1),\n  (162, 2),\n  (164, 2),\n  (166, 10),\n  (167, 7),\n  (168, 4),\n  (173, 3),\n  (173, 5),\n  (173, 12),\n  (174, 1),\n  (177, 4),\n  (177, 8),\n  (177, 12),\n  (182, 11),\n  (184, 12),\n  (186, 3),\n  (187, 0),\n  (189, 6),\n  (191, 5),\n  (192, 11),\n  (193, 0),\n  (193, 11),\n  (197, 2),\n  (197, 8),\n  (197, 12),\n  (198, 0),\n  (200, 11),\n  (204, 2),\n  (207, 3),\n  (209, 8),\n  (213, 6),\n  (215, 3),\n  (215, 4),\n  (217, 7),\n  (218, 8),\n  (221, 1),\n  (222, 1),\n  (224, 5),\n  (225, 9)],\n [(1, 11),\n  (3, 10),\n  (4, 12),\n  (5, 0),\n  (7, 9),\n  (9, 10),\n  (10, 1),\n  (10, 5),\n  (10, 12),\n  (11, 8),\n  (12, 12),\n  (13, 5),\n  (13, 11),\n  (14, 5),\n  (15, 1),\n  (16, 6),\n  (18, 2),\n  (21, 9),\n  (22, 6),\n  (22, 9),\n  (23, 1),\n  (24, 1),\n  (26, 1),\n  (26, 9),\n  (28, 9),\n  (28, 12),\n  (31, 1),\n  (31, 3),\n  (31, 8),\n  (33, 8),\n  (34, 7),\n  (34, 11),\n  (35, 3),\n  (35, 8),\n  (36, 3),\n  (37, 2),\n  (38, 3),\n  (40, 8),\n  (40, 10),\n  (42, 9),\n  (43, 12),\n  (46, 7),\n  (47, 4),\n  (47, 10),\n  (48, 12),\n  (49, 4),\n  (52, 3),\n  (53, 12),\n  (54, 6),\n  (55, 1),\n  (57, 0),\n  (57, 3),\n  (57, 11),\n  (58, 4),\n  (58, 7),\n  (58, 10),\n  (64, 0),\n  (64, 10),\n  (65, 0),\n  (70, 10),\n  (73, 2),\n  (73, 12),\n  (75, 9),\n  (79, 2),\n  (80, 10),\n  (81, 11),\n  (82, 10),\n  (83, 1),\n  (84, 1),\n  (90, 5),\n  (96, 2),\n  (98, 1),\n  (98, 4),\n  (101, 1),\n  (101, 4),\n  (101, 6),\n  (102, 2),\n  (103, 12),\n  (105, 2),\n  (115, 7),\n  (120, 8),\n  (121, 10),\n  (121, 12),\n  (122, 2),\n  (124, 6),\n  (124, 8),\n  (127, 6),\n  (128, 2),\n  (128, 8),\n  (128, 9),\n  (129, 2),\n  (129, 3),\n  (129, 10),\n  (130, 3),\n  (134, 10),\n  (137, 6),\n  (140, 0),\n  (140, 12),\n  (141, 5),\n  (142, 6),\n  (145, 1),\n  (147, 3),\n  (148, 4),\n  (154, 10),\n  (158, 2),\n  (158, 3),\n  (158, 9),\n  (158, 11),\n  (160, 0),\n  (160, 7),\n  (162, 1),\n  (162, 2),\n  (164, 2),\n  (166, 10),\n  (167, 7),\n  (168, 4),\n  (173, 3),\n  (173, 5),\n  (173, 12),\n  (174, 1),\n  (177, 4),\n  (177, 8),\n  (177, 12),\n  (182, 11),\n  (184, 12),\n  (186, 3),\n  (187, 0),\n  (189, 6),\n  (191, 5),\n  (192, 11),\n  (193, 0),\n  (193, 11),\n  (197, 2),\n  (197, 8),\n  (197, 12),\n  (198, 0),\n  (200, 11),\n  (204, 2),\n  (207, 3),\n  (209, 8),\n  (213, 6),\n  (215, 3),\n  (215, 4),\n  (217, 7),\n  (218, 8),\n  (221, 1),\n  (222, 1),\n  (224, 5),\n  (225, 9)],\n [(1, 11),\n  (3, 10),\n  (4, 12),\n  (5, 0),\n  (7, 9),\n  (9, 10),\n  (10, 1),\n  (10, 5),\n  (10, 12),\n  (11, 8),\n  (12, 12),\n  (13, 5),\n  (13, 11),\n  (14, 5),\n  (15, 1),\n  (16, 6),\n  (18, 2),\n  (21, 9),\n  (22, 6),\n  (22, 9),\n  (23, 1),\n  (24, 1),\n  (26, 1),\n  (26, 9),\n  (28, 9),\n  (28, 12),\n  (31, 1),\n  (31, 3),\n  (31, 8),\n  (33, 8),\n  (34, 7),\n  (34, 11),\n  (35, 3),\n  (35, 8),\n  (36, 3),\n  (37, 2),\n  (38, 3),\n  (40, 8),\n  (40, 10),\n  (42, 9),\n  (43, 12),\n  (46, 7),\n  (47, 4),\n  (47, 10),\n  (48, 12),\n  (49, 4),\n  (52, 3),\n  (53, 12),\n  (54, 6),\n  (55, 1),\n  (57, 0),\n  (57, 3),\n  (57, 11),\n  (58, 4),\n  (58, 7),\n  (58, 10),\n  (64, 0),\n  (64, 10),\n  (65, 0),\n  (70, 10),\n  (73, 2),\n  (73, 12),\n  (75, 9),\n  (79, 2),\n  (80, 10),\n  (81, 11),\n  (82, 10),\n  (83, 1),\n  (84, 1),\n  (90, 5),\n  (96, 2),\n  (98, 1),\n  (98, 4),\n  (101, 1),\n  (101, 4),\n  (101, 6),\n  (102, 2),\n  (103, 12),\n  (105, 2),\n  (115, 7),\n  (120, 8),\n  (121, 10),\n  (121, 12),\n  (122, 2),\n  (124, 6),\n  (124, 8),\n  (127, 6),\n  (128, 2),\n  (128, 8),\n  (128, 9),\n  (129, 2),\n  (129, 3),\n  (129, 10),\n  (130, 3),\n  (134, 10),\n  (137, 6),\n  (140, 0),\n  (140, 12),\n  (141, 5),\n  (142, 6),\n  (145, 1),\n  (147, 3),\n  (148, 4),\n  (154, 10),\n  (158, 2),\n  (158, 3),\n  (158, 9),\n  (158, 11),\n  (160, 0),\n  (160, 7),\n  (162, 1),\n  (162, 2),\n  (164, 2),\n  (166, 10),\n  (167, 7),\n  (168, 4),\n  (173, 3),\n  (173, 5),\n  (173, 12),\n  (174, 1),\n  (177, 4),\n  (177, 8),\n  (177, 12),\n  (182, 11),\n  (184, 12),\n  (186, 3),\n  (187, 0),\n  (189, 6),\n  (191, 5),\n  (192, 11),\n  (193, 0),\n  (193, 11),\n  (197, 2),\n  (197, 8),\n  (197, 12),\n  (198, 0),\n  (200, 11),\n  (204, 2),\n  (207, 3),\n  (209, 8),\n  (213, 6),\n  (215, 3),\n  (215, 4),\n  (217, 7),\n  (218, 8),\n  (221, 1),\n  (222, 1),\n  (224, 5),\n  (225, 9)],\n [(1, 11),\n  (3, 10),\n  (4, 12),\n  (5, 0),\n  (7, 9),\n  (9, 10),\n  (10, 1),\n  (10, 5),\n  (10, 12),\n  (11, 8),\n  (12, 12),\n  (13, 5),\n  (13, 11),\n  (14, 5),\n  (15, 1),\n  (16, 6),\n  (18, 2),\n  (21, 9),\n  (22, 6),\n  (22, 9),\n  (23, 1),\n  (24, 1),\n  (26, 1),\n  (26, 9),\n  (28, 9),\n  (28, 12),\n  (31, 1),\n  (31, 3),\n  (31, 8),\n  (33, 8),\n  (34, 7),\n  (34, 11),\n  (35, 3),\n  (35, 8),\n  (36, 3),\n  (37, 2),\n  (38, 3),\n  (40, 8),\n  (40, 10),\n  (42, 9),\n  (43, 12),\n  (46, 7),\n  (47, 4),\n  (47, 10),\n  (48, 12),\n  (49, 4),\n  (52, 3),\n  (53, 12),\n  (54, 6),\n  (55, 1),\n  (57, 0),\n  (57, 3),\n  (57, 11),\n  (58, 4),\n  (58, 7),\n  (58, 10),\n  (64, 0),\n  (64, 10),\n  (65, 0),\n  (70, 10),\n  (73, 2),\n  (73, 12),\n  (75, 9),\n  (79, 2),\n  (80, 10),\n  (81, 11),\n  (82, 10),\n  (83, 1),\n  (84, 1),\n  (90, 5),\n  (96, 2),\n  (98, 1),\n  (98, 4),\n  (101, 1),\n  (101, 4),\n  (101, 6),\n  (102, 2),\n  (103, 12),\n  (105, 2),\n  (115, 7),\n  (120, 8),\n  (121, 10),\n  (121, 12),\n  (122, 2),\n  (124, 6),\n  (124, 8),\n  (127, 6),\n  (128, 2),\n  (128, 8),\n  (128, 9),\n  (129, 2),\n  (129, 3),\n  (129, 10),\n  (130, 3),\n  (134, 10),\n  (137, 6),\n  (140, 0),\n  (140, 12),\n  (141, 5),\n  (142, 6),\n  (145, 1),\n  (147, 3),\n  (148, 4),\n  (154, 10),\n  (158, 2),\n  (158, 3),\n  (158, 9),\n  (158, 11),\n  (160, 0),\n  (160, 7),\n  (162, 1),\n  (162, 2),\n  (164, 2),\n  (166, 10),\n  (167, 7),\n  (168, 4),\n  (173, 3),\n  (173, 5),\n  (173, 12),\n  (174, 1),\n  (177, 4),\n  (177, 8),\n  (177, 12),\n  (182, 11),\n  (184, 12),\n  (186, 3),\n  (187, 0),\n  (189, 6),\n  (191, 5),\n  (192, 11),\n  (193, 0),\n  (193, 11),\n  (197, 2),\n  (197, 8),\n  (197, 12),\n  (198, 0),\n  (200, 11),\n  (204, 2),\n  (207, 3),\n  (209, 8),\n  (213, 6),\n  (215, 3),\n  (215, 4),\n  (217, 7),\n  (218, 8),\n  (221, 1),\n  (222, 1),\n  (224, 5),\n  (225, 9)],\n [(1, 11),\n  (3, 10),\n  (4, 12),\n  (5, 0),\n  (7, 9),\n  (9, 10),\n  (10, 1),\n  (10, 5),\n  (10, 12),\n  (11, 8),\n  (12, 12),\n  (13, 5),\n  (13, 11),\n  (14, 5),\n  (15, 1),\n  (16, 6),\n  (18, 2),\n  (21, 9),\n  (22, 6),\n  (22, 9),\n  (23, 1),\n  (24, 1),\n  (26, 1),\n  (26, 9),\n  (28, 9),\n  (28, 12),\n  (31, 1),\n  (31, 3),\n  (31, 8),\n  (33, 8),\n  (34, 7),\n  (34, 11),\n  (35, 3),\n  (35, 8),\n  (36, 3),\n  (37, 2),\n  (38, 3),\n  (40, 8),\n  (40, 10),\n  (42, 9),\n  (43, 12),\n  (46, 7),\n  (47, 4),\n  (47, 10),\n  (48, 12),\n  (49, 4),\n  (52, 3),\n  (53, 12),\n  (54, 6),\n  (55, 1),\n  (57, 0),\n  (57, 3),\n  (57, 11),\n  (58, 4),\n  (58, 7),\n  (58, 10),\n  (64, 0),\n  (64, 10),\n  (65, 0),\n  (70, 10),\n  (73, 2),\n  (73, 12),\n  (75, 9),\n  (79, 2),\n  (80, 10),\n  (81, 11),\n  (82, 10),\n  (83, 1),\n  (84, 1),\n  (90, 5),\n  (96, 2),\n  (98, 1),\n  (98, 4),\n  (101, 1),\n  (101, 4),\n  (101, 6),\n  (102, 2),\n  (103, 12),\n  (105, 2),\n  (115, 7),\n  (120, 8),\n  (121, 10),\n  (121, 12),\n  (122, 2),\n  (124, 6),\n  (124, 8),\n  (127, 6),\n  (128, 2),\n  (128, 8),\n  (128, 9),\n  (129, 2),\n  (129, 3),\n  (129, 10),\n  (130, 3),\n  (134, 10),\n  (137, 6),\n  (140, 0),\n  (140, 12),\n  (141, 5),\n  (142, 6),\n  (145, 1),\n  (147, 3),\n  (148, 4),\n  (154, 10),\n  (158, 2),\n  (158, 3),\n  (158, 9),\n  (158, 11),\n  (160, 0),\n  (160, 7),\n  (162, 1),\n  (162, 2),\n  (164, 2),\n  (166, 10),\n  (167, 7),\n  (168, 4),\n  (173, 3),\n  (173, 5),\n  (173, 12),\n  (174, 1),\n  (177, 4),\n  (177, 8),\n  (177, 12),\n  (182, 11),\n  (184, 12),\n  (186, 3),\n  (187, 0),\n  (189, 6),\n  (191, 5),\n  (192, 11),\n  (193, 0),\n  (193, 11),\n  (197, 2),\n  (197, 8),\n  (197, 12),\n  (198, 0),\n  (200, 11),\n  (204, 2),\n  (207, 3),\n  (209, 8),\n  (213, 6),\n  (215, 3),\n  (215, 4),\n  (217, 7),\n  (218, 8),\n  (221, 1),\n  (222, 1),\n  (224, 5),\n  (225, 9)],\n [(1, 11),\n  (3, 10),\n  (4, 12),\n  (5, 0),\n  (7, 9),\n  (9, 10),\n  (10, 1),\n  (10, 5),\n  (10, 12),\n  (11, 8),\n  (12, 12),\n  (13, 5),\n  (13, 11),\n  (14, 5),\n  (15, 1),\n  (16, 6),\n  (18, 2),\n  (21, 9),\n  (22, 6),\n  (22, 9),\n  (23, 1),\n  (24, 1),\n  (26, 1),\n  (26, 9),\n  (28, 9),\n  (28, 12),\n  (31, 1),\n  (31, 3),\n  (31, 8),\n  (33, 8),\n  (34, 7),\n  (34, 11),\n  (35, 3),\n  (35, 8),\n  (36, 3),\n  (37, 2),\n  (38, 3),\n  (40, 8),\n  (40, 10),\n  (42, 9),\n  (43, 12),\n  (46, 7),\n  (47, 4),\n  (47, 10),\n  (48, 12),\n  (49, 4),\n  (52, 3),\n  (53, 12),\n  (54, 6),\n  (55, 1),\n  (57, 0),\n  (57, 3),\n  (57, 11),\n  (58, 4),\n  (58, 7),\n  (58, 10),\n  (64, 0),\n  (64, 10),\n  (65, 0),\n  (70, 10),\n  (73, 2),\n  (73, 12),\n  (75, 9),\n  (79, 2),\n  (80, 10),\n  (81, 11),\n  (82, 10),\n  (83, 1),\n  (84, 1),\n  (90, 5),\n  (96, 2),\n  (98, 1),\n  (98, 4),\n  (101, 1),\n  (101, 4),\n  (101, 6),\n  (102, 2),\n  (103, 12),\n  (105, 2),\n  (115, 7),\n  (120, 8),\n  (121, 10),\n  (121, 12),\n  (122, 2),\n  (124, 6),\n  (124, 8),\n  (127, 6),\n  (128, 2),\n  (128, 8),\n  (128, 9),\n  (129, 2),\n  (129, 3),\n  (129, 10),\n  (130, 3),\n  (134, 10),\n  (137, 6),\n  (140, 0),\n  (140, 12),\n  (141, 5),\n  (142, 6),\n  (145, 1),\n  (147, 3),\n  (148, 4),\n  (154, 10),\n  (158, 2),\n  (158, 3),\n  (158, 9),\n  (158, 11),\n  (160, 0),\n  (160, 7),\n  (162, 1),\n  (162, 2),\n  (164, 2),\n  (166, 10),\n  (167, 7),\n  (168, 4),\n  (173, 3),\n  (173, 5),\n  (173, 12),\n  (174, 1),\n  (177, 4),\n  (177, 8),\n  (177, 12),\n  (182, 11),\n  (184, 12),\n  (186, 3),\n  (187, 0),\n  (189, 6),\n  (191, 5),\n  (192, 11),\n  (193, 0),\n  (193, 11),\n  (197, 2),\n  (197, 8),\n  (197, 12),\n  (198, 0),\n  (200, 11),\n  (204, 2),\n  (207, 3),\n  (209, 8),\n  (213, 6),\n  (215, 3),\n  (215, 4),\n  (217, 7),\n  (218, 8),\n  (221, 1),\n  (222, 1),\n  (224, 5),\n  (225, 9)],\n [(1, 11),\n  (3, 10),\n  (4, 12),\n  (5, 0),\n  (7, 9),\n  (9, 10),\n  (10, 1),\n  (10, 5),\n  (10, 12),\n  (11, 8),\n  (12, 12),\n  (13, 5),\n  (13, 11),\n  (14, 5),\n  (15, 1),\n  (16, 6),\n  (18, 2),\n  (21, 9),\n  (22, 6),\n  (22, 9),\n  (23, 1),\n  (24, 1),\n  (26, 1),\n  (26, 9),\n  (28, 9),\n  (28, 12),\n  (31, 1),\n  (31, 3),\n  (31, 8),\n  (33, 8),\n  (34, 7),\n  (34, 11),\n  (35, 3),\n  (35, 8),\n  (36, 3),\n  (37, 2),\n  (38, 3),\n  (40, 8),\n  (40, 10),\n  (42, 9),\n  (43, 12),\n  (46, 7),\n  (47, 4),\n  (47, 10),\n  (48, 12),\n  (49, 4),\n  (52, 3),\n  (53, 12),\n  (54, 6),\n  (55, 1),\n  (57, 0),\n  (57, 3),\n  (57, 11),\n  (58, 4),\n  (58, 7),\n  (58, 10),\n  (64, 0),\n  (64, 10),\n  (65, 0),\n  (70, 10),\n  (73, 2),\n  (73, 12),\n  (75, 9),\n  (79, 2),\n  (80, 10),\n  (81, 11),\n  (82, 10),\n  (83, 1),\n  (84, 1),\n  (90, 5),\n  (96, 2),\n  (98, 1),\n  (98, 4),\n  (101, 1),\n  (101, 4),\n  (101, 6),\n  (102, 2),\n  (103, 12),\n  (105, 2),\n  (115, 7),\n  (120, 8),\n  (121, 10),\n  (121, 12),\n  (122, 2),\n  (124, 6),\n  (124, 8),\n  (127, 6),\n  (128, 2),\n  (128, 8),\n  (128, 9),\n  (129, 2),\n  (129, 3),\n  (129, 10),\n  (130, 3),\n  (134, 10),\n  (137, 6),\n  (140, 0),\n  (140, 12),\n  (141, 5),\n  (142, 6),\n  (145, 1),\n  (147, 3),\n  (148, 4),\n  (154, 10),\n  (158, 2),\n  (158, 3),\n  (158, 9),\n  (158, 11),\n  (160, 0),\n  (160, 7),\n  (162, 1),\n  (162, 2),\n  (164, 2),\n  (166, 10),\n  (167, 7),\n  (168, 4),\n  (173, 3),\n  (173, 5),\n  (173, 12),\n  (174, 1),\n  (177, 4),\n  (177, 8),\n  (177, 12),\n  (182, 11),\n  (184, 12),\n  (186, 3),\n  (187, 0),\n  (189, 6),\n  (191, 5),\n  (192, 11),\n  (193, 0),\n  (193, 11),\n  (197, 2),\n  (197, 8),\n  (197, 12),\n  (198, 0),\n  (200, 11),\n  (204, 2),\n  (207, 3),\n  (209, 8),\n  (213, 6),\n  (215, 3),\n  (215, 4),\n  (217, 7),\n  (218, 8),\n  (221, 1),\n  (222, 1),\n  (224, 5),\n  (225, 9)],\n [(1, 11),\n  (3, 10),\n  (4, 12),\n  (5, 0),\n  (7, 9),\n  (9, 10),\n  (10, 1),\n  (10, 5),\n  (10, 12),\n  (11, 8),\n  (12, 12),\n  (13, 5),\n  (13, 11),\n  (14, 5),\n  (15, 1),\n  (16, 6),\n  (18, 2),\n  (21, 9),\n  (22, 6),\n  (22, 9),\n  (23, 1),\n  (24, 1),\n  (26, 1),\n  (26, 9),\n  (28, 9),\n  (28, 12),\n  (31, 1),\n  (31, 3),\n  (31, 8),\n  (33, 8),\n  (34, 7),\n  (34, 11),\n  (35, 3),\n  (35, 8),\n  (36, 3),\n  (37, 2),\n  (38, 3),\n  (40, 8),\n  (40, 10),\n  (42, 9),\n  (43, 12),\n  (46, 7),\n  (47, 4),\n  (47, 10),\n  (48, 12),\n  (49, 4),\n  (52, 3),\n  (53, 12),\n  (54, 6),\n  (55, 1),\n  (57, 0),\n  (57, 3),\n  (57, 11),\n  (58, 4),\n  (58, 7),\n  (58, 10),\n  (64, 0),\n  (64, 10),\n  (65, 0),\n  (70, 10),\n  (73, 2),\n  (73, 12),\n  (75, 9),\n  (79, 2),\n  (80, 10),\n  (81, 11),\n  (82, 10),\n  (83, 1),\n  (84, 1),\n  (90, 5),\n  (96, 2),\n  (98, 1),\n  (98, 4),\n  (101, 1),\n  (101, 4),\n  (101, 6),\n  (102, 2),\n  (103, 12),\n  (105, 2),\n  (115, 7),\n  (120, 8),\n  (121, 10),\n  (121, 12),\n  (122, 2),\n  (124, 6),\n  (124, 8),\n  (127, 6),\n  (128, 2),\n  (128, 8),\n  (128, 9),\n  (129, 2),\n  (129, 3),\n  (129, 10),\n  (130, 3),\n  (134, 10),\n  (137, 6),\n  (140, 0),\n  (140, 12),\n  (141, 5),\n  (142, 6),\n  (145, 1),\n  (147, 3),\n  (148, 4),\n  (154, 10),\n  (158, 2),\n  (158, 3),\n  (158, 9),\n  (158, 11),\n  (160, 0),\n  (160, 7),\n  (162, 1),\n  (162, 2),\n  (164, 2),\n  (166, 10),\n  (167, 7),\n  (168, 4),\n  (173, 3),\n  (173, 5),\n  (173, 12),\n  (174, 1),\n  (177, 4),\n  (177, 8),\n  (177, 12),\n  (182, 11),\n  (184, 12),\n  (186, 3),\n  (187, 0),\n  (189, 6),\n  (191, 5),\n  (192, 11),\n  (193, 0),\n  (193, 11),\n  (197, 2),\n  (197, 8),\n  (197, 12),\n  (198, 0),\n  (200, 11),\n  (204, 2),\n  (207, 3),\n  (209, 8),\n  (213, 6),\n  (215, 3),\n  (215, 4),\n  (217, 7),\n  (218, 8),\n  (221, 1),\n  (222, 1),\n  (224, 5),\n  (225, 9)],\n [(1, 11),\n  (3, 10),\n  (4, 12),\n  (5, 0),\n  (7, 9),\n  (9, 10),\n  (10, 1),\n  (10, 5),\n  (10, 12),\n  (11, 8),\n  (12, 12),\n  (13, 5),\n  (13, 11),\n  (14, 5),\n  (15, 1),\n  (16, 6),\n  (18, 2),\n  (21, 9),\n  (22, 6),\n  (22, 9),\n  (23, 1),\n  (24, 1),\n  (26, 1),\n  (26, 9),\n  (28, 9),\n  (28, 12),\n  (31, 1),\n  (31, 3),\n  (31, 8),\n  (33, 8),\n  (34, 7),\n  (34, 11),\n  (35, 3),\n  (35, 8),\n  (36, 3),\n  (37, 2),\n  (38, 3),\n  (40, 8),\n  (40, 10),\n  (42, 9),\n  (43, 12),\n  (46, 7),\n  (47, 4),\n  (47, 10),\n  (48, 12),\n  (49, 4),\n  (52, 3),\n  (53, 12),\n  (54, 6),\n  (55, 1),\n  (57, 0),\n  (57, 3),\n  (57, 11),\n  (58, 4),\n  (58, 7),\n  (58, 10),\n  (64, 0),\n  (64, 10),\n  (65, 0),\n  (70, 10),\n  (73, 2),\n  (73, 12),\n  (75, 9),\n  (79, 2),\n  (80, 10),\n  (81, 11),\n  (82, 10),\n  (83, 1),\n  (84, 1),\n  (90, 5),\n  (96, 2),\n  (98, 1),\n  (98, 4),\n  (101, 1),\n  (101, 4),\n  (101, 6),\n  (102, 2),\n  (103, 12),\n  (105, 2),\n  (115, 7),\n  (120, 8),\n  (121, 10),\n  (121, 12),\n  (122, 2),\n  (124, 6),\n  (124, 8),\n  (127, 6),\n  (128, 2),\n  (128, 8),\n  (128, 9),\n  (129, 2),\n  (129, 3),\n  (129, 10),\n  (130, 3),\n  (134, 10),\n  (137, 6),\n  (140, 0),\n  (140, 12),\n  (141, 5),\n  (142, 6),\n  (145, 1),\n  (147, 3),\n  (148, 4),\n  (154, 10),\n  (158, 2),\n  (158, 3),\n  (158, 9),\n  (158, 11),\n  (160, 0),\n  (160, 7),\n  (162, 1),\n  (162, 2),\n  (164, 2),\n  (166, 10),\n  (167, 7),\n  (168, 4),\n  (173, 3),\n  (173, 5),\n  (173, 12),\n  (174, 1),\n  (177, 4),\n  (177, 8),\n  (177, 12),\n  (182, 11),\n  (184, 12),\n  (186, 3),\n  (187, 0),\n  (189, 6),\n  (191, 5),\n  (192, 11),\n  (193, 0),\n  (193, 11),\n  (197, 2),\n  (197, 8),\n  (197, 12),\n  (198, 0),\n  (200, 11),\n  (204, 2),\n  (207, 3),\n  (209, 8),\n  (213, 6),\n  (215, 3),\n  (215, 4),\n  (217, 7),\n  (218, 8),\n  (221, 1),\n  (222, 1),\n  (224, 5),\n  (225, 9)],\n [(1, 11),\n  (3, 10),\n  (4, 12),\n  (5, 0),\n  (7, 9),\n  (9, 10),\n  (10, 1),\n  (10, 5),\n  (10, 12),\n  (11, 8),\n  (12, 12),\n  (13, 5),\n  (13, 11),\n  (14, 5),\n  (15, 1),\n  (16, 6),\n  (18, 2),\n  (21, 9),\n  (22, 6),\n  (22, 9),\n  (23, 1),\n  (24, 1),\n  (26, 1),\n  (26, 9),\n  (28, 9),\n  (28, 12),\n  (31, 1),\n  (31, 3),\n  (31, 8),\n  (33, 8),\n  (34, 7),\n  (34, 11),\n  (35, 3),\n  (35, 8),\n  (36, 3),\n  (37, 2),\n  (38, 3),\n  (40, 8),\n  (40, 10),\n  (42, 9),\n  (43, 12),\n  (46, 7),\n  (47, 4),\n  (47, 10),\n  (48, 12),\n  (49, 4),\n  (52, 3),\n  (53, 12),\n  (54, 6),\n  (55, 1),\n  (57, 0),\n  (57, 3),\n  (57, 11),\n  (58, 4),\n  (58, 7),\n  (58, 10),\n  (64, 0),\n  (64, 10),\n  (65, 0),\n  (70, 10),\n  (73, 2),\n  (73, 12),\n  (75, 9),\n  (79, 2),\n  (80, 10),\n  (81, 11),\n  (82, 10),\n  (83, 1),\n  (84, 1),\n  (90, 5),\n  (96, 2),\n  (98, 1),\n  (98, 4),\n  (101, 1),\n  (101, 4),\n  (101, 6),\n  (102, 2),\n  (103, 12),\n  (105, 2),\n  (115, 7),\n  (120, 8),\n  (121, 10),\n  (121, 12),\n  (122, 2),\n  (124, 6),\n  (124, 8),\n  (127, 6),\n  (128, 2),\n  (128, 8),\n  (128, 9),\n  (129, 2),\n  (129, 3),\n  (129, 10),\n  (130, 3),\n  (134, 10),\n  (137, 6),\n  (140, 0),\n  (140, 12),\n  (141, 5),\n  (142, 6),\n  (145, 1),\n  (147, 3),\n  (148, 4),\n  (154, 10),\n  (158, 2),\n  (158, 3),\n  (158, 9),\n  (158, 11),\n  (160, 0),\n  (160, 7),\n  (162, 1),\n  (162, 2),\n  (164, 2),\n  (166, 10),\n  (167, 7),\n  (168, 4),\n  (173, 3),\n  (173, 5),\n  (173, 12),\n  (174, 1),\n  (177, 4),\n  (177, 8),\n  (177, 12),\n  (182, 11),\n  (184, 12),\n  (186, 3),\n  (187, 0),\n  (189, 6),\n  (191, 5),\n  (192, 11),\n  (193, 0),\n  (193, 11),\n  (197, 2),\n  (197, 8),\n  (197, 12),\n  (198, 0),\n  (200, 11),\n  (204, 2),\n  (207, 3),\n  (209, 8),\n  (213, 6),\n  (215, 3),\n  (215, 4),\n  (217, 7),\n  (218, 8),\n  (221, 1),\n  (222, 1),\n  (224, 5),\n  (225, 9)]]"
     },
     "execution_count": 36,
     "metadata": {},
     "output_type": "execute_result"
    }
   ],
   "source": [
    "annealing_paths"
   ],
   "metadata": {
    "collapsed": false,
    "pycharm": {
     "name": "#%%\n"
    }
   }
  },
  {
   "cell_type": "code",
   "execution_count": 37,
   "outputs": [
    {
     "data": {
      "text/plain": "46080"
     },
     "execution_count": 37,
     "metadata": {},
     "output_type": "execute_result"
    }
   ],
   "source": [
    "sa_total"
   ],
   "metadata": {
    "collapsed": false,
    "pycharm": {
     "name": "#%%\n"
    }
   }
  },
  {
   "cell_type": "markdown",
   "source": [
    "### State-compression Dynamic Programming to computer the min-cost (shortest path start from the first location but do not return to the initial location)"
   ],
   "metadata": {
    "collapsed": false
   }
  },
  {
   "cell_type": "code",
   "execution_count": 38,
   "outputs": [],
   "source": [
    "def dp(n, locations):\n",
    "\tgraph = construct_graph(locations, n)\n",
    "\t# for i in range(1, n + 1):\n",
    "\t# \tprint(graph[i][1])\n",
    "\n",
    "\tstate_size = 1 << n\n",
    "\tf = [\n",
    "\t\t[float('inf')] * (n + 1)\n",
    "\t\tfor _ in range(state_size)\n",
    "\t]\n",
    "\tf[1][1] = 0\n",
    "\tfor state in range(state_size):\n",
    "\t\tfor i in range(2, n + 1):\n",
    "\t\t\tif state & (1 << (i - 1)) == 0:\n",
    "\t\t\t\tcontinue\n",
    "\n",
    "\t\t\tprev_state = state ^ (1 << (i - 1))\n",
    "\t\t\tfor j in range(1, n + 1):\n",
    "\t\t\t\tif prev_state & (1 << (j - 1)) == 0:\n",
    "\t\t\t\t\tcontinue\n",
    "\n",
    "\t\t\t\tf[state][i] = min(f[state][i], f[prev_state][j] + graph[j][i])\n",
    "\n",
    "\treturn min(f[state_size - 1])\n",
    "\n",
    "\n",
    "def construct_graph(locations, n):\n",
    "\tgraph = {\n",
    "\t\ti: {j: float('inf') for j in range(1, n + 1)}\n",
    "\t\tfor i in range(1, n + 1)\n",
    "\t}\n",
    "\n",
    "\tfor i in range(1, n + 1):\n",
    "\t\tfor j in range(1, n + 1):\n",
    "\t\t\tgraph[i][j] = calc_manhattan(locations[i - 1],locations[j - 1])\n",
    "\t\t\tgraph[j][i] = graph[i][j]\n",
    "\treturn graph"
   ],
   "metadata": {
    "collapsed": false,
    "pycharm": {
     "name": "#%%\n"
    }
   }
  },
  {
   "cell_type": "code",
   "execution_count": 39,
   "outputs": [
    {
     "name": "stdout",
     "output_type": "stream",
     "text": [
      "The global min-cost is:  53\n",
      "func: dp took: 0.36383914947509766 sec\n",
      "The global min-cost is:  25\n",
      "func: dp took: 0.0 sec\n",
      "The global min-cost is:  22\n",
      "func: dp took: 0.0 sec\n",
      "The global min-cost is:  3\n",
      "func: dp took: 0.0 sec\n",
      "The global min-cost is:  20\n",
      "func: dp took: 0.01566457748413086 sec\n",
      "The global min-cost is:  19\n",
      "func: dp took: 0.0 sec\n",
      "The global min-cost is:  20\n",
      "func: dp took: 0.0 sec\n",
      "The global min-cost is:  2\n",
      "func: dp took: 0.0 sec\n",
      "The global min-cost is:  9\n",
      "func: dp took: 0.0 sec\n",
      "The global min-cost is:  4\n",
      "func: dp took: 0.0 sec\n",
      "The global min-cost is:  3\n",
      "func: dp took: 0.0 sec\n",
      "The global min-cost is:  6\n",
      "func: dp took: 0.0 sec\n",
      "The global min-cost is:  4\n",
      "func: dp took: 0.0 sec\n",
      "The global min-cost is:  6\n",
      "func: dp took: 0.0 sec\n",
      "The global min-cost is:  5\n",
      "func: dp took: 0.0 sec\n",
      "The global min-cost is:  14\n",
      "func: dp took: 0.0 sec\n",
      "The global min-cost is:  3\n",
      "func: dp took: 0.0 sec\n",
      "The global min-cost is:  3\n",
      "func: dp took: 0.0 sec\n",
      "The global min-cost is:  8\n",
      "func: dp took: 0.0 sec\n",
      "The global min-cost is:  6\n",
      "func: dp took: 0.0 sec\n",
      "The global min-cost is:  2\n",
      "func: dp took: 0.0 sec\n",
      "The global min-cost is:  3\n",
      "func: dp took: 0.0 sec\n",
      "The global min-cost is:  5\n",
      "func: dp took: 0.003511667251586914 sec\n",
      "The global min-cost is:  15\n",
      "func: dp took: 0.0 sec\n",
      "The global min-cost is:  3\n",
      "func: dp took: 0.0 sec\n",
      "The global min-cost is:  3\n",
      "func: dp took: 0.0 sec\n",
      "The global min-cost is:  12\n",
      "func: dp took: 0.0 sec\n",
      "The global min-cost is:  23\n",
      "func: dp took: 0.0 sec\n",
      "The global min-cost is:  19\n",
      "func: dp took: 0.0 sec\n",
      "The global min-cost is:  15\n",
      "func: dp took: 0.0 sec\n",
      "The global min-cost is:  10\n",
      "func: dp took: 0.0 sec\n",
      "The global min-cost is:  18\n",
      "func: dp took: 0.0 sec\n",
      "The global min-cost is:  6\n",
      "func: dp took: 0.0 sec\n",
      "The global min-cost is:  26\n",
      "func: dp took: 0.012594223022460938 sec\n",
      "The global min-cost is:  24\n",
      "func: dp took: 0.0 sec\n",
      "The global min-cost is:  40\n",
      "func: dp took: 0.0 sec\n",
      "The global min-cost is:  28\n",
      "func: dp took: 0.0 sec\n",
      "The global min-cost is:  32\n",
      "func: dp took: 0.0 sec\n",
      "The global min-cost is:  25\n",
      "func: dp took: 0.0 sec\n",
      "The global min-cost is:  27\n",
      "func: dp took: 0.0 sec\n"
     ]
    }
   ],
   "source": [
    "runtimes[dp.__name__] = 0\n",
    "dp_minCost = []\n",
    "dp_total = 0\n",
    "for key in loc:\n",
    "    loc_list = loc[key]\n",
    "    ts = time.time()\n",
    "    dp_minCost.append(dp(len(loc_list), loc_list))\n",
    "    te = time.time()\n",
    "    dp_total += dp_minCost[-1]\n",
    "    print('The global min-cost is: ', dp_minCost[-1])\n",
    "    print(f'func: {dp.__name__} took: {te-ts} sec')\n",
    "    runtimes[dp.__name__] += te - ts"
   ],
   "metadata": {
    "collapsed": false,
    "pycharm": {
     "name": "#%%\n"
    }
   }
  },
  {
   "cell_type": "markdown",
   "source": [
    "## Held-Karp Implementation"
   ],
   "metadata": {
    "collapsed": false
   }
  },
  {
   "cell_type": "code",
   "execution_count": 40,
   "outputs": [],
   "source": [
    "import itertools\n",
    "\n",
    "def construct_dists(locations, n):\n",
    "\tdists = [[0] * n for i in range(n)]\n",
    "\n",
    "\tfor i in range(n):\n",
    "\t\tfor j in range(n):\n",
    "\t\t\tdists[i][j] = calc_manhattan(locations[i],locations[j])\n",
    "\t\t\t# graph[j][i] = graph[i][j]\n",
    "\treturn dists\n",
    "\n",
    "def held_karp(n, locations):\n",
    "\n",
    "    dists = construct_dists(locations, n)\n",
    "    # print(dists)\n",
    "\n",
    "    # Maps each subset of the nodes to the cost to reach that subset, as well\n",
    "    # as what node it passed before reaching this subset.\n",
    "    # Node subsets are represented as set bits.\n",
    "    C = {}\n",
    "\n",
    "    # Set transition cost from initial state\n",
    "    for k in range(1, n):\n",
    "        C[(1 << k, k)] = (dists[0][k], 0)\n",
    "\n",
    "    # Iterate subsets of increasing length and store intermediate results\n",
    "    # in classic dynamic programming manner\n",
    "    for subset_size in range(2, n):\n",
    "        for subset in itertools.combinations(range(1, n), subset_size):\n",
    "            # Set bits for all nodes in this subset\n",
    "            bits = 0\n",
    "            for bit in subset:\n",
    "                bits |= 1 << bit\n",
    "\n",
    "            # Find the lowest cost to get to this subset\n",
    "            for k in subset:\n",
    "                prev = bits & ~(1 << k)\n",
    "\n",
    "                res = []\n",
    "                for m in subset:\n",
    "                    if m == 0 or m == k:\n",
    "                        continue\n",
    "                    res.append((C[(prev, m)][0] + dists[m][k], m))\n",
    "                C[(bits, k)] = min(res)\n",
    "\n",
    "    # We're interested in all bits but the least significant (the start state)\n",
    "    bits = (2**n - 1) - 1\n",
    "\n",
    "    # Calculate optimal cost\n",
    "    res = []\n",
    "    for k in range(1, n):\n",
    "        res.append((C[(bits, k)][0] + dists[k][0], k))\n",
    "    opt, parent = min(res)\n",
    "\n",
    "    # Backtrack to find full path\n",
    "    path = []\n",
    "    for i in range(n - 1):\n",
    "        path.append(parent)\n",
    "        new_bits = bits & ~(1 << parent)\n",
    "        _, parent = C[(bits, parent)]\n",
    "        bits = new_bits\n",
    "\n",
    "    # Add implicit start state\n",
    "    path.append(0)\n",
    "\n",
    "    return opt, list(reversed(path))"
   ],
   "metadata": {
    "collapsed": false,
    "pycharm": {
     "name": "#%%\n"
    }
   }
  },
  {
   "cell_type": "code",
   "execution_count": 41,
   "outputs": [
    {
     "name": "stdout",
     "output_type": "stream",
     "text": [
      "func: held_karp took: 0.12559890747070312 sec\n",
      "func: held_karp took: 0.0 sec\n",
      "func: held_karp took: 0.0 sec\n",
      "func: held_karp took: 0.0 sec\n",
      "func: held_karp took: 0.0 sec\n",
      "func: held_karp took: 0.0 sec\n",
      "func: held_karp took: 0.0 sec\n",
      "func: held_karp took: 0.0 sec\n",
      "func: held_karp took: 0.0 sec\n",
      "func: held_karp took: 0.0 sec\n",
      "func: held_karp took: 0.0 sec\n",
      "func: held_karp took: 0.0 sec\n",
      "func: held_karp took: 0.0 sec\n",
      "func: held_karp took: 0.0 sec\n",
      "func: held_karp took: 0.0 sec\n",
      "func: held_karp took: 0.0 sec\n",
      "func: held_karp took: 0.0 sec\n",
      "func: held_karp took: 0.0 sec\n",
      "func: held_karp took: 0.0 sec\n",
      "func: held_karp took: 0.0 sec\n",
      "func: held_karp took: 0.0 sec\n",
      "func: held_karp took: 0.0 sec\n",
      "func: held_karp took: 0.0 sec\n",
      "func: held_karp took: 0.0 sec\n",
      "func: held_karp took: 0.0 sec\n",
      "func: held_karp took: 0.0 sec\n",
      "func: held_karp took: 0.0 sec\n",
      "func: held_karp took: 0.0 sec\n",
      "func: held_karp took: 0.0 sec\n",
      "func: held_karp took: 0.0 sec\n",
      "func: held_karp took: 0.0 sec\n",
      "func: held_karp took: 0.0 sec\n",
      "func: held_karp took: 0.0 sec\n",
      "func: held_karp took: 0.0 sec\n",
      "func: held_karp took: 0.0 sec\n",
      "func: held_karp took: 0.0 sec\n",
      "func: held_karp took: 0.0 sec\n",
      "func: held_karp took: 0.0 sec\n",
      "func: held_karp took: 0.0 sec\n",
      "func: held_karp took: 0.0 sec\n"
     ]
    }
   ],
   "source": [
    "hk_results = []\n",
    "runtimes[held_karp.__name__] = 0\n",
    "for key in loc:\n",
    "    loc_list = loc[key]\n",
    "    ts = time.time()\n",
    "    hk_results.append(held_karp(len(loc_list), loc_list))\n",
    "    te = time.time()\n",
    "    print(f'func: {held_karp.__name__} took: {te-ts} sec')\n",
    "    runtimes[held_karp.__name__] += te - ts"
   ],
   "metadata": {
    "collapsed": false,
    "pycharm": {
     "name": "#%%\n"
    }
   }
  },
  {
   "cell_type": "markdown",
   "source": [
    "## Runtime Analysis"
   ],
   "metadata": {
    "collapsed": false
   }
  },
  {
   "cell_type": "code",
   "execution_count": 42,
   "outputs": [
    {
     "data": {
      "text/plain": "<BarContainer object of 3 artists>"
     },
     "execution_count": 42,
     "metadata": {},
     "output_type": "execute_result"
    },
    {
     "data": {
      "text/plain": "<Figure size 432x288 with 1 Axes>",
      "image/png": "[encoded data removed]"
     },
     "metadata": {
      "needs_background": "light"
     },
     "output_type": "display_data"
    }
   ],
   "source": [
    "k, v = runtimes.keys(), runtimes.values()\n",
    "plt.title('Runtime in Seconds of TSP Algorithmns')\n",
    "plt.ylabel('Seconds')\n",
    "plt.bar(k, v)"
   ],
   "metadata": {
    "collapsed": false,
    "pycharm": {
     "name": "#%%\n"
    }
   }
  }
 ],
 "metadata": {
  "interpreter": {
   "hash": "ddff950863c2b977daee2bec7219ae5f9b3a03c532fcc882a2a1d067c0474d1c"
  },
  "kernelspec": {
   "display_name": "Python 3.9.7 64-bit",
   "language": "python",
   "name": "python3"
  },
  "language_info": {
   "codemirror_mode": {
    "name": "ipython",
    "version": 3
   },
   "file_extension": ".py",
   "mimetype": "text/x-python",
   "name": "python",
   "nbconvert_exporter": "python",
   "pygments_lexer": "ipython3",
   "version": "3.9.7"
  },
  "orig_nbformat": 4
 },
 "nbformat": 4,
 "nbformat_minor": 2
}